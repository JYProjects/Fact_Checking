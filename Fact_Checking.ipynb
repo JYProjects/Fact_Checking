{
  "nbformat": 4,
  "nbformat_minor": 0,
  "metadata": {
    "accelerator": "GPU",
    "colab": {
      "provenance": [],
      "collapsed_sections": [
        "_KXSVgkl2Li5"
      ],
      "toc_visible": true
    },
    "kernelspec": {
      "display_name": "Python 3",
      "name": "python3"
    }
  },
  "cells": [
    {
      "cell_type": "code",
      "metadata": {
        "colab": {
          "base_uri": "https://localhost:8080/"
        },
        "id": "XZJp6WXX5_2U",
        "outputId": "bc937cc5-1a39-476e-b4f8-49a1c0c2d06d"
      },
      "source": [
        "from google.colab import drive\n",
        "drive.mount('/content/drive')"
      ],
      "execution_count": null,
      "outputs": [
        {
          "output_type": "stream",
          "text": [
            "Mounted at /content/drive\n"
          ],
          "name": "stdout"
        }
      ]
    },
    {
      "cell_type": "markdown",
      "metadata": {
        "id": "tO_-4CZeRCO7"
      },
      "source": [
        "# Intro\n",
        "\n",
        "This work is centred on a particular and emerging NLP task, formally known as **fact checking** (or fake checking). As AI techniques become more and more powerful, reaching amazing results, such as image and text generation, it is more than ever necessary to build tools able to distinguish what is real from what is fake.\n",
        "\n",
        "Here we focus on a small portion of the whole fact checking problem, which aims to determine whether a given state\n",
        "ment (fact) conveys a trustworthy information or not.\n",
        "\n",
        "More precisely, given a set of evidences and a fact to verify, we would like our model to correctly predict whether the fact is true or fake.\n",
        "\n",
        "In particular, we will see:\n",
        "\n",
        "*   Dataset preparation (analysis and pre-processing)\n",
        "*   Problem formulation: multi-input binary classification\n",
        "*   Defining an evaluation method\n",
        "*   Simple sentence embedding\n",
        "*   Neural building blocks\n",
        "*   Neural architecture extension"
      ]
    },
    {
      "cell_type": "markdown",
      "metadata": {
        "id": "hGDwg78PS_uy"
      },
      "source": [
        "# The FEVER dataset\n",
        "\n",
        "First of all, we need to choose a dataset. In this assignment we will rely on the [FEVER dataset](https://fever.ai).\n",
        "\n",
        "The dataset is about facts taken from Wikipedia documents that have to be verified. In particular, facts could face manual modifications in order to define fake information or to give different formulations of the same concept.\n",
        "\n",
        "The dataset consists of 185,445 claims manually verified against the introductory sections of Wikipedia pages and classified as ```Supported```, ```Refuted``` or ```NotEnoughInfo```. For the first two classes, systems and annotators need to also return the combination of sentences forming the necessary evidence supporting or refuting the claim."
      ]
    },
    {
      "cell_type": "markdown",
      "metadata": {
        "id": "4Oa5FpVpT7p4"
      },
      "source": [
        "## Dataset structure\n",
        "\n",
        "Relevant data is divided into two file types. Information concerning the fact to verify, its verdict and associated supporting/opposing statements are stored in **.jsonl** format. In particular, each JSON element is a python dictionary with the following relevant fields:\n",
        "\n",
        "*    **ID**: ID associated to the fact to verify.\n",
        "\n",
        "*    **Verifiable**: whether the fact has been verified or not: ```VERIFIABLE``` or ```NOT VERIFIABLE```.\n",
        "    \n",
        "*    **Label**: the final verdict on the fact to verify: ```SUPPORTS```, ```REFUTES``` or ```NOT ENOUGH INFO```.\n",
        "    \n",
        "*    **Claim**: the fact to verify.\n",
        "    \n",
        "*    **Evidence**: a nested list of document IDs along with the sentence ID that is associated to the fact to verify. In particular, each list element is a tuple of four elements: the first two are internal annotator IDs that can be safely ignored; the third term is the document ID (called URL) and the last one is the sentence number (ID) in the pointed document to consider.\n",
        "\n",
        "**Some Examples**\n",
        "\n",
        "---\n",
        "\n",
        "**Verifiable**\n",
        "\n",
        "{\"id\": 202314, \"verifiable\": \"VERIFIABLE\", \"label\": \"REFUTES\", \"claim\": \"The New Jersey Turnpike has zero shoulders.\", \"evidence\": [[[238335, 240393, \"New_Jersey_Turnpike\", 15]]]}\n",
        "\n",
        "---\n",
        "\n",
        "**Not Verifiable**\n",
        "\n",
        "{\"id\": 113501, \"verifiable\": \"NOT VERIFIABLE\", \"label\": \"NOT ENOUGH INFO\", \"claim\": \"Grease had bad reviews.\", \"evidence\": [[[133128, null, null, null]]]}\n",
        "\n",
        "---"
      ]
    },
    {
      "cell_type": "markdown",
      "metadata": {
        "id": "nex_8UM4VWuY"
      },
      "source": [
        "## Some simplifications and pre-processing\n",
        "\n",
        "We are only interested in verifiable facts. Thus, we can filter out all non-verifiable claims.\n",
        "\n",
        "Additionally, the current dataset format does not contain all necessary information for our classification purposes. In particular, we need to download Wikipedia documents and replace reported evidence IDs with the corresponding text.\n",
        "\n",
        "Don't worry about that! We are providing you the already pre-processed dataset so that you can concentrate on the classification pipeline (pre-processing, model definition, evaluation and training).\n",
        "\n",
        "You can download the zip file containing all set splits (train, validation and test) of the FEVER dataset by clicking on this [link](https://drive.google.com/file/d/1wArZhF9_SHW17WKNGeLmX-QTYw9Zscl1/view?usp=sharing). Alternatively, run the below code cell to automatically download it on this notebook.\n",
        "\n",
        "**Note**: each dataset split is in .csv format. Feel free to inspect the whole dataset!"
      ]
    },
    {
      "cell_type": "code",
      "metadata": {
        "colab": {
          "base_uri": "https://localhost:8080/"
        },
        "id": "BspxZcRjW0NG",
        "outputId": "2e9b4f3f-c88f-4bda-d810-4b023053883a"
      },
      "source": [
        "import os\n",
        "import requests\n",
        "import zipfile\n",
        "\n",
        "def save_response_content(response, destination):\n",
        "    CHUNK_SIZE = 32768\n",
        "\n",
        "    with open(destination, \"wb\") as f:\n",
        "        for chunk in response.iter_content(CHUNK_SIZE):\n",
        "            if chunk: # filter out keep-alive new chunks\n",
        "                f.write(chunk)\n",
        "\n",
        "def download_data(data_path):\n",
        "    toy_data_path = os.path.join(data_path, 'fever_data.zip')\n",
        "    toy_data_url_id = \"1wArZhF9_SHW17WKNGeLmX-QTYw9Zscl1\"\n",
        "    toy_url = \"https://docs.google.com/uc?export=download\"\n",
        "\n",
        "    if not os.path.exists(data_path):\n",
        "        os.makedirs(data_path)\n",
        "\n",
        "    if not os.path.exists(toy_data_path):\n",
        "        print(\"Downloading FEVER data splits...\")\n",
        "        with requests.Session() as current_session:\n",
        "            response = current_session.get(toy_url,\n",
        "                                   params={'id': toy_data_url_id},\n",
        "                                   stream=True)\n",
        "        save_response_content(response, toy_data_path)\n",
        "        print(\"Download completed!\")\n",
        "\n",
        "        print(\"Extracting dataset...\")\n",
        "        with zipfile.ZipFile(toy_data_path) as loaded_zip:\n",
        "            loaded_zip.extractall(data_path)\n",
        "        print(\"Extraction completed!\")\n",
        "\n",
        "download_data('dataset')"
      ],
      "execution_count": null,
      "outputs": [
        {
          "output_type": "stream",
          "text": [
            "Downloading FEVER data splits...\n",
            "Download completed!\n",
            "Extracting dataset...\n",
            "Extraction completed!\n"
          ],
          "name": "stdout"
        }
      ]
    },
    {
      "cell_type": "markdown",
      "metadata": {
        "id": "RbH_8errW5MH"
      },
      "source": [
        "# Classification dataset\n",
        "\n",
        "At this point, you should have a reay-to-go dataset! Note that the dataset format changed as well! In particular, we split the evidence set associated to each claim, in order to build (claim, evidence) pairs. The classification label is propagated as well.\n",
        "\n",
        "We'll motivate this decision in the next section!\n",
        "\n",
        "Just for clarity, here's an example of the pre-processed dataset:\n",
        "\n",
        "---\n",
        "\n",
        "**Claim**: \"Wentworth Miller is yet to make his screenwriting debut.\"\n",
        "\n",
        "**Evidence**: \"2\tHe made his screenwriting debut with the 2013 thriller film Stoker .\tStoker\tStoker (film)\"\n",
        "\n",
        "**Label**: Refutes\n",
        "\n",
        "---\n",
        "\n",
        "**Note**: The dataset requires some text cleaning as you may notice!\n"
      ]
    },
    {
      "cell_type": "markdown",
      "metadata": {
        "id": "gH8hIK21Xrl0"
      },
      "source": [
        "# Problem formulation\n",
        "\n",
        "As mentioned at the beginning of the assignment, we are going to formulate the fact checking problem as a binary classification task.\n",
        "\n",
        "In particular, each dataset sample is comprised of:\n",
        "\n",
        "*     A claim to verify\n",
        "*     A set of semantically related statements (evidence set)\n",
        "*     Fact checking label: either evidences support or refute the claim.\n",
        "\n",
        "Handling the evidence set from the point of view of neural models may imply some additional complexity: if the evidence set is comprised of several sentences we might incur in memory problems.\n",
        "\n",
        "To this end, we further simplify the problem by building (claim, evidence) pairs. The fact checking label is propagated as well.\n",
        "\n",
        "Example:\n",
        "\n",
        "     Claim: c1\n",
        "     Evidence set: [e1, e2, e3]\n",
        "     Label: S (support)\n",
        "\n",
        "--->\n",
        "\n",
        "    (c1, e1, S),\n",
        "    (c1, e2, S),\n",
        "    (c1, e3, S)"
      ]
    },
    {
      "cell_type": "markdown",
      "metadata": {
        "id": "E46flIz_zQy-"
      },
      "source": [
        "## Schema\n",
        "\n",
        "The overall binary classification problem is summed up by the following (simplified) schema\n",
        "\n",
        "![](https://drive.google.com/uc?export=view&id=1Wm_YBnFwgJtxcWEBpPbTBEVkpKaL08Jp)\n",
        "\n",
        "Don't worry too much about the **Encoding** block for now. We'll give you some simple guidelines about its definition. For the moment, stick to the binary classification task definition where, in this case, we have 2 inputs: the claim to verify and one of its associated evidences."
      ]
    },
    {
      "cell_type": "markdown",
      "metadata": {
        "id": "LsiTV-NVdgsF"
      },
      "source": [
        "# Architecture Guidelines\n",
        "\n",
        "There are many neural architectures that follow the above schema. To avoid phenomena like the writer's block, in this section we are going to give you some implementation guidelines.\n",
        "\n",
        "In particular, we would like you to test some implementations so that you explore basic approaches (neural baselines) and use them as building blocks for possible extensions."
      ]
    },
    {
      "cell_type": "markdown",
      "metadata": {
        "id": "ZJBQm47fe7iE"
      },
      "source": [
        "## Handling multiple inputs\n",
        "\n",
        "The first thing to notice is that we are in a multi-input scenario. In particular, each sample is comprised of a fact and its asssociated evidence statement.\n",
        "\n",
        "Each of these input is encoded as a sequence of tokens. In particular, we will have the following input matrices:\n",
        "\n",
        "*    Claim: [batch_size, max_tokens]\n",
        "*    Evidence: [batch_size, max_tokens]\n",
        "\n",
        "Moreover, after the embedding layer, we'll have:\n",
        "\n",
        "*    Claim: [batch_size, max_tokens, embedding_dim]\n",
        "*    Evidence: [batch_size, max_tokens, embedding_dim]\n",
        "\n",
        "But, we would like to have a 2D input to our classifier, since we have to give an answer at pair level. Therefore, for each sample, we would expect the following input shape to our classification block:\n",
        "\n",
        "*   Classification input shape: [batch_size, dim]\n",
        "\n",
        "**How to do that?**\n",
        "\n",
        "We inherently need to reduce the token sequence to a single representation. This operation is formally known as **sentence embedding**. Indeed, we are trying to compress the information of a whole sequence into a single embedding vector.\n",
        "\n",
        "Here are some simple solutions that we ask you to try out:\n",
        "\n",
        "*   Encode token sequences via a RNN and take the last state as the sentence embedding.\n",
        "\n",
        "*   Encode token sequences via a RNN and average all the output states.\n",
        "\n",
        "*   Encode token sequences via a simple MLP layer. In particular, if your input is a [batch_size, max_tokens, embedding_dim] tensor, the matrix multiplication works on the **max_tokens** dimension, resulting in a [batch_size, embedding_dim] 2D matrix.\n",
        "\n",
        "*   Compute the sentence embedding as the mean of its token embeddings (**bag of vectors**)."
      ]
    },
    {
      "cell_type": "markdown",
      "metadata": {
        "id": "Gypl5z5ElJo1"
      },
      "source": [
        "## Merging multi-inputs\n",
        "\n",
        "At this point, we have to think about **how** we should merge evidence and claim sentence embeddings.\n",
        "\n",
        "For simplicity, we stick to simple merging strategies:\n",
        "\n",
        "*     **Concatenation**: define the classification input as the concatenation of evidence and claim sentence embeddings\n",
        "\n",
        "*     **Sum**: define the classification input as the sum of evidence and claim sentence embeddings\n",
        "\n",
        "*     **Mean**: define the classification input as the mean of evidence and claim sentence embeddings\n",
        "\n",
        "For clarity, if we the sentence embedding of a single input has shape [batch_size, embedding_dim], then the classification input has shape:\n",
        "\n",
        "*     **Concatenation**: [batch_size, 2 * embedding_dim]\n",
        "\n",
        "*     **Sum**: [batch_size, embedding_dim]\n",
        "\n",
        "*     **Mean**: [batch_size, embedding_dim]"
      ]
    },
    {
      "cell_type": "markdown",
      "metadata": {
        "id": "IhVg9ZLymOUc"
      },
      "source": [
        "# A simple extension\n",
        "\n",
        "Lastly, we ask you to modify previously defined neural architectures by adding an additional feature to the classification input.\n",
        "\n",
        "We would like to see if some similarity information between the claim to verify and one of its associated evidence might be useful to the classification.\n",
        "\n",
        "Compute the cosine similarity metric between the two sentence embeddings and concatenate the result to the classification input.\n",
        "\n",
        "For clarity, since the cosine similarity of two vectors outputs a scalar value, the classification input shape is modified as follows:\n",
        "\n",
        "*     **Concatenation**: [batch_size, 2 * embedding_dim + 1]\n",
        "\n",
        "*     **Sum**: [batch_size, embedding_dim + 1]\n",
        "\n",
        "*     **Mean**: [batch_size, embedding_dim + 1]\n",
        "\n"
      ]
    },
    {
      "cell_type": "markdown",
      "metadata": {
        "id": "Nd74ULgpnJrc"
      },
      "source": [
        "# Performance evaluation\n",
        "\n",
        "Due to our simplifications, obtained results are not directly compatible with a traditional fact checking method that considers the evidence set as a whole.\n",
        "\n",
        "Thus, we need to consider two types of evaluations.\n",
        "\n",
        "**Multi-input classification evaluation**\n",
        "\n",
        "This type of evaluation is the easiest and concerns computing evaluation metrics, such as accuracy, f1-score, recall and precision, of our pre-processed dataset.\n",
        "\n",
        "In other words, we assess the performance of chosen classifiers.\n",
        "\n",
        "**Claim verification evaluation**\n",
        "\n",
        "However, if we want to give an answer concerning the claim itself, we need to consider the whole evidence set.\n",
        "\n",
        "Intuitively, for a given claim, we consider all its corresponding (claim, evidence) pairs and their corresponding classification outputs.\n",
        "\n",
        "At this point, all we need to do is to compute the final predicted claim label via majority voting.\n",
        "\n",
        "Example:\n",
        "\n",
        "    Claim: c1\n",
        "    Evidence set: e1, e2, e3\n",
        "    True label: S\n",
        "\n",
        "    Pair outputs:\n",
        "    (c1, e1) -> S (supports)\n",
        "    (c1, e2) -> S (supports)\n",
        "    (c1, e3) -> R (refutes)\n",
        "\n",
        "    Majority voting:\n",
        "    S -> 2 votes\n",
        "    R -> 1 vote\n",
        "\n",
        "    Final label:\n",
        "    c1 -> S\n",
        "\n",
        "Lastly, we have to compute classification metrics just like before."
      ]
    },
    {
      "cell_type": "markdown",
      "metadata": {
        "id": "W4LJ2yPxsUOV"
      },
      "source": [
        "# Tips and Extras"
      ]
    },
    {
      "cell_type": "markdown",
      "metadata": {
        "id": "Uf80UVRNrXve"
      },
      "source": [
        "## Extensions are welcome!\n",
        "\n",
        "Is this task too easy for you? Are you curious to try out things you have seen during lectures (e.g. attention)? Feel free to try everything you want!\n",
        "\n",
        "Don't forget to try neural baselines first!"
      ]
    },
    {
      "cell_type": "markdown",
      "metadata": {
        "id": "COXeCXdYsBEf"
      },
      "source": [
        "## Comments and documentation\n",
        "\n",
        "Remember to properly comment your code (it is not necessary to comment each single line) and don't forget to describe your work!"
      ]
    },
    {
      "cell_type": "markdown",
      "metadata": {
        "id": "Ejv6SDE8xc4_"
      },
      "source": [
        "## Organization\n",
        "\n",
        "We suggest you to divide your work into sections. This allows you to build clean and modular code, as well as easy to read and to debug.\n",
        "\n",
        "A possible schema:\n",
        "\n",
        "*   Dataset pre-processing\n",
        "*   Dataset conversion\n",
        "*   Model definition\n",
        "*   Training\n",
        "*   Evaluation\n",
        "*   Comments/Summary"
      ]
    },
    {
      "cell_type": "markdown",
      "metadata": {
        "id": "Xe1mID4Qt20i"
      },
      "source": [
        "# OUR ASSIGMENT"
      ]
    },
    {
      "cell_type": "code",
      "metadata": {
        "id": "I_M5WjOR7i9D"
      },
      "source": [
        "# Some imports\n",
        "import csv\n",
        "import pandas as pd\n",
        "\n",
        "from functools import reduce\n",
        "import re\n",
        "\n",
        "import tensorflow as tf\n",
        "from keras.layers import Input, Dense, LSTM,Flatten, InputLayer, Bidirectional, TimeDistributed, Embedding, Activation, GRU, Dropout, Masking,Concatenate, Lambda, Add, Average, Dot\n",
        "from tensorflow.compat.v1.keras.layers import CuDNNLSTM\n",
        "from keras.callbacks import EarlyStopping, ReduceLROnPlateau, ModelCheckpoint\n",
        "from keras.preprocessing.sequence import pad_sequences\n",
        "from keras.models import Sequential, Model\n",
        "from keras.optimizers import Adam, SGD\n",
        "\n",
        "import copy\n",
        "\n",
        "import seaborn as sn\n",
        "import matplotlib.pyplot as plt\n",
        "from sklearn.metrics import confusion_matrix,classification_report, f1_score\n",
        "\n"
      ],
      "execution_count": null,
      "outputs": []
    },
    {
      "cell_type": "markdown",
      "metadata": {
        "id": "9gJmo-uX62y2"
      },
      "source": [
        "#### DATASET PRE-PROCESSING"
      ]
    },
    {
      "cell_type": "code",
      "metadata": {
        "colab": {
          "base_uri": "https://localhost:8080/"
        },
        "id": "42WI90NsHkVO",
        "outputId": "f63bb314-99b9-4f09-b773-9ffd69197328"
      },
      "source": [
        "# Load dataset and save it into a pd dataframe\n",
        "\n",
        "def encode_dataset(dataset_path):\n",
        "  dataset_name = dataset_path.split(\"/\")[-1].split(\"_\")[0]\n",
        "  print(dataset_name)\n",
        "  with open(dataset_path, newline='', encoding='utf-8') as f:\n",
        "    dataframe_rows = []\n",
        "\n",
        "    reader = csv.reader(f)\n",
        "\n",
        "    for row in reader:\n",
        "      # create single dataframe row\n",
        "      dataframe_row = {\n",
        "        \"claim\": row[1],\n",
        "        \"evidence\": row[2],\n",
        "        \"ID\": row[3],\n",
        "        \"label\": row[4]\n",
        "        }\n",
        "      dataframe_rows.append(dataframe_row)\n",
        "\n",
        "    # delete first row: it contains the header\n",
        "    dataframe_rows = dataframe_rows[1:]\n",
        "\n",
        "    # transform the list of rows in a proper dataframe\n",
        "    df = pd.DataFrame(dataframe_rows)\n",
        "    df = df[[\"claim\",\n",
        "              \"evidence\",\n",
        "              \"ID\",\n",
        "              \"label\"]]\n",
        "    dataframe_path = os.path.join(\"/content/dataset/\", dataset_name + \".pkl\")\n",
        "    df.to_pickle(dataframe_path)\n",
        "\n",
        "    return df\n",
        "\n",
        "\n",
        "# Encoding\n",
        "print(\"Encoding dataset...\")\n",
        "df_train = encode_dataset(\"/content/dataset/train_pairs.csv\")\n",
        "df_val = encode_dataset(\"/content/dataset/val_pairs.csv\")\n",
        "df_test = encode_dataset(\"/content/dataset/test_pairs.csv\")\n",
        "\n",
        "\n",
        "print(\"Encoding completed!\")"
      ],
      "execution_count": null,
      "outputs": [
        {
          "output_type": "stream",
          "text": [
            "Encoding dataset...\n",
            "train\n",
            "val\n",
            "test\n",
            "Encoding completed!\n"
          ],
          "name": "stdout"
        }
      ]
    },
    {
      "cell_type": "code",
      "metadata": {
        "colab": {
          "base_uri": "https://localhost:8080/"
        },
        "id": "99nfEIu6OKDZ",
        "outputId": "1fa3aa72-98be-49ad-e57a-f3bf8402226d"
      },
      "source": [
        "# Print some sentences for debugging\n",
        "\n",
        "print(df_train.head())\n",
        "print()\n",
        "print(df_val.head())\n",
        "print()\n",
        "print(df_test.head())\n",
        "\n",
        "print()\n",
        "print(\"first 15 claims of test\")\n",
        "for el in df_test['claim'][0:15]:\n",
        "  print(el)\n",
        "\n",
        "print()\n",
        "\n",
        "print()\n",
        "print(\"first 15 evidences of test\")\n",
        "for el in df_test['evidence'][3276:3280]:\n",
        "  print(el)\n"
      ],
      "execution_count": null,
      "outputs": [
        {
          "output_type": "stream",
          "text": [
            "                                               claim  ...     label\n",
            "0     Chris Hemsworth appeared in A Perfect Getaway.  ...  SUPPORTS\n",
            "1                            Roald Dahl is a writer.  ...  SUPPORTS\n",
            "2                          Roald Dahl is a governor.  ...   REFUTES\n",
            "3        Ireland has relatively low-lying mountains.  ...  SUPPORTS\n",
            "4  Ireland does not have relatively low-lying mou...  ...   REFUTES\n",
            "\n",
            "[5 rows x 4 columns]\n",
            "\n",
            "                                               claim  ...     label\n",
            "0  The Indian Army comprises part of the country'...  ...  SUPPORTS\n",
            "1                         Recovery features Rihanna.  ...  SUPPORTS\n",
            "2                            Rihanna is on Recovery.  ...  SUPPORTS\n",
            "3                           Philomena was nominated.  ...  SUPPORTS\n",
            "4                               Vietnam is a mascot.  ...   REFUTES\n",
            "\n",
            "[5 rows x 4 columns]\n",
            "\n",
            "                                               claim  ...     label\n",
            "0    Anxiety has been linked with physical symptoms.  ...  SUPPORTS\n",
            "1                         Firefox is an application.  ...  SUPPORTS\n",
            "2  Keegan-Michael Key played President Barack Oba...  ...  SUPPORTS\n",
            "3               Google Search can find stock quotes.  ...  SUPPORTS\n",
            "4  A Good Day to Die Hard was directed solely by ...  ...   REFUTES\n",
            "\n",
            "[5 rows x 4 columns]\n",
            "\n",
            "first 15 claims of test\n",
            "Anxiety has been linked with physical symptoms.\n",
            "Firefox is an application.\n",
            "Keegan-Michael Key played President Barack Obama's anger translator.\n",
            "Google Search can find stock quotes.\n",
            "A Good Day to Die Hard was directed solely by Ridley Scott.\n",
            "Temple Mount is the holiest site in Judaism.\n",
            "A Good Day to Die Hard was directed by John Moore.\n",
            "Spider-Man 2 was released in 2004.\n",
            "In 2004, Spider-Man 2 was released.\n",
            "Maria Theresa was unrelated to Emperor Charles VI.\n",
            "Kaya Scodelario is a director.\n",
            "Mike Friedrich is only German.\n",
            "DodgeBall: A True Underdog Story was written and directed solely by Rob Lowe.\n",
            "The Brat Pack appeared together in teen-oriented coming-of-age video games.\n",
            "One of the major features of Zoroastrianism is messianism.\n",
            "\n",
            "\n",
            "first 15 evidences of test\n",
            "7\tPosthumously he shared the 2007 Independent Spirit Robert Altman Award with the rest of the ensemble cast , the director , and the casting director for the film I 'm Not There , which was inspired by the life and songs of American singer-songwriter Bob Dylan .\t2007 Independent Spirit Robert Altman Award\tIndependent Spirit Awards 2007#Robert Altman Award\tBob Dylan\tBob Dylan\n",
            "0\tYugoslavia -LRB- Jugoslavija / Југославија , Jugoslavija , Југославија -RRB- was a country in Southeast Europe during most of the 20th century .\tSoutheast Europe\tSoutheast Europe\n",
            "2\tThe serial received Indian Telly Awards in the category of Best Thriller and Horror Show and was also nominated for Best Weekend Show .\tIndian Telly Awards\tIndian Telly Awards\n",
            "1\tLocated almost due east of the Reflecting Pool and the Lincoln Memorial , the monument , made of marble , granite , and bluestone gneiss , is both the world 's tallest stone structure and the world 's tallest obelisk , standing 554 ft tall according to the National Geodetic Survey -LRB- measured 2013 -- 14 -RRB- or 555 ft tall according to the National Park Service -LRB- measured 1884 -RRB- .\tNational Park Service\tNational Park Service\tobelisk\tobelisk\tReflecting Pool\tLincoln Memorial Reflecting Pool\tLincoln Memorial\tLincoln Memorial\tmarble\tmarble\tgranite\tgranite\tbluestone gneiss\tGneiss\tNational Geodetic Survey\tNational Geodetic Survey\n"
          ],
          "name": "stdout"
        }
      ]
    },
    {
      "cell_type": "code",
      "metadata": {
        "colab": {
          "base_uri": "https://localhost:8080/"
        },
        "id": "boV5BPwXvrYy",
        "outputId": "5afd45d9-22d0-4824-d1d2-0594cca88528"
      },
      "source": [
        "# Print some evidences for checking\n",
        "\n",
        "for x in df_train[:3].evidence:\n",
        "  print(x)"
      ],
      "execution_count": null,
      "outputs": [
        {
          "output_type": "stream",
          "text": [
            "2\tHemsworth has also appeared in the science fiction action film Star Trek -LRB- 2009 -RRB- , the thriller adventure A Perfect Getaway -LRB- 2009 -RRB- , the horror comedy The Cabin in the Woods -LRB- 2012 -RRB- , the dark-fantasy action film Snow White and the Huntsman -LRB- 2012 -RRB- , the war film Red Dawn -LRB- 2012 -RRB- , and the biographical sports drama film Rush -LRB- 2013 -RRB- .\tStar Trek\tStar Trek (film)\tA Perfect Getaway\tA Perfect Getaway\tThe Cabin in the Woods\tThe Cabin in the Woods\tSnow White and the Huntsman\tSnow White and the Huntsman\tRed Dawn\tRed Dawn (2012 film)\tRush\tRush (2013 film)\n",
            "0\tRoald Dahl -LRB- -LSB- langpronˈroʊ.əld _ ˈdɑːl -RSB- , -LSB- ˈɾuːɑl dɑl -RSB- ; 13 September 1916 -- 23 November 1990 -RRB- was a British novelist , short story writer , poet , screenwriter , and fighter pilot .\tfighter pilot\tfighter pilot\n",
            "0\tRoald Dahl -LRB- -LSB- langpronˈroʊ.əld _ ˈdɑːl -RSB- , -LSB- ˈɾuːɑl dɑl -RSB- ; 13 September 1916 -- 23 November 1990 -RRB- was a British novelist , short story writer , poet , screenwriter , and fighter pilot .\tfighter pilot\tfighter pilot\n"
          ],
          "name": "stdout"
        }
      ]
    },
    {
      "cell_type": "code",
      "metadata": {
        "id": "BQ_IG0OfVoz_"
      },
      "source": [
        "# Clean data\n",
        "\n",
        "# Function to remove the first part of the evidence.\n",
        "# Indeed each evidence begins with a number followe by a tab space.\n",
        "# That number specifies the sentence number (ID) in the pointed document to consider.\n",
        "# It is not an important information for this task.\n",
        "def remove_first_number(text):\n",
        "  text = re.sub(\"^[0-9]+\", '', text)\n",
        "  return text\n",
        "\n",
        "\n",
        "#Function useful to remove punctuation\n",
        "def remove_punctuation(text):\n",
        "  text = re.sub(r'[^a-zA-Z0-9\\s]', '', text)\n",
        "  return text\n",
        "\n",
        "\n",
        "# Function useful to remove the final part of each evidence.\n",
        "# Indeed each evidence is composed by a phrase containing a \".\". After the perior there are some information\n",
        "# that are disambiguation information reported by Wikipedia. These words are simply noise.\n",
        "def remove_final_part(text):\n",
        "  text = re.sub(r\"(.*)\\.(.*)\",r\"\\1\",text)\n",
        "  return text #.split(\".\")[0]\n",
        "\n",
        "\n",
        "# Function to remove any left or right spacing (including carriage return), tab etc.\n",
        "# For instance:\n",
        "# Input: '  I'm a     student\\n'\n",
        "# Output: 'I'm a student'\n",
        "def strip_text(text):\n",
        "    return ' '.join(text.split()).strip()\n",
        "\n",
        "\n",
        "#The -LRB- and -RRB- are currently used instead of \"(\" and \")\" in Form\n",
        "# The LRB (Left Round Bracket) and RRB (Right Round Brackets) and in past (-LCB-, -RCB-, -LSB-, -RSB-)\n",
        "def replace_brackets(text):\n",
        "  text = re.sub(r\"LRB\", \"(\", text)\n",
        "  text = re.sub(r\"RRB\", \")\", text)\n",
        "  text = re.sub(r\"LCB\", \"{\", text)\n",
        "  text = re.sub(r\"RCB\", \"}\", text)\n",
        "  text = re.sub(r\"LSB\", \"[\", text)\n",
        "  text = re.sub(r\"RSB\", \"]\", text)\n",
        "  return text\n",
        "\n",
        "\n",
        "# Additional function to remove English contractions\n",
        "# Given that the computer does not know that contractions are abbreviations for a sequence of words,\n",
        "# it considers for instance \"can't\", \"cannot\" and \"can not\" to be completely different things.\n",
        "# So it can't understand that these terms have the exact same meaning if we don't remove them.\n",
        "# Moreover handling contractions makes the vocabulary smaller and so the computation faster.\n",
        "def remove_contraction(text):\n",
        "  text = re.sub(r\"cannot\", \"can not\", text)\n",
        "  text = re.sub(r\"can't\", \"can not\", text)\n",
        "  text = re.sub(r\"won't\", \" will not\", text)\n",
        "  text = re.sub(r\"n't\", \" not\", text)\n",
        "  text = re.sub(r\"\\'m \", \" am \", text)\n",
        "  text = re.sub(r\"\\'s \", \" \", text)\n",
        "  text = re.sub(r\"\\'ve \", \" have \", text)\n",
        "  text = re.sub(r\"\\'re \", \" are \", text)\n",
        "  text = re.sub(r\"\\'d \", \" would \", text)\n",
        "  text = re.sub(r\"\\'ll \", \" will \", text)\n",
        "  text = re.sub(r\" u \", \" you \", text)\n",
        "  return text\n",
        "\n",
        "\n",
        "# In square brackets it is specified how to pronounce a certain word (e.g. a proper noun).\n",
        "# If we don't remove the pronunciation, it will introduce noise.\n",
        "# For instance \"[ langpronˈroʊ.əld ]\" becomes \"langpronroʊəld\" (because we remove every sign of punctuation too) that has no meaning.\n",
        "# Moreover how to pronounce a word is not so important for this task. For this reason we remove what is in square brackets.\n",
        "def remove_pronunciation(text):\n",
        "  text = re.sub(r\"\\[.*\\]\", \"\", text)\n",
        "  return text\n",
        "\n",
        "def lower(text):\n",
        "    \"\"\"\n",
        "    Transforms given text to lower case.\n",
        "    Example:\n",
        "    Input: 'I really like New York city'\n",
        "    Output: 'i really like new your city'\n",
        "    \"\"\"\n",
        "\n",
        "    return text.lower()\n"
      ],
      "execution_count": null,
      "outputs": []
    },
    {
      "cell_type": "code",
      "metadata": {
        "id": "neImMo8g1eON"
      },
      "source": [
        "PREPROCESSING_PIPELINE = [\n",
        "                          remove_contraction, #to remove some English contractions\n",
        "                          replace_brackets,\n",
        "                          remove_pronunciation,\n",
        "                          remove_first_number,\n",
        "                          remove_final_part,\n",
        "                          remove_punctuation,\n",
        "                          strip_text,\n",
        "                          lower\n",
        "                          ]\n",
        "\n",
        "\n",
        "# Anchor method\n",
        "def text_prepare(text, filter_methods=None):\n",
        "    \"\"\"\n",
        "    Applies a list of pre-processing functions in sequence (reduce).\n",
        "    Note that the order is important here!\n",
        "    \"\"\"\n",
        "\n",
        "    filter_methods = filter_methods if filter_methods is not None else PREPROCESSING_PIPELINE\n",
        "\n",
        "    return reduce(lambda txt, f: f(txt), filter_methods, text)\n"
      ],
      "execution_count": null,
      "outputs": []
    },
    {
      "cell_type": "code",
      "metadata": {
        "colab": {
          "base_uri": "https://localhost:8080/"
        },
        "id": "E0SAAZLetf9o",
        "outputId": "280a7ea0-b245-4f47-c5f7-70a76846ea0f"
      },
      "source": [
        "print('Pre-processing text...')\n",
        "\n",
        "print()\n",
        "print('...EVIDENCES...')\n",
        "print()\n",
        "print('[Debug] Before:\\n{}'.format(df_train.evidence[:3]))\n",
        "print()\n",
        "\n",
        "\n",
        "# Replace each sentence with its pre-processed version\n",
        "df_train['evidence'] = df_train['evidence'].apply(lambda txt: text_prepare(txt))\n",
        "df_val['evidence'] = df_val['evidence'].apply(lambda txt: text_prepare(txt))\n",
        "print('[Debug] After:\\n{}'.format(df_train.evidence[:3]))\n",
        "print()\n",
        "\n",
        "\n",
        "print('...CLAIMS...')\n",
        "print()\n",
        "print('[Debug] Before:\\n{}'.format(df_train.claim[:3]))\n",
        "print()\n",
        "\n",
        "\n",
        "# Replace each sentence with its pre-processed version\n",
        "df_train['claim'] = df_train['claim'].apply(lambda txt: text_prepare(txt))\n",
        "df_val['claim'] = df_val['claim'].apply(lambda txt: text_prepare(txt))\n",
        "\n",
        "print('[Debug] After:\\n{}'.format(df_train.claim[:3]))\n",
        "print()\n",
        "\n",
        "\n",
        "print(\"Pre-processing completed!\")"
      ],
      "execution_count": null,
      "outputs": [
        {
          "output_type": "stream",
          "text": [
            "Pre-processing text...\n",
            "\n",
            "...EVIDENCES...\n",
            "\n",
            "[Debug] Before:\n",
            "0    2\\tHemsworth has also appeared in the science ...\n",
            "1    0\\tRoald Dahl -LRB- -LSB- langpronˈroʊ.əld _ ˈ...\n",
            "2    0\\tRoald Dahl -LRB- -LSB- langpronˈroʊ.əld _ ˈ...\n",
            "Name: evidence, dtype: object\n",
            "\n",
            "[Debug] After:\n",
            "0    hemsworth has also appeared in the science fic...\n",
            "1    roald dahl 13 september 1916 23 november 1990 ...\n",
            "2    roald dahl 13 september 1916 23 november 1990 ...\n",
            "Name: evidence, dtype: object\n",
            "\n",
            "...CLAIMS...\n",
            "\n",
            "[Debug] Before:\n",
            "0    Chris Hemsworth appeared in A Perfect Getaway.\n",
            "1                           Roald Dahl is a writer.\n",
            "2                         Roald Dahl is a governor.\n",
            "Name: claim, dtype: object\n",
            "\n",
            "[Debug] After:\n",
            "0    chris hemsworth appeared in a perfect getaway\n",
            "1                           roald dahl is a writer\n",
            "2                         roald dahl is a governor\n",
            "Name: claim, dtype: object\n",
            "\n",
            "Pre-processing completed!\n"
          ],
          "name": "stdout"
        }
      ]
    },
    {
      "cell_type": "code",
      "metadata": {
        "colab": {
          "base_uri": "https://localhost:8080/"
        },
        "id": "iRXO2zr2wN-V",
        "outputId": "d1b44ceb-db7e-4b3c-999c-36e38a6451bb"
      },
      "source": [
        "for x in df_train[:3].evidence:\n",
        "  print(x)"
      ],
      "execution_count": null,
      "outputs": [
        {
          "output_type": "stream",
          "text": [
            "hemsworth has also appeared in the science fiction action film star trek 2009 the thriller adventure a perfect getaway 2009 the horror comedy the cabin in the woods 2012 the darkfantasy action film snow white and the huntsman 2012 the war film red dawn 2012 and the biographical sports drama film rush 2013\n",
            "roald dahl 13 september 1916 23 november 1990 was a british novelist short story writer poet screenwriter and fighter pilot\n",
            "roald dahl 13 september 1916 23 november 1990 was a british novelist short story writer poet screenwriter and fighter pilot\n"
          ],
          "name": "stdout"
        }
      ]
    },
    {
      "cell_type": "code",
      "metadata": {
        "colab": {
          "base_uri": "https://localhost:8080/"
        },
        "id": "AB6U0eBjWoHs",
        "outputId": "95d33e98-0714-41aa-fb85-f18c2f28cff7"
      },
      "source": [
        "for x in df_val[:3].evidence:\n",
        "  print(x)"
      ],
      "execution_count": null,
      "outputs": [
        {
          "output_type": "stream",
          "text": [
            "it is an allvolunteer force and comprises more than 80 of the country active defence personnel\n",
            "eminem also collaborated with artists such as pink lil wayne slaughterhouse and rihanna for the album\n",
            "eminem also collaborated with artists such as pink lil wayne slaughterhouse and rihanna for the album\n"
          ],
          "name": "stdout"
        }
      ]
    },
    {
      "cell_type": "markdown",
      "metadata": {
        "id": "_KXSVgkl2Li5"
      },
      "source": [
        "#### DATASET CONVERSION"
      ]
    },
    {
      "cell_type": "code",
      "metadata": {
        "id": "CL2p42GXD25U"
      },
      "source": [
        "# Auxiliary functions\n",
        "\n",
        "# Function that counts the max length of the sentences\n",
        "def max_len(df):\n",
        "  len_max = 0\n",
        "  for indice, el in enumerate(df.sentence):\n",
        "    if len_max < len(el):\n",
        "      len_max = len(el)\n",
        "      counter = indice\n",
        "  return len_max\n",
        "\n",
        "\n",
        "# Function useful to build vocabulary for words\n",
        "def build_vocabulary(df):\n",
        "  word_listing = ['<PAD>','<UNK>']\n",
        "  for x in ' '.join(df.claim.tolist()).split():\n",
        "    if x not in word_listing:\n",
        "      word_listing.append(x)\n",
        "\n",
        "  for x in ' '.join(df.evidence.tolist()).split():\n",
        "    if x not in word_listing:\n",
        "      word_listing.append(x)\n",
        "\n",
        "  word_to_ind = {word : idx for idx,word in enumerate(word_listing)}\n",
        "  ind_to_word = dict(zip(word_to_ind.values(), word_to_ind.keys()))\n",
        "  return ind_to_word, word_to_ind, word_listing\n",
        "\n",
        "\n",
        "def add_build_vocabulary(df, w2i):\n",
        "  w2i_tot = copy.deepcopy(w2i)\n",
        "\n",
        "  for x in ' '.join(df.claim.tolist()).split():\n",
        "    if x not in w2i_tot:\n",
        "      w2i_tot[x] = len(w2i_tot)\n",
        "\n",
        "  for x in ' '.join(df.evidence.tolist()).split():\n",
        "    if x not in w2i_tot:\n",
        "      w2i_tot[x] = len(w2i_tot)\n",
        "\n",
        "  i2w_tot = dict(zip(w2i_tot.values(), w2i_tot.keys()))\n",
        "  return i2w_tot, w2i_tot\n",
        "\n",
        "\n",
        "def load_embedding_model(model_type, embedding_dimension=50):\n",
        "    \"\"\"\n",
        "    Loads a pre-trained word embedding model via gensim library.\n",
        "\n",
        "    :param model_type: name of the word embedding model to load.\n",
        "    :param embedding_dimension: size of the embedding space to consider\n",
        "\n",
        "    :return\n",
        "        - pre-trained word embedding model (gensim KeyedVectors object)\n",
        "    \"\"\"\n",
        "\n",
        "    download_path = \"\"\n",
        "\n",
        "    # Find the correct embedding model name\n",
        "    if model_type.strip().lower() == 'word2vec':\n",
        "        download_path = \"word2vec-google-news-300\"\n",
        "\n",
        "    elif model_type.strip().lower() == 'glove':\n",
        "        download_path = \"glove-wiki-gigaword-{}\".format(embedding_dimension)\n",
        "\n",
        "    else:\n",
        "        raise AttributeError(\"Unsupported embedding model type! Available ones: word2vec, glove\")\n",
        "\n",
        "    # Check download\n",
        "    try:\n",
        "        emb_model = gloader.load(download_path)\n",
        "    except ValueError as e:\n",
        "        print(\"Invalid embedding model name! Check the embedding dimension:\")\n",
        "        print(\"Word2Vec: 300\")\n",
        "        print(\"Glove: 50, 100, 200, 300\")\n",
        "        raise e\n",
        "\n",
        "    return emb_model\n",
        "\n",
        "\n",
        "def check_OOV_terms(embedding_model, word_listing):\n",
        "    \"\"\"\n",
        "    Checks differences between pre-trained embedding model vocabulary\n",
        "    and dataset specific vocabulary in order to highlight out-of-vocabulary terms.\n",
        "\n",
        "    :param embedding_model: pre-trained word embedding model (gensim wrapper)\n",
        "    :param word_listing: dataset specific vocabulary (list)\n",
        "\n",
        "    :return\n",
        "        - list of OOV terms\n",
        "    \"\"\"\n",
        "\n",
        "    OOV_terms = [x for x in word_listing if x not in embedding_model and x != '<PAD>' and x!= '<UNK>']\n",
        "    return OOV_terms\n",
        "\n",
        ""
      ],
      "execution_count": null,
      "outputs": []
    },
    {
      "cell_type": "code",
      "metadata": {
        "id": "fln2-l1m1edN"
      },
      "source": [
        "# Build vocabularies for train and val\n",
        "\n",
        "idx_to_word_train, word_to_idx_train, word_listing_train = build_vocabulary(df_train)\n",
        "idx_to_word_val, word_to_idx_val= add_build_vocabulary(df_val, word_to_idx_train)\n"
      ],
      "execution_count": null,
      "outputs": []
    },
    {
      "cell_type": "code",
      "metadata": {
        "colab": {
          "base_uri": "https://localhost:8080/"
        },
        "id": "nfDRsE1J1g2y",
        "outputId": "1e89e275-15f1-439b-f0ce-dec6c73579a5"
      },
      "source": [
        "import numpy as np\n",
        "print('[Debug] Index -> Word vocabulary size: {}'.format(len(idx_to_word_train)))\n",
        "print('[Debug] Word -> Index vocabulary size: {}'.format(len(word_to_idx_train)))\n",
        "\n",
        "print('[Debug] Some words: {}'.format([(idx_to_word_train[idx], idx) for idx in np.arange(10) + 1]))\n",
        "print(word_listing_train)\n",
        "print('[Debug] Index -> Word vocabulary size: {}'.format(len(idx_to_word_val)))\n",
        "print('[Debug] Word -> Index vocabulary size: {}'.format(len(word_to_idx_val)))\n",
        "\n",
        "print('[Debug] Some words: {}'.format([(idx_to_word_val[idx], idx) for idx in np.arange(10) + 1]))\n"
      ],
      "execution_count": null,
      "outputs": [
        {
          "output_type": "stream",
          "text": [
            "[Debug] Index -> Word vocabulary size: 33489\n",
            "[Debug] Word -> Index vocabulary size: 33489\n",
            "[Debug] Some words: [('<UNK>', 1), ('chris', 2), ('hemsworth', 3), ('appeared', 4), ('in', 5), ('a', 6), ('perfect', 7), ('getaway', 8), ('roald', 9), ('dahl', 10)]\n",
            "['<PAD>', '<UNK>', 'chris', 'hemsworth', 'appeared', 'in', 'a', 'perfect', 'getaway', 'roald', 'dahl', 'is', 'writer', 'governor', 'ireland', 'has', 'relatively', 'lowlying', 'mountains', 'does', 'not', 'have', 'there', 'been', 'many', 'notable', 'performances', 'by', 'david', 'thewlis', 'edward', 'i', 'of', 'england', 'responded', 'to', 'second', 'rebellion', '1282', 'h', 'holmes', 'owned', 'building', 'west', 'chicago', 'was', 'the', 'owner', 'located', 'beastie', 'boys', 'released', 'paul', 'boutique', 'debbie', 'reynolds', 'an', 'actress', 'performer', 'greece', 'country', 'european', 'liverpool', 'fc', 'valued', 'at', '155', 'billion', 'australia', 'member', '8', 'intergovernmental', 'organizations', 'ringo', 'starr', 'hospitalized', 'gorgeous', 'ladies', 'wrestling', 'professional', 'promotion', 'women', 'laurence', 'olivier', 'starred', '1948', 'adaptation', 'hamlet', 'featured', 'krysten', 'ritter', 'more', 'than', 'one', 'film', 'incredibles', 'worked', 'on', 'people', 'that', 'iron', 'giant', 'nelson', 'mandela', 'xhosa', 'person', 'colombia', 'south', 'america', 'north', 'marilyn', 'monroe', 'part', 'war', 'effort', 'kenneth', 'branagh', 'actor', 'sons', 'anarchy', 'premiered', 'fx', 'only', 'tnt', 'james', 'garner', 'received', 'academy', 'award', 'nomination', 'world', 'ii', 'took', 'place', 'from', '1939', '1945', 'earth', 'melanie', 'griffith', 'performed', 'broadway', 'incapable', 'performing', 'radiohead', 'album', 'rainbows', 'margaret', 'osborne', 'dupont', 'died', 'october', '24', '2012', 'new', 'york', 'glee', 'television', 'series', 'tv', 'show', 'jules', 'dumont', 'durville', 'born', 'may', '23', '1790', 'curly', 'top', 'george', 'w', 'bush', 'became', 'millionaire', 'this', 'us', 'nominations', 'for', 'best', 'drama', 'comedy', 'revival', 'irene', 'mauritius', 'government', 'closely', 'modeled', 'westminster', 'parliamentary', 'system', 'bill', 'gates', 'philanthropist', 'doctor', 'who', 'sciencefiction', 'genre', 'shailene', 'woodley', 'middle', 'name', 'diann', 'susan', 'julia', 'louisdreyfus', 'shows', 'french', 'revolution', 'culminated', 'rise', 'maximilien', 'robespierre', 'and', 'jacobins', 'gone', 'girl', 'stars', 'ben', 'affleck', 'shay', 'haley', 'december', 'khal', 'drogo', 'leader', 'dothraki', 'jesus', 'ceased', 'living', 'hayden', 'panettiere', 'drake', 'his', 'debut', '2010', 'odyssey', 'nonlinear', 'plot', 'rope', 'stewart', 'lebron', 'nba', 'imagine', 'dragons', 'are', 'alternative', 'artist', 'hugh', 'hefner', 'veteran', 'desperate', 'housewives', 'stephanie', 'daley', 'won', 'waldo', 'salt', 'screenwriting', 'roy', 'whiting', '1959', '1950s', 'emily', 'blunt', '2006', 'american', 'comedydrama', 'devil', 'wears', 'prada', 'cerebral', 'palsy', 'partly', 'preventable', 'through', 'immunization', 'mother', 'halle', 'berry', '1st', 'runnerup', 'miss', 'usa', 'pageant', 'randy', 'orton', 'nickname', 'legend', 'killer', 'when', 'he', 'veterans', 'cindy', 'mccain', 'businesswoman', 'working', 'woman', 'juliette', 'binoche', 'acted', 'ad', 'buyers', 'use', 'jingles', 'radio', 'commercials', 'singapore', 'restricts', 'civil', 'liberties', 'united', 'states', 'army', 'participates', 'conflicts', 'worldwide', 'thirteen', 'reasons', 'why', 'published', '2007', 'july', '13', 'senior', 'chess', 'championship', 'established', 'international', 'organization', 'sam', 'worthington', 'kristen', 'bell', 'awardwinning', 'seattle', 'technology', 'center', 'since', '1980s', 'ready', 'player', 'sold', 'sale', 'rejected', 'back', 'future', 'sequel', 'jeff', 'bezos', 'january', 'jensen', 'ackles', 'director', 'splatoon', '2', 'prequel', 'city', 'cars', 'toons', 'short', 'films', 'car', 'jon', 'huntsman', 'jr', 'served', 'as', '16th', 'utah', 'never', 'mazouz', 'touch', 'wales', 'valleys', 'italy', 'attack', 'titan', 'anime', 'had', 'certified', 'recording', 'industry', 'association', 'brock', 'lesnar', 'fought', 'korean', 'mixed', 'martial', 'rolling', 'stones', 'made', 'up', 'english', 'scottish', 'musicians', 'chinese', 'mexican', 'down', 'syndrome', 'named', 'after', 'john', 'langdon', 'watership', 'venus', 'williams', 'grand', 'slam', 'title', 'extracorporeal', 'shockwave', 'therapy', 'eswt', 'used', 'physical', 'activist', 'involved', 'activism', 'steve', 'buscemi', 'roman', 'reigns', 'wwe', 'sports', 'good', 'will', 'hunting', 'matt', 'damon', 'buzz', 'aldrin', 'lived', '20th', 'century', 'existed', 'wiz', 'khalifa', 'katharine', 'hepburn', 'adventure', 'time', 'peabody', 'puerto', 'rico', 'island', 'toy', 'story', 'highestgrossing', 'its', 'opening', 'weekend', 'travis', 'scott', 'bosnia', 'herzegovina', 'socialist', 'federal', 'republic', 'yugoslavia', 'grace', 'vanderwaal', '2004', 'birth', 'year', 'justin', 'bieber', 'fourth', 'studio', 'three', 'number', 'singles', 'eight', 'introduced', 'photographer', 'toyota', 'created', 'first', 'passenger', '1936', 'industries', 'marie', 'antoinette', 'november', '2nd', '1755', 'donald', 'glover', 'song', '3005', 'kenny', 'rogers', 'aboutcom', 'poll', '200', 'most', 'influential', 'albums', 'ever', 'archimedes', 'engineer', 'eminem', 'several', 'midwest', 'hip', 'hop', 'groups', 'moana', 'contains', 'how', 'far', 'go', 'peter', 'cetera', 'transit', 'authority', 'jason', 'bateman', 'arrested', 'development', 'iraq', 'least', '10', 'different', 'ethnic', 'jerry', 'seinfeld', 'investment', 'funds', 'also', 'referred', 'simply', 'congress', '100', 'senators', 'lacks', 'judd', 'apatow', 'nominated', 'oscar', 'philippines', 'spanish', 'explorer', 'given', 'spain', 'deadpool', 'serbia', 'high', 'rank', 'human', 'index', 'some', 'mammal', 'species', 'exhibit', 'polyandry', 'no', 'belko', 'experiment', 'directed', 'greg', 'mclean', 'alessia', 'cara', 'canadian', 'singer', 'ludacris', 'critic', 'choice', 'logic', '1990', 'margot', 'kidder', 'plays', 'apocalypse', 'now', 'annie', 'parisse', 'f', 'kennedy', 'journalist', 'passengers', 'written', 'spaihts', 'someone', 'about', 'motorcycle', 'club', 'emma', 'based', 'book', 'novelist', 'jane', 'austen', 'take', 'bow', 'single', 'madonna', 'lp', 'arya', 'stark', 'fictional', 'character', 'ice', 'fire', 'fantasy', 'novels', 'angelina', 'jolie', 'separated', 'brad', 'pitt', 'leicester', 'fa', 'cup', 'finalist', '1960s', 'venice', 'between', 'po', 'piave', 'rivers', 'two', 'wolf', 'wall', 'street', 'grossed', '392', 'million', 'al', 'capone', 'dementia', 'ailment', 'beyond', 'westworld', 'cancelled', 'taken', 'off', 'air', 'eva', 'longoria', 'sentinel', 'reflex', 'occurs', 'response', 'stimulus', 'gold', 'ductile', 'season', '15', 'family', 'guy', 'tarzan', '2016', 'twentyfirst', 'trade', 'steel', 'structure', 'sarah', 'silverman', 'emmy', 'massachusetts', 'commonwealth', '4', 'commonwealths', 'university', 'oxford', 'academics', 'fled', 'cambridge', 'seth', 'macfarlane', 'volleyball', 'involves', 'techniques', 'like', 'spiking', 'players', 'per', 'team', 'judy', 'greer', 'multiple', 'plato', 'philosopher', 'raccoons', 'considered', 'be', 'pests', 'homeowners', 'ron', 'perlman', 'citizen', 'anne', 'hathaway', 'role', 'princess', 'diaries', 'royal', 'engagement', 'children', 'adult', 'norton', 'cowritten', 'heather', 'graham', 'committed', 'did', 'star', 'jim', 'carrey', 'played', 'colonel', 'stripes', 'kickass', '1', 'page', 'brin', 'own', '14', 'percent', 'google', 'shares', 'neil', 'armstrong', 'commanded', 'apollo', '11', 'macbeth', 'tragedy', 'imperial', 'county', 'southern', 'california', 'anna', 'gunn', 'twice', 'her', 'breaking', 'bad', 'awards', 'noam', 'chomsky', 'developed', 'theory', 'transformational', 'grammar', 'hotel', 'hell', 'taylor', 'kitsch', 'works', 'promise', 'september', 'premiere', 'wentworth', 'leonardo', 'da', 'vinci', 'invented', 'flying', 'machine', 'll', 'cool', 'j', 'crime', 'thriller', 'pineapple', 'express', 'wars', 'stolen', 'architectural', 'plans', 'man', '2013', 'superhero', 'construction', 'project', 'richard', 'nixon', 'ran', 'president', '1968', 'theodore', 'roosevelt', 'attended', 'harvard', 'college', '1824', 'scoobydoo', 'fred', 'jones', 'courtney', 'love', 'kumkum', 'bhagya', 'soap', 'opera', 'telenovela', 'roses', 'were', 'control', 'throne', 'larry', 'buttrose', 'author', 'novel', 'sweet', 'sentence', 'miley', 'cyrus', '1992', 'cole', 'founded', 'dreamville', 'foundation', 'speaker', 'house', 'presiding', 'officer', 'representatives', 'nascar', 'glenn', 'frey', 'sang', 'with', 'eagles', 'band', 'luke', 'evans', 'hollywood', 'breakthrough', 'starring', 'clash', 'titans', 'remake', 'korea', 'parliament', 'kiiara', 'music', 'features', 'heavy', 'bass', 'electronic', 'pop', 'featuring', 'horror', 'paulson', 'funded', 'devdas', 'screened', 'during', '2014', 'festival', 'india', 'before', 'my', 'lord', 'soundgarden', 'signed', 'record', 'label', 'singersongwriter', 'georgia', 'london', 'cinema', 'audrey', 'poorest', 'communities', 'asia', 'ivan', 'lendl', 'nine', 'consecutive', 'finals', 'straight', 'impeachment', 'process', 'which', 'legislative', 'body', 'formally', 'levels', 'charges', 'against', 'official', 'charles', 'mackay', 'watson', 'kingdom', 'christina', 'aguilera', 'listed', 'lovers', 'left', 'alive', 'smith', 'lily', 'collins', 'age', '19', 'wonder', 'justice', 'society', 'comics', 'league', 'josh', 'hartnett', 'montreal', 'legally', 'frenchspeaking', 'legal', 'language', 'jing', 'tian', 'zooey', 'deschanel', 'jazz', 'cabaret', 'act', 'samantha', 'shelton', 'k', 'rowling', 'husband', 'got', 'divorce', 'champ', 'faye', 'dunaway', 'reviewed', 'block', 'called', 'fudged', 'davison', 'lee', 'minho', 'kaitlin', 'olson', 'started', 'career', 'groundlings', 'critics', 'movie', 'motorola', 'business', 'customers', 'open', 'happens', 'june', 'late', 'spring', 'saving', 'private', 'ryan', 'depicts', 'omaha', 'beach', 'assault', 'battle', 'bunker', 'hill', 'social', 'anxiety', 'disorder', 'can', 'impair', 'ability', 'function', 'parts', 'daily', 'life', 'everyday', 'impaired', 'muhammad', 'ali', 'exemplar', 'racial', 'pride', 'resistance', 'white', 'domination', 'rights', 'movement', 'senator', 'tim', 'kaine', 'vice', 'presidential', 'running', 'mate', 'hillary', 'clinton', 'refused', 'loss', 'supply', 'indicates', 'confidence', 'barely', 'izombie', 'loose', 'comic', 'same', 'paris', 'hilton', 'gemini', 'alicia', 'vikander', 'fifth', 'estate', 'appear', 'avengers', 'joss', 'whedon', 'samuel', 'l', 'jackson', 'robertson', 'cincinnati', 'royals', 'milwaukee', 'bucks', 'roger', 'moore', 'month', 'death', 'dwayne', 'johnson', 'cut', 'into', '1995', 'football', 'winona', 'ryder', 'romantic', 'period', 'piece', 'little', 'queen', 'victoria', 'daughter', 'duke', 'kent', 'strathearn', 'prince', 'pirates', 'caribbean', 'dead', 'men', 'tell', 'tales', 'initially', 'planned', '2015', 'release', 'marylouise', 'parker', 'side', 'other', 'katrina', 'kaif', 'china', 'cleopatra', 'legacy', 'lives', 'creative', 'work', 'rupaul', 'appears', 'greyson', 'chance', 'songwriter', 'musician', 'ed', 'solomon', 'writes', 'joaquin', 'phoenix', 'bonnie', 'hunt', 'monsters', 'aishwarya', 'rai', 'married', 'wedded', 'void', 'produced', 'jonathan', 'bronfman', 'heinrich', 'himmler', 'leading', 'nazi', 'party', 'germany', 'france', 'tyler', 'creator', 'producer', 'dean', 'martin', 'dino', 'crocetti', 'liv', 'model', 'fashion', 'nick', 'jonas', '1923', 'steffi', 'graf', 'competed', 'majors', 'years', 'henry', 'viii', 'radical', 'changes', 'constitution', 'robert', 'redford', 'supporting', 'leroy', 'anderson', 'makeup', '70th', 'black', '30th', 'weightlifting', 'fairy', 'kim', 'bokjoo', 'golden', 'globe', 'don', 'henley', '5', 'andy', 'dwyer', 'ann', 'perkins', 'unemployed', 'slacker', 'boyfriend', 'maria', 'sharapova', 'suspended', 'tennis', 'zhou', 'enlai', 'instrumental', 'developing', 'economy', 'twentiethcentury', 'gore', 'arnold', 'odia', 'spoken', 'rio', 'de', 'janeiro', 'metropolitan', 'area', 'moscow', 'designated', 'barker', 'collaborated', 'rock', '44', 'juice', 'company', 'catalyst', 'still', 'unreleased', 'polynesian', 'billie', 'jean', 'king', 'basketball', 'tom', 'felton', 'louis', 't', 'leonowens', 'acting', 'kong', 'annually', 'held', '1987', 'wrestler', 'professionally', 'onetime', 'champion', 'rail', 'networks', 'europe', 'east', 'connected', 'istanbul', 'incorporates', 'scenery', 'selena', 'gomez', 'wizards', 'waverly', 'movies', 'main', 'sejong', 'great', 'joseph', 'gordonlevitt', 'oliver', 'stone', 'together', 'chad', 'hayes', 'breakfast', 'emilio', 'estevez', 'mughal', 'empire', 'emperor', 'bahadur', 'shah', 'true', 'detective', 'set', 'populous', 'state', 'janet', 'varney', 'keith', 'urban', 'bahrain', 'iceland', 'days', 'costars', 'israel', 'oecd', 'jemaine', 'clement', 'zealandbased', 'duo', 'half', 'zealand', 'tommy', 'chong', 'canadianamerican', 'comedian', 'it', 'announced', 'panther', 'would', 'marvel', 'studios', 'billy', 'ray', 'costarred', 'musical', 'downey', 'adele', 'hello', 'over', 'digital', 'copies', 'week', 'wyatt', 'earp', 'lawman', '2003', 'tyrion', 'lannister', 'real', 'lana', 'del', 'rey', 'numberone', 'third', 'barbados', 'population', '280121', 'michael', 'mccullers', 'americans', 'commonly', 'gabrielle', 'union', 'bring', 'screenplay', 'amazing', 'spiderman', 'rewritten', 'roberto', 'orci', 'rewriting', 'amitabh', 'bachchan', 'four', 'national', 'c', 's', 'forester', 'iain', 'glen', 'theft', 'auto', 'clone', 'type', 'actionadventure', 'video', 'game', 'standup', 'galilean', 'jew', 'galilee', 'eastwood', 'known', 'reeves', 'malala', 'yousafzai', 'pakistani', 'khyber', 'pakhtunkhwa', 'hunter', 'thompson', 'traveled', 'mexico', 'spanishspeaking', '120', 'attacks', 'occurred', '2001', 'aruba', 'surrounded', 'water', 'suffered', 'armed', 'conflict', 'eliminated', 'manned', 'moon', 'landing', 'beijing', 'nation', 'political', 'jeremy', 'allen', 'beautiful', 'ohio', 'yusuke', 'murata', 'illustrated', 'eyeshield', '21', 'oneal', 'patrick', 'richmond', 'virginia', 'home', '12', 'reserve', 'banks', 'maynard', 'keenan', 'makes', 'wine', 'sense', 'sensibility', 'out', 'print', 'run', 'dinosaurs', 'represented', 'every', 'continent', 'evidence', 'exist', 'all', 'continents', 'carradine', 'thomas', 'philip', 'seymour', 'hoffman', 'gained', 'recognition', 'harley', 'quinn', 'play', 'harlequin', 'farrah', 'fawcett', 'sunburn', 'passed', 'hungarians', 'subgroups', 'including', 'jsz', 'batman', 'snoop', 'dogg', 'cordozar', 'calvin', 'broadus', 'long', 'wladimir', 'klitschko', 'reached', 'peak', 'rings', 'pound', 'list', 'space', 'financed', 'metrogoldwynmayer', 'universal', 'grant', 'mickey', 'blue', 'eyes', 'roddick', 'ranked', 'ten', '9', 'operates', 'museum', 'ellen', 'pompeo', 'earned', '145', 'dollars', 'austria', 'twenty', 'pilots', 'formed', '2009', 'minnesota', 'son', 'summer', 'olympics', 'began', 'august', '5th', 'rb', 'leipzig', 'german', 'bordering', 'brandenburg', 'akshay', 'kumar', 'hindi', 'fifty', 'shades', 'grey', 'coke', 'records', 'production', 'malkovich', 'sun', 'history', 'billboard', 'hot', 'simultaneous', 'wayne', 'gacy', 'degrasse', 'tyson', 'ivy', 'wechat', 'tencent', 'logan', 'mangold', 'frank', 'green', 'being', 'inhabited', 'native', 'peoples', 'canada', 'northern', 'newcastle', 'traditional', 'crest', 'shingles', 'virus', 'herpes', 'simplex', 'viruses', 'capital', 'bali', '350000', 'perry', 'marc', 'webb', 'filmmakers', 'identified', 'emerging', 'global', 'power', 'kaminey', 'davis', 'guggenheim', 'rafael', 'nadal', 'athlete', 'portia', 'rossi', 'better', 'ted', 'veronica', 'palmer', 'lion', 'nonfiction', 'way', 'barrel', 'delevingne', 'u2', 'their', 'uk', 'hadera', 'immigrants', 'migrated', 'thrones', 'appearing', 'fiji', 'largest', 'viti', 'levu', 'lusignan', 'origin', 'marlon', 'brando', 'money', 'making', 'dennis', 'hopper', 'browning', 'yeh', 'dillagi', 'amusement', 'park', 'adam', 'sandler', 'voice', 'transylvania', 'bob', 'thornton', 'daddy', 'them', 'oversaw', 'direction', 'pablo', 'fenjves', 'ghostwrote', 'saint', 'ordained', 'howard', 'hughes', 'scarface', 'dopamine', 'chemical', 'substance', 'argo', 'producers', 'heslov', 'barcelona', 'miami', 'municipality', 'psychology', 'seeks', 'understand', 'individuals', 'newman', 'colorblind', 'outdoor', 'recreation', 'pursuit', 'british', 'columbia', 'engages', 'bafta', 'democratic', 'congo', 'achieved', 'independence', 'murdered', 'under', '18', 'killed', 'newspapers', 'include', 'listings', 'newspaper', 'obituaries', 'stephon', 'marbury', 'soccer', 'mike', 'pence', 'republican', 'conservative', 'atomic', 'blonde', 'leitch', 'reusable', 'spacecraft', 'spacex', 'father', 'r', 'kelly', 'dylan', '1941', 'duck', 'successful', 'aluminium', 'salts', 'metabolically', 'westernmost', 'end', 'lesser', 'sunda', 'islands', 'alpha', 'inspired', 'chuck', 'schumer', 'politician', '1999', 'scion', 'celebrity', 'usually', 'folklore', 'something', 'lisa', 'lopes', 'tlc', 'reign', 'gadsden', 'flag', 'historical', 'primarily', 'elliott', 'terry', 'rossio', 'primary', 'writers', 'connaught', 'tunnel', 'jennifer', 'lawrence', 'metropolis', 'romelu', 'lukaku', 'footballer', 'usain', 'bolt', 'contest', 'washington', 'lipstick', 'burkha', 'audio', 'pornography', 'popeye', 'robin', 'sailor', 'novak', 'djokovic', 'illusionist', 'just', 'dance', 'sleeper', 'hit', 'slovenia', 'beatles', 'commercially', 'popular', 'lynyrd', 'skynyrd', 'members', '1977', 'april', 'genghis', 'khan', 'unified', 'nomadic', 'tribes', 'northeast', 'stockard', 'channing', 'portrayed', 'betty', 'rizzo', 'consolidating', 'communist', 'insignificant', 'willow', 'smoker', 'elvis', 'presley', 'result', 'heart', 'assassination', 'attempt', 'wild', 'reese', 'witherspoon', 'gustin', 'sings', 'alfre', 'woodard', 'acts', 'adapted', 'd', 'b', 'weiss', 'disney', 'characters', 'hearts', 'walt', 'epcot', 'complete', 'saw', 'completion', 'warren', 'buffett', 'andrew', 'supreme', 'court', 'guitarist', 'joe', 'walsh', 'colin', 'firth', 'distributed', 'trilogy', 'fergie', 'put', 'bridge', 'samsung', 'insurance', 'multinational', 'heidi', 'klum', 'commercial', 'led', 'zeppelin', 'graffiti', '1975', 'scorsese', 'julius', 'caesar', 'general', 'katie', 'obrien', '2018', 'floyd', 'mayweather', 'stage', 'godfather', 'iii', 'talia', 'shire', 'pacino', 'brazil', 'productions', 'schwarzenegger', 'mr', 'olympia', 'seven', 'times', 'win', 'boyz', 'group', '1990s', 'missed', 'morgan', 'freeman', 'entertainment', 'fox', 'semiretired', '2000', 'gradually', 'retiring', 'playstation', 'console', 'dhool', 'indian', 'los', 'angeles', 'ocean', 'warner', 'bros', 'froome', 'threetime', 'vuelta', 'espana', 'me', 'you', 'britishamerican', 'cocreated', 'kane', 'unknown', 'rodrigo', 'santoro', 'phillip', 'morris', 'ecuador', 'borders', 'peru', 'worst', 'marshall', 'mcluhan', 'professor', 'morrissey', 'grew', 'manchester', 'birthed', 'irish', 'migrant', 'anorexia', 'nervosa', 'often', 'begins', 'teen', 'or', 'young', 'adulthood', '24th', '1938', '23rd', 'martina', 'navratilova', '1956', 'rossum', 'maggie', 'greenwald', 'accuracy', 'wikipedia', 'compared', 'illuminati', 'attracts', 'russia', 'recognized', 'nuclear', 'weapon', 'ginger', 'baker', 'inductee', 'roll', 'hall', 'fame', 'adolf', 'hitler', 'takeover', '1933', 'cupid', 'airing', 'march', '31st', 'nicki', 'minaj', 'super', 'headquarters', 'bolivia', 'ricky', '41st', 'grammy', 'harrison', 'lennon', 'mccartney', 'bassist', 'drummer', 'charlie', 'chaplin', 'silent', 'cena', 'twotime', 'rumble', 'winner', '2008', 'profundis', 'letter', 'form', 'writing', 'carol', 'leifer', 'ruled', 'levant', 'sixth', '20', 'episodes', 'hong', 'maintains', 'separate', 'economic', 'wachowskis', 'write', 'vs', 'forces', 'evil', 'banker', 'peregrine', 'peculiar', 'takes', 'welsh', 'cairnholm', 'jlo', 'includes', 'provocative', 'lyrics', 'sex', 'incorporated', '1850', 'ruth', 'negga', 'mildred', 'loving', 'campaigned', 'campaign', 'market', 'fully', 'fledged', 'gdragon', 'solo', 'do', 'dome', 'tour', 'japanese', 'watchmen', 'originally', '1986', 'linux', 'unixlike', 'computer', 'operating', 'software', 'manages', 'provides', 'common', 'services', 'programs', 'behaves', 'manner', 'similar', 'unix', 'nicole', 'kidman', 'boston', 'colleges', 'campuses', 'natalie', 'portman', 'involvement', '61st', 'annual', 'cannes', 'fesival', 'romero', 'monkey', 'shines', 'blackhat', 'viola', 'mark', 'hamill', 'berlin', 'franco', 'brothers', 'dave', 'bangladesh', 'tyrese', 'gibson', '30', '1978', 'trek', 'referenced', 'crimson', 'tide', 'rev', 'composed', 'heaven', 'catherine', 'zetajones', 'intolerable', 'cruelty', 'alice', 'reworking', '1965', 'financial', 'crimes', 'involve', 'burglary', 'involving', 'liev', 'schreiber', '1967', '1969', 'cells', 'what', 'organisms', 'twilight', 'saga', 'san', 'jose', 'estimated', '1026908', 'according', 'census', 'data', 'installment', 'ink', 'master', 'competition', 'tournament', 'beauty', 'shop', 'talk', 'host', 'sansa', 'female', '2011', 'pepperoni', 'pizza', 'giada', 'laurentiis', 'nbc', '94', 'titles', 'cast', 'isle', 'scotland', '1266', 'annexed', 'in1266', 'dickinson', 'poet', 'carice', 'van', 'houten', 'eugenio', 'canfari', 'outfield', 'wolverine', 'bruce', 'banner', 'reba', 'mcentire', 'kobe', 'bryant', 'awarded', 'regular', 'mvp', 'interest', 'sherlock', 'slip', 'approximately', 'despite', 'popularity', 'winterbottom', 'shirley', 'henderson', 'kieran', 'navigable', 'amsterdam', 'centre', 'diamonds', 'lucy', 'saamy', 'action', 'albert', 'einstein', '1879', 'olivia', 'munn', 'credited', 'failed', 'swift', 'youngest', 'included', 'forbes', 'powerful', 'entry', 'schilling', 'brentwood', 'westside', 'vikram', 'lead', '1961', 'bridges', 'madison', 'quinoa', 'flowering', 'plant', 'coldplay', 'samesex', 'marriage', 'guam', 'illegal', 'reigned', 'ages', 'dustin', 'vulnerable', 'antiheroes', 'transformers', 'river', 'trees', 'lounge', 'tiger', 'woods', 'homecoming', 'intended', 'reboot', 'superman', 'santorini', 'remnant', 'volcanic', 'caldera', 'centauri', 'naomi', 'lindsay', 'lohan', 'tesla', 'inc', 'formerly', 'telsa', 'motors', 'associated', 'wood', 'child', 'saxony', 'ulysses', 'swat', 'february', 'denis', 'leary', 'samoa', 'tna', 'kid', 'qatar', 'saudi', 'arabia', 'territory', 'touches', 'kerala', 'christian', 'hindu', 'muslim', 'rajesh', 'khanna', 'distinguished', 'bollywood', '1954', 'playing', 'thor', 'cinematic', 'universe', 'bart', 'simpson', 'suriname', 'nanotechnology', 'scale', 'kaufman', 'sometimes', 'rude', 'tony', 'clifton', 'shield', 'chiklis', 'pixar', 'creates', 'media', 'everton', 'premier', 'champions', 'keturah', 'patriarch', 'abrahamic', 'religions', 'matriarch', 'constantine', 'ranbir', 'kapoor', 'coowns', 'jesse', 'eisenberg', 'bartha', 'ellyse', 'australian', 'oceania', 'dakota', 'ojibwe', 'nerrukku', 'ner', 'vasanth', 'garland', 'fight', 'bachelorette', '2017', 'legion', 'drew', 'barrymore', 'steven', 'spielberg', 'ramadan', 'observed', 'muslims', 'fasting', 'directors', 'guild', 'predecessor', 'merged', 'christopher', 'dicaprio', 'elected', 'officials', 'sunflower', '1970', '1998', 'major', 'baseball', 'allstar', 'smallest', 'companies', 'encourage', 'massmarket', 'adoption', 'hybrid', 'vehicles', 'rarely', 'jamaicans', 'kingston', 'compilation', 'diamond', 'ceres', 'solar', 'spanned', '60', 'months', 'ethiopia', 'africa', 'nature', 'atmospheric', 'humidity', 'artificially', 'fantastic', 'beasts', 'formats', 'where', 'find', 'various', 'withheld', 'public', 'die', 'hard', 'schindler', 'demi', 'daytime', 'medical', 'birthname', 'resident', 'follows', 'protagonist', 'polar', 'bear', 'kingsley', 'agatha', 'christie', 'dame', 'contribution', 'literature', 'status', 'literary', 'contributions', 'reality', 'tyra', 'next', 'each', 'jackfruit', 'hundred', 'flowers', 'sopranos', 'criminals', 'dramatic', 'quarry', 'riprap', 'excavated', 'zootopia', 'animated', 'syrian', 'desert', 'hamad', 'covers', '500000', 'km2', 'schwimmer', 'finished', 'friends', 'dark', 'knight', 'imax', '70', 'mm', 'cameras', 'sequences', 'capture', 'xmen', 'pamela', 'merlin', 'jake', 'michie', 'legislators', 'share', 'row', 'windsor', 'ontario', 'derrick', 'rose', 'rookie', 'hannibal', 'military', 'strategist', 'paulo', 'dybala', 'invitational', '1877', 'genoa', 'karan', 'johar', 'directorial', 'kuch', 'hota', 'hai', 'wimbledon', 'doubles', 'within', 'charlemagne', 'crowned', 'christmas', 'day', 'romans', 'environmental', 'protection', 'agency', 'employs', 'technologists', 'rodents', 'eleven', 'foxy', 'lady', 'houston', 'rockets', 'western', 'conference', 'sandwiches', 'jared', 'kushner', 'o', 'acquitted', 'counts', 'murder', 'acquittal', 'wing', 'rockefeller', 'smoked', 'tobacco', 'mixtape', 'typically', 'fair', 'songs', 'user', 'library', 'indiana', 'archaeologist', 'foo', 'fighters', 'witwer', 'hemisphere', 'gatsby', 'explores', 'themes', 'gregor', 'clegane', 'younger', 'brother', 'hound', 'fahrenheit', '451', 'francois', 'truffaut', 'parrot', 'bravo', 'handed', 'magazine', 'sheen', 'slash', '1996', 'sporting', 'feature', 'alison', 'brie', 'scream', 'journey', 'infinity', 'call', 'maybe', 'naruto', 'manga', 'johnston', 'drums', 'hosted', 'alex', 'rodriguez', 'lucrative', 'contracts', 'style', 'inventor', 'neymar', 'forward', 'kaczynski', 'selfprofessed', 'anarchist', 'lego', 'noir', 'elton', 'your', 'leukemia', 'lack', 'normal', 'blood', 'skin', 'denver', 'lords', 'prevent', 'subverted', 'abused', 'bomback', 'rochelle', '1984', 'buddy', 'holly', 'influenced', 'rap', 'hingis', '1980', 'jyothika', 'titus', 'destroyed', 'jerusalem', 'leveled', 'rome', 'dan', 'road', 'racing', 'cyclist', 'rooney', 'stallion', 'walter', 'farley', 'apple', 'consumer', 'ilife', 'creativity', 'productivity', 'suite', 'franklin', '1905', 'turned', 'mcavoy', 'dune', 'roberts', 'birthday', '10th', 'shia', 'labeouf', 'channel', 'nikita', '1997', 'hacksaw', 'ridge', 'schenkkan', 'stan', 'mad', 'lionsgate', 'trump', 'hypothyroidism', 'cause', 'depression', 'yet', 'subhas', 'chandra', 'bose', 'hero', 'seen', 'cyclobenzaprine', 'muscle', 'relaxant', 'relaxer', 'nepal', '264', 'developer', 'entrepreneur', 'secret', 'emmanuel', 'adebayor', 'togo', 'punic', 'ended', '201', 'bc', 'lasted', '218', 'prestige', 'mystery', 'artists', 'hired', 'design', 'element', 'giraud', 'jeanclaude', 'mezieres', 'nineteen', 'eightyfour', 'heroine', 'wife', 'sonia', 'orwell', 'swanson', 'likes', 'resource', 'extraction', 'las', 'vegas', 'populated', 'nevada', 'highest', 'zaillian', 'gave', 'douglas', 'romancing', 'blockbusters', 'aniston', 'theroux', 'lover', 'joker', 'ozzy', 'osbourne', 'gun', 'rapper', 'positive', 'receive', 'julianne', 'hough', 'primetime', 'outstanding', 'choreography', 'inferno', 'angels', 'demons', 'blueringed', 'octopus', 'crabs', 'android', 'source', 'code', 'bound', 'cate', 'blanchett', 'wallander', 'celtics', 'games', 'multipurpose', 'arena', 'past', 'came', 'surviving', 'approved', 'hastert', 'retired', 'riots', 'names', 'rodney', 'central', 'ajay', 'devgn', 'seppuku', 'translated', 'cutting', 'belly', 'untranslatable', 'land', 'albania', 'cloud', 'atlas', 'described', 'sort', 'pointillist', 'mosaic', 'walker', 'below', 'powers', 'leigh', 'annifrid', 'lyngstad', 'swedish', 'caitlyn', 'jenner', 'changed', 'gender', 'change', 'bangerz', 'distributes', 'gentoo', 'khmer', 'officially', 'angkor', 'else', 'alec', 'baldwin', 'male', 'sag', 'garfield', 'stadium', 'brittany', 'murphy', 'texas', 'trey', 'nothing', 'campbell', 'conor', 'mcgregor', 'featherweight', 'lightweight', 'championships', 'participated', 'heavyweight', 'competitions', 'boomerang', 'uss', 'naval', 'ship', 'navy', 'students', 'disputed', 'townsfolk', 'rick', 'morty', 'renewed', 'canceled', 'thandie', 'newtown', 'chancellor', 'alexander', 'lebedev', 'japan', 'donnie', 'wahlberg', 'harris', 'entries', 'chart', 'charts', 'tyne', 'daly', 'seagull', 'alexandria', 'virgin', 'rihanna', 'fastest', 'earn', 'fourteen', 'quickest', 'skull', 'monsterverse', 'bernard', 'madoff', 'employed', 'niece', 'shana', 'firm', 'rules', 'compliance', 'boeing', '777', 'holds', 'longest', 'distance', 'flown', 'nonstop', 'aircraft', 'airplane', 'phillippe', '54', 'things', 'stayed', 'away', 'honorary', 'instituted', 'presented', 'early', '1929', 'previous', 'special', 'significant', 'franchise', 'red', 'invasion', 'soviet', 'russian', 'partner', 'cobras', 'matadors', 'investor', 'cba', '32', '64', 'priest', 'inflight', 'emergency', 'donkey', 'william', 'steig', 'dreamworks', 'screen', 'actors', 'cricket', 'followed', 'subcontinent', 'following', 'dall', 'granger', 'jacinda', 'barrett', '1972', 'lewis', 'hamilton', 'f1', 'found', 'serbian', 'kung', 'fu', 'composer', 'composes', 'claims', 'citizenship', 'wagner', 'autobiography', 'pieces', 'abc', 'millar', 'service', 'hated', 'internet', 'interconnected', 'rapist', 'rape', 'means', 'meadows', 'cocreator', 'dad', 'painting', 'undergone', 'gentrification', 'touched', 'huntington', 'disease', 'kills', 'brain', 'causes', 'jordan', 'mix', 'craig', 'middlebrooks', 'sitcom', 'criticized', 'right', 'aaliyah', 'outside', 'excessive', 'fat', 'increases', 'risk', 'daniel', 'trained', 'charity', 'room', 'cruel', 'intentions', 'arrow', 'soundtrack', 'completely', 'maryland', 'night', 'visions', 'pacific', 'carrie', 'fisher', 'exclusively', 'sleeping', 'stevie', 'nicks', 'platinum', 'less', 'honor', 'bowie', 'program', 'doc', 'holliday', 'diagnosed', 'tuberculosis', 'muammar', 'gaddafi', 'libya', 'jamahiriya', 'invention', 'lying', 'ck', 'excludes', 'fitzgerald', 'magnum', 'opus', 'crystal', 'palace', 'science', 'italian', '1982', '1981', 'naturalist', 'advocate', 'throughout', 'snowden', 'filmed', 'hardwick', 'infotainment', '1991', 'driver', 'chernobyl', 'disaster', 'catastrophic', 'accident', 'ibm', 'magnetic', 'stripe', 'card', 'paywhatyouwant', 'let', 'pay', 'desired', 'amount', 'limited', 'terms', 'fouryear', 'christianity', 'beliefs', 'practices', 'composition', 'leighton', 'meester', 'final', 'component', 'spire', 'installed', 'westeros', 'wrath', 'sister', 'buddhism', '500', 'followers', 'longhorns', 'ncaa', 'golf', 'hearing', 'caused', 'complications', 'snowpiercer', 'yorker', 'dwight', 'eisenhower', 'graduated', 'point', 'completed', 'studies', 'ubisoft', 'ubi', 'soft', 'former', 'jacqueline', 'onassis', 'famous', 'freida', 'pinto', 'planet', 'apes', 'radcliffe', 'frankenstein', 'mottola', 'inspectah', 'deck', 'snow', 'wrote', 'warfare', 'both', 'local', 'linked', 'electronically', 'basis', 'faith', 'narendra', 'modi', '14th', 'prime', 'minister', 'serving', 'lyndon', 'landslide', 'reelection', 'election', '1964', 'presidency', 'evan', 'rachel', 'once', 'again', 'alongside', 'henrietta', 'executed', 'direct', 'groundbased', 'offensive', 'force', 'defensive', 'shakira', 'raggedy', 'illustrator', 'mary', 'predates', 'introduction', 'cousin', 'bobby', 'tarantino', 'conan', 'refuses', 'dissolved', 'sinatra', 'manage', 'anyone', 'arjun', 'iifa', 'britain', 'ava', 'duvernay', 'screenwriter', 'monica', 'seles', 'last', 'match', 'event', 'ignorance', 'modern', 'liberalism', 'strongly', 'endorses', 'spending', 'welfare', 'oscars', 'taraji', 'p', 'henson', 'boar', 'performance', 'swan', 'stretch', 'monmouthshire', 'eastern', 'hartford', 'banjo', 'violin', 'dc', 'lyme', 'tick', 'bites', 'bugs', 'bryan', 'adams', 'ivor', 'novello', 'singing', 'isabella', '1358', 'personality', 'bbc', 'overwatch', 'lets', 'gain', 'cosmetic', 'allows', 'gamers', 'prizes', 'unapologetic', 'mobile', 'leslie', 'jimmy', 'pierrot', 'renowned', 'yu', 'hakusho', 'vincent', 'cassel', 'mesrine', 'enemy', 'programmer', 'without', 'profession', 'kill', 'mockingbird', 'gothic', 'fiction', 'portuguese', 'colonial', 'renaissance', 'darth', 'vader', 'pluto', 'nat', 'faxon', 'duleep', 'singh', 'nicknamed', 'perthshire', 'jeb', 'full', 'sorts', 'unique', 'playoffs', 'goes', 'danny', 'devito', 'venture', 'factory', 'startup', 'luck', '3', 'cluster', 'internationally', '1886', 'stagira', 'aqueduct', 'krishna', 'pandit', 'bhanji', 'magna', 'carta', 'monarch', 'burned', 'ramirez', 'terrorized', 'residents', 'francisco', 'hungary', 'cat', 'negotiated', 'peaceful', 'resolution', 'myers', 'small', 'bettany', 'captain', 'malory', 'sterling', 'archer', 'robson', 'wandsworth', 'madrid', '32city', 'live', 'diana', 'ross', 'declared', 'diane', 'ruggiero', 'broadchurch', 'lafur', 'arnalds', 'look', 'dab', 'comedic', 'recent', 'trophies', 'jeffrey', 'dahmer', 'sentenced', 'fifteen', 'sentences', 'murdering', 'wisconsin', '198384', 'lakers', 'losing', 'big', 'willis', 'presenter', 'barbara', 'stanwyck', 'birmingham', 'ativan', 'health', 'essential', 'medicines', 'monarchy', 'celtic', 'sea', 'sarcoidosis', 'nonpainful', 'despicable', 'computeranimated', 'telangana', 'bordered', 'karnataka', 'landlocked', 'vladimir', 'putin', 'studied', 'law', 'petersburg', 'learned', 'stalin', 'raised', 'via', 'underground', 'activities', 'hyderabad', 'town', 'didier', 'drogba', 'midfielder', 'well', 'solange', 'knowles', 'today', 'elephants', 'display', 'zoos', 'tourists', 'kuchar', 'projects', 'boomtown', 'iran', 'unesco', 'heritage', 'sites', 'felicity', 'huffman', 'elizabeth', 'critically', 'grandsons', 'newfoundland', 'labrador', 'astronomer', 'graceland', 'belonged', 'temperate', 'seasonal', 'climate', 'influences', 'cent', 'raps', 'doug', 'ducey', 'arizona', 'mayor', 'beckham', 'contract', 'la', 'galaxy', 'advocated', 'intervention', 'cofounded', 'daylewis', 'daft', 'punk', 'creation', 'creating', 'halfbrother', 'bon', 'acdc', '1974', 'departure', 'assistant', 'marshal', 'johnny', 'mnemonic', 'vi', 'problems', 'kurt', 'russell', '7th', '8th', 'fast', 'furious', 'peggy', 'sue', 'carter', 'mayer', 'collected', '486000', 'winning', 'collect', 'bradley', 'cooper', 'scherzinger', 'haitian', 'pursued', 'degeneres', 'mirror', 'broadcast', 'mel', 'brooks', 'institute', 'birthplace', 'aristotle', 'nas', 'illmatic', 'dileep', 'foreman', '25', 'greatest', '80', 'ring', 'surgery', 'perfectly', 'healthy', 'spent', 'ludovico', 'il', 'moro', 'bthory', 'albus', 'dumbledore', 'headmaster', 'nasa', 'responsible', 'skylab', 'station', 'launched', 'junipero', '42nd', '1966', 'th', 'bought', 'celebrate', 'motion', 'pictures', 'achievements', 'failures', 'linkin', 'dawson', 'creek', 'defeated', 'hubert', 'humphrey', 'carole', 'acrobat', 'tall', 'christ', 'nazareth', 'judi', 'dench', '2000s', 'stern', 'hosts', 'honey', 'remained', 'lauren', 'bacall', '89', '90th', 'podcasts', 'climates', 'arid', 'tropical', '179', 'ghostbusters', 'theatrically', 'devine', 'pitch', 'anaconda', 'allbum', '790', 'malfunkshun', 'founder', 'germanbritish', 'prominent', 'wilde', 'bruins', 'garden', 'alandi', 'sweden', 'neutral', 'active', 'participant', 'notes', 'scandal', 'original', 'score', 'kupier', 'belt', 'object', 'soldier', 'draft', 'brooklyn', 'minecraft', 'textured', 'cubes', 'adderall', 'pharmacological', 'properties', 'trace', 'amines', 'carbohydrates', 'austin', '22', 'extinction', '7', 'foreign', 'springsteen', 'jessica', 'rae', 'jarmusch', 'returned', 'guns', 'n', '27', 'jobs', 'ariana', 'grande', 'lent', 'bailey', 'acclaimed', 'sitcoms', 'rainn', 'wilson', 'went', 'audi', 'luxury', 'automobiles', 'make', '32nd', 'israeliamerican', 'businessman', 'naturi', 'naughton', 'condamine', '12hour', 'clock', 'convention', 'splits', 'hours', 'biographical', 'iris', 'murdoch', 'yardbirds', 'td', 'slovakia', 'joined', 'instagram', 'website', 'revisionist', 'grit', 'catholic', 'teaching', 'guest', 'zone', 'rash', 'uruguay', 'medals', 'ezra', 'edelman', 'lost', 'kuala', 'lumpur', 'cultural', 'malaysia', 'irrelevant', 'titanic', 'wreck', 'disintegrating', 'depth', '12415', 'feet', 'pets', '19th', 'script', 'gaga', 'sonyatv', 'publishing', 'mc', 'brian', 'zach', 'galifianakis', 'due', 'date', 'current', 'vocalist', 'ronnie', 'zant', 'nephew', 'bojack', 'horseman', 'escape', 'sneak', 'previews', 'morena', 'baccarin', 'glau', 'chastain', 'heiress', 'any', 'version', 'search', 'relaunched', '2929', 'gucci', 'brand', 'hits', '1971', 'among', 'bestselling', 'aj', 'cook', 'destination', 'twin', 'peaks', 'benzodiazepine', 'medication', 'drug', 'countess', 'snowdon', 'jacki', 'weaver', 'belgium', 'comprised', 'wallonia', 'regions', 'wilt', 'chamberlain', 'scheduled', 'nations', 'tel', 'aviv', 'zero', 'school', 'tatiana', 'maslany', 'ancient', 'manuscript', 'landnmabk', 'details', 'settling', 'detailed', 'empress', 'matilda', 'moved', 'foxtel', 'kurtzman', 'invoked', 'philosophical', 'debates', 'differences', 'beings', 'similarities', 'wrestles', 'study', 'scriptures', 'hobbit', 'v', 'rockstar', 'unable', 'ford', 'motor', 'jointventure', 'sollers', 'declined', '800th', 'anniversary', 'ball', 'transitioning', 'always', 'cry', 'freedom', 'shot', 'kenya', '11thlargest', 'wembley', 'juana', 'virgen', 'venezuelan', 'six', 'ledger', 'barack', 'obama', 'buckingham', '19thcentury', 'interior', 'designs', 'haifa', 'academic', 'institution', 'technion', 'restaurant', 'box', 'office', 'until', 'strange', '1963', 'reddit', '8254', 'pageviews', 'witnessed', 'users', 'viewing', 'pages', 'hockey', 'sox', 'field', 'victims', 'fatalities', 'henman', 'giacomo', 'casanova', 'adventurer', 'kirk', 'lonely', 'brave', 'low', 'level', 'press', 'macaulay', 'culkin', 'highlands', 'plateau', 'gonzo', 'lowest', 'approval', 'ratings', 'crisis', 'ronald', 'reagan', 'presidents', 'him', 'weitz', 'luther', 'congressional', 'medal', 'posthumously', 'confessions', 'handled', 'jermaine', 'dupri', 'gendry', 'apprentice', 'blacksmith', 'willie', 'advisory', 'board', 'biblical', 'predominate', '1950', 'dolph', 'lundgren', 'punisher', 'rob', 'brydon', 'sylvester', 'stallone', 'rocky', 'oldest', 'slowest', 'warangal', 'orbits', 'filmmaker', 'whale', 'oceanic', 'dolphin', 'porpoise', 'crowe', 'accepts', 'roles', 'divergent', 'shawn', 'michaels', 'wind', 'highestearning', 'quarter', 'helen', 'graphics', 'wick', 'chapter', 'aired', 'cbs', 'interstellar', 'prog', 'metal', 'philadelphia', 'sport', 'recognizes', 'excellence', 'marion', 'cotillard', 'arness', 'multimillionaire', 'coen', 'individually', 'scanline', 'vfx', 'battleship', 'reviewer', 'wanted', 'statesman', 'nikolaj', 'costerwaldau', 'nightwatch', '1994', 'costs', 'facebook', 'online', 'brown', 'wow', 'few', 'harry', 'potter', 'lodging', 'done', 'hostel', 'motel', 'spinoff', 'barbershop', '642', 'depicted', 'stories', 'zlatan', 'ibrahimovi', 'milan', 'artemis', 'huntress', 'lydia', 'hearst', 'fortune', 'cromwell', 'asylum', 'dickens', 'gimli', 'middleearth', 'silverstone', 'counterpart', 'kris', 'kardashian', 'develop', 'switzerland', 'bend', 'comprises', 'chronicles', 'struggles', 'vii', 'syra', 'positioning', 'cameron', 'jibril', 'thomaz', 'sade', 'art', 'joffrey', 'baratheon', 'oz', 'bends', 'wyoming', 'densely', 'bain', 'appearances', 'tranmere', 'rovers', 'municipal', 'council', 'lukashenko', 'anatomy', 'outlander', 'gabaldon', 'sokolow', 'gnomes', 'trolls', 'chamber', 'uninvolved', 'tip', 'peninsular', 'promised', 'desist', 'terrorism', 'if', 'manifesto', 'boromir', 'volume', 'appearance', 'sovereign', 'jedi', 'latenight', 'popplewell', 'raymond', 'waring', 'bella', 'tennant', 'documentary', 'documentaries', 'bohemian', 'rhapsody', 'tardigrades', 'places', 'duvall', 'arts', '2005', 'offers', 'degrees', 'unqualified', 'offer', 'hardy', 'promising', 'newcomer', 'purple', 'haze', 'jimi', 'hendrix', 'experience', 'she', 'captured', 'vampires', 'isis', 'temple', 'nile', 'delta', 'behbeit', 'el', 'hagar', 'amerindians', 'europeans', 'africans', 'asians', 'striker', 'quarterback', 'orson', 'welles', 'magician', 'independent', 'eddard', 'pin', 'conjuring', '318', 'surpassed', 'budget', 'originated', 'gary', 'five', 'store', 'opened', 'locations', 'contributed', 'establishment', 'companion', 'order', 'arquette', 'build', 'robust', 'faulttolerant', 'communication', 'manganiello', 'ayer', 'gong', 'yoo', 'tourist', 'sophie', 'turner', 'photographed', 'focuses', 'graduate', 'training', 'focused', 'reviews', 'jaden', 'inland', 'czech', 'robot', 'feels', 'so', '16', '1955', 'natives', 'italians', 'dreyfuss', 'bruno', 'mars', 'fall', 'bale', 'weinstein', 'get', 'joy', 'entertainer', 'velvet', 'helena', 'bonham', 'southeastern', 'southwestern', 'nina', 'simone', 'clint', 'vengeance', 'bird', 'overall', 'pick', '2002', 'wnba', 'picked', 'applegate', 'gerald', 'appointed', '25th', 'amendment', 'isles', 'chain', 'bond', 'himalayas', 'leopold', '1865', '1909', 'neurons', 'duhamel', 'zeus', 'greek', 'religion', 'futurama', 'format', 'quarterfinals', 'chester', 'bennington', 'fujitsu', 'ipad', 'budapest', 'kathleen', 'latifah', 'taxi', 'stanley', 'kubrick', 'jawbreaker', 'mcgowan', 'italianborn', 'asceticism', 'pursue', 'redemption', 'underworld', 'consists', 'somali', 'languages', 'somalia', 'self', '1960', 'recorded', 'blind', 'wwf', 'intercontinental', 'settlement', 'londinium', '43', 'tokyo', 'liveable', 'monocle', 'magic', 'delhi', 'destiny', '1841', 'sibling', 'alone', 'koepp', 'guymanuel', 'homemchristo', 'animators', 'guyana', 'soul', 'intent', 'roleplaying', 'table', 'rpg', 'tabletop', 'appian', 'kj', 'apa', 'jenkins', 'literally', 'translates', 'equator', 'lgbt', 'acronym', 'containing', 'word', 'lesbian', 'synonym', 'rogue', 'fargo', 'turkey', 'transcontinental', 'riichiro', 'inagaki', 'bible', 'narratives', 'kfc', 'transferred', 'pepsico', 'total', 'videos', 'expand', 'prometheus', 'paranormal', 'pertains', 'psychic', 'abilities', 'surrendered', 'donated', 'sixteen', 'circle', 'supergroup', 'ratajkowski', 'spoils', 'dying', 'giancarlo', 'stanton', 'mlb', 'bedazzled', 'matthew', 'modine', 'louden', 'swain', 'vision', 'quest', 'boyega', 'arcade', 'critical', 'acclaim', 'legendary', 'legislation', 'boycott', 'crown', 'colony', 'overseas', 'olympic', 'm', 'ultron', 'books', 'scarlett', 'johansson', 'ghost', 'manny', 'lo', 'horse', 'whisperer', 'supported', 'hbo', 'netflix', 'keaton', 'vulture', 'unemployment', 'rate', 'eu', 'filmfare', 'jack', 'gleeson', 'giants', 'pratt', 'starlord', 'guardians', 'groot', 'sabrina', 'anything', 'shraddha', 'aashiqui', 'dystopian', 'cardiac', 'arrest', 'blake', 'edwards', 'romance', 'gwen', 'stefani', 'brit', 'portugal', 'see', '1910', 'hiddleston', 'quills', '1897', 'freezes', 'ivanka', 'laadla', 'anil', 'base', 'aeronautics', '1976', 'taking', 'refuge', 'buddha', 'price', 'reid', 'expanded', 'branch', 'ridgway', 'denzel', 'paran', 'amaravati', 'andhra', 'pradesh', 'heath', 'effective', 'safe', 'needed', 'amaranthaceae', 'daniela', 'hantuchov', 'beat', 'fights', 'armenian', 'plutonium', 'reacts', 'carbon', 'hydrogen', 'gorillaz', 'humanz', 'dwyane', 'wade', 'twelfth', 'genetics', 'arab', 'picasso', 'sculptor', 'painter', 'turn', 'heroin', 'overdoses', 'treated', 'naloxone', 'otherwise', 'narcan', 'ruffalo', 'uninterested', 'explored', 'stefi', 'avenger', 'hugo', 'weaving', 'cape', 'fear', 'dog', 'nominee', 'timon', 'pumbaa', 'gang', 'divides', 'am', 'pm', 'narrated', 'marcus', 'bentley', 'inhumans', 'race', 'mount', 'olympus', 'gods', 'brady', 'wins', 'nfl', '208', 'collective', 'term', '1609', '17th', 'pen', 'tezaab', 'voiced', 'korra', 'megan', 'vito', 'corleone', 'sepsis', 'rates', 'increasing', 'physicians', 'residency', 'deaths', 'hiatus', 'dunkirk', 'cinematographer', 'hoyte', 'hoytema', 'spokesmodel', 'popstar', 'stop', 'stopping', 'joan', 'cusack', 'alphabet', 'stock', 'none', 'comes', 'arc', 'symbol', 'napoleon', 'lange', 'soderbergh', 'erin', 'brockovich', 'xxx', 'return', 'xander', 'cage', 'highway', 'frenchamerican', 'americanfrench', 'division', 'sony', 'memento', 'motifs', 'memory', 'perception', 'grief', 'possessed', 'recurring', 'ideas', 'sight', 'sadness', 'devoted', 'much', 'later', 'unicef', '50', 'mile', 'malcolm', 'backing', 'rhythm', 'sean', 'connery', 'dragonheart', 'saif', 'biggest', 'success', 'hum', 'saathsaath', 'hain', 'victory', 'cancer', 'prevented', 'eating', 'plenty', 'vegetables', 'titled', 'because', 'defeats', '1943', 'believe', 'cemented', 'cher', 'position', 'culture', 'icon', 'massive', 'survives', 'antony', 'shakespearean', 'miller', 'crossing', '15th', 'tropic', 'thunder', 'hour', 'simon', 'baloo', 'rudyard', 'kipling', 'cranston', 'dr', 'whatley', 'idris', 'elba', '6th', 'speech', 'gate', 'tanzania', 'englishspeaking', 'frankenheimer', 'creators', 'cling', 'surfaces', 'hottest', 'portraying', 'bilbo', 'baggins', 'portrayal', 'vhs', 'victor', 'centralia', 'pennsylvania', '1000', 'convicted', 'murders', 'trail', 'britney', 'spears', 'kapil', 'sharma', 'worker', '1962', 'web', 'machete', 'atlantic', 'gallipoli', 'divine', 'kings', 'brought', 'loves', 'whisky', 'hates', 'gaston', 'beast', 'glamorous', 'meets', 'baahubali', 'conclusion', 'cody', 'rhodes', 'principal', 'photography', 'postproduction', 'spree', 'mcenroe', 'volleying', 'skills', 'snyder', 'another', 'austroprussian', 'cuban', 'teresa', 'mckenna', 'conspiracy', 'theories', 'seat', 'governmental', 'fonda', 'frankie', 'countries', 'outfit', 'retailer', 'arcadia', 'cult', 'patty', 'kidnapped', 'graphic', 'marlins', 'museums', 'physicist', 'mao', 'zedong', '1893', '17', 'divorced', 'criticism', 'censorship', 'issues', 'praise', 'chanhassen', 'cannibal', 'workers', 'dap', 'nobody', 'becoming', 'baptized', 'baptist', 'sauron', 'sts96', 'carried', 'spacehab', 'module', 'fiennes', 'jacobite', 'risings', 'lucas', 'tpain', 'nappy', 'boy', 'become', 'chainsmokers', 'iheartradio', 'sixty', 'governors', 'picture', 'sciences', 'actually', 'winston', 'churchill', 'lithgow', 'elements', 'theatre', 'warriors', 'staged', 'mma', 'graciosa', 'canary', 'km', 'lanzarote', 'paradise', 'cheyenne', 'preacher', 'preached', 'intimacy', 'certifications', 'appeal', 'hospital', '1751', 'akira', 'toriyama', 'bonucci', 'honors', 'patriation', 'sovereignty', 'combs', 'podcast', 'lionel', 'messi', 'argentine', 'fighter', 'asthma', 'noise', 'induced', 'doctors', 'reject', 'notion', 'induces', 'rebecca', 'alan', 'rickman', 'antagonist', 'formula', 'events', 'races', 'rich', 'rapsung', 'collaboration', 'lions', 'old', 'near', 'lakes', 'biden', 'chairman', 'judiciary', 'committee', 'linguist', 'shatner', 'hooker', 'vicky', 'gennady', 'golovkin', 'kazakhstan', 'occupies', 'bank', 'acute', 'intoxication', 'rl', 'stine', 'haunting', 'whitey', 'bulger', 'plus', 'longer', 'khammam', 'upswing', 'marry', 'rough', 'mithun', 'chakraborty', 'tahader', 'katha', 'indonesia', 'wilderness', 'supports', 'variety', 'computers', 'region', 'bette', 'persona', 'imitated', 'chokher', 'stardust', 'vaughn', 'flim', 'african', 'tuscany', 'ramona', 'marquez', 'watts', 'bangalore', 'anglomysore', 'homework', 'internetbased', 'kiowa', 'avoided', 'producing', 'louise', 'simonson', 'editor', 'chef', 'liberia', '26', '1847', 'almost', 'classified', 'rashford', '31', 'syd', 'pink', 'miranda', 'kerr', 'department', 'lot', 'skylines', 'ep', 'genus', 'panthera', 'animals', 'except', 'classical', 'symphonies', 'extends', 'equatorial', 'border', 'founders', 'clubber', 'lang', 'shel', 'silverstein', 'bernie', 'sanders', 'chair', 'senate', 'affairs', 'colombian', 'jodie', 'foster', 'pune', 'district', 'harvey', 'oswald', 'police', 'siblings', 'relatives', 'dancer', 'neither', 'nor', 'loosely', '1985', 'airport', 'schiphol', 'serves', 'vueling', 'juvenile', 'robbed', 'tori', 'borrelia', 'afzelli', 'spirochete', 'phylum', 'afzelii', 'square', 'enix', 'eighth', 'inclusion', 'minorities', 'drivetime', 'programme', 'masterminds', 'chocolate', 'flash', 'network', 'we', 'drugabusing', 'thrill', 'seeker', 'cop', 'anchorage', 'alaska', 'broadcasted', 'naproxen', 'relieves', 'stiffness', '22nd', 'happiness', 'efforts', 'equality', 'offspring', 'smash', 'amaze', 'matrix', 'keanu', 'gia', 'georgian', 'saran', 'case', 'fulllength', 'cristiano', 'ronaldo', 'holy', 'paar', 'unforgettable', 'erotic', 'vedanta', 'umbrella', 'related', 'subtraditions', 'nomdeplume', 'nilotic', 'sudan', 'germanamerican', 'value', 'rarity', 'commonness', 'supernatural', 'seasons', 'pompeii', 'receives', 'visitors', 'around', 'walk', 'autobiographies', 'words', 'headed', 'stranger', 'residence', 'mission', 'impossible', 'discourse', '1989', 'albany', 'tech', 'valley', 'melbourne', 'kanto', 'selfobsessed', 'rejection', 'inadequacy', 'loneliness', 'relatable', 'readers', 'wire', 'regarded', 'thought', 'mercury', 'animation', 'bisexual', 'syndicated', 'bachelor', 'burrowers', 'borrowers', 'peagreen', 'shelley', 'olive', 'oyl', 'islam', 'theater', 'genocide', '55', 'jews', 'millions', 'oversee', 'ethan', 'hawke', '18th', 'falling', 'actresses', 'wendigo', 'algonquian', 'sarandon', 'andre', 'agassi', 'lonesome', 'dove', 'pertwee', 'max', 'setting', 'dangerously', '317000', '000', 'overdose', 'challenge', 'abraham', 'lincoln', 'helped', 'statewide', 'majority', 'illinois', 'help', 'engine', '1934', 'thornberrys', 'drank', 'alcohol', 'drinker', 'heir', 'damme', 'lifetime', 'achievement', 'denied', 'uses', 'instruments', 'mysterio', 'triple', 'eye', 'heartbreak', 'transformed', 'centered', 'mostly', 'storyline', 'postcampaign', 'content', 'postgame', 'pinata', 'russel', 'bran', 'mass', 'mozambique', '2010s', 'michelle', 'admission', 'rivalries', 'adi', 'shankar', 'indianborn', 'additional', 'criminal', 'grades', 'tracks', 'boxer', 'fencer', 'timea', 'bacsinszky', 'santa', 'counties', 'sm', 'trent', 'reznor', 'unassociated', 'hidden', 'francis', 'coppola', 'taj', 'mahal', 'centerpiece', 'tomb', 'mackenzie', 'foy', 'aiib', 'sharon', 'tate', 'fish', 'thursday', 'taiwan', '22ndlargest', 'large', 'moskva', 'sportsman', 'imprint', 'nostalgia', 'ultra', 'houses', 'legislature', 'cannon', 'fasttalking', 'jenni', 'rivera', 'geass', 'hairspray', 'peyton', 'manning', 'trait', 'dominated', 'finger', 'shown', 'toronto', 'manitoba', 'mammals', 'class', 'mammalia', 'adrian', 'molina', 'codirected', 'coco', 'ghoul', 'televisions', 'broke', 'networking', '435', 'minefields', 'gangnam', 'blues', 'supporter', 'streaming', 'grease', 'fewer', 'progressed', 'shared', 'raveena', 'tandon', 'assassin', 'creed', 'figure', 'vietnam', 'metallica', 'indigenous', 'nonnative', 'nationally', 'penny', 'dreadful', 'dorian', 'gray', 'psychological', 'laine', 'stillman', 'viggo', 'mortensen', 'azerbaijan', 'literacy', 'distinctive', 'color', 'possesses', 'disability', 'atwood', 'tamarack', 'review', 'talent', 'jump', 'branson', 'stores', 'schumacher', 'streak', 'tina', 'fey', '324', 'discipline', 'radioactive', 'bardugo', 'spicer', 'communications', 'rnc', 'fatal', 'legitimate', 'chenopodium', 'michigan', '1918', 'stephen', 'hawking', 'fellow', 'believed', 'rumored', 'origins', 'topped', 'weeks', 'peaked', 'check', 'head', 'kairi', 'stiller', 'praised', 'important', 'regarding', 'conspiracies', 'java', 'lombok', 'joel', 'vikrant', 'massey', 'qubool', 'fastpaced', 'leyton', 'orient', 'dismantle', 'bomb', 'statue', 'liberty', 'neoclassical', 'sculpture', 'example', 'fifthlargest', 'automaker', 'miniseries', '10episode', 'forms', 'retailing', 'bela', 'lugosi', 'guitar', 'dogstar', '1983', 'expensive', 'filming', 'pocket', 'quincy', 'scores', 'dracula', 'lebanon', 'experienced', 'peace', 'dolly', 'parton', 'guerin', 'sportivo', 'vie', 'en', 'chase', 'snooki', 'honored', 'mercedes', 'dynasty', 'mughals', 'bluray', 'vallejo', 'bay', 'revlon', 'aixmarseilleprovence', 'encompasses', 'aixenprovence', 'kentar', 'hagiwara', 'buried', 'amoxycillin', 'eliza', 'dushka', 'laura', 'dern', 'rambling', 'lovato', 'barney', '1946', 'commander', 'serie', 'rms', 'sanjay', 'gupta', 'advisor', 'saul', 'hudson', 'baba', 'aiso', 'varr', 'dhoondo', 'curtis', 'limit', 'monogamous', 'polygamous', 'suppressed', 'minor', 'here', 'hasselhoff', 'marked', 'stevens', 'leo', 'naga', 'chaitanya', 'dhada', 'pontifical', 'scientist', 'crow', 'laws', 'enacted', 'reconstruction', 'post', 'light', 'tropico', 'courtroom', 'ai', 'artificial', 'intelligence', 'neglect', 'kaakha', 'tamillanguage', 'tenth', 'seventh', 'girls', 'debate', 'frazier', 'arch', 'opensource', '1927', 'amerigo', 'vespucci', 'brooke', 'mueller', 'lexi', 'dreyfus', 'ginsberg', 'poem', 'jessore', 'eponymous', 'controversial', 'survived', 'plots', 'across', 'eras', 'lauded', 'trevor', 'noah', 'jeanine', 'pirro', 'cases', 'elderly', 'charge', 'inch', 'nails', 'goalscorer', 'goals', 'garth', 'aliens', 'sigourney', 'canonised', 'penned', 'mariah', 'carey', 'antarctica', 'drag', 'muppet', 'kate', 'nash', 'jang', 'nara', 'plants', 'pakistan', 'nsync', 'vocal', 'consisting', 'singers', 'pierre', 'boulle', 'chinatown', 'enclave', 'course', 'satan', 'tucci', 'shifty', 'instant', 'camera', 'octopuses', 'camouflage', 'deimatic', 'displays', 'defense', 'themselves', 'protect', 'sudeikis', 'lawyer', 'atp', 'tournaments', 'enough', 'prendergast', 'gayle', 'leftovers', 'performanceenhancing', 'drugs', 'varun', 'dhawan', 'slave', 'uranus', 'estella', 'swimmer', 'settled', 'aspen', 'cheri', 'tine', 'messiah', 'winter', 'maximum', 'possible', 'line', 'duty', 'jed', 'mercurio', 'widow', 'mohini', 'mo', 'banjaree', 'lemonade', 'mouth', 'height', '800', 'strength', 'avenue', 'stockton', 'gujarat', 'scored', 'points', 'ambassador', 'growing', 'rajon', 'rondo', '196869', 'recipient', 'dangal', 'commenced', 'bang', 'earliest', 'mid1980s', 'mcqueen', 'investments', 'jamie', 'foxx', '1940s', 'beatrice', 'arthur', '1979', 'mestizos', 'airs', 'adrienne', 'bailon', 'coach', 'keys', 'kanye', 'ferguson', 'bradleywest', 'samwell', 'tarly', 'nineties', 'marlowe', 'playwright', 'starbucks', 'dorsey', 'authorized', 'overthrow', 'authorize', 'hawaii', 'five0', '1917', 'leland', 'beckinsale', 'stella', 'gibbons', 'peele', 'seventies', 'painters', 'slipknot', 'nikola', 'education', 'physics', 'coogan', 'judge', 'racer', 'complicatedly', 'beetlejuice', 'florida', 'maul', 'stops', 'northernmost', 'peninsula', 'ceases', 'cronus', 'rhea', 'commandments', 'epic', 'pont', 'serial', 'recount', 'blink182', 'potus', 'francophonie', 'cornell', 'connie', 'britton', 'missing', 'dumb', 'physically', 'discussion', 'missy', 'timbaland', 'indycar', 'racecar', 'diverse', 'malice', 'wonderland', '1009', 'size', 'nearly', 'factor', 'khatron', 'ke', 'khiladi', 'amaryllidaceae', 'ren', 'stimpy', 'dre', 'geographer', 'elle', 'fanning', 'breakout', 'dainard', 'han', 'klingon', 'neurosyphilis', 'prison', 'inducted', 'dressed', 'dinosaur', 'claimed', 'underestimated', 'spectators', 'purpose', 'qualley', 'bowl', 'inside', 'clive', 'owen', '8673713', 'denizens', 'mid2015', 'antiapartheid', 'revolutionary', 'marsican', 'bears', 'numbers', 'wain', 'entirely', 'kevin', 'durant', 'split', 'kajal', 'aggarwal', 'tamil', 'founding', 'fathers', 'era', 'catching', 'suzanne', 'treaty', 'cooperate', 'matters', 'eurozone', 'montenegro', 'location', 'pi', 'mathematical', 'constant', 'geometry', 'michelin', 'guide', 'strategy', 'defeat', 'axis', 'sabbath', 'sienna', 'wednesday', 'patriot', 'enforcement', 'officers', 'cameo', 'lockheed', 'f22', 'raptor', 'capable', 'types', 'lockhead', 'tactical', 'castle', 'keeping', 'underwent', 'rewrites', 'uncle', 'abu', 'talib', 'tied', 'spot', 'ranking', 'adrien', 'broner', 'anthony', 'cable', 'satellite', '21st', 'tru', 'candidate', 'martian', 'mistakenly', 'presumed', 'behind', 'mountainous', 'forest', 'klute', 'prussia', 'cancelmi', '140', 'heard', 'allies', 'creole', 'frenchbased', 'bourbon', '1789', 'warhol', 'creations', 'collectible', 'artwork', 'homme', 'numerous', 'cinemas', 'rhona', 'mitra', 'morten', 'tyldum', 'stapleton', 'homeland', 'mathison', 'owl', 'personal', 'physician', 'conrad', 'murray', 'groening', 'plains', 'rugged', 'hills', 'heaviest', 'lung', 'symptoms', 'chest', 'pains', 'pain', 'reported', 'news', 'websites', 'eugene', 'mccarthy', 'primaries', 'cambrige', 'paramore', 'admired', 'myra', 'breckinridge', 'anderlecht', 'joneses', 'recovery', 'very', 'poorly', 'enjoyed', 'rod', 'serling', 'clashed', 'racism', 'discrimination', '28', 'babe', 'styles', 'avatar', 'cersei', 'free', 'replaced', 'succeeded', 'gyllenhaal', 'zodiac', 'pines', 'lifethreatening', 'illnesses', 'childhood', 'nolte', 'elsa', 'pataky', 'germanic', 'uzbekistan', 'un', 'forprofit', 'corporation', 'adventures', 'christine', 'steam', 'gaseous', 'carl', 'fishburne', 'dawn', 'amy', 'jackman', 'zappa', 'selftaught', 'neve', 'attention', 'commodus', 'gladiator', 'applications', 'x', 'fine', '1973', 'cowboy', 'prisoner', 'sriti', 'jha', 'hindilanguage', 'casey', 'tenyear', 'sign', 'boxing', 'mantee', 'handful', 'comedymystery', 'jaime', 'rogen', 'spiderwick', 'quebec', 'specializes', 'lithiumion', 'battery', 'energy', 'storage', 'sigmund', 'freud', 'clinical', 'practice', 'vienna', 'sikhism', 'brigitte', 'macron', '1953', 'monday', 'chili', 'peppers', 'funk', 'accession', 'negotiations', 'haiti', 'dominican', 'jet', 'li', 'middleton', 'southeast', 'resurgence', '300', 'sharp', '40', 'units', 'par', 'strictly', 'organized', 'compositions', 'knocked', 'string', 'highly', 'profitable', 'tours', 'cary', 'attracted', 'gestapo', 'onward', 'hermetic', 'centuries', 'inactive', 'smurfs', 'unproduced', 'awakens', 'gillian', 'canonized', 'bermuda', 'magnate', '74th', 'hart', 'mecca', 'medina', '622', 'condor', 'sydney', 'pollack', 'fosters', 'freeform', 'showtime', 'fans', 'research', 'commissioned', 'tanya', 'blum', 'semitic', '330', 'lifestyle', 'degree', 'aggregate', 'reliably', 'warm', 'sunny', 'weather', 'consistently', 'nobility', 'publicly', 'describe', '6', '1957', 'marine', 'animal', '1988', 'corps', 'scout', 'sniper', 'entered', 'directly', 'mutants', 'serena', 'dutch', 'shaky', 'viewers', 'feel', 'distracted', 'vinick', 'extensive', 'transport', 'transgender', 'gianluigi', 'buffon', 'goalkeeper', 'stopped', 'gemma', 'arterton', 'alien', 'covenant', 'parsons', 'paid', 'milla', 'jovovich', 'lagoon', 'wet', 'facility', 'swedes', 'alecx5494', 'angel', 'performs', 'superpowers', 'alkaline', 'trio', 'secretary', 'lieutenant', 'warship', 'wwi', 'haden', 'church', 'kansas', 'kiefer', 'sutherland', 'giampaolo', 'pazzini', 'hellas', 'verona', 'cannibalism', 'sections', 'contributor', 'automotive', 'screenwriters', 'johnstad', 'masters', 'matches', 'xbox', 'ethel', 'melina', 'matsoukas', 'guttenberg', 'k1', 'kickboxer', 'artillery', '1776', 'assembled', 'remembered', 'elegance', 'forgotten', 'explicit', 'behavior', 'sexually', 'andrews', 'laver', 'shawmut', 'trudeau', 'engineering', 'descent', 'middleaged', 'legendarium', 'co', 'resistant', 'acids', 'aqua', 'regia', 'julie', 'pranab', 'mukherjee', '11th', '1935', 'community', 'whitney', 'incredible', 'hulk', 'mason', 'freaky', 'friday', 'remakes', 'follow', 'nolan', 'reactions', 'seville', 'lahore', 'fort', 'citadels', 'suits', 'horn', 'measles', 'start', 'face', 'then', 'spread', 'rest', 'student', 'twitter', 'queries', 'freeze', 'adversary', 'friend', 'parents', 'troy', 'mia', 'sara', 'wide', '1700', 'theaters', 'showalter', 'produce', 'tumors', 'indicate', 'benign', 'periods', 'andorra', 'implemented', 'assassinated', 'jfk', 'sociological', 'posthumous', 'credit', 'acquired', 'distribution', 'eragon', 'garrett', 'hedlund', 'pine', 'amoxicillin', 'injected', 'either', 'injection', 'mgm', 'pawn', 'sacrifice', 'photographs', 'care', 'citizens', 'weeknd', 'drafted', 'round', 'grandmother', 'teacher', 'rises', 'nottingham', 'lynch', 'terrestrial', 'mick', 'jagger', 'lay', 'gustavus', 'adolphus', 'egypt', 'pharaoh', 'narmer', 'ultimately', '503000', 'edgar', 'allan', 'poe', '1809', 'dogs', 'diplomacy', 'higher', 'courts', 'secondary', 'michelangelo', 'painted', 'sculpted', 'goddess', 'egyptian', 'katy', 'crazies', 'bam', 'margera', 'mtv', 'visited', 'alexa', 'break', 'revolves', 'sisters', 'voted', 'favorite', 'alltime', 'gift', 'regeneration', 'boxes', 'borussia', 'dortmund', 'colors', 'yellow', 'belong', 'support', 'melisandre', 'bloody', 'valentine', '3d', 'mukesh', 'ambani', 'controlled', 'ketogenic', 'diet', 'protein', 'carbohydrate', 'combined', 'untouchables', 'mahmoud', 'farshchian', 'cw', 'angle', 'morello', 'interested', 'xl', 'recordings', 'couples', 'retreat', 'mcgill', 'batsmen', 'even', 'present', 'ministates', 'monaco', 'holland', 'ambition', 'taipei', 'briefly', 'disbanded', 'thuppakki', 'womack', 'dick', 'durbin', 'hunger', 'fragrance', 'outspoken', 'episode', 'clones', 'coincide', '50th', 'midterm', 'vacancy', 'spiders', 'arthropods', 'eightlegged', 'creatures', 'nuclei', 'protons', 'talladega', 'nights', 'ballad', 'paramount', 'uncredited', 'shantel', 'vansanten', 'vogue', 'excluded', 'upon', 'previously', 'material', 'allowing', 'oneill', 'seal', 'fired', 'shots', 'osama', 'bin', 'laden', 'bakr', 'albaghdadi', 'cacti', 'village', 'coast', 'angela', 'lansbury', 'corinth', 'theologies', 'towards', 'spiritual', 'transformation', 'simple', 'sufficient', 'deemed', 'holocaust', 'untermenschen', 'subhumans', 'socially', 'undesirable', 'deem', 'corpse', 'dragon', 'bh', 'tilt', 'dvd', 'vikings', 'charged', 'felonies', 'clean', 'iverson', 'gilmore', 'buildings', 'secular', '1635', 'alia', 'bhatt', '1993', 'conducted', 'visit', 'dominions', 'eyre', 'boris', 'karloff', 'ultimate', '56th', 'quadrennial', 'freddie', 'institutions', 'drax', 'destroyer', 'afghanistan', 'humans', 'paleolithic', 'multiinstrumentalist', 'instrument', 'staff', 'vacation', 'socrates', '399', 'subtitled', 'coven', 'remember', 'chaired', 'commerce', 'grunge', 'while', 'landmark', 'bills', 'obamacare', '3rd', 'currently', 'aegean', 'zinedine', 'zidane', 'votes', 'designed', 'pavilion', 'cp', 'affects', 'campaigns', 'peta', 'vanderbilt', '58th', 'inception', 'birkdale', 'classic', 'nike', 'trademarks', 'swoosh', 'logo', 'insane', 'mentally', 'ill', 'extended', 'concert', 'persuasion', 'watched', 'anthology', 'models', 'pope', 'poppy', 'youtube', '1793', 'childless', 'encouraged', 'panafricanism', 'sole', 'superpower', 'cold', 'dissolution', 'supergirl', 'fails', 'predate', 'buckley', 'ralph', 'crawford', '1904', 'lace', 'crossed', 'rhine', 'enrolled', 'juilliard', 'headquartered', 'burbank', 'huckabees', 'tamera', 'mowry', 'ak47', 'kalashnikov', 'guinness', 'heavily', 'dependent', 'electronics', 'electric', 'sensors', 'adria', 'vanessa', 'cappella', 'visits', 'popes', 'afc', 'polytechnique', 'montral', 'zendaya', 'shawshank', 'sachin', 'tendulkar', 'civilian', 'retained', 'close', 'connections', 'colonies', '115', 'amazon', 'valuable', 'walmart', 'overtook', 'sunshine', 'kathy', 'bates', 'luxembourg', 'northamptonshire', 'churches', 'itself', '1970s', 'oakland', 'labelled', 'timothy', 'olyphant', 'covering', 'syria', 'venom', 'conceived', 'supervillain', 'fleshy', 'petals', 'edible', 'portion', 'inedible', 'justified', 'dubai', 'emirates', 'sparta', 'politically', 'scabies', 'mites', 'federation', 'advertised', 'le', 'choices', 'slaves', 'g20', 'summits', 'protests', 'dwarfs', '1937', 'lancasters', 'heartland', 'selfridge', 'selfridges', 'section', 'sixteenth', 'derived', 'mediterranean', 'caucasus', 'caps', 'beaten', 'portal', '360', 'sought', 'raise', 'awareness', 'dangers', 'facing', 'natural', 'environment', 'such', 'rolihlahla', 'pregnancy', 'frequent', 'urination', 'symptom', 'homer', 'thailand', 'coup', 'kristofer', 'hivju', 'speaks', 'knows', 'storm', 'fearsome', 'reputation', 'endured', 'histories', 'influence', 'exhibited', 'nicktoons', 'net', 'worth', '150', 'benedict', 'cumberbatch', 'keller', 'sullivan', '700', 'shut', 'permanently', 'lightning', 'rods', 'conductive', 'materials', 'chief', 'aaron', 'taylorjohnson', 'savages', 'headbutted', 'marco', 'materazzi', 'basic', 'amc', 'maron', 'added', 'palin', 'ninth', 'neal', 'schon', '27th', '29th', 'forthright', 'sexual', 'spotlight', '90', 'tens', 'ayn', 'rand', 'opposed', 'collectivism', 'ideologies', 'marble', 'manhattan', 'mainland', 'endless', 'richie', 'deluxe', 'edition', 'amaranth', 'succulent', 'linda', 'mango', 'fruit', 'g1', 'climax', 'prowrestling', '2022', 'results', 'norwegians', 'emigrated', 'maisie', 'ramzan', 'kadyrov', 'adlan', 'varayev', 'diego', 'luis', 'vitores', 'views', 'permanent', 'security', 'temporary', 'microsoft', 'valentines', 'dharma', 'gellar', 'decades', 'weho', 'padalecki', 'wax', 'architect', 'beloved', 'clown', 'greenland', 'shark', 'deepwater', 'dogfish', 'debuted', 'pembroke', 'netherlands', 'hague', 'aerosmith', 'backup', 'darren', 'aronofsky', '13episode', 'upheaval', 'looks', 'kath', 'fields', 'noted', 'basinger', 'aneurin', 'barnard', 'artistic', 'mainstay', 'supposed', 'serve', 'abandon', 'religious', 'sectarianism', 'secured', 'indoeuropean', 'ethnolinguistic', 'continuously', '1851', 'decline', 'pulp', 'unleashed', 'mnet', 'minneapolis', 'lies', 'mississippi', 'bulgaria', 'papua', 'guinea', 'fastestgrowing', 'screenplays', 'samberg', 'linguistic', 'patron', 'immediate', 'successors', 'martigues', 'ketogetnic', 'treat', 'difficulttocontrol', 'epilepsy', 'tender', 'breasts', 'neighbors', 'mintzplasse', 'balika', 'vadhu', 'tupac', 'shakur', 'sixyear', 'decker', 'engaged', 'northwest', 'seacrest', 'diseases', 'along', 'silk', 'proliferated', 'newly', 'industrialized', 'tiein', 'tieins', 'rukh', 'dil', 'pagal', 'punjab', 'loki', 'helblindi', 'byleistr', 'cabinet', 'situation', 'winger', 'phylogenetic', 'tree', 'branching', 'diagram', 'schematic', 'uninvited', 'synagogue', 'interviewed', 'couric', 'deiva', 'thirumagal', 'pepper', 'bo', 'svenson', 'pete', 'hutchinson', 'feud', 'tickers', 'goog', 'googl', 'bridget', 'moynahan', 'empires', 'competitor', 'teenager', 'ronda', 'rousey', 'judo', 'alfred', 'hitchcock', 'kato', 'kaelin', 'kentucky', 'corey', 'finance', 'economics', 'conquest', 'nosedive', 'conglomerate', 'upload', 'ozarks', 'partially', 'buy', 'gina', 'torres', 'spoke', 'expansion', 'slavery', 'woody', 'kline', 'amelia', 'earhart', 'cafe', 'sirhan', 'southwest', 'kandukondain', 'passionate', 'cheese', '1857', 'taco', 'nightmare', 'elm', 'craven', 'wes', 'restaurants', 'jamaica', '1926', 'summers', 'earlier', 'shania', 'twain', 'snapshots', 'seriously', 'severely', 'zoolander', 'tunisia', 'occupied', 'storyteller', 'wit', 'sophistication', 'thematic', 'g', 'harding', 'relieved', 'item', 'scarves', 'ceo', 'interests', 'encompass', 'range', 'humanitarian', 'mechanism', 'ridley', 'abbreviated', 'cen', 'fassbender', 'uefa', 'preoccupation', 'tragic', 'enjoys', 'meat', 'kiffmeyer', 'sound', 'sells', 'beverages', 'beverage', 'seller', 'y', 'cymoedd', 'food', 'itv', 'policy', 'remixed', 'simpsons', 'nightlife', 'carrots', 'garcia', '1949', 'handmaid', 'tale', 'clarke', 'anonymous', 'imageboard', '4chan', 'tumblr', 'burundi', 'belgians', 'dominant', 'hellenistic', 'macedon', 'sunrise', 'forming', 'catelyn', 'scorpion', 'dormael', 'murderer', 'saucerful', 'secrets', 'anchorman', 'burgundy', 'sonny', 'reunited', 'julian', 'assange', 'perceived', 'documents', 'zuckerberg', 'sparked', 'registered', 'parties', 'coastline', '1600', 'miles', '1811', 'cory', 'monteith', 'streets', 'kangana', 'ranaut', 'himachal', 'zack', 'smaller', 'emilia', 'begun', 'uppermiddle', 'income', 'lloyd', 'pagemaster', 'vocals', 'submarine', 'jackie', 'robinson', 'meter', 'itfa', 'allegiant', '433', 'growth', 'accelerated', 'slogan', 'truth', 'exploration', 'shakespeare', 'rumi', 'transcends', 'divisions', '33', 'snl', 'blair', 'sudden', 'graduation', 'kumail', 'nanjiani', 'sick', 'chose', 'selected', 'silence', 'lambs', 'tome', 'tka', 'kirishima', 'hangover', 'gay', 'anagram', 'eric', 'meryl', 'streep', 'rover', 'freelander', 'hui', 'vaughan', 'chelsea', 'cups', 'arsenic', 'delayed', 'think', 'too', 'allgirls', 'allboys', 'thousand', 'suns', 'athletics', 'ago', 'dream', 'opportunity', 'join', 'helping', 'spark', 'dillon', 'jackass', 'bundy', 'assaults', 'troubled', 'goldsmith', 'specializing', 'chicken', 'louisiana', 'immortal', 'older', 'fuller', 'relations', 'cruise', 'plain', '1838', '1830s', 'burt', 'lancaster', 'portnoy', 'counterterrorism', 'publisher', 'biel', 'kdrama', 'gardens', 'promoted', 'supplyside', 'policies', 'cowrote', 'propaganda', 'outlined', 'widespread', 'gu', 'junpyo', 'gotham', 'itunes', 'mendes', 'caught', 'managers', 'gertler', 'ziggy', 'chareton', 'moons', 'usher', 'releases', 'baxter', 'operation', 'executive', 'spanishamerican', 'aborigines', 'jeter', 'messenger', 'shueisha', 'chiyoda', 'maine', 'swiss', 'benin', 'cotonou', 'portonovo', 'spencer', 'tracy', '196024', 'kilometers', 'etpt', 'adrianne', 'palicki', 'lights', 'sooraj', 'barjatya', 'nintendo', 'switch', 'standing', 'revenge', 'parttime', 'lennox', 'sum', 'fears', 'photo', 'clear', 'consistent', 'boundaries', 'apostle', 'unrelated', 'norway', 'raphael', 'bobwaksberg', 'flies', 'defending', 'burglars', 'idol', 'castiglione', 'ibn', 'abd', 'almuttalib', 'banu', 'hashim', 'jawaharlal', 'nehru', 'unpopular', 'frightening', 'incorporate', 'vitamin', 'b12', 'byron', 'haskin', 'quentin', 'reservoir', 'pogba', 'duncan', 'katherine', 'heigl', 'roswell', 'kalpana', 'raghavendar', 'fifa', '1930', 'grossing', 'generating', '282', 'sherrybaby', 'sundance', 'ballet', 'shoes', 'trumbo', 'dew', 'sixthbest', 'aykroyd', 'sire', 'modes', 'constitutional', 'transfer', 'window', 'fried', 'tomatoes', 'christoph', 'waltz', 'successor', 'saxecoburg', 'gotha', 'descendant', 'pertained', 'attempted', 'gorbachev', 'finials', 'saturn', 'midwestern', 'publishes', 'essays', 'royale', 'travel', 'anthem', 'alcatraz', 'penitentiary', 'fairfield', '1898', 'available', 'forgetting', 'unmarked', 'grave', 'mongolia', 'appealed', 'burgeoning', 'counterculture', 'volcanically', 'saarc', 'dates', 'qing', 'coalesced', '3150', 'earl', 'gerard', '1951', 'subsidiary', 'subordinate', 'janis', 'joplin', 'k2', 'godwinausten', 'chhogori', 'cyndi', 'lauper', 'unusual', 'shirl', 'resnick', 'bharatiya', 'janata', 'dry', 'caine', 'sleuth', 'brunei', 'judith', 'barsi', 'jennings', 'stood', 'exceeded', 'sales', 'avril', 'lavigne', 'voiceover', 'travelers', 'karen', 'brockman', 'dirty', 'dozen', 'weapons', 'rhode', 'improvement', '1868', 'poland', 'indie', 'zombieland', 'preschool', '146', '1200', 'typecast', 'rage', 'salman', 'kamala', 'attorney', 'yeary', 'charlize', 'theron', 'odin', 'norse', 'mythology', 'photosharing', 'application', 'tumen', 'ardipithecus', 'leto', 'forested', 'competes', 'facilitates', 'facilitated', 'temptations', 'atkins', 'inmate', 'leonard', 'cohen', 'greater', 'mojave', 'aquabats', 'starting', 'spirit', 'prize', 'existence', 'god', 'argued', 'descartes', 'excelled', 'academically', 'sunday', '900', 'exporter', 'devgan', '28th', 'howerdel', 'xehanort', '12th', 'nonpartisan', 'prepon', 'orange', 'pilot', 'feasting', 'zombie', 'outbreaks', 'contain', 'sell', 'niccol', 'entire', 'mumbai', 'deathly', 'hallows', 'locus', 'shortland', 'copy', 'sent', 'mail', 'wedding', 'generation', 'hyoyeon', 'krasinski', 'bus', 'route', 'warcraft', 'villain', 'psycho', '270', 'mcadams', 'notoriety', 'opponent', 'wta', 'chang', 'kaichen', 'inspiration', 'predated', 'vampire', 'ethnically', 'hungarian', 'nicholson', 'thespian', 'fullscale', 'attrition', 'parade', 'parades', 'pro', 'upw', 'sora', 'remote', 'provided', 'premiership', 'coined', 'popularized', 'lilith', 'listens', 'silver', 'turbo', 'blackout', 'parent', 'kylie', 'emirate', 'hardwired', 'selfdestruct', 'k12', 'feeling', 'tiredness', 'algeria', 'gas', 'exports', 'bosie', 'maclaine', 'hole', 'sprach', 'zarathustra', 'southport', 'opioid', 'goodman', 'shadows', 'agents', 'persecuted', 'meccan', 'pots', 'gus', 'sant', 'suburb', 'norwood', 'claudia', 'leitte', 'hub', 'deputy', 'airliners', 'singersongwriters', 'dun', 'davies', 'designer', 'industrial', 'jungle', 'draws', 'grrm', 'scardino', 'genres', 'chronicle', '1767', '1780', 'site', 'exwives', 'tammy', 'ascap', 'natasha', 'richardson', 'trap', 'necessarily', 'mean', 'removal', 'actions', 'pbs', 'democracy', 'bid', 'brasil', 'mankatha', 'annelies', 'jacksons', 'evening', 'wednesdays', 'educational', 'eno', 'airshow', 'liberal', 'shahid', 'udta', 'abusing', 'frisian', 'homeschooled', 'publicschooled', 'backstreet', 'happened', 'happen', 'stealth', 'tactics', 'volcano', 'frederic', 'nancy', 'dow', 'deceased', 'katims', 'scholars', 'godzilla', 'panic', 'needle', 'avenged', 'sevenfold', 'eighteen', 'raged', 'yoko', 'ono', 'weeklong', 'bedins', 'tallest', 'yellowstone', 'granddaughter', 'omens', '91st', 'wolfman', 'kwai', 'shaolin', 'monk', 'sexes', 'ways', 'others', 'progress', 'ranks', 'schroder', 'prague', '105', 'inhabitants', 'mountain', 'mainstream', 'bleed', 'yates', 'occurring', 'rapidly', 'childbirth', 'virginity', 'rides', 'uci', 'proteam', 'but', 'chosen', 'nonprofit', 'whose', 'goal', 'coown', 'jointventures', 'eris', 'teams', 'separating', 'focal', '1848', 'clouds', 'syndication', 'average', 'elevation', 'imperium', 'rocket', 'administration', 'sally', 'advocating', 'disabled', 'abolitionist', 'captained', 'discussed', 'comprise', '96', 'schwarzgelben', 'charted', 'meek', 'mill', 'idiosyncratic', 'larger', 'hastings', 'luna', 'ian', 'fleming', 'coppa', 'italia', '40s', 'fifteenth', 'healthcare', 'herring', 'iffhs', 'eyman', 'australianamerican', 'coldest', 'seas', '1815', 'mouse', 'searching', 'persons', 'attacked', 'spy', 'butler', 'aluminum', 'collision', 'jay', 'z', 'panetierre', 'sponsored', 'advertising', 'trainwreck', 'riverside', 'claire', 'danes', 'runs', '250', 'substantial', 'employment', 'arising', 'subsistence', 'farming', 'cartoon', 'raccoon', 'wrinkle', '1889', 'marsden', 'prominence', 'prolifice1', 'brooker', 'bharat', 'ratna', 'chains', 'ilm', 'intouchables', 'frida', '1920s', 'nylund', 'phase', 'antman', 'ervin', 'rajamouli', 'rochester', 'wexford', 'partnered', 'voices', 'romanek', 'lymphoma', 'urvashi', 'rautela', 'lbj', 'troye', 'sivan', 'teller', 'veronika', 'decides', 'roberta', 'hanley', 'teambased', 'thirdperson', 'shooter', 'xii', 'harald', 'sonja', 'haraldsen', 'sculptures', 'paintings', 'schrute', 'paquin', 'seconds', 'brenner', 'toured', 'domestically', 'farmer', 'doubled', 'decade', 'highestpaid', 'likely', 'infect', 'collection', 'deeds', 'lara', 'croft', 'raider', '0', 'hajime', 'isayama', 'puritan', 'settlers', 'disclosed', 'diagnosis', 'alzheimer', '600', 'discovered', '1606', 'eighthsmallest', 'secondsmallest', 'fog', 'territories', 'herrmann', 'heartlight', 'ride', 'songwriters', 'composers', 'authors', 'actively', 'pursues', 'blade', 'runner', 'lotteries', 'memorial', 'continental', '1921', 'snakepit', 'holder', 'variations', 'harlem', 'solano', 'maratha', 'sergeant', 'selfdescribed', 'organic', 'compound', 'gordon', 'roommates', 'camp', 'xray', 'wellknown', '91', 'journals', 'athena', 'syncretized', 'minerva', 'rashida', 'tbs', 'angie', 'tribeca', 'multiplayer', '11700', 'scientific', 'candice', 'bergen', 'jerome', 'bug', 'cycle', 'know', 'gambler', 'beginning', 'debt', 'bulls', 'feig', 'freaks', 'geeks', 'occasional', 'switched', 'junta', 'wct', 'madhavan', 'guru', 'biopic', 'troupe', 'pan', 'irons', 'produces', 'missionary', 'cartilage', 'skeleton', 'vegemite', 'russianborn', 'mummy', 'cunningham', 'ladd', 'characterized', 'restriction', 'zedd', 'unreported', '41', 'kept', 'americas', 'owns', 'zindagi', 'na', 'milegi', 'dobara', 'struggling', 'limitless', 'voting', 'margins', 'feast', 'crows', 'crew', 'damages', 'televised', 'test', 'offense', 'boycotted', 'borneo', 'jacobs', 'biohazard', 'healing', 'items', 'sheriff', 'christiano', 'defying', 'gravity', 'carnegie', 'elephant', 'pierce', 'brosnan', 'dante', 'widely', 'curie', 'chemist', 'columbus', 'vote', 'mariana', 'ritchie', 'cities', 'disinvestment', 'adrenaline', 'mob', 'access', 'rosamund', 'pike', 'bennet', 'vince', 'gilligan', 'lined', 'reinforced', 'concrete', 'blankets', 'socialism', 'crush', 'eurojust', 'deals', 'judicial', 'cooperation', 'supremes', 'daz', 'dillinger', '1444', 'embraces', 'ideology', 'conservatism', '5000', 'reside', 'scattered', 'yours', 'truly', 'everything', 'dangerous', 'factors', 'getting', 'aged', 'pearson', 'pusha', 'dyokovic', '1862', 'applause', 'discoveries', 'sequels', 'foundations', 'advocacy', 'labour', 'reuters', 'transmits', 'corsica', 'sutter', 'otto', 'delaney', 'hilda', 'ellis', 'davidson', 'antiquarian', 'antiques', 'antiquities', 'dime', 'minions', 'illumination', 'drinking', 'frenchman', 'youth', 'apparel', 'hippocrates', 'balkan', 'sobrante', 'informally', 'escobar', 'republics', 'densest', 'dense', 'silicon', 'mani', 'ratnam', 'showing', 'addicted', 'strategic', 'gregory', 'peck', 'thirdmost', 'lasts', 'gym', 'ms', 'tolkien', 'asher', 'biological', 'dancers', 'piano', 'pianist', 'hudsucker', 'proxy', 'said', 'tear', 'mikhail', 'statement', 'printmaker', 'modelling', 'tennessee', 'cambodia', 'theology', 'eater', 'lifelong', 'nitrogen', 'continued', 'puzzles', 'sully', 'relationship', 'mara', 'disturbing', 'tha', 'def', 'jam', '1422', 'concluded', 'radically', 'evolved', 'standard', 'vast', 'fertile', 'rim', 'boxed', 'ignition', 'remix', 'flemish', 'sing', 'starships', 'affair', 'highschool', 'mascot', 'sirleaf', 'farbauti', 'laufey', 'mythological', 'bangalter', 'shoe', 'wellington', 'phil', 'eventually', 'carolina', 'panthers', 'charlotte', 'glaciers', 'tobey', 'maguire', 'gaming', 'yung', 'muse', 'dart', 'moderne', 'compiled', 'upcoming', 'coming', 'gaza', 'strip', 'catch', 'occur', 'intercourse', 'kissing', 'francophone', 'whoopi', 'goldberg', 'arabian', '570ce', 'pyrenees', 'hold', 'niagara', 'falls', 'sand', 'finely', 'divided', 'mineral', 'particles', 'surplus', 'belongs', 'buck', 'hanks', 'costa', 'proclaimed', 'dictator', 'perpetuity', 'resulted', 'ninepower', 'shinsegae', 'flagship', 'lexmark', 'manufactures', 'laser', 'printers', 'imaging', 'products', 'manufactured', 'antiglobalists', 'nationalists', 'reiner', 'hierarchy', 'shaved', 'gi', 'pretty', 'horses', 'shalimar', 'bronson', 'danish', 'polish', 'thirtysix', 'forts', 'pledged', 'give', '99', 'melinda', 'joint', 'mazda', 'violinist', 'neufeld', 'acknowledgement', 'idiot', 'cosgrove', 'romeo', 'juliet', 'audience', 'trinidadianborn', 'childish', 'gambino', 'bottom', 'earls', 'ca', 'explain', 'mcgovern', 'contrasts', 'progressive', 'platform', 'aligns', 'paleogene', 'starts', 'cretaceous', 'mya', 'jewish', 'ethnoreligious', 'mann', 'superior', 'advanced', 'dribbling', 'purchased', 'wight', 'rupert', 'escapist', 'domain', 'draw', 'eddie', 'redmayne', 'chadwick', 'connecticut', 'yale', 'legalized', 'deserted', 'scathing', 'everyone', 'cultured', 'georgetown', 'shrines', 'demeter', 'banned', 'worship', 'tag', 'clan', 'qurayshi', 'tribe', 'fellows', 'protest', 'vancouver', 'grow', 'unforgiven', 'dish', 'mickelson', '68th', '20112015', 'anglican', 'communion', 'acknowledged', 'geopolitical', 'tension', 'shortened', 'donuts', 'property', 'semifinals', 'bronze', 'woodruff', 'yost', 'forgo', 'favor', 'jersey', 'ruling', 'maritime', 'dubbed', 'reaganomics', 'fury', 'wonderwall', 'view', 'graveyard', 'suffolk', 'descendants', 'caucus', 'lilli', 'seventeen', 'savage', 'marketing', 'cohort', 'characteristics', 'mac', 'somewhat', 'lighter', 'underneath', 'darker', 'rival', 'phirman', 'accompanied', 'companions', 'cale', 'erica', 'spacey', 'chronology', '40th', 'culturally', 'historically', 'aesthetically', 'fleet', '1907', '633', 'sainthood', 'pitched', 'ji', 'changwook', 'create', 'clothing', 'colour', 'teenage', 'cohosted', 'job', 'junior', 'aerial', 'stunts', 'sets', 'sergey', 'subsaharan', 'judgment', 'ceiling', 'sistine', 'chapel', 'tu', 'rostro', 'manana', 'prakash', 'sponsors', 'finances', 'wheel', 'wealth', 'boardwalk', 'terence', 'colorado', 'managed', 'bands', 'mole', 'breakwater', 'frog', 'bright', 'slightly', 'reddish', 'communism', 'cease', 'shortlived', 'nicktoonsters', '35', 'crayfish', 'janice', 'nineteenth', 'appeals', 'meghan', 'teenagers', 'junstrom', 'manchurian', 'edge', 'darkness', 'dunmore', 'heat', 'nominal', 'gdp', 'send', 'nationalist', 'disk', 'drive', 'shepherd', 'specific', 'rivalry', 'henri', 'matisse', 'equipped', 'ventilation', 'expendables', 'our', 'transportation', 'sudanic', 'nonviolent', 'supporters', '13th', 'pfeiffer', 'islamic', 'fundamentalists', 'programming', 'dual', 'shophet', 'mercy', 'formosa', 'flynn', 'akbar', 'tripled', 'suffrage', 'hummus', 'solving', 'mysteries', 'gleaning', 'knowledge', 'rapid', 'modernization', 'hannah', 'montana', 'legends', 'terminal', 'dallas', 'megatron', '123', 'initiated', 'entourage', 'lineup', 'richards', 'tolerated', 'poisonous', 'fabian', 'cancellara', 'wohlen', 'bei', 'bern', 'u20', 'cofounder', 'naming', 'hailed', 'honeymoon', 'norovirus', '906000', 'outpatient', 'hundreds', 'thousands', 'seaport', 'maharaja', 'sikh', 'pheonix', 'mathematicians', 'contracted', 'rca', 'extremities', 'unstable', 'unreliable', 'disturbed', 'enhance', 'suspense', 'idiots', 'mysore', 'symbionese', 'liberation', '30minute', 'polls', '53', 'importance', 'ig', 'csngs', 'palc', 'hooligans', 'averaged', 'rebounds', 'tirumala', 'venkateswara', 'tirupati', '1825', 'orleans', 'port', 'clubs', 'boats', 'reed', 'benno', 'nightcrawlers', 'cosmos', 'spacetime', 'funding', 'thanks', 'federer', 'proposal', 'mageia', 'clark', 'essex', 'liveaction', 'nowhere', 'tea', 'tequila', 'digitally', 'remastered', 'fest', '1800s', 'cardle', 'adjustment', 'bureau', 'persia', 'gallup', 'phalanx', 'camped', 'politics', 'stasis', 'infectious', 'transmitted', 'bite', 'circuit', 'neighbor', 'abstained', 'prevents', 'stable', 'fenway', 'ceded', 'agreement', 'rectangular', 'marley', 'kidnaps', 'stockpile', 'destruction', 'voldemort', 'denpasar', 'dardanelles', 'connector', 'globes', 'doowops', 'dropped', 'alum', 'relies', 'commodity', 'importation', 'ensemble', 'closest', 'trauma', 'ear', 'resulting', 'injury', 'illness', 'czarface', 'wutang', '1837', 'mamma', 'choir', 'chorale', 'chorus', 'eighties', 'consideration', 'liver', 'byd', 'automobile', 'manufacturer', 'florence', 'tuesdays', 'tuesday', 'initials', 'sf', 'fs', 'yangon', 'myanmar', 'terminologies', 'belgian', 'enables', 'constructions', 'enable', 'mom', 'babysitter', 'horizons', 'jupiter', 'nsdap', 'partygovernment', 'ashcroft', 'bachelors', 'potential', 'husbands', 'monetary', 'koine', 'testament', '1842', 'cheaper', 'ousted', 'gerrard', 'shermanpalladino', 'bunheads', 'tigers', 'usaf', 'unimportant', 'allknowing', 'omniscient', 'assigned', 'denial', 'venezuela', 'goosebumps', '38', 'friedman', 'detroit', '21stmost', 'austriangerman', 'sidney', 'bernstein', 'dyke', 'djem', 'tunis', 'areas', 'minnie', 'activity', 'unmarried', 'leave', 'read', 'consist', 'rpgs', 'granted', 'glasgow', 'cgianimated', 'bal', 'gangadhar', 'tilak', 'sussex', 'somerset', 'catherina', 'ella', 'enchanted', 'narrative', 'visual', 'medium', 'subtitle', 'tight', 'orchestral', 'conductor', 'supercomputer', 'landed', 'expel', 'yardie', 'chisholm', 'bunton', 'geri', 'halliwell', 'cirrhosis', 'swelling', 'lower', 'legs', 'reach', 'billiondollar', 'currency', 'amazoncom', 'sui', 'ishida', 'select', 'clarence', 'whole', 'fallen', '4342', 'subway', 'empowerment', 'relationships', 'margo', 'roth', 'spiegelman', 'paper', 'towns', 'defender', 'track', 'donoghue', 'abrams', 'nice', 'slow', 'directs', 'teutonic', 'suebian', 'combine', 'lewd', 'wacky', 'forty', 'articles', 'swede', 'difficult', 'climb', 'mccall', 'bitten', 'werewolf', 'must', 'cope', 'deal', 'nicolas', 'sindh', 'anaheim', 'speed', 'kasdan', 'corporations', 'parlophone', 'maree', 'stoermer', 'coleman', 'bathtub', 'claflin', 'tail', 'lymph', 'nodes', 'lymphocytes', 'twenties', 'thirties', 'trial', 'multilingual', 'swahili', 'associate', 'eec', 'nationality', 'lowestpaid', 'fourteenth', 'firefighter', 'smurfette', 'spelled', 'capitalised', 'lowercase', 'sfr', 'assisted', 'constructing', 'alligator', 'smoke', 'mirrors', 'electionrelated', 'tweets', 'shunned', 'subtype', 'antinuclear', 'antibodies', 'antila', 'athletic', 'contests', 'halogens', 'react', 'scenes', 'songwriting', 'clayton', 'ferrell', 'lance', 'shack', 'dreams', 'mined', 'velaiilla', 'pattadhari', 'kendrick', 'lamar', 'spirituality', 'protested', 'scientology', 'binder', 'gaelic', 'reichstag', '1856', '1756', 'athenian', 'copyrighted', 'sources', 'sense8', 'quality', 'appalling', 'murderers', 'schooling', 'accused', 'abuse', 'thing', 'pounds', '93rd', 'doggystyle', 'rbhiphop', 'solutions', 'tasks', 'hundredfoot', 'om', 'puri', 'disciple', 'learner', 'ken', 'stott', 'concerned', 'esmail', 'wolves', 'eat', 'ungulates', 'laurie', 'hernandez', 'ottawa', 'symbols', 'touring', 'organisation', 'conservatory', 'leone', 'reporter', 'functions', 'neurotransmitter', 'sage', 'binodini', 'kiranjit', 'ahluwalia', 'manmade', 'dinklage', 'thirdbest', 'subregion', 'ric', 'grech', 'broadcasting', 'swimwear', 'somewhere', 'accompany', 'baritone', 'tenor', 'smellovision', 'aspired', 'jousting', 'opiate', 'amphetamine', 'province', 'staten', 'alteration', 'organism', 'genetic', 'mutation', '1876', 'presents', 'aftermath', 'predicted', 'notre', 'palma', 'thea', 'sharrock', 'vatican', 'fante', 'illiterate', 'pray', '100000', 'globally', 'leastpopulous', 'tamara', 'quirk', 'vedder', 'les', 'misrables', 'dancing', 'arrangements', 'shaiman', 'oscarnominated', 'lyricist', 'singleton', 'epitomized', 'humanist', 'ideal', 'studying', 'antiquity', 'sky', '29', 'ullmann', 'feeding', 'witholds', 'occult', 'metaphysics', 'halo', 'thinkin', 'bout', 'gibberish', 'coowner', 'traditionally', 'wear', 'allwhite', 'allblue', 'situations', '1354', 'openly', 'chan', 'habsburg', 'brandon', 'abdomen', 'abnormal', 'bleeding', 'paternal', 'grandfather', 'southernmost', 'northeastern', 'montecarlo', 'sadoski', 'excavation', 'perpetuum', 'reader', 'selfobsessions', 'gable', 'extra', 'meal', 'gross', 'britishirish', '336265', 'diary', 'multiethnic', 'ethnicities', 'blurred', 'lines', 'preference', 'irreligious', 'ratio', 'circumference', 'diameter', 'length', 'feather', 'roxy', 'disassociated', 'aurora', 'aurea', '211', 'punished', 'suspension', 'bonet', 'eleventh', 'liaisons', 'linguistics', 'courses', 'blacklist', 'workingclass', 'escaped', 'thrice', '312', 'forties', 'vera', 'farmiga', 'contemporary', '1882', 'poker', 'blasts', 'sofia', 'biweekly', 'newsletter', 'launch', 'perfume', 'solely', 'sizable', 'quit', 'prodigy', 'genius', 'hair', 'poems', 'myths', 'sheridan', 'boradway', 'settler', 'colonialism', 'whiplash', 'clade', 'endothermic', 'amniotes', 'aquinas', 'debated', 'carthage', 'sia', '4th', 'tourism', 'gambling', 'neptune', 'pat', 'riley', 'modeling', 'train', 'caricom', 'celery', 'firstperson', 'perspective', 'emphasizes', 'reversing', 'inequality', 'emphasize', 'caitriona', 'balfe', 'awardceremony', 'historic', 'contained', 'rodeos', '1952', 'reason', '90s', 'shortness', 'breath', 'playback', 'pioneered', 'platforms', 'derivative', 'fourpart', 'crowdfunded', 'indiegogo', 'shore', 'duane', 'hopwood', 'marty', 'mcfly', 'ailments', 'blizzard', 'message', 'orally', 'loud', 'divorces', 'marriages', 'ignored', 'bosphorus', 'connects', 'evano', 'oruvan', 'calgary', 'stampeders', 'customs', 'ratatouille', 'lynette', 'scavo', 'advice', 'bodies', '737s', 'markets', 'filled', '757', 'dominic', '707', 'authored', 'memoir', 'nutrient', 'ios', 'cmt', 'unrest', 'sugarloaf', 'spinoffs', 'certain', 'harriet', 'sandra', 'bullock', 'ferry', 'telecommunications', 'portrays', 'repeated', 'renewals', 'natalia', 'romanova', 'highranking', 'jonny', 'ultimates', 'blazing', 'saddles', 'gangster', 'protector', 'subtradition', 'espouses', 'nondualism', 'advaita', 'nondualistic', 'hateful', 'leaked', 'lin', 'archipelago', 'depths', 'cocaine', 'lasting', 'mario', 'puzo', 'choi', 'poehler', 'descriptions', 'tells', 'decision', 'invalidated', 'prohibiting', 'interracial', 'athens', 'mallow', 'waterfront', 'citadelle', 'laferrire', 'bonnet', 'leveque', 'rendition', 'rajasthan', 'kitti', 'hognosed', 'bat', 'chiroptera', 'curing', 'larbey', 'nye', 'entitled', 'saves', 'rctv', 'orbit', 'disqualified', 'bifa', 'dysfunctional', 'popularize', 'popularizing', 'glory', 'skateboarder', 'snowboarder', 'moniker', 'pun', 'proximity', 'relieve', 'skeletal', 'spasms', 'rouge', 'kray', 'twins', 'preserve', 'variant', 'personage', 'abridged', 'arctic', 'spence', 'amazonian', 'presidencies', 'newton', 'protocol', 'tcpip', 'link', 'devices', 'britishborn', 'pressuring', 'exerting', 'pressure', 'complex', 'layered', 'racially', 'motivated', 'universities', 'worcester', 'turns', 'discharged', 'closed', 'beta', 'antihero', 'pate', 'whales', 'oceans', 'effects', 'mcbride', 'brenda', 'management', 'wofford', 'samurai', 'twentieth', 'rangers', 'tricolour', 'feedback', 'bloods', 'denmark', '1895', 'built', 'survival', 'medalist', 'nic', 'pizzolatto', 'desktopbased', 'computerbased', 'thermal', 'cave', 'harajuku', 'terminator', 'genisys', 'parting', 'glances', 'lyin', 'manager', 'unitary', 'cumulative', 'robbery', 'taught', 'deaf', 'doing', 'teach', 'they', 'bombs', 'expert', 'highlevel', 'vlad', 'impaler', 'hunyadi', 'invaded', 'wallachia', 'categorized', 'meledandri', 'healy', 'carnivores', 'orphaned', 'sauropod', 'brontosaurus', 'munich', 'dealt', 'addiction', 'participate', 'pops', 'letty', 'touchstone', 'pattinson', 'latin', 'guillermo', 'toro', 'fumika', 'shimizu', 'masataka', 'kubota', 'threatened', 'cherry', 'penders', 'eighteenth', 'agave', 'showcases', 'serene', 'rubies', 'supramolecular', 'strong', 'impact', 'lake', 'powell', 'dictatorship', 'continue', 'hoodwinked', 'greenpeace', 'overexploitation', 'stocks', 'reduced', 'acceptable', 'overfishing', 'dramedy', 'trans', '20062007', 'trelawny', 'wells', 'amateur', 'met', 'injuries', 'alternate', 'scenarios', 'tested', 'antidoping', 'ufc', '216', 'fighting', 'timberlake', '45', 'genesis', 'walls', '1925', 'circular', '38th', 'affecting', 'arms', 'drummers', 'aiming', 'ricin', 'harmony', 'zwemdokrock', 'attend', 'patriots', 'semipresidential', 'antidsdna', 'ethiopian', 'stroke', 'norwegian', 'dealera', 'progressivism', 'attorneys', '1870', 'fatally', 'widescreen', 'oa', 'prohibition', 'matthau', 'methane', 'uppermost', 'layer', 'amanda', 'peet', 'files', 'want', 'copenhagen', 'tramadol', 'nausea', 'farthest', 'landmass', 'negative', 'blamed', 'electricity', 'opportunities', 'bubblebath', 'untied', 'input', 'device', 'kinect', 'slasher', 'russ', 'spassky', 'kingsguard', 'exposure', '28thmost', 'flexeril', '44th', 'mentioned', 'injustice', 'innocence', 'topics', 'antiro', 'subclass', 'angry', 'anton', 'yelchin', 'wonderstone', 'rouse', 'haller', 'increased', 'nl', 'participating', 'stages', 'branding', 'nonpolitical', 'prior', 'calmed', 'couture', 'onto', 'cds', 'mp3', 'playlists', 'directing', 'condon', 'aligned', 'winners', 'stay', 'stuart', 'sutcliffe', 'entertained', 'kathiawar', '238', 'watch', 'fourthlargest', '1814', 'perpetuo', 'prosperity', 'aspects', 'wizard', 'domestic', 'minorleague', 'baltimore', 'orioles', 'expedition', 'sustainer', 'dismantling', 'apartheid', 'baby', 'diversity', '1920', 'burma', 'represents', 'fredric', 'wallace', '340', 'cowboys', 'solid', 'mirren', '1512', 'vigilante', 'testing', 'flights', 'transferring', 'information', 'distress', 'prompts', 'these', 'speak', 'battles', '1940', '63', 'kazakhs', 'ruler', '225', 'minsk', 'smoking', 'obesity', 'pendleton', 'ward', 'printed', '1813', 'minos', 'fathered', 'ariadne', 'able', 'fly', 'halfway', 'distances', 'raising', 'racket', 'entity', 'saturday', 'loan', 'ally', 'mcbeal', 'improvisational', 'kids', 'tonga', 'thelma', 'casting', 'norm', 'educated', 'warsaw', 'operational', 'journalism', 'legacies', 'amphitheater', 'stageracing', 'riders', 'rider', 'equipment', 'conquering', 'coproduced', 'judged', 'vendetta', 'coors', 'europa', 'squad', 'condition', 'dna', 'capps', 'minds', 'argentina', 'bengali', 'winnie', 'harlow', 'having', 'vitiligo', 'hayler', 'polytheistic', 'pantheon', 'mixtapes', 'racewalking', 'gaggle', 'xian', 'shaanxi', 'nationwide', 'revolt', 'potentially', 'suited', 'unsuited', 'rj', 'traditions', 'maintain', 'bmg', 'ariola', 'dust', 'archie', 'consider', 'relaunching', 'barnes', 'nashville', 'regained', 'starlin', 'fund', 'sa', 'talaiassa', 'extinct', 'myles', 'hainsworth', 'bjp', 'melodies', 'combination', 'carded', 'dedicated', 'suva', 'chao', 'swamp', 'preserved', 'northanger', 'abbey', 'increase', 'merchandise', 'objects', 'famously', 'count', 'reloaded', 'dharam', 'veer', 'tariffs', 'bakhtin', 'urilla', 'spouse', 'sends', 'signals', 'nerve', 'soldiers', 'raven', 'environments', 'automated', 'shekhar', 'kapur', 'geraldine', 'orlando', 'cambodian', 'depiction', 'neonoir', 'dodge', 'californian', 'hasbro', 'italianamerican', 'cherie', 'cosby', 'subject', 'allegations', 'farrell', 'joining', '34', 'glaucus', 'wrestled', 'brinkley', 'audioslave', 'arrival', 'ships', '1788', 'hebrewlanguage', 'texts', 'astronaut', 'twolegged', 'identity', 'integrated', 'puddle', 'yourself', 'nutter', 'showrunner', 'libra', 'bungie', 'activision', 'essos', '172', '175', 'riaa', 'hutus', 'tutsis', 'bristol', 'dyemaking', 'ilkhanate', 'khanate', 'kripke', 'fundraising', 'privately', 'radiotelegraph', 'transmitter', 'maintaining', 'weight', 'fruits', 'grains', 'generally', 'flew', 'leather', 'goods', 'ti', 'wright', 'cobra', 'gubernatorial', 'philosophy', 'offender', 'attempts', 'weisberger', 'ethnicity', 'yearend', 'probably', 'seventeenth', 'driving', 'receipts', 'really', 'dubbing', 'voiceactor', 'robber', 'moonwalk', 'ninthlargest', 'purchasing', 'parity', 'panned', 'benny', 'blanco', 'stargate', 'imaginary', 'hope', 'cosmological', 'argument', 'capita', 'revenue', 'sir', 'baftanominated', 'jenna', 'dewan', 'antisp100', 'those', 'agent', 'mathematician', 'livestock', 'abroad', 'rain', 'reptile', 'chhattisgarh', 'communicate', 'rang', 'basanti', '2d', 'newham', 'fourpower', 'jayz', 'drummed', 'cudi', 'usual', 'nigeria', 'novacane', 'gambon', 'backstage', 'lyricists', 'barbarossa', 'guff', 'bourne', 'supremacy', 'quaid', 'meyers', 'adapts', '874', 'juggler', 'begin', 'fivepower', 'nato', 'fim', 'unsupportive', 'screech', 'robbins', 'shipbuilding', 'klondike', 'rush', 'realized', 'coal', 'mine', 'aa', 'padma', 'shri', 'jacob', 'bohm', 'upper', 'palaeolithic', 'dirt', 'minimum', 'topic', 'catapult', 'feudal', 'payments', '7373', 'adopted', 'shallow', 'hal', 'sears', 'hacker', 'daisy', 'venue', 'christians', 'devolution', 'operated', 'mid1960s', 'baylor', 'forewent', 'santos', 'brazilian', 'dulwich', '81st', 'mongol', 'donna', 'idaho', 'respond', 'ottoman', '368', 'batmanrelated', 'halved', 'anticentromere', 'mccallister', 'burger', 'dyes', 'stunt', 'realtime', 'worlds', 'pragya', 'inappropriate', 'playable', 'categories', 'ingame', 'factions', 'burstyn', 'requiem', 'regional', 'multiplatinum', 'smartphone', 'jimmie', 'macedonia', 'nobel', 'chances', 'hulkcomics', 'step', 'crash', 'undeclared', 'fictitious', 'bluth', 'recep', 'tayyip', 'erdogan', 'relying', 'decisions', 'bone', 'handheld', 'extraterrestrial', 'hide', 'brummie', 'accent', 'pullman', 'shadow', 'fascination', 'pioneers', 'asteroid', 'dial', 'mcu', 'weird', 'scholar', 'consultant', 'liquor', 'mathematics', 'argentinian', 'sprawling', 'leningrad', 'transcendentalist', '1820s', '1924', 'wonders', 'everywhere', 'ari', 'graynor', 'voorhees', 'patton', 'oswalt', 'lutheran', 'clarice', 'starling', '397', 'thirdrichest', 'whitaker', 'scribes', 'wealthy', 'chieftain', 'inglfr', 'arnarson', 'jurassic', 'mystique', 'folk', 'indy', 'fentanyl', 'crosswords', 'cartoons', 'compton', 'bilson', 'meo', '644', 'deandra', 'dee', 'loathes', 'kind', 'abdicated', 'kodansha', 'bessatsu', 'shnen', 'declaration', 'sco', 'lopez', 'resurrection', 'traffic', 'pantoliano', 'mexicanamerican', 'llewyn', 'denny', 'crane', 'oaks', 'duties', 'defeating', 'barbary', 'virtual', '651', 'balearic', 'superheros', 'biscuit', 'milk', 'afflicted', 'airplanes', 'ants', 'announcer', 'merritt', 'carnivore', 'eats', 'nicholas', 'weiner', 'serenity', 'e', 'whaling', 'focusing', 'tykwer', '60s', 'drafting', 'cinematography', 'lowe', 'indus', 'payton', 'advent', 'parachutes', 'hurricanes', 'remains', 'unrecognized', 'relative', 'snake', 'marred', 'feige', 'livability', 'rankings', 'mercies', 'mcconaughey', 'melissa', 'coca', 'grown', 'yingluck', 'shinawatra', 'induce', 'tundra', 'djs', 'stanford', 'finn', 'celine', 'dion', 'defiant', 'patriotism', 'lacked', 'sybil', 'theme', 'goldeneye', 'labormarket', 'reforms', 'fila', 'surname', 'perform', 'highlander', 'describes', 'himself', 'additionally', 'pardoned', 'pardon', 'enforced', 'infirmary', 'guntur', 'shorter', 'asian', '1896', 'windigo', 'constipation', 'effect', 'locarno', 'accountant', 'latitude', 'lowering', 'temperature', 'reference', 'interscope', 'adherents', 'concubine', 'plano', 'posey', 'relocated', 'moral', 'conduct', 'persian', 'gulf', 'sung', 'imposed', 'safety', 'forced', 'mircea', 'threw', '1525', 'molecular', 'expired', 'cecil', 'malleable', 'periodic', 'raced', 'mclaren', 'vernon', 'playboy', 'scaramanga', 'informal', 'mainly', 'somalis', 'thirtysixth', 'satelite', 'concerns', 'ultraviolence', 'app', '1900', 'leon', 'elicit', 'reaction', 'shocking', 'audiences', 'transneptunian', 'shutter', 'altrock', 'grammies', 'renesmee', 'cullen', 'dhoni', 'illicit', 'squid', 'supplier', 'harrelson', 'disappeared', 'britannia', 'dhoom', 'aditya', 'chopra', '1452', '1519', 'sharks', 'webbed', 'forelimb', 'wings', 'capability', 'flight', 'sinking', 'stumbled', 'sank', 'oneparty', 'multiparty', 'symbolized', 'bloc', 'motorcycles', 'stream', 'interaction', 'sufi', 'mystic', 'capitol', 'germanspeakers', 'frenchspeakers', 'recently', 'kiwi', '1930s', '110', 'escalated', 'blocs', 'intercommunality', 'adjourn', 'assembly', 'mrs', 'magnolias', 'aneurysm', 'narrator', 'creepshow', '87th', 'protagonists', 'stuffed', 'taeyeon', 'horatio', 'hornblower', 'scene', 'canned', 'publication', 'mitt', 'romney', 'barry', 'levinson', '88', 'vertical', 'jumps', 'helike', 'submerged', '373', 'carandiru', 'tomlinson', 'increasingly', 'debilitated', 'farm', 'selection', 'ataturk', 'regain', 'economies', 'account', 'hereafter', 'saala', 'khadoos', 'biodiversity', 'decalogue', 'registry', 'addition', 'involuntary', 'volition', 'counsel', 'labor', 'rackets', 'tightlyheld', 'shrimp', 'neck', 'bats', 'castor', 'oil', 'ashley', '152500000', 'usd', 'jingle', 'hooks', 'meaning', 'explicitly', 'promote', 'product', 'quotient', 'estimates', 'measures', '55th', 'monster', 'calls', 'bayona', 'reception', 'hari', 'elementary', 'ladder', 'schaffner', 'consumers', 'beaubourg', 'superstar', 'slammy', 'sophomore', 'gv', 'verily', 'capaldi', 'tucker', 'osce', 'hangul', 'fourtime', 'persianspeaking', 'coiled', 'rattlesnake', 'image', 'bodybuilder', 'freshman', 'naismith', 'providing', 'rossellini', 'outlet', 'damage', 'mash', 'colonized', '1668', 'mint', 'gospel', 'til', 'adverse', 'westerns', '152', 'ventress', 'fencing', '46th', 'commoner', 'dar', 'es', 'salaam', 'dodoma', 'extravagance', 'apec', 'bhutan', 'marketbased', 'metathesized', 'harakiri', 'rebels', 'cia', 'mating', 'unpublished', 'colts', 'wan', 'shortest', 'selhurst', 'heublein', 'frat', 'pack', 'astronomical', 'orbiting', 'comet', 'parks', 'chairperson', 'alabama', 'trust', 'protecting', 'merchant', 'shipping', '1807', 'furniture', 'mitchell', 'hulagu', 'governed', 'consoles', 'welcome', 'rileys', 'gorgon', 'lungs', 'sparsely', 'nordduqubec', 'bushed', 'macy', 'eve', 'representative', 'onepunch', 'tunisian', 'androgeus', 'advocates', 'seeds', 'leaves', 'cosmopolitan', 'entrepreneurial', 'emerged', 'emergence', 'broncos', 'pornhub', 'fastestselling', 'paperback', 'slowestselling', 'phd', 'bryson', 'supplemented', 'macdonald', 'telluride', 'everybody', 'needs', 'humorous', 'rated', 'foods', 'trillion', 'twoyear', 'reflexes', 'conscious', 'mind', 'thirdlargest', 'outgrossed', 'arkham', 'twentytwo', 'invests', 'horace', 'ballon', 'dor', 'quicktalking', '67', 'watanabe', '391', 'decreased', 'calendar', 'corporate', 'ownership', 'slated', 'bestseller', 'lists', 'espn', 'biography', 'bbc1', 'starz', 'splitsvilla', 'rannvijay', 'servant', 'quickly', 'viet', 'cong', 'vietname', 'guerilla', 'landscape', '1212', 'shopping', '22year', 'upperclass', 'mentor', 'fictionalized', 'grammys', 'amas', 'pigs', 'battered', 'burning', 'bed', 'quartet', 'austriahungary', 'venkatesh', 'prabhu', 'buchanan', 'newport', 'tamillangage', 'boot', 'angles', 'rue', 'mcclanahan', 'connelly', 'rigg', 'translator', 'machu', 'picchu', 'drystone', 'dramatizes', 'carangi', '171', 'abundantly', 'resources', 'labels', 'songcatcher', 'deladis', 'dj', 'khaled', 'linings', 'playbook', 'loophole', 'mute', 'jan', 'pinkava', 'russians', 'couple', 'viva', 'vida', 'pritam', 'composing', 'tubelight', 'flat', 'gunsmoke', 'connoisseur', 'diplomat', 'denise', 'di', 'novi', 'tiffany', 'hwang', 'heist', 'cadaver', 'executives', 'highland', 'renamed', 'worldroad', 'earthroad', 'pace', 'obtain', 'shade', 'gibb', 'jonah', 'wealthiest', 'noble', 'migos', 'glbt', 'basement', 'confederate', 'twentyfour', 'thirty', 'meetings', 'stacks', 'unmatched', 'unity', 'maternal', 'emmys', 'suffering', 'pawnee', 'females', '1944', 'ogawa', 'arrived', 'tragicomedies', 'stuff', 'essay', 'expectancy', '81', 'pioneering', 'radioactivity', 'cognitivism', 'uniform', '42', 'boulevard', 'broken', '539', 'saddam', 'hussein', 'supermodels', 'supermodel', 'recounts', 'easyjet', 'finnish', 'etan', 'instinct', 'highincome', 'translate', 'femme', 'squares', 'doubly', 'speculative', 'chrissy', 'metz', 'cards', 'taping', 'anchor', 'core', 'colonization', 'concerning', 'minutes', 'sheldon', 'forever', 'toppaid', 'entertainers', 'background', 'harbor', 'demon', 'homicide', 'aided', 'consulting', 'eurasia', 'departed', 'distributor', 'marketer', 'badlapur', 'cid', 'moosa', 'nocturnal', 'ceelo', 'filmware', 'cream', 'selina', 'meyer', 'veep', 'refers', 'chile', 'front', 'drove', 'ferrari', 'christianization', 'medieval', 'draco', '86', 'nemesis', 'octavius', '121', 'golfer', 'berliner', 'mauer', 'accounts', 'onethird', 'northwestern', 'alpine', 'shameless', 'phantom', 'temporarily', 'blackpool', 'alvin', 'lil', 'realm', 'azeroth', '1812', 'acacallis', 'insurgent', 'traveler', 'vary', 'apparition', 'adolescent', 'vh1', 'unbalanced', 'frequently', 'paired', 'occupation', 'noncriminal', 'mafia', 'productionsongwriting', 'antonina', 'armato', 'mohit', 'suri', 'glengarry', 'narration', 'gareth', 'gul', 'warlords', 'draenor', '45th', 'accolade', 'plugin', 'nationalities', 'coproducers', 'coordinated', '1858', 'overcame', 'belarus', 'nickelodeon', '110000', 'prisons', '15550', 'failure', 'enemies', 'relief', 'stand', '75', 'lose', 'victim', 'knew', 'businesses', 'dumber', 'administrative', 'subdivisions', 'administratively', 'subdivided', 'neighborhoods', 'gloriana', 'iowa', 'brenneman', 'linney', 'malayalam', 'reform', '57', 'sub', 'ancestry', 'noomi', 'rapace', 'carlyle', 'macos', 'deposition', 'abusive', 'fourthmost', 'breed', 'kennel', 'troubles', 'lolita', 'industrialization', 'renfield', 'reading', 'gaol', 'slams', 'abundance', 'valerian', 'planets', 'relocate', 'philippe', 'petit', 'dalip', 'managing', 'secondlongest', 'solidifying', 'collaborators', 'glass', 'placed', 'neowestern', 'brokeback', 'promises', 'sausage', 'herself', 'reincarnation', 'reacher', 'infrastructure', 'twothirds', 'shanghai', 'coowned', 'roc', 'belonging', 'rice', 'burroughs', 'vonnegut', 'alias', 'titular', 'dtva', 'capitalism', 'enterprise', 'fiscal', 'stacy', 'atlanta', 'urdu', 'sethu', 'magazines', 'nutty', 'mcmurtry', '1894', 'carnahan', '352000', 'innovator', 'ground', 'analyzed', 'brass', 'ignorant', 'advil', 'fantine', 'vomiting', 'couch', 'potato', 'nationalism', 'fixed', 'thank', 'scientists', 'ringside', 'analyst', '198', 'tamblyn', 'addict', 'smalltime', 'hustler', 'centralized', 'nervous', 'turkic', 'maya', 'rudolph', 'ups', 'unprinted', 'apprehending', 'southpaw', 'demille', 'keener', '1890', '1867', '49', 'comeback', 'burton', 'instilled', 'terror', 'norwell', 'portray', 'lisbon', 'indianapolis', 'looking', 'ratify', 'confederation', 'thirteenth', 'pole', 'forests', 'prescreenings', 'fundamental', '48', 'vietnamese', '1299', 'u571', 'ae', 'skilled', 'copper', 'renounce', 'allegiance', 'professions', 'hiphoporiented', 'subgenre', 'sprinter', 'gets', 'competitive', 'sheep', 'operations', 'ubiquitous', 'cigarette', 'bottle', 'habitually', '1701', 'terrorist', 'experiences', 'curious', 'benjamin', 'button', 'mockingjay', 'rabbit', 'hometown', 'harsh', 'motown', 'diemon', 'percussionists', 'saxophonists', 'fnke', 'ellington', 'collaborate', 'seizures', 'perla', 'farias', 'percentage', 'literate', 'straddles', '47', 'twister', 'sessions', 'babies', 'discontinued', 'tang', 'wei', 'tyrant', 'partnership', 'detention', 'manslaughter', 'discovery', 'lamborghini', 'unilaterally', 'berkeley', 'trophy', '1932', 'aimed', 'adults', 'instead', 'catholics', 'softball', 'comedies', 'competing', '4k', 'upscaling', 'coraci', 'neighboring', 'costumes', 'subvert', 'parody', '2996', 'cocapital', 'austrohungarian', 'text', 'wilhelmina', 'fell', 'singleseason', 'cgi', 'wozniak', 'unnamed', 'ku', 'klux', 'klan', 'joycon', 'wireless', 'controllers', 'featurelength', 'doyle', 'specialized', 'observational', 'penguins', 'barbiturates', 'schrader', 'causing', 'harm', 'enlightened', 'goblet', 'steep', 'vegan', 'tried', 'dismiss', 'courtappointed', 'lawyers', 'hotline', 'bling', '178', 'invalid', 'babbar', 'subhash', 'clooney', 'manatees', 'cows', 'cosmetics', 'desilu', 'fidelity', 'possession', 'maharashtra', 'trampoline', 'organizes', 'ceremonies', 'resort', 'avi', 'arad', 'sweeney', 'todd', 'flynt', 'karaszewski', 'fungi', 'padm', 'amidala', 'experiments', 'honeysuckle', 'audiobook', 'shankly', 'cork', 'fragile', 'clapton', 'subtypes', 'cyberpunk', 'gossip', '1861', 'lorelai', '56thhighestgrossing', 'fiftyfive', 'move', 'peeta', 'selfeducated', 'monkeys', 'paige', 'marta', 'kauffman', 'st', 'elmo', 'presence', '108', 'daniels', 'marsh', 'quran', 'revealed', 'revelation', 'purdue', 'trinidad', 'tobago', 'delmar', 'arnaud', 'crossdressing', 'affect', 'amnesty', 'coeducational', 'bounded', 'shapes', 'crosses', 'regionally', 'vishal', 'bhardwaj', 'basharat', 'peer', 'prolifically', 'prompt', 'sustained', 'dominance', 'spectrum', 'combatant', 'commanders', 'mice', 'czechoslovakia', 'biology', 'landa', 'colon', 'firearm', 'knife', 'traded', 'exchanged', 'chandler', 'dessert', 'thorson', 'candelabra', 'hebrew', 'reali', 'harpers', 'lucille', 'verne', 'arsonist', 'geography', 'stinson', 'tone', 'skyscraper', 'describing', '1839', 'decreases', 'flower', 'greekamerican', '65', 'assess', 'geologic', 'spans', 'proposed', 'scarver', 'hancock', 'statuses', 'lebowski', 'gilles', 'paquetbrenner', 'nuremberg', 'patch', 'respiratory', 'organ', 'tissue', 'evangeline', 'lilly', '80s', 'preservation', 'architecture', 'dc9', 'controls', 'weir', 'pfaller', 'lacrosse', 'cash', 'crop', 'above', 'sailors', 'subsidiaries', 'lithuania', 'videocassette', 'lantern', 'aspirations', 'unlikely', 'togolese', 'determined', 'membership', 'absent', 'shoot', 'thirdlongest', '566000', 'prematurely', 'reelected', 'unincorporated', 'coty', 'doublefudged', 'ipswich', 'interactions', 'matter', 'extensions', 'emerge', 'eunice', 'waymon', 'petrie', 'oregon', 'fearless', 'killers', 'unspecialized', 'positions', 'avoid', 'releasing', 'retiree', 'crashers', 'lasse', 'hallstrom', '1632', 'prominently', 'oxenstierna', 'manufacturing', 'ashford', 'belle', 'amhara', 'okonma', 'bomer', 'weakness', 'itchiness', 'finishes', 'ovid', 'ibiza', 'going', 'strokes', 'victorious', 'simba', 'scar', 'unquestionably', 'enduring', 'goose', 'innings', '1913', 'infantry', 'deploy', 'wasting', 'occupying', 'hodson', 'stephenie', 'ss', 'hiphop', 'cricketer', 'possess', '1914', 'evanston', 'bolivian', 'importer', 'charter', 'wanna', 'vehicle', 'attract', 'readership', 'method', 'cleveland', 'spokesperson', 'loans', 'bankers', 'homemade', 'simultaneously', 'danceelectronic', 'serbianamerican', 'neighborhood', 'dwarf', 'caruso', 'sad', 'carnivorous', 'yankee', 'kidnapper', 'squirrel', 'victories', 'waterloo', 'subgroup', 'evander', 'holyfield', 'tests', 'returning', 'wendys', '6302', '7002', 'bogdanovich', '1454', 'allied', 'biscayne', 'cis', 'visionary', 'letters', 'shaw', 'postponed', 'technological', 'limits', 'exclusive', 'clique', 'closer', 'alldefensive', 'hospitalization', 'undeveloped', 'charities', 'cited', 'reduction', 'muppets', '1922', 'leaders', 'flop', 'wardrobe', 'neutrality', 'penrose', 'theoretical', 'cosmologist', 'applied', 'gymnast', 'crusoe', 'noel', 'streatfeild', 'desktop', 'morning', 'freest', 'fandom', 'minimalist', 'blast', 'taxicab', 'korben', 'poor', 'chrononauts', 'panentheistic', 'pardons', 'reprieves', 'bernardino', 'gautham', 'menon', 'mathieson', '1500', 'mays', 'covered', '1799', 'kamal', 'kpop', 'thug', 'mangini', 'fraternity', 'scheuring', 'hamm', 'marseille', 'eternal', 'outsider', 'sardonic', 'drifter', 'linguistically', 'homogeneous', 'defiance', 'pga', '59', '79', 'gimme', 'hats', 'abundant', 'streamlined', 'serialized', 'stuntman', 'makeover', 'vic', 'extrasensory', 'poetry', 'altered', 'publishers', 'fantastical', 'plotless', 'leastpaid', 'britishcanadian', 'easy', '1903', 'prestigious', 'geriatric', 'stresses', 'hoops', 'licensed', 'brainstorm', 'bureaucracy', 'tub', 'alamo', 'experimental', 'initial', '184', 'root', 'sands', 'rule', 'edited', 'blackstar', 'accurately', 'mri', 'ghosts', 'jawaharal', '649', 'peters', 'hiring', 'autochthonous', 'geographical', 'boundary', 'bynes', 'spike', '1947', 'normandy', 'landings', 'berbers', 'amazighen', '197172', '13000', 'athletes', 'compete', 'evergreen', 'defend', 'predators', 'premium', 'category', 'geologist', 'asch', 'corymore', 'consent', 'allowed', 'nebraska', 'absence', 'schnabel', 'sandman', 'schreier', 'assisi', 'warrior', 'likeness', 'voluntary', 'funny', 'swag', 'truck', 'coquette', 'postpunk', 'klein', 'starboy', 'tiflis', 'naked', 'danielday', 'hansel', 'grentel', 'witch', 'hunters', 'sonic', 'highways', 'piper', 'chapman', 'freelance', 'oracle', 'amnok', 'romances', 'leeds', 'fina', 'exclude', 'ostracize', 'awardees', 'aboriginal', 'blogger', 'paralyzed', 'draper', 'kudrow', 'talaia', 'foregone', 'sellers', 'speeches', '424000', 'realitybased', 'schools', 'cognitivistic', 'framework', 'remy', 'shortly', 'kingdoms', 'haster', 'herbaceous', 'perennial', 'birds', 'portland', 'savannah', 'situated', 'opposite', 'sides', 'spender', 'rehab', 'diabetes', 'mistress', 'stoppard', 'selling', 'charting', 'rican', 'soda', 'libertine', 'restored', 'kicked', 'heroic', 'endeavor', 'roach', 'hainan', 'ranges', '1234', 'fortythree', '691', 'prevalent', 'conceptualized', 'parachute', 'helicopter', 'tank', 'maverick', 'tycoon', 'missions', 'davyhulme', 'lancashire', 'sickly', 'doggumentary', 'delevinge', 'rumours', 'experimented', 'mental', 'processes', 'kiss', 'unadapted', 'beverly', 'patterson', 'martyr', 'liquid', 'beatle', 'twelve', 'richest', 'reigning', 'zambia', 'disdains', 'pursuits', 'despises', 'magicians', 'exploring', 'snubbed', 'destroys', 'stork', '98', 'karaoke', 'wii', 'declining', 'quantity', 'pelican', 'rabbi', 'carpenter', 'austrian', 'frears', 'hierarchical', 'organize', 'marches', 'attractive', 'eliminate', 'elimination', 'ok', 'corral', 'gunfight', 'multipleepisode', 'rona', 'munro', 'bedin', 'fairmont', 'seed', 'crimea', 'rappa', 'ternt', 'sanga', 'contestant', 'sounders', 'gravel', '9th', 'inventions', 'displayed', 'steele', 'venomous', 'planteaters', 'unopposed', '21time', 'closet', '8363', 'doubt', 'sorkin', 'avoids', 'kit', 'harington', 'queens', 'virtue', 'raking', 'nazis', 'arabs', 'kurds', 'pisces', 'article', 'candy', 'bar', 'canterbury', 'technicolor', 'nameless', 'mbs', 'oval', 'kohl', 'antiscl70', 'urology', 'gamper', 'mit', 'monte', 'carlo', 'conclude', 'prolabor', 'sharing', 'counting', 'publications', 'ukraine', 'latecomers', 'hinted', 'boogie', 'variation', '141', 'miserables', 'michel', 'gondry', 'array', 'kai', 'leng', 'messaging', 'baywatch', 'mitch', 'buchannon', 'catalan', 'catalonia', 'absolute', 'beginners', 'julien', 'substances', 'feeble', 'shining', 'fincher', 'principality', 'melman', 'giraffe', 'madagascar', 'remaining', 'perpetually', 'apart', 'portrayals', 'postapocalyptic', 'operator', 'settle', 'irving', 'cummings', '1200000', '200000', 'ignores', 'complicit', 'cameraman', 'cycling', 'bike', 'md80md90', 'focus', 'eleanor', 'coached', 'tertiary', 'provide', 'debilitating', '1919', 'goodison', 'liechtenstein', 'tin', 'innovative', 'slate', 'easily', 'pliable', 'woodworking', 'playwrights', 'contribute', 'artifacts', 'recovered', 'bombed', 'gilbert', 'grape', 'butter', 'afterglow', 'dating', 'rylance', 'wellfunded', '1899', 'brewing', 'missouri', 'storied', 'lorazepam', 'thievery', 'sangha', 'racquets', 'kdizzle', 'precedes', 'inauguration', 'oskar', 'werner', 'adopts', 'waterston', 'cnn', 'precursor', 'southsouthwest', 'humorless', 'usable', 'blubber', 'confrontation', 'adirondack', 'anger', 'costar', 'midnight', 'memories', 'shaggy', 'fifthbest', 'opinion', 'heavens', 'estelle', 'getty', 'say', 'appliance', 'infinite', 'breakdown', 'lie', 'orchestra', 'rating', 'zaslavski', 'travelled', 'eleventhleast', 'rotates', 'shed', 'shortening', 'sissy', 'spacek', 'itf', 'paleontology', 'ozploitation', 'newark', 'manson', 'individual', 'exhibition', 'killing', 'sling', 'exceptional', 'cowriter', 'earning', 'celebrities', 'kerry', 'raupaul', 'happy', 'ending', 'specialty', 'bleak', 'finalists', 'orion', 'piccadilly', 'mongolian', 'thoughtful', 'forthcoming', 'racquet', '20000', 'sandor', 'raprock', 'suburbs', 'holiday', 'using', 'facilities', 'shepperton', 'freak', '1916', 'condemned', 'prejudice', '1912', 'napoleone', 'buonaparte', 'corsiersurvevey', 'pornographic', 'ramn', 'bartlet', 'stateless', 'machinist', 'jaws', 'horseshoe', 'canis', '1901', 'fifthsmallest', '90000', 'tolerate', 'inability', 'rebooted', 'revived', 'chiefs', 'ty', 'cobb', 'gardner', 'publish', 'versions', 'obscurity', 'oj', 'columns', 'levoamphetamine', 'jubilee', 'authorization', 'cuba', 'pier', 'riau', 'kathryn', 'merteuil', 'hand', 'mcdiarmid', 'superheroes', 'militia', '1775', '1660', '1849', 'jury', 'juror', '712000', 'vlogger', '1928', 'submissions', 'americancanadian', '1931', 'gujarati', 'estonian', 'cheap', 'hardware', 'exotic', 'safari', 'browser', 'spectre', 'placement', 'psychosis', 'bullies', 'classmate', 'classmates', 'mercilessly', 'bce', 'kaneki', 'platinumselling', 'retrospective', 'francophonic', 'cellmediated', 'immunity', 'mangano', 'skydiver', 'bloodline', 'israelite', 'waged', 'privatization', 'lice', 'particular', 'fun', 'hatred', 'emotions', 'orphan', 'grain', 'harvested', 'secondlargest', 'hedwig', 'aida', 'employing', 'workforce', 'barons', 'imprisonment', 'fischer', 'eligible', 'zac', 'efron', 'februrary', 'mcdonnell', '1227', '8611', 'meters', 'con', 'schneider', 'hebrides', 'conquested', 'lawrenceville', 'easier', 'learn', 'gentle', 'fivetime', 'comedydramas', 'wields', 'disproportionate', 'provider', 'bengal', 'despised', 'febreuary', 'nanny', 'mcphee', 'rescue', '911', '1860', 'bartlett', 'accounting', 'hawaiis', 'garnett', '1900s', 'republicans', 'drakon', 'wolfe', 'editing', 'cancers', 'malaria', 'mcginly', 'festivals', 'salem', 'trials', 'surrounding', 'municipalities', 'necessities', 'pinup', 'rockatansky', 'autistic', 'reestablished', 'wake', 'antioch', 'turning', 'inglourious', 'basterds', 'ruggierowright', 'harold', 'ramis', 'fahd', 'causeway', 'yorks', 'antism', 'amar', 'sonar', 'bangla', 'naseeruddin', 'kalki', 'koechlin', 'arun', 'd12', 'deeply', 'mumford', 'abbreviation', 'minority', 'democrats', 'preexisting', 'bipolar', 'talked', 'smackdown', 'snoopy', 'africanamerican', 'cultivated', 'wilmington', 'predominant', 'xenodice', 'astley', 'thirdsmallest', 'passing', 'nominating', 'candidates', 'd3', '343829', 'practiced', 'antarctic', 'strict', 'conformity', 'zoo', 'frontman', 'marky', 'funky', 'bunch', 'ro', 'rotterdam', 'publicized', 'condemnation', 'breakdowns', 'syriana', 'attitude', '5th1992', 'stared', 'hyde', 'adequateprotein', '85', 'stepped', 'guillory', 'cottrellboyce', 'viral', 'gastroenteritis', 'beneath', 'dizzy', 'posses', 'kostanski', 'gillespie', 'laurel', 'cotton', '297', 'batting', 'janitor', 'protectionism', 'rolandgarros', 'infection', 'erythema', 'migrans', 'rewarded', 'appealing', 'multisport', 'singlesport', 'judoka', 'karimnagar', 'elder', 'tabloidsized', 'sridevi', 'notorious', 'exists', 'crediting', 'sabotage', 'horrible', 'andr', 'tchin', 'shuru', 'lifeboats', 'exact', 'birthdate', 'madeon', 'conventional', 'poetic', 'prose', 'jamestown', 'greeks', 'centereast', 'continually', 'verge', 'ruin', '1543', 'ciudad', 'jurez', 'top10', 'arabic', 'reimagined', 'intervene', 'societies', 'benghazi', 'maybelline', 'phirm', 'josep', 'tca', 'dorothy', 'roadway', 'sensitive', 'commentary', 'chocolat', '263', 'pie', 'cake', 'fifteenthlargest', 'fifteenthbiggest', 'himalayan', 'gatiss', 'scriptwriter', 'oxfam', 'citadel', 'carmelo', 'knicks', 'double', 'unexpectedly', 'anticipated', 'nebula', 'jovi', 'keisuke', 'honda', 'ruby', 'airborne', 'moms', 'twas', 'relativity', 'cognitive', 'agnostic', 'xfiles', 'complicated', 'migration', 'wuthering', 'heights', 'mandeville', 'hightech', 'commitment', 'englishamerican', 'issur', 'danielovitch', 'playhouse', 'affiliate', 'instance', '552700', '1552700', 'graves', 'replaces', 'cheerleading', '1843', 'abhishek', 'arkansas', 'combatants', 'ivory', 'debuting', 'come', 'coastal', 'danishamerican', '303', 'oakdale', 'celebrated', 'combat', 'poverty', 'spontaneously', 'pitbull', 'ends', 'neogene', 'positively', 'englishlanguage', 'agreements', 'pentagon', 'crashed', 'unscathed', '21th', 'withdrew', 'musicares', 'itchy', 'hardcourt', 'pittsburgh', 'invited', 'secondterm', 'inaugural', 'uppermiddleclass', 'beaches', 'happening', 'bestowed', 'sme', 'hatley', 'fellowship', 'keeganmichael', 'key', 'sunk', 'memphis', 'pit', 'nets', 'collaborative', 'unlimited', 'overs', 'offices', 'butch', 'vig', 'talents', 'soundtracks', '29thhighestgrossing', 'unadjusted', 'inflation', 'webs', 'prohibits', 'procedurally', 'generated', 'eagle', 'ullman', 'hydrodynamics', 'astronomy', 'delphy', 'aoki', 'zemeckis', 'ingmar', 'bergman', 'uzbeks', 'reservations', 'musicology', 'consumption', 'charitable', 'ripcord', 'backed', 'emi', 'halt', 'invading', 'evacuations', 'canon', 'coloration', 'varied', 'functioning', 'chords', 'dwards', 'pugh', 'payperview', 'coaches', 'amyotrophic', 'lateral', 'sclerosis', 'als', 'syphilis', 'anthropology', 'frederick', 'engines', 'endhiran', '1806', 'garnered', 'buddhist', 'hitchhiker', 'marrow', 'lineage', 'unveiled', 'blizzcon', 'uncharted', 'deadly', 'eternity', 'pakula', 'fed', 'wightman', 'capped', '37', 'succession', 'rulers', 'juan', 'carlos', 'ferrero', 'interview', 'wimbley', 'medusa', '1792', 'whalberg', 'hindered', 'moderndress', 'barestage', 'sailed', 'occasionally', 'freestyle', 'emotional', 'frighten', 'unsettle', 'instill', 'laughter', 'moroccan', 'chinesemongolian', 'paradigms', 'bilingual', 'creamery', 'offered', 'hires', 'precise', 'parisian', 'lifted', 'grandparents', 'wilma', 'anheuserbusch', 'beer', 'babbitt', 'cats', 'waterdwelling', 'microanimals', '250000', 'should', 'lone', 'transitioned', 'socialdemocratic', 'shake', 'gayheart', 'avoiding', 'trista', 'rehn', '1685', 'superbad', 'gopi', 'sunder', 'teeth', 'faced', 'extinctions', 'besides', '1700s', 'mixing', 'soundarya', 'rajnikanth', 'kristofferson', 'glasscomposed', 'ties', 'louisville', 'cooking', 'baking', 'kits', 'firefly', 'sg1', 'largely', 'teachings', 'segregated', 'housing', 'prequels', 'ceramicist', '137', 'skating', 'slot', 'varanasi', 'arbitration', 'customize', 'machines', 'tardises', 'serpent', 'huge', 'watersnake', 'operatic', 'cassette', 'tape', 'avantgarde', 'otis', 'crazy', 'pyongyang', 'misconduct', 'density', 'helsing', 'lardner', 'hawley', 'grows', 'eschew', 'worldly', 'pleasures', 'analysis', 'chinaproduced', 'bounty', 'provinces', 'regime', 'sword', 'mumtaz', 'nell', 'hungarianamerican', 'rental', 'trucks', 'rentals', '1399', 'holding', 'sink', 'swim', 'campion', 'ate', 'solider', 'nixonera', 'systems', 'groupbased', 'halley', 'shae', 'identities', '18thlargest', '5thlargest', 'prints', 'scandinavian', 'masks', 'commenting', 'pillars', 'lester', 'nygaard', 'dma', 'bethesda', 'afterlife', 'afroecuadorian', 'hurricane', 'django', 'unchained', 'cavliers', 'derek', 'aunt', 'node', 'philanthropy', 'gotten', 'indemnity', 'irwin', 'bacharach', 'treatment', 'shareholder', 'crafted', 'culver', 'careerhigh', 'winless', '107', 'feat', 'typical', 'seating', 'capacity', '396', 'unification', '1942', 'ravens', 'hippie', 'isaac', 'ussr', 'sweater', 'coma', 'blockbuster', 'demolition', 'sneakers', 'talented', 'coldblooded', 'debrecen', 'conveyed', 'sector', 'mining', '2309', 'danger', 'bullying', 'optimus', 'liam', 'altman', 'secondmost', 'dishwasher', 'adienne', 'tardigrade', 'extremophilic', 'chromosome', 'abnormality', 'philomena', 'monarchs', 'epps', 'editors', 'penguin', 'heisenberg', 'eaten', 'strait', 'math', 'rugby', 'kinnear', 'eran', 'creevy', 'target', 'copyright', 'litigation', 'kniggrtz', '19141935', 'trainer', 'ministate', 'microstate', 'micronation', 'avon', 'animator', 'though', 'establish', 'anywhere', 'tancharoen', 'funniest', 'ecommerce', 'originating', 'extremely', '1874', 'ventures', 'forbidden', 'halls', 'embassy', 'altercation', 'technical', 'innovation', 'rodeo', 'mongolians', 'apparent', 'fbi', 'telephone', 'phobia', 'untold', 'consejo', 'deportes', 'viewed', 'unaffiliated', 'typhoid', 'fever', '1447', '400', 'welleducated', 'abuses', 'volunteer', 'extras', 'dawg', 'surgical', 'interns', 'attending', '535', 'ondemand', 'streams', 'toasters', 'contagious', 'infestation', 'stellar', 'ce', 'roland', 'garros', 'pull', 'shirt', 'swords', 'adjacent', 'stillborn', 'till', 'tribute', 'popularly', 'deserts', 'prescott', 'presided', 'cabinetlevel', 'departments', 'offline', 'garbanzo', 'bean', 'remade', '61974', 'hellenic', 'speaking', '1777', 'prosecuted', 'tax', 'evasion', 'hemingway', 'transatlantic', 'dent', 'develops', 'buys', 'tribal', 'reggae', 'lighthearted', 'suffused', '750', 'platzman', 'amnesiac', 'reallife', 'downs', 'sacrifices', 'broadcaster', 'unnarrated', 'libertarian', 'aloe', 'shyamalan', 'unbreakable', 'compose', 'raindog', 'boat', 'bram', 'stoker', '1731', 'invade', 'maker', 'utopian', 'gilmour', 'waters', 'findings', 'glastonbury', 'electoral', 'iraqi', 'unconsidered', 'induction', 'algarves', 'alandulus', 'indira', 'hurst', 'throat', 'halfblood', 'linebacker', 'restricted', 'dharani', 'ingredient', 'random', 'undead', 'unit', 'cinemax', 'whisper', 'volunteers', 'devoid', 'barred', 'jumping', 'jets', 'unofficially', 'authoritarian', 'whitesnake', 'explosive', 'derives', 'destructive', 'hotell', 'driveby', 'shooting', 'graff', '1820', 'cycles', 'guatemalanamerican', 'ikea', 'awoken', 'disc', 'ragussis', 'firearms', 'a2016', '82510', 'crowdfunding', 'vend', 'favorable', '69', 'totals', 'alqaeda', 'phaedra', 'persephone', 'hogwarts', 'supplied', 'troops', 'marino', 'ceremony', 'dubs', 'mama', '678', 'mates', 'males', 'socialistic', 'strike', 'termination', 'spanishlanguage', 'adetuyi', 'algorithm', 'breakers', 'dhanush', '1295', 'frost', 'bestsellers', 'byzantion', 'sarayburnu', 'promontory', 'middleweight', 'transnational', 'mexicanborn', 'texan', 'jockeying', 'xi', '600s', 'archbishop', 'walle', 'anthems', 'fujistsu', 'no1', 'mikros', 'birthyear', 'ventriloquist', 'mamie', 'doud', 'decided', 'figurines', 'resided', 'organisations', 'innovated', 'dialogue', '781', 'frankfurt', 'kindom', 'mid', 'heroes', 'consistency', 'characterizes', 'dallol', 'estimate', 'sriram', 'raghavan', 'alda', 'jockey', 'mcquarrie', 'civilizations', 'espousing', 'dualism', 'archipelagos', 'intervened', 'commanderinchief', 'admitted', 'ariadna', 'cabrol', 'expatriates', 'overseen', 'ampas', 'neocortex', 'required', 'rid', 'longstanding', 'ganglia', 'fused', 'maroon', 'planteater', 'kitty', 'winn', 'recession', 'nonfictional', 'ukelele', 'targets', 'haryana', 'preelection', 'polling', '2020', 'functioned', 'turquotte', 'marguerite', 'affected', 'stability', 'saxon', 'wdan', 'deported', 'regulate', 'espy', 'hosting', 'ernest', 'cline', 'inches', 'spirits', 'repilot', 'idolized', 'teens', 'zimbabwe', 'lowermiddle', 'distribute', '241', 'wants', 'astronauts', 'iss', 'safely', 'ghats', 'polaroid', 'wyman', 'paganism', '56thhighestgrosssing', 'coffee', 'cyclops', 'satire', 'mostpurchased', 'bellevue', 'denholm', 'elliot', '4021', '1866', 'jumanji', 'lenny', 'abrahamson', 'elects', 'garca', '54th', 'floating', 'delevigne', '2045', 'guatemala', 'comcast', 'verizon', 'uniformity', 'herr', 'ugandan', 'bowls', 'njpw', 'mar', 'licorice', 'restricting', 'teague', 'smallville', 'airlines', 'grindhouse', 'fake', 'trailer', 'technologies', 'taxes', 'psychiatric', 'intern', 'leadership', 'sinoindian', 'brith', 'noncontact', 'offbroadway', 'photoelectric', 'phenomena', 'orthodox', 'cartoonist', 'renunciation', 'craving', 'attachment', 'dialectic', 'petroleum', 'bitch', 'save', 'abstinent', 'glam', 'rally', 'moses', 'wifi', 'conform', 'standards', 'interoperability', 'anticipation', 'existing', 'satanic', 'rituals', 'auditioned', 'protesting', '305000', '48th', 'luc', 'besson', 'buffalo', 'kazan', 'thrse', 'raquin', 'vivien', 'harmon', 'situational', 'disco', 'bride', 'representations', 'rennes', 'bangladeshi', 'refugees', 'keeps', 'contagion', 'intelligentsia', 'americanbritish', 'neoinca', 'beersheba', 'oklahoma', 'nativity', 'trademark', 'alliance', 'grated', 'meatball', '26th', 'betrayed', '1800', 'lapis', 'prolific', 'euro', 'observance', 'precepts', 'convene', 'fraternities', '1845', 'tomlin', 'hunted', 'sunset', 'zaytoven', 'honorable', 'cnote', 'probe', 'flanery', '66th', 'unavailable', 'engage', 'segar', 'popcorn', 'riverdale', 'radius', 'squared', 'deities', 'bong', 'joonho', 'birdy', 'internal', 'michiel', 'huisman', 'biodiverse', 'naturalizedfrench', 'avoidance', 'coffin', 'kyle', 'balda', 'autobiographical', 'belief', 'pint', 'sandwich', 'longestrunning', 'polemic', 'pierrejoseph', 'proudhon', 'suicide', 'strain', 'onstage', 'march1980', 'showed', 'malaysian', 'vause', 'column', 'sail', 'whom', 'chalkidice', 'tramell', 'selfdeprecating', 'finally', 'summit', 'attained', 'steadicam', 'lowcarbohydrate', '1630', 'lubbock', 'nightmares', 'foremost', 'scorer', 'tcl', 'flick', 'enterprises', 'detain', 'suspects', 'ex', 'machina', 'horfield', 'cures', 'originate', 'deestablished', 'thorne', 'accepted', 'carnival', 'carney', '70s', 'gale', 'snakes', 'plane', 'flavor', '727', 'inara', 'serra', 'laila', 'nuria', 'conventions', 'implications', 'videosharing', 'frescoes', 'manifestos', 'beirut', 'leads', 'derby', 'preakness', 'coronation', 'choosing', 'disband', 'whorehouse', 'palimpsest', '200304', 'weaponbased', '1883', 'passport', 'balls', 'receiving', 'concept', 'tankbon', 'volumes', '170', 'becky', 'cartographer', 'somniosidae', 'squaliformes', 'allrookie', '1012', 'infected', 'hermit', 'onedisc', 'immune', 'laureus', 'naacp', 'bottlenose', 'optionally', 'rancholabrean', 'becomes', 'pawel', 'pawlikowski', 'hedgehog', 'shortstop', 'ghostwrite', 'spider', 'communal', 'disappearance', 'nonaligned', 'crusted', '1144', 'joanne', 'germanotta', 'bartman', 'rockies', '52', 'yolanda', 'saldivar', 'somehow', 'doctorate', 'punishment', 'biogenesis', 'cover', 'swimsuit', 'issue', 'vertebrates', 'secure', 'charade', 'federated', 'latore', 'roughly', 'edo', 'finding', 'avildsen', '144th', 'accommodate', 'advancement', 'ibro', 'expounded', 'seventime', 'prevailed', 'toothless', 'natsu', 'dragneel', 'birdman', 'visuals', 'burk', 'spatial', 'maintained', 'icc', 'neighbored', 'hunts', 'explore', 'semifictional', 'jody', 'taxation', 'schemes', 'confrontational', 'oncourt', 'downton', 'espaa', 'expressed', 'concern', 'extradited', 'sheltered', 'theatres', 'puss', 'boots', 'goyer', 'microgravity', 'transmitting', 'violent', 'tilda', 'swinton', 'keira', 'knightley', 'slender', 'thick', 'reemma', 'sen', 'suffers', 'anterograde', 'amnesia', 'delaware', 'venutra', 'semiautobiographical', 'editions', 'sallapam', 'laboratory', 'wards', 'suffern', 'stoner', 'intellect', 'marcella', 'piney', 'steenburgen', 'hutt', 'intermediate', 'unlawful', 'purposes', 'committing', 'offence', 'matel', 'wcw', 'lodger', 'anouk', 'represent', 'aramaic', 'misere', 'philosophie', 'quarters', 'vanilla', 'tiles', 'ophelia', 'cfr', 'mononymously', 'clothes', '13thlargest', 'mentors', 'developments', 'headbutt', 'could', 'jeopardized', 'meteorological', 'brief', 'fames', 'sensory', 'thanksgiving', 'keep', 'returns', 'neo', '1958', 'inscribed', 'decolonisation', 'helms', 'chevy', 'royalty', 'mctiernan', 'goat', 'searcher', 'immigrated', 'barnacles', 'financially', 'boating', 'payment', 'disparage', 'centers', 'replace', 'underwhelming', 'tia', 'enter', 'novella', 'xiao', 'xiang', 'dong', 'er', '1779', 'gulliver', 'travels', 'pasadena', 'pacified', 'populations', 'inclusive', 'entities', 'orinoco', 'spader', 'hel', 'tonight', 'carson', 'charlaine', 'federico', 'fellini', 'nypd', 'coinage', 'blimp', 'thirteenthmost', 'tenthmost', '212', 'arum', 'employee', 'thermopolis', 'nizamabad', '353500', 'siberia', 'stead', 'visible', 'jacques', 'fortytime', 'forged', '31st1997', 'plastic', 'antibiotics', 'flanders', 'brussels', 'costagavras', 'rpd', 'agriculture', 'cemetery', 'ministry', 'temps', 'threelegged', 'eps', 'coathangers', 'stefan', 'sapieha', 'eyed', 'peas', 'injured', 'maze', 'cure', 'hurt', '2247', 'orbital', 'vipul', 'bernthal', 'daredevil', 'unidentified', 'upvotes', 'tippin', '47th', 'telugu', 'perdition', 'constructed', 'boweslyon', 'midfield', 'renounced', 'expediency', 'airline', '1218', 'dana', 'elaine', 'owens', 'sorry', 'practical', 'espoused', 'ameliorative', 'afrojack', 'paint', 'interrupted', 'dutchswedish', 'dramas', 'everest', 'sevenyear', 'confluence', 'deerfield', '28251', 'cohosts', 'knowledgeable', 'bishop', 'priciest', 'borealis', 'formal', '570bce', 'fadil', 'hadzic', 'mechanic', 'attain', '79th', '4122', 'commanding', 'hdi', 'wakanda', 'granular', 'manufacture', 'bit', 'pc', 'hecuba', '1603', 'eldest', 'speleers', '576249', 'galactic', 'funhouse', 'priam', 'shoeshiner', 'silva', 'manufacturers', 'landdwelling', 'cost', 'bacteria', 'carry', 'metairie', 'bogalusa', 'whittaker', 'treats', 'checkers', 'telecommunication', 'tundras', 'gears', 'ado', 'enabled', 'learning', 'vittorio', 'sica', 'threat', 'darkly', 'roasted', 'delusions', 'paranoia', 'abyssinia', '610', 'australasia', 'baleen', 'terminals', 'salesman', 'dozens', 'hawthorne', 'jail', 'twentyfifth', 'uta', 'hagen', 'lafayette', 'misfits', 'scandinavians', 'germans', 'ancestor', 'lawn', 'martyred', 'kyoto', 'achieve', 'commentator', 'civilians', 'desirable', 'duet', 'jordin', 'sparks', 'dilemmas', 'modernday', 'fifthworst', 'jinping', 'hu', 'jintao', 'positivity', 'anya', 'taylorjoy', 'quell', 'tool', 'pneumonia', 'headley', 'cheech', 'marin', 'anarchic', 'digitized', 'murdoc', 'niccals', 'cacophony', 'wailing', 'walruses', 'killings', 'contention', 'groundhog', 'homicides', 'governance', 'precolumbian', 'struggled', 'vagina', 'monologues', 'mothers', 'dances', 'rica', 'borough', 'rubin', 'inherited', 'petty', 'heartbreakers', 'fined', 'tacos', 'utility', 'outer', 'middlesex', 'surrey', 'hertfordshire', 'deucalion', '198394', 'tor', 'kdot', 'bancroft', 'gurls', 'margrethe', 'beatified', '76ers', 'secondhighest', 'sketch', 'harness', 'palladino', 'rosenthal', 'gavin', 'polone', 'theses', 'backgrounds', 'evolve', 'seasoned', 'strenuous', 'masala', 'references', 'downloads', 'entirety', 'bittorrent', 'deep', 'tokugawa', 'ieyasu', 'shogun', 'friendly', 'rhod', 'arie', 'slayed', 'benefactor', '1770', 'theatrical', 'minimajor', 'modest', 'lowestgrossing', 'spaces', 'removed', 'highprofile', 'leagues', 'societal', 'certification', '1652', 'igpx', 'embodying', 'autonomy', 'maledominated', 'dollard', 'bablyon', 'fraternitas', 'saturni', 'terrorists', 'felder', 'grimes', 'lifeguard', 'instructor', 'launches', 'pumpkin', 'spice', 'latte', 'thrillers', 'goddamnit', 'overlaps', 'ventura', 'rumbles', 'mushrooms', 'silverado', 'lautner', 'hebei', 'told', 'fishing', 'lassie', 'bala', 'encountered', '6000', 'popper', 'manipulation', 'raids', '335', 'qualities', 'ennio', 'morricone', 'signs', '3160', 'coverage', 'vaccine', 'intentional', 'abstention', 'moto', 'sixthyoungest', 'ninthyoungest', 'freshwater', 'nongreek', 'preformed', 'smuggler', 'gandhi', 'puppeteer', 'flow', 'miraculously', 'majestic', 'mayhem', 'wrecked', 'jnior', 'inferred', 'evolutionary', 'comprising', 'passes', 'winwood', 'coruler', 'passageway', 'graveyards', 'erratic', 'joshua', 'handdrawn', 'bag', 'marvelous', 'maisel', 'decca', 'topping', 'prix', 'guillermin', 'rasenballsport', 'ev', 'comprehensive', 'evoque', 'hulu', 'mandala', 'continues', 'damien', 'chazelle', 'titlewinning', '1902', 'selftitled', 'altogether', 'lowermiddleclass', 'nonmedical', 'dizziness', 'isabel', 'reuses', 'documented', 'sworn', 'danced', 'akhmat', 'concentrated', 'distilled', '2997', 'tapestry', '1875', 'freed', 'weak', 'grade', 'jointly', 'appendicitis', '78', '1860s', 'avm', 'elite', 'vocation', 'refer', 'hillel', 'slovak', 'acquire', 'signature', 'seafood', 'accounted', 'note', 'disasters', 'mandated', 'segregation', 'monastic', 'tradition', 'trashed', 'external', 'ramsay', 'wave', 'customer', 'housed', 'palais', 'mayhew', 'centum', 'signing', 'carpathian', 'basin', 'antihistone', 'requires', 'threefifths', 'goats', 'scientologist', 'hobby', 'exploding', 'annhilative', 'tuvalu', 'harmful', 'radiation', 'scifi', 'prisoners', 'bluishgrey', 'dorsally', 'vinyl', 'sometime', 'archivist', 'seaton', 'singled', 'snyderdirected', 'ant', 'kourtney', '51', 'dramatization', 'columnist', 'dramatized', 'jackpot', 'coughing', 'jacket', 'heavenly', 'malian', 'doogie', 'howser', 'md', 'dwell', 'nonphysical', 'relate', 'ethics', 'discuss', 'bricks', 'gettin', 'khagan', 'felidae', 'levy', 'achaean', 'brews', '437', 'oneil', 'indulgent', 'solarcity', 'moving', 'lizard', 'populate', 'sungkyung', 'subsequent', 'meleebased', 'tobias', 'wolff', 'climbed', 'furler', 'donor', 'jos', 'chacn', 'crucial', 'ark', 'colorblindness', '20072010', 'majorly', 'overhauled', '19981999', 'kuwait', 'vesuvius', 'omits', 'imagery', 'jk', 'opposing', 'razor', 'shotmaking', 'artistry', 'smelled', 'niptuck', 'goalie', 'properly', 'nun', 'officership', 'kittens', 'hampshire', 'eightfour', 'goldwater', 'sookie', 'stackhouse', 'telepathic', 'waitress', 'vijayawada', 'connection', 'wto', 'document', 'minute', 'monthly', '20052008', '513000', 'generative', '131', '2019', 'ashkay', 'awardsgiving', 'tippit', 'phases', 'gathered', 'biffy', 'clyro', 'doggy', 'nonconsecutive', '125', 'chemicals', 'mellark', '1209', 'overseeing', 'slings', 'arrows', 'sprinting', 'rural', 'railway', 'swedishdutch', 'ness', '1887', 'alleviating', 'bipartisan', 'comments', 'fronts', 'margalit', 'meet', 'prohealth', 'prophet', 'secretariat', 'anders', 'colsefni', 'campus', 'nicaragua', 'sixties', 'geological', 'personalities', 'mammalian', 'chartered', 'excommunicated', 'kesha', 'sticking', 'tongue', 'holt', 'mccallany', 'destroying', 'roam', 'kuiper', 'capricorn', 'umberto', 'eco', 'engineers', 'specialists', 'hanging', 'babylon', 'ritual', 'unranked', 'nicktoon', 'sheryl', 'embody', 'shonda', 'rhimes', 'espenson', 'iranian', 'rec', 'shopaholic', 'uli', 'edel', '1821', '245', 'pearce', 'steinbeck', 'kosar', 'remission', 'notting', 'infield', 'antithesis', 'sixthlargest', 'privacy', 'purchases', 'amounts', 'thirdgeneration', 'commit', 'wuotan', 'resist', 'ambitions', 'conscripted', 'revolver', 'scripts', 'constitutions', 'measurable', 'kardashians', 'toby', 'whithouse', 'larrain', 'battling', 'shannon', 'abdicating', 'deployed', 'impacted', 'tsunami', 'benioff', 'gosling', 'spend', 'guildhall', 'folio', '1623', 'casserole', 'eighty', 'birthdays', '765', 'abbott', 'fegrie', 'patent', 'ongoing', 'antinrnp', 'threaten', 'magnolia', 'battled', 'assesses', 'crossroads', 'danson', 'calves', 'simonon', 'trailblazers', 'unclear', 'ports', 'biking', 'followup', 'boogaloo', 'ibrahim', 'mud', 'reinterpreting', 'figures', 'drugabuser', 'thrills', 'pulitzer', 'prizewinning', 'investigative', 'jenson', 'midnineteenth', 'uprising', 'marched', 'gol', 'operas', 'variable', 'boon', 'percival', 'fossils', 'dutchspeaking', 'brody', 'marketed', 'laserdisc', 'cornish', 'reinforces', 'meritocracy', 'untrained', 'wharton', 'diversified', 'intro', 'coda', 'maqil', 'weekly', 'tryon', 'wish', 'ears', 'unconcerned', 'nonperspective', 'daughters', 'slwas', 'lampedusa', 'apocalyptic', 'writings', 'owing', 'obligation', 'independently', 'beyonce', 'combining', 'thirdhighestgrossing', 'pearl', 'epistle', 'nonsteroidal', 'antiinflammatory', 'steroidal', 'proinflammatory', 'gansu', 'guilty', 'olympian', 'preventing', 'decadence', 'agricultural', 'accusation', 'waking', 'moment', 'culinary', 'sander', 'portrait', 'emil', '1734', 'waller', 'reconciled', 'stepping', 'foot', 'incidental', 'nonadvertising', 'contexts', 'inhibited', 'unathletic', '1911', 'forecasts', 'hereditary', 'plummer', 'ruehl', 'diegos', 'openwheel', 'pulling', 'strings', 'coordinator', 'supercoppa', 'italiana', 'isador', 'cortez', 'flyby', 'unconventionality', 'license', 'homeric', 'concepts', 'galapagos', '1724', 'scripture', 'legumes', 'deity', 'epicenter', 'deposed', 'endure', 'assimilate', 'oann', 'controversy', 'saxophonist', 'broadcasts', 'maxwell', 'upright', 'brigade', 'sees', 'jichul', 'textual', 'prasthanatrayi', 'mahabharata', 'heirs', 'restore', 'bolshevik', 'reinstate', 'adaption', 'walks', 'ask', 'winehouse', 'exceeding', '230', 'clams', 'abstract', 'wisdom', 'expansions', 'immigrant', 'papers', 'bridesmaids', 'carthaginian', 'rr', 'sequential', 'syphilitic', 'disassociates', 'anarchism', 'nux', 'unlike', 'margin', 'gentlemen', 'prefer', 'blondes', 'unconnected', '73rd', 'utilized', 'leah', 'margret', 'inherent', 'links', 'touching', 'theia', 'boarding', 'mundialito', 'beating', 'airbus', 'a320', 'peloponnesian', 'progression', 'ripley', 'rooms', 'slim', 'shady', 'planning', 'suborbital', 'spaceflight', 'henning', 'mankell', '1852', 'vital', 'schutzstaffel', 'wo', 'apab', 'relaunch', 'carrieanne', 'moss', 'joust', 'cavalry', 'stations', 'wishful', 'eggs', 'deli', '1803', 'goddard', 'galloway', 'fleetwood', 'gaby', 'hoffmann', 'inheritance', 'byzantium', 'dimension', 'pre2000', 'circuits', 'capabilities', 'pap', 'hale', 'newest', 'carpet', 'correspondent', 'bump', 'grind', 'barbadian', 'jamaican', 'collyer', 'gentrified', 'thirds', 'elect', 'amerindian', 'keylime', 'cardiopulmonary', 'abingdon', 'oxfordshire', '1830', 'kazynski', 'limbs', 'prop', 'mls', 'mistaken', 'veteranarian', 'grocery', 'anastasia', 'semiauthoritarian', 'bredeweg', '27game', 'fronted', 'anal', 'undirected', 'unspoken', 'survivor', 'dhabi', 'nationstate', 'infrastructural', 'advances', 'educator', 'hearted', 'orthopedics', 'medicine', 'pools', 'nico', 'rosberg', 'kozmic', 'panel', 'reprised', 'multimedia', 'convict', 'diesel', 'stellan', 'skarsgrd', 'rocks', '1283', 'triggered', 'incarcerated', 'subspecies', 'landmarks', 'zak', 'starkey', 'township', 'twentyninth', 'knights', 'exceptionally', 'unintelligent', 'handles', 'transfers', 'fortified', 'recreational', 'dealing', 'pauper', 'shane', 'caleb', 'landry', 'kenworth', '677116', 'kaluuya', 'powerpuff', 'cyberchase', 'thirtieth', 'bard', 'retail', 'edmpop', 'risen', 'beyonc', 'harper', '35thlargest', 'rounders', 'biannually', 'diagnosticians', 'ducks', 'nectanebo', 'identical', 'inhabit', 'coauthored', 'niro', 'assangebiopic', 'omitted', 'prey', 'arrests', 'tasmania', '1625', 'torn', 'achilles', 'tendon', 'under20', 'under18', '1810', 'geology', 'innsbruck', 'harbors', '1915', 'conscription', '1802', '92', 'renderman', 'haitians', 'megalopolis', 'batgirl', 'dairy', 'approximate', 'sprints', 'reunion', 'habitat', 'percussionist', 'sunlight', 'gifts', 'planes', 'turturro', 'negatively', 'strangelove', 'acid', 'grandson', 'admires', 'admirer', 'puncher', 'narnia', 'adventured', 'chilly', 'protected', 'assigns', 'marks', 'merger', 'mild', 'ratified', '1778', 'backyard', 'mesophilic', '17thhighestgrossing', 'skateboard', 'trick', 'recalled', 'postindustrial', 'blackagar', 'boltagon', 'groundbreaking', 'abandoned', 'socialite', 'esp', 'aristocrat', 'zookeeper', 'cohost', 'rising', 'xealand', 'quickening', 'pet', 'atbat', 'chineseowned', 'gruelle', 'pirate', 'mandy', 'quotes', 'catchphrases', 'pirah', 'seperation', 'stew', '544th', 'rappers', 'cares', 'wrestlers', 'midsize', 'sedan', 'inca', 'vowed', 'refrain', 'knighted', 'rhinestone', 'shaped', '2009present', 'retirement', 'saved', 'enclosed', 'noncash', 'puppies', 'wahlburgers', '36', 'vila', 'belmiro', 'bairro', 'chickenpox', 'rapprochement', 'nrg', '100th', 'abdicate', '1798', '1713', 'cellphone', 'shoots', 'bullets', 'landslides', 'profit', 'gharb', 'alandalus', 'associations', 'kasi', 'maternity', 'guaranteed', 'promoter', 'unsupported', 'coedited', 'objective', 'hoop', 'maximus', 'decimus', 'meridius', 'scrooge', 'mcduck', 'jainist', 'anwar', 'elfman', 'turkish', 'stanbul', 'baakehir', 'fundamentals', 'caring', 'witness', 'lt', 'mcfee', 'omnivore', 'obscure', 'whenever', 'mood', 'brendan', 'fraser', 'agility', 'whilst', 'imprisoning', 'tolerance', '130', '450000', 'daring', 'vijay', 'acharya', 'teammate', 'investors', 'greeted', 'cantopop', 'miramax', 'twc', 'dining', 'ojibweanishinaabe', 'oxygen', 'postcards', 'statistical', 'adhere', 'crocodile', 'goodbye', 'cadiz', 'cardiology', 'jerseys', 'entertain', 'try', 'vampirelycan', 'allnew', 'poets', 'fan', 'awaiting', 'mighty', 'jutland', 'creatively', 'bret', 'instantly', 'burnett', 'bostonbased', 'ides', 'gallifrey', 'sequence', 'kitchen', 'realism', 'golfs', '82', '76', 'subsidized', 'multitude', 'recorder', 'albanians', 'watches', 'wellreceived', 'scarlet', 'kanji', 'emperors', 'cisgender', 'icelandic', 'waterslide', 'bejawada', 'presentday', 'martindale', 'cassius', 'clay', 'ticks', '50s', 'fourthsmallest', 'unsuccessful', 'assassinating', 'tribune', '326', 'espouse', 'consisted', 'pivotal', 'demise', 'meredith', 'crustaceans', '872', 'jj', 'floridian', 'lends', 'synchronized', 'lootdropping', 'leveling', 'evolution', 'fresh', 'satirical', 'louie', 'constructs', 'enid', 'rig', 'manipulating', 'perth', 'brightly', 'colored', 'scagliola', 'marina', 'civilization', 'carolinas', 'duration', 'novelistic', '1906', 'measurements', 'filmmaking', 'flags', 'prairie', 'colonists', 'idealism', 'geologically', 'signifies', 'conviction', 'experts', 'cell', 'recruit', 'hensley', 'miracle', '34th', 'ricardo', 'oe', 'kenzaburo', 'larson', 'longestrange', 'airliner', 'preston', 'jorgensen', 'appreciation', 'donner', 'hubs', 'bottles', 'packing', 'erie', 'needles', 'phyllida', 'hostile', 'wizardry', 'chennai', 'buster', 'tickets', 'flintstone', 'email', 'fortynine', 'acceleration', 'excess', 'corners', 'accomplice', 'angell', 'liked', 'revised', 'vaudeville', 'lear', 'twitch', 'bosworth', 'longestlived', 'reprising', 'pinciotti', 'machinemade', 'breaks', 'proper', 'gaiman', 'sugary', 'stephens', '40000', 'inducteee', 'interned', 'psych', 'miteborne', 'keene', 'hew', 'broad', 'dock', 'atm', '231', 'rex', 'simm', 'anglian', 'reproductive', 'vitro', 'fertilization', 'reilly', 'allmale', 'pore', 'complexes', 'consecutively', 'hotchner', 'aviation', 'pioneer', 'nasty', 'stored', 'tower', 'anatolia', 'preceded', 'wang', '1047', 'monotheistic', 'tatum', 'broadband', 'dialup', 'usage', 'deems', 'decolonization', 'happyness', 'criticallyacclaimed', 'presently', 'toxic', 'chemically', 'iphone', 'transcendence', 'norman', 'dano', 'teachers', 'dalai', 'lama', 'anatomist', 'marines', 'beanpot', 'especially', 'escalate', 'swami', 'vivekananda', 'towers', 'hillerman', 'billed', 'assaulted', 'nitroplus', 'longrunning', 'raped', 'diplomatic', 'salvation', 'coelho', 'moonblood', 'impeached', 'bleach', 'andes', 'vanished', 'exactly', 'dissolve', 'sleeps', 'lawless', 'nymphomaniac', 'yonkers', 'mcdonalds', 'stadiums', 'finland', 'reproduces', 'barrier', 'dividing', 'nightcrawler', 'minsoo', 'fifties', 'hardly', 'dialects', 'mariners', 'destroy', 'tripoli', 'alcoholic', 'drink', 'reactivation', '11000', 'ganges', 'sixtime', 'protestor', 'knowless', 'afternoon', 'delivered', 'healed', 'sickness', 'hitgirl', 'hacktivist', 'reboots', '269', 'totally', 'tatsumi', 'shin', 'megami', 'tensei', 'ceramics', 'taxonomic', 'classification', 'amistad', 'jd', 'prehistoric', 'smooth', 'coastwest', 'stray', 'distant', 'puts', 'toys', 'emigrate', 'crenellated', 'academia', 'lowintensity', 'breakroom', 'unacquainted', 'regionspecific', '20142015', 'deadliest', 'dublin', 'hire', 'greysloan', 'collaborates', 'renovated', 'gillette', 'politicians', 'gori', 'whatever', '314', '1805', 'hurley', 'tanino', 'correlated', 'occurrence', 'singeractress', '1049', 'politburo', 'dissolves', 'remove', 'agreed', 'variegated', 'intentionally', '180', '181', 'jayne', 'mansfield', 'arranger', 'observing', 'prevails', 'ambient', 'prevail', 'helps', 'description', 'caroline', 'blakiston', 'fragments', 'mention', 'lynn', 'stripped', 'taped', 'wilkes', 'booth', 'screening', 'antisocial', 'wden', 'nordic', '115100023', '5814', 'braavosi', 'applies', 'wolfgang', 'peterson', 'recorders', 'exploited', 'circuses', 'onewoman', 'okla', 'interpretations', 'scared', 'shrek', 'ballplayer', 'purchase', 'tires', 'persecution', 'powerless', 'colonizer', 'curtain', 'millennium', 'crawl', 'integration', 'twentyone', 'incrementally', 'rikers', 'mordor', 'cspan', 'mixedsex', 'ppv', 'shroom', 'reliance', 'nirvana', 'subsidizes', 'promotes', 'thirdgreatest', 'apiece', 'inning', 'cheapest', 'wimbledons', 'guarded', 'duchy', 'grammywinning', 'retailers', 'pass', 'violence', 'upscale', 'continuing', 'truman', 'dookie', 'trainee', 'leopard', 'espresso', 'hinduism', 'discontinue', 'instruction', 'flour', 'milling', 'mesopotamia', 'moves', 'hindubuddhist', 'hustle', 'parma', 'demilitarized', 'biggie', 'smalls', 'dotun', 'adebayo', '1835', 'pushed', 'finish', 'permission', 'defied', 'lennonplastic', 'trout', 'recaptured', 'cardiff', 'hunstman', 'keeper', 'useful', 'metabolic', 'feared', 'quarrelled', 'texans', '20092010', 'dualistic', 'nonflowering', 'ursidae', 'reset', 'backstory', 'fifthlongest', 'sebastian', 'smythe', 'costly', 'refuse', 'arpanet', 'downplay', 'seahorses', 'storylines', 'totalitarian', 'corrupt', 'locale', '1381', 'canadians', 'sympathized', 'controlla', 'sucker', 'punch', 'exhibiting', 'components', 'earnest', 'terminology', 'frenchwoman', 'restrictions', 'numbencore', 'freckle', 'meatbased', 'dissociated', 'druid', '1113', 'benefits', 'technician', 'minimal', 'internetrelated', 'opposition', 'pharmaceutical', 'iv', 'phoenicians', 'accomplished', 'byrne', 'soothes', 'torch', 'vilnius', 'erstwhile', '1753', 'portfolio', 'imprisoned', 'thoroughbreds', 'akin', 'indictment', 'lamppost', 'congratulations', 'blocking', 'liquefy', 'pressed', 'capones', 'accumulated', 'berates', 'kilometer', 'megacity', 'headstrong', 'refusing', 'definite', 'kitten', 'germanspeaking', '660', 'voight', '1099', 'cube', 'corruption', 'marmara', 'spun', 'summertime', 'mcdj', 'dancy', 'terrio', 'unreal', '39118', 'democrat', 'menlo', 'hans', 'andersen', 'yodeler', 'tonys', '90210', 'addressed', 'topical', 'alcoholism', 'antisemitism', 'aids', 'breck', 'eisner', 'nickelodean', 'fundraiser', 'parisot', 'meant', 'ge', 'fei', 'imogen', 'poots', 'railroad', 'phone', 'accolades', 'awarding', 'trading', '1452502', 'taliban', 'precipitation', 'villages', '20012003', 'narrows', 'representation', 'logs', 'theo', 'gogh', 'quad', 'footloose', 'ninety', 'euphoric', 'sponsor', 'swamps', 'businessperson', 'tomorrow', 'buick', 'britishgerman', 'breathing', 'deforestation', 'thereafter', 'converted', 'nonforest', 'spartacus', 'dole', 'winkleman', 'misnomered', 'squire', 'iggy', 'eli', 'shewolf', '1829', 'nonreligious', 'colfseni', 'mulitsport', 'multigenre', 'torah', 'lectin', 'reports', 'constantinople', 'barbie', 'villemarie', 'hoboken', 'treating', 'multiracial', 'casts', 'parrots', 'simmons', 'punjabi', 'packiam', 'researched', 'collectivist', 'deportation', 'decree', 'resides', 'loop', 'searches', 'dutchess', 'antonio', 'campos', 'jolene', 'attempting', 'putting', 'postmodern', '90377', 'sedna', 'edmonton', 'alberta', 'ioc', 'unanimously', 'bihar', 'caf', 'lg', 'karl', 'marx', 'critique', 'dooku', 'obtained', 'spokesman', 'adventureland', 'bronte', 'collaborations', 'multicultural', 'scary', 'catreus', 'gangsters', 'dona', '243', 'cookie', 'poodle', 'transmit', 'woodstock', 'implements', 'fossil', 'fuels', 'culminate', 'ta', 'converting', 'reproduced', 'selfreliant', 'partners', 'unresearched', 'updike', '2083', 'conquered', '1638', '1556', '1605', 'merkel', 'positioned', 'insert', 'lifespan', 'hq', 'skywalker', 'allow', 'falseflag', 'steroids', 'tanu', 'weds', 'manu', 'morocco', 'inner', 'rubber', 'diseasefree', 'sanjeevani', 'vidya', 'sudha', 'assist', 'survivors', 'ims', 'disturbia', 'worms', 'schooled', 'carries', 'philanthropic', 'gerbil', 'operate', 'considers', 'apartment', 'bb2', 'tattoos', 'teaches', '77', 'menswear', 'boxers', 'coproduction', 'fortyfourth', 'doahl', 'felicia', 'recordholder', '431', '404', 'berlanti', '35th', 'rebelling', 'thenboyfriend', 'polishbritish', 'monogamy', 'councilman', 'teck', 'mainframe', 'selfishness', '1600s', 'allfemale', '43rd', 'nelly', 'allpowerful', 'omnipotent', 'argumentative', 'wb', '142nd', 'fluid', '18581', 'mythical', 'kelsey', 'grammer', 'rewrote', 'listing', 'slapstick', 'exchange', 'currencies', 'equal', 'respective', 'alliances', 'trinidadianamerican', 'steppe', 'sprung', 'collapsed', '1407', 'straddle', 'quaker', 'someplace', 'collectively', 'goldman', '176', 'demographics', 'odds', 'precious', 'ukrainian', 'aubagne', 'labored', 'textbook', 'cavill', 'costner', 'lane', 'shrank', 'palaeogene', 'showrunners', 'allison', '1890s', 'assists', 'liga', 'elisabeth', 'figurine', 'fifths', 'partisan', 'influencing', 'sugar', 'magick', '1790s', 'rightist', 'christened', 'berber', 'dilwale', 'dulhania', 'jayenge', 'mohabbatein', 'stealing', 'marital', 'ontological', 'aapke', 'koun', 'airways', 'leakin', 'brighton', 'corecipient', 'economist', 'relinquished', 'codirector', 'barclays', '5pm', 'partial', 'surf', '900567', 'busta', 'rhymes', 'initiation', 'proponent', '30000000', 'undergoing', 'renovations', 'auctions', 'collecting', '20092016', 'mikhaylovich', 'kgb', 'goldfish', 'nuisance', 'bartering', 'accessions', 'rfc', 'illustrates', 'inflammation', 'gastrointestinal', 'tract', 'sinuses', 'continuous', 'believers', 'fesitval', 'citystate', 'kunming', 'plantthemed', 'nicknames', 'prophesied', 'balance', 'prophecy', 'stated', 'arundhati', 'waiting', 'advised', 'patricia', 'photos', 'neglects', 'dameron', 'settlements', 'lebeouf', 'aka', 'griffin', 'bastard', 'stoked', 'embrace', 'meldonium', '33game', 'constituent', 'rejects', 'grodin', 'convenes', 'continuum', 'legalization', 'broadly', 'lavaughn', 'tympanist', 'belfast', 'casper', 'misery', 'subcontinental', '1611', 'uttered', 'onceyearly', 'israeli', 'ageing', 'theological', 'principle', 'cheerleader', 'landbased', 'oversight', '1878', 'eighthlargest', 'simeon', 'partowner', '19681969', 'billionaire', 'dehn', 'raj', 'pretzels', 'kuwaiti', '40thhighestgrossing', 'macys', 'virtuality', 'frasier', 'underwater', 'authorities', 'theorist', 'tutoring', 'giacchino', 'cologne', 'shrunk', 'landform', 'noirthriller', '1725', 'bodybuilding', 'bodybuilders', '1796', 'superhuman', 'thirdhighest', 'naguib', 'mahfouz', 'blaine', 'zimmer', 'boredom', 'forfeited', 'expelled', 'groff', 'floppy', 'inventing', 'unwanted', 'bhagat', 'claim', 'responsibility', 'interpreted', 'spared', 'acres', 'ransom', 'generals', 'occurrences', 'fierce', 'contributes', 'dev', 'patel', 'rust', 'cider', 'hedge', 'frameworks', 'verde', 'fiddle', 'retroactively', 'albanian', 'miner', 'hunagrianamericans', 'fairley', 'nonselfgoverning', 'irvin', '81971', 'stageira', 'twisted', 'secondbiggest', 'resolutions', 'effectively', 'bicycles', 'rel', 'howery', 'outnumbered', 'donates', 'venetian', 'arguments', 'slovakian', 'blenders', 'sao', 'paolo', 'tempest', 'coups', 'unaffected', 'kirsten', 'dunst', 'veejay', 'rests', 'benz', 'leehom', 'tenacious', 'longtime', 'incumbent', 'sparingly', 'gill', 'aware', 'cultures', 'barret', '2095', 'contracting', 'bloom', 'regulated', 'millennial', 'geographically', 'ardal', 'ohanlon', 'subways', '247', 'changan', 'lio', 'ho', 'tabloid', 'peripheral', 'moldovan', 'multimilliondollar', 'naturalizedgerman', 'arizonan', 'armies', 'improve', 'panem', 'americanirish', 'predominated', 'almighty', 'mask', 'toddlers', 'reuniting', 'indonesian', 'advantage', '157', 'clue', 'underdeveloped', 'conducts', 'orchestras', '1240', 'aires', 'tattoo', 'mira', 'nair', 'separately', 'employ', 'bathroom', '1593', 'wed', 'economically', 'incomplete', 'residencies', 'psy', 'sushi', 'thai', 'turnips', 'labeled', 'maximalist', 'flesheating', 'refrained', 'unabomber', 'coproducer', 'politicaldrama', 'jonze', 'swimmers', 'progeny', 'slavic', 'chill', 'defunct', 'interesting', 'niihau', 'easternmost', 'collaboratively', 'tiniest', 'relation', 'mufasa', 'unmetathesized', 'strife', 'regent', 'antoine', 'mothe', 'cadillac', 'fullscreen', 'snsd', 'uptown', 'isolated', 'propionic', 'migrate', 'lumber', '19521958', 'tyranny', 'timeline', 'whitford', 'carrier', 'incident', 'nighttime', 'pencil', 'steak', 'salad', 'cild', 'hiphopera', 'simulation', '1665', 'interdependent', 'abduction', 'trustees', 'pagan', 'maxentius', 'dodgers', 'dispersed', 'problem', 'thee', 'depends', 'sellerlists', 'menopausal', 'ps4', 'bawitdaba', 'goddesses', 'selfcommanding', 'malone', 'pigeon', 'believes', 'establishments', 'savanna', 'itch', 'bids', 'subfield', '836', 'earnings', 'mutiny', 'scrapped', 'fortunate', 'predator', 'allamerica', 'telephony', 'recordsetting', 'slowestgrowing', 'stimulant', 'dentist', 'numerically', 'patti', 'scialfa', 'americana', 'herbivore', 'selfempowerment', 'dohny', 'supermensch', 'shep', 'uttar', 'opium', 'noneuropean', 'dealey', 'plaza', 'cofounders', 'wombat', 'gq', 'drawn', 'musically', 'ineligible', '231971', 'oscarwining', 'invest', 'whinehouse', 'stratagem', 'gene', 'pollution', 'coastlines', 'bluegrass', 'ekta', '1648195', 'interacted', 'mostfollowed', 'lena', 'headey', 'demonym', 'szkelys', 'trains', 'nutrients', 'already', 'gives', 'discs', 'sunni', 'leaving', 'dramatist', 'sticky', 'lowestearning', 'ugliest', 'climber', 'arm', '1494', '1559', 'undivided', 'movements', 'hasaan', 'futurist', 'fidel', 'castro', 'haven', 'metrics', 'assaulter', 'streamed', 'belair', 'decreasing', 'skyscrapers', 'pillows', 'brubaker', 'domesticated', '64946', 'gameplay', 'adequate', 'diarist', 'shaun', 'gradual', 'briton', 'governments', 'revered', 'aardvark', 'crab', 'insects', 'penal', 'cured', '310', 'fault', 'cross', 'integral', 'tennessean', 'uae', 'equity', '1870s', 'vapor', 'shreier', 'recipe', 'operatically', 'rulings', 'dynasties', 'vegetative', 'giamatti', 'further', 'denounced', 'distinction', 'careers', 'peanut', 'bantu', '710', '10second', 'rare', 'earlyonset', 'slowly', 'diarrhea', 'cyprus', 'armenia', 'extraordinary', 'tenacity', 'survive', 'tudor', 'patents', 'commented', 'cowrite', 'andor', 'imports', 'attributed', 'malia', 'soup', 'clueless', 'bfca', 'lfcc', 'accessed', 'halloween', 'baptism', 'translations', 'stratford', 'juni', 'providence', 'incurable', 'untreatable', 'unrecorded', 'pool', 'mamet', 'dextroamphetamine', 'shippuden', 'tennyson', 'seventhlargest', 'gaining', '1881', 'hijra', 'optics', 'soloist', 'sophia', 'petrillo', 'unreviewed', 'wagons', 'dahlia', 'cvs', 'mallorca', 'chemistry', 'clients', 'lumps', 'frame', 'viewpoints', 'straddled', 'burj', 'mornin', 'comin', 'thesis', 'grapes', 'cougar', 'deere', '316', 'observer', 'constellation', 'conjugates', 'fourversusfour', 'katniss', 'everdeen', 'tormund', 'giantsbane', 'univision', 'paralysed', 'promoting', 'virginius', 'budgets', 'russiana', 'turtle', 'colonize', 'turnip', 'weeds', 'administered', 'humanities', 'selleck', 'podcasting', 'iraniansaudi', 'divide', 'multicellular', 'bulldog', 'narrow', 'fulltime', 'unphotogenic', 'liger', 'risn', 'hut', 'fuck', 'stratospheric', 'lemon', 'unparalleled', 'scrubs', 'wrong', 'decadeslong', 'depp', 'archeologist', 'professorships', 'trumpeter', 'zincair', 'britishfrench', 'feelings', 'leaky', 'faucet', 'pigeons', 'swollen', 'phoenician', 'gandolfini', 'assumes', 'annihilating', 'frenchmen', 'mid2000s', 'encompassing', 'kadapa', '1577', 'slump', 'indirect', 'combines', '704352', 'eightepisode', 'romona', 'beezus', 'perished', 'deacon', 'gertrude', 'stein', 'aur', 'pyaar', 'gaya', 'propofol', 'lucasfilm', 'athelete', 'oromiffa', 'excavates', 'gemstones', 'buffy', 'slayer', 'rendezvous', '1669', 'circumstellar', 'disembowelment', 'gershwin', 'rightwing', 'coroner', 'channels', 'advertisement', 'jame', 'gumb', 'axmurderer', 'treasury', 'gordan', 'angeline', 'dependence', 'beats', 'glamour', '777s', 'painless', 'transmission', 'aspirin', 'unused', 'centerfold', 'stasi', 'autoimmune', 'bubble', 'earthbased', 'mikhailovich', 'multimillion', 'dollar', 'andronicus', 'richer', 'amancio', 'ortega', 'burden', 'busan', 'tossed', 'afi', 'giver', 'elon', 'musk', 'separation', 'calculus', 'syracuse', 'bruckheimer', 'wrigley', 'terrible', 'webrelated', 'sierra', 'tough', 'handle', '402', 'windows', 'interwar', 'define', '632912', 'maclachlan', 'trigger', 'subjects', 'royla', 'princeton', 'entering', 'berklee', 'cryptids', 'convened', 'laissezfaire', 'interference', 'herbivores', 'connors', '1315', 'nilotes', 'cooperative', 'marais', 'consort', 'famed', 'wertgesetz', 'memoirs', 'lorde', 'habitats', 'programmers', 'biologists', 'roddenberry', 'essayist', 'plan', 'hirsch', 'uma', 'thurman', 'felony', 'advertisements', 'harmless', 'greenishred', 'inspire', 'logging', 'a530', 'overlooked', 'fourperson', '1276', 'capra', 'ween', 'hamburg', 'substitutions', 'tactician', '1540', 'segmented', 'lampoon', 'hadiths', 'firstlongest', 'saltzman', 'totaled', 'tigris', 'empowered', 'acquiring', 'vogtroberts', 'knox', 'invertebrates', 'wiles', 'slatoon', '400000000', 'admiration', 'geometric', 'inconsequential', 'exmember', 'panama', 'holders', 'polanski', 'headofstate', 'chaos', 'racehorse', 'disregard', 'doughnuts', 'agrees', 'hate', '49th', 'hiroko', 'tabuchi', 'bully', 'soothe', 'megadiverse', 'birthing', 'langseth', 'karamazov', '1782', 'kirkland', 'sevastopol', 'untitled', 'tehran', 'psychokinesis', 'unwed', 'academyaward', 'privilege', 'bluegrey', 'lazy', 'pants', 'permeated', 'endorsed', 'urge', 'researching', 'coanchor', 'update', 'mgmbritish', '2200s', '20thcentury', 'uncast', 'sculpt', '83rd', 'arachnologist', 'gaffigan', 'transcribed', 'gerontologists', 'patrice', 'chreau', 'devils', 'steps', 'cephalothorax', 'excursion', 'mite', 'sarcoptes', 'scabiei', '1066', 'clergyman', '1654', 'matthias', 'schleiden', 'polarized', 'halted', 'holm', '1443', 'sexfilled', 'noon', 'phillippines', 'phillippine', 'vegetable', 'smuggle', 'bogart', 'ferris', 'bueller', 'gadgets', 'nonfortified', 'fourteentime', 'parchment', 'codex', 'deterrent', 'recognize', 'satyajit', 'subsequently', 'mosque', 'productive', 'task', 'formatted', 'raoul', 'criticisms', 'images', 'oneman', 'bombing', 'unify', '1392', 'schizophrenia', 'elections', 'auditor', '1254', 'pimp', 'butterfly', 'unpopulated', 'gunman', 'carmarthenshire', 'exercise', 'hacktivists', 'caesarion', 'upc', 'barcode', 'interactive', 'awakening', 'tiffanys', 'commune', 'employees', 'ratchet', 'hull', 'peripheries', 'arise', 'tan', 'cocreate', 'gustav', 'cereal', 'worstselling', 'knowlescarter', 'rowland', 'czar', 'consume', 'howlett', 'burlesque', 'hips', 'expanding', 'accountable', 'contact', 'elena', 'ferrante', 'shelion', 'innovate', 'spearheaded', 'hideo', 'kojima', 'suicides', 'noncompulsory', 'balboa', '1880s', 'bombdropping', 'geordie', 'alter', 'excellent', 'judges', 'topcharting', 'reptilia', '20s', 'transparency', 'parkinson', 'impressionist', 'abolished', 'antonym', '19841990', 'infertile', 'accrued', 'tito', '1774', 'poes', 'synthesizer', 'adheres', 'principles', 'gibbard', 'certifies', 'suffer', 'mid1950', 'relating', 'cd', 'driest', 'exonerated', 'intelligent', 'observers', 'dare', 'layers', 'innocent', 'monopoly', 'saffron', 'unpolitical', 'improv', 'heightens', 'riverfront', 'englishman', 'emotion', 'semiarid', 'dundee', 'indians', '1827', 'subset', 'sahid', 'acceptance', 'worsened', 'bending', 'freekicks', 'costume', 'skiffle', 'martha', 'blow', 'overtaken', '317', 'herding', '652', 'tombstone', 'intellectuals', 'cap', 'punchers', 'blooded', 'bringing', 'hamster', 'frankentstein', 'fifthhighestgrossing', 'nesbitt', 'seized', 'atmosphere', 'partook', 'inhalation', 'translation', 'longrange', 'add', 'issued', 'fortnight', 'electrician', 'canadianspanish', 'wills', 'sr', 'classes', 'irregular', 'unintentional', 'accept', 'atheist', 'cataclysmic', 'intercities', 'fairs', 'intertoto', 'confined', 'nickleby', 'roving', 'canines', 'sweats', 'guardian', 'vertigo', 'drafts', 'julyan', 'skrillex', 'obese', 'semester', 'sapporo', 'hopkins', 'brings', 'edifice', 'sarawak', 'molester', 'guidelines', 'parental', '1884', 'submitted', 'frenchbritish', 'holidays', 'lobbied', 'baftas', 'chainsaw', 'massacre', 'jains', 'playlist', 'dated', 'pinned', 'pamphlet', 'emigration', 'defined', 'speedboat', 'stabilizer', 'harder', 'alfredo', 'mid2009', 'luo', 'unseen', 'beef', 'alton', 'waluigi', 'unofficial', 'contestants', 'youthful', 'attendees', 'yankees', 'hitman', 'frenchamericanbritish', 'collaborating', 'masterson', 'merge', '1360', 'maintainer', 'selma', 'montgomery', 'hourlong', 'log', 'panamanian', 'thinker', 'spawned', 'jealous', 'proliferation', '1000000', 'blitz', 'overcome', 'memorizing', 'indies', '46', 'tentacles', 'circus', 'trademarked', 'friendship', 'continuation', 'alsace', 'tesco', 'diaspora', 'blossomed', 'dempsey', 'begium', 'report', 'edith', 'regularly', 'inheritor', 'hands', '20012007', 'dabi', 'pima', 'endangered', 'gabriel', 'hammond', 'simplified', 'compatibility', 'spell', 'honoring', 'lebanese', 'skater', 'wrongly', '3000', 'remainder', 'aspect', '60th', 'sportscentury', 'abiding', 'nightclub', 'captains', 'nominees', 'tie', 'drop', 'quiet', 'syfy', 'leaned', 'toward', 'kami', 'stohl', 'embarked', 'masculine', 'filmrelated', 'guitars', 'sub1', 'machester', 'exhibits', 'memorials', 'lacking', 'implicated', 'maracana', 'pseudonym', 'railroads', 'russianitalian', 'fascism', 'bologna', 'autocracy', 'militarily', 'advance', 'johan', 'bruyneel', 'comedians', '2012lymphoma', 'practicer', 'roots', 'metaphysical', 'unrestricted', 'modification', 'drivers', 'ski', 'resorts', 'jungles', 'recieved', 'saskatchewan', 'victors', 'specifically', 'extant', 'unequivocally', 'scunthorpe', 'predominately', 'thorogood', 'reenactment', 'mahershala', 'brick', 'wailers', 'laptop', 'parlor', 'oak', '700000', 'cofound', '1885', 'standalone', 'fusion', 'wrapped', 'fit', 'nonexistent', 'marti', 'noxon', 'cramond', 'kangaroo', '791', 'podcaster', 'negotiate', 'wildlings', 'incapacitated', 'determines', 'hispanic', 'arriaga', 'watching', 'astrom', '371', 'pleistocene', 'opposes', '497', 'ar', 'murugadoss', 'waterdwellers', 'haider', 'madeup', 'puritans', 'nonanimated', 'chivalric', 'ascended', 'sportswoman', 'chefs', 'jude', 'faking', 'blogs', 'concentration', 'ishq', 'vishk', 'proapartheid', 'viewership', 'occasions', 'mankind', 'diety', 'mcg', 'chat', 'linklater', 'watersheds', 'yeri', 'neighbours', 'conchords', 'hitter', 'dolphins', 'rockers', 'sued', 'jamaicanborn', 'yearly', 'pillow', 'republished', 'methodist', 'unfortunately', 'aurorae', 'aureae', 'originator', 'expression', 'banning', '1003', 'nonsegmented', '1765', 'h2o', 'winding', 'refn', 'sequencing', 'practitioner', 'tracking', 'congressman', 'fivestar', 'assailant', 'flog', 'gnaw', 'imitation', 'bounding', 'qualified', 'flamingo', 'thereby', 'granting', 'onset', 'reviewers', 'unoriginal', 'loser', 'rebranded', 'watertown', 'arguing', 'scribe', 'harassment', 'oddity', 'assassinate', 'persisted', 'proceeds', 'bull', 'moose', 'procedure', 'leisurely', 'naan', 'mahaan', 'alla', 'auditioning', 'brahma', 'ban', 'anson', 'chromosomes', 'moderately', '1846', 'hooper', 'construct', 'shuji', 'terayama', 'hayley', 'atwell', 'buying', 'arabiclanguage', 'bakery', '1808', 'llamas', 'karate', 'desk', 'hd', 'samoan', 'newt', 'garbage', '1670', 'sax', 'confederacy', 'agostino', 'casaroli', 'vita', 'commitments', '1296', 'dictators', 'walked', 'hanna', 'barbera', 'chickens', 'originates', 'ntsb', 'imperialism', 'murda', 'beatz', 'jocelyn', 'injure', 'kemal', 'locally', 'anthing', '146th', 'misdiagnosed', 'spartans', 'pacifistic', 'refrains', 'spearhead', 'boxoffice', 'metals', 'strawberry', '401', 'thengirlfriend', '8364', 'underlings', 'eon', 'herculean', 'carp', 'doctorates', 'reveal', 'mayan', 'spies', 'baftawinning', 'prolonged', 'sauropods', 'crowder', 'truestory', 'loot', 'drops', 'decent', 'liveleak', 'survivalhorror', 'comicgraphic', 'sexuality', 'arsenal', 'monterrey', 'microscopic', 'puppetry', 'yes', 'regenerating', '10000', 'ayala', 'rodrguez', 'epistles', 'phylogeny', 'ast', 'teased', 'weekday', 'edinburgh', 'concerts', 'sulphuric', 'agganis', 'abrupt', 'weddings', 'dvds', 'candian', 'alternating', 'oneseason', 'uninhabited', 'reintroduced', '1630s', 'oscarwinning', 'ninetythird', 'detail', 'beneficiary', 'distinguishable', 'bookstore', 'orifice', 'soho', 'wynne', 'dukes', 'graand', '1501', 'turnaround', 'screamed', 'obscenities', 'comingofage', 'watercraft', 'improved', 'kite', 'jemisin', 'sparse', 'handicapped', 'howl', 'noone', 'deliberate', 'coated', 'testicular', 'lowspeed', 'highlighted', 'uninhabitable', 'provoked', 'methods', 'overseer', 'eighttime', 'evacuated', 'musil', 'grandfathers', 'commoners', 'professionals', 'designation', 'pynchon', 'fundamentalist', 'sheer', 'cliff', 'faces', 'whaley', 'upn', 'gob', 'births', 'microphone', 'corner', 'ferocious', 'capetonian', 'galicia', 'heraldry', 'welling', 'crises', 'actionmasala', 'actionthriller', '2time', 'stagnant', 'quantico', 'golfers', '1445', 'nickelback', 'christophe', 'successfully', 'singleplayer', '1692', 'dixon', 'blumberg', 'elric', '15second', 'extremis', 'rent', 'plasma', 'allpowerfull', 'unaware', 'rivals', '1770s', 'westward', 'directtovideo', 'ripa', 'intersection', 'koval', 'virginian', 'prankster', '6443', 'goers', 'renton', 'truffle', 'paints', 'fiveyear', 'posts', 'recordbreaking', 'conditions', 'performers', 'bees', 'circe', 'aries', 'routes', 'outcast', '11thmost', 'undisputed', 'umayyads', 'spaniards', 'hautecorse', 'rodgers', 'unimpressed', '0914918327', 'organist', 'turmoil', 'mandatory', 'norville', 'fungus', 'technique', 'littlest', 'pizzas', '3140', 'muscles', 'relax', 'emission', 'electrons', 'carriers', 'shone', 'dioxide', 'teavana', 'digits', 'trillions', 'pertain', 'gobi', 'marathon', 'fifthrichest', 'barrio', 'fino', 'grimace', 'trying', 'late1990s', 'swing', 'colombianborn', 'englishdutch', 'identifies', 'citywide', 'velma', 'hospitalizations', 'pinkprint', 'modified', 'generations', 'airmen', 'felt', 'fifthleast', 'bother', 'knock', 'dinesh', 'vijan', 'contributing', 'infects', 'climbing', '542664', '600000', 'invasions', 'prayer', 'need', 'assignment', 'ambiguous', 'irishamerican', 'cameos', '1712', 'defining', 'characteristic', 'jeffers', 'karpo', 'godina', 'ivery', 'retire', 'mutant', 'absurdist', 'demigod', 'libertyville', '118th', 'flypaper', 'folks', 'harrington', 'alianovna', 'unfavorably', 'adaptations', 'entombed', 'afraid', 'trafficking', 'diagrammed', 'rockford', 'lengthy', 'consultation', 'clumped', 'masterpiece', 'lcd', 'soundsystem', 'maiden', 'lycans', 'goundlings', 'willingness', 'reconcile', 'diagnose', '1215', 'ma', 'monty', 'opinions', 'alignment', 'allamerican', '20013', 'ions', 'scissorhands', 'germanitalian', 'drift', '1356', 'celestial', 'bananas', 'garment', 'hellmouth', 'yorkshire', 'terrier', 'pebble', 'protege', 'hydrant', 'withholds', 'scratch', 'prehistory', 'textbooks', 'spirals', 'downward', '22season', 'crucible', 'skits', 'interviews', 'locates', 'malay', 'mandarin', 'bostonwas', 'frdric', 'auguste', 'bartholdi', 'lectured', 'reasserted', '1340s', 'reptiles', 'shepherds', 'bred', 'extent', 'harmonimix', '696', '124', 'tire', 'convertible', 'wielding', 'imagined', 'sci', 'fi', 'understanding', 'shortestlived', 'prohibited', 'perpetrated', 'seward', 'kinds', 'empowering', 'giuseppe', 'verdi', 'pieeating', 'disagreement', 'carthaginians', 'zirid', 'alps', 'saxecoburgsaalfeld', 'commons', 'melodrama', 'siddhartha', 'gautama', 'families', 'recall', 'neurone', 'egyptians', 'stebbins', '00s', 'tenure', 'pies', 'descalzos', '1345', '301', 'edits', 'taal', 'ghai', 'competitors', 'throw', 'annexing', 'sql', 'shelved', 'indefinitely', 'mona', '87', 'papal', 'lithuanian', 'horrordrama', 'bjrn', 'borg', 'physiographic', '320', 'hardin', 'holley', 'philae', 'ultramar', 'portugus', 'multigame', 'optical', 'gt', 'path', 'livestream', 'negligible', '1733', 'palm', 'instrumentalist', 'analysts', 'filmic', 'macintosh', 'instrumentalists', 'qualify', 'finishing', 'regentgovernor', 'exlover', 'cephalopod', 'spaniard', 'rotten', 'tampa', 'respectfully', 'kearny', 'lineages', 'untalented', 'traveling', 'freight', 'accomplices', 'inhouse', 'spartanburg', 'elsewhere', 'rbi', 'hairdresser', 'boleyn', 'raffle', 'cow', 'challenging', 'missile', 'blended', 'hitchcocks', 'nhl', 'dutchmen', 'alternated', 'aims', 'comprehend', 'comfort', '24hour', 'deadmaus', 'monks', 'argentines', 'pig', 'vended', 'remedial', 'ace', 'oops', 'abbrevation', '1604', 'slither', 'xavier', 'gens', 'mansion', 'paean', 'librarian', 'tarantula', 'stagirus', 'ambion', 'pitchers', 'materialism', 'bibles', 'purveys', 'shies', 'individualbased', 'inglorious', 'distinct', 'carbohydratebinding', 'remarking', 'unstoppable', 'aggressive', 'uphill', 'milot', 'modernist', 'hendricks', 'hoult', 'chlo', 'moretz', 'pillage', '753500', 'twelvetime', '1277', 'enclaves', 'abducting', 'pups', 'stands', 'foxes', 'marcos', 'siega', 'oppose', 'choose', 'fredo', 'verbatim', 'suppress', 'griffey', 'redeemer', 'atop', 'corcovado', 'newscaster', 'sentencing', 'skill', 'conception', 'tvirus', 'allenglish', 'allone', 'capote', 'authoritative', 'regards', 'privateers', 'coarse', 'particulate', 'homers', 'normality', 'iberian', 'hillside', 'mortal', 'typewriters', 'latvian', 'ethic', 'hapsburgs', '61953', '64200', 'permitted', 'nunavut', 'duchess', 'assisting', 'prologue', '1840', 'supervillian', 'capitalist', 'devo', 'jaguar', 'petronas', 'imagerendering', 'swedishcanadian', 'lummen', 'spokane', 'doom', 'healthrelated', 'rwanda', 'phrase', 'qualification', '1592', 'easton', 'satellites', 'planetary', 'polished', 'colorful', 'ambitious', '26yearold', 'unites', 'arbitrary', 'sensation', 'desire', 'ellin', 'besieged', 'ticket', 'garfunkel', 'monument', 'peertopeer', 'file', 'idea', 'theologian', 'predictable', 'algerian', 'recomposed', 'decommissioned', 'hawaiian', '32yearold', 'knockout', 'rehabilitated', 'requested', 'wheb', 'cryptid', 'lips', 'floors', 'nissan', 'osprey', 'juventus', 'japaneselanguage', 'patient', 'domains', 'palestinian', 'communicates', 'vandals', 'gyllenhal', 'wideranging', 'rectangle', 'coins', 'lots', 'newmans', 'topple', 'generic', 'bugle', 'thrown', 'shiny', 'gypsy', 'losses', 'andromeda', 'resumed', 'succeed', 'meteor', 'influenza', 'chenies', 'manor', 'colossal', 'doughnut', 'doowop', 'counterparts', 'aziz', 'ansari', 'burglar', '19141918', 'skateboards', 'poseidon', 'porn', 'heimat', 'changing', 'locked', '1908', 'infectivity', 'mirth', 'sacha', 'spray', 'dolls', 'orcs', 'jana', 'gana', 'mana', 'rollbacks', 'indiaarie', 'portions', '154', 'mcainfeingold', 'quesada', 'unmentioned', 'deepest', 'transformer', 'speakers', 'ones', '9000', '1678', 'dearth', 'doglike', 'scare', 'selfobsession', 'finds', 'orphanage', 'vegetarian', 'ming', 'countrypop', 'poincare', 'lessen', 'unprofitable', 'zee', 'orchestrated', 'iguanas', 'dubious', 'lawnmower', '86th', 'noncontiguous', '3year', 'delay', 'norwayscotland', 'amry', 'regulars', 'temperatures', 'worthless', 'finest', 'measure', 'exporting', 'entertains', 'helper', 'proteins', 'minnesotan', 'prepared', 'futbol', 'talker', 'pokemon', 'southsoutheast', 'utilize', 'builder', 'centrist', 'audition', 'trapped', 'ashby', 'fiancee', 'chewbacca', 'taurus', 'goa', 'britsh', 'outbreak', 'hysteria', 'attraction', 'rolls', 'royce', 'superbowl', 'eastside', 'destined', 'incompatible', 'depictions', 'noticeably', 'underbelly', 'dorsal', 'milkshake', 'spelling', 'spanning', 'passion', 'psoriasis', 'fatty', 'rays', 'teddy', 'chanel', 'conversation', 'neglecting', 'calm', '1642', 'noncooperation', 'strategies', 'ucla', 'mural', 'fits', 'phrasing', 'noncompetitive', 'etcher', 'undefeated', 'delorean', 'uncompleted', 'paula', 'hawkins', 'guinevere', 'lancelot', 'platonic', 'pedro', 'alvares', 'cabral', 'fate', 'zoe', 'martians', 'headaches', 'pest', 'gop', 'apply', 'possibility', 'extradition', 'roe', 'maltese', 'falcon', 'pear', 'inspector', 'declare', 'accusations', 'inflame', 'expect', 'expecting', 'unsubsidized', 'unfunded', 'supplementary', 'uc', 'keyboardist', 'crying', 'schoolwork', 'screens', 'respectively', 'norfolk', 'fifthmost', 'pulmonary', 'darlings', '352', 'rem', 'irs', 'luzon', 'castles', 'timely', 'abolitionism', 'tiny', 'photographers', 'lump', 'cambridgeshire', 'arranged', 'loved', 'lunches', 'majored', 'defy', 'ascendant', 'prolong', 'kabhi', 'khushi', 'kabhie', 'gham', 'jeanluc', 'bowling', 'alley', 'embargo', 'atonal', 'neeson', 'ghouls', 'sweatshirt', 'goldfinch', 'nabokov', 'pays', 'annapolis', 'preapocalyptic', 'yeast', 'ninetenths', 'similarity', 'kimila', 'pomegranate', 'playoff', 'jyp', 'differs', 'stockholm', 'cognition', 'selfawareness', 'sprouse', 'pesci', 'correctional', 'intellectual', 'ghanaian', 'aguileras', 'ivana', 'tanks', 'vibrantly', 'sitting', 'tectonic', 'plate', 'istana', 'negara', 'supplies', 'assimilation', 'understands', 'thirteenepisode', 'suvs', 'uganda', 'malawi', 'latter', 'benefit', 'mccains', '1910s', 'ais', 'hails', 'package', 'accompanying', 'andover', 'subsidies', 'rematch', 'moffat', 'commission', 'disowned', 'disinherited', 'null', 'coworkers', 'sate', '1855', 'tchaikovsky', '12yearold', 'vivek', 'objected', 'ingredients', 'wwii', 'orbited', 'frisbee', 'milky', 'harmonix', 'lyft', 'uber', 'scripted', 'topranked', 'counteracted', 'lease', 'humor', 'eventual', 'pardus', 'borussi', 'extending', 'kedah', 'collector', 'morality', 'piety', 'romanian', 'singleaisle', 'mostpaid', 'commodities', 'wedlock', 'follower', 'font', 'beguiled', 'assocation', 'bonaparte', 'restoring', 'carrieann', 'catholicism', 'bloomington', 'aesthetic', 'significance', 'toothed', 'argentinean', 'leiderdorp', 'non', 'facial', 'terrorizing', 'staring', 'unerotic', 'easter', 'declines', 'pattern', 'oclock', '19781991', 'agencies', 'kauai', 'premise', 'nonconductive', 'necessary', 'cal', 'copyrights', 'uranium', 'frances', 'ha', 'wrestle', 'guarding', 'philippine', 'stole', 'cockburn', 'madefortv', 'damaged', 'snails', 'alaskan', '666', 'atlantis', 'tend', 'novellas', '200208', 'twinengine', 'devotion', 'dear', 'palliating', 'performative', 'multiplied', 'videotape', 'rapping', '1726', 'havoc', 'agamemnon', 'zombies', 'wadiyar', 'imitative', 'troughton', 'connotations', 'spaceship', 'trumpet', 'isthmus', 'seashore', 'abstains', 'happenings', 'challenges', 'powered', 'aden', '19571959', 'von', 'sydow', 'thus', 'penchant', 'taft', 'arvind', 'gaur', 'wonderful', 'inglewood', 'structured', 'hydra', 'lawsuits', 'theropod', 'blueprints', 'sicily', 'muffin', 'maintenance', 'sinhalese', 'rum', 'designate', 'middleschool', 'congregation', 'bigger', 'deciduous', 'exhale', 'seoul', 'martinique', 'huntsville', 'replacement', 'geographic', 'hauled', 'orrin', 'hatch', 'letterman', '200910', 'expected', 'japanpro', 'although', 'plantderived', 'spreads', 'effectual', 'ribbons', 'edit', 'grass', 'ungoverned', 'ignoring', 'serviceman', 'skipped', '10125', 'sailboat', 'historian', 'governorship', 'reliever', 'wooden', 'comparison', 'lottery', 'comedienne', 'targeted', 'looper', 'weimar', 'gather', 'sitdown', 'indoeuropeans', 'enshrined', 'palpatine', 'willing', 'bildungsroman', 'spectacle', 'mongols', 'owners', 'gm', 'ebay', 'toast', 'femalecreated', 'lecter', 'ripped', 'accompanies', 'koreaproduced', 'useless', 'skiing', 'mandopop', 'weighing', 'vassal', 'gopher', 'adopt', 'centimeters', 'rainbow', 'allbritish', 'creep', 'bandamax', 'preach', '1000th', 'noncommunicable', 'heidelberg', 'lovehate', 'impersonator', 'static', 'euopean', 'sirius', 'xm', 'fig', 'arenas', 'etymology', '27th1954', 'wildings', 'vulpes', 'electronica', 'drum', 'nortern', 'faction', 'kokomo', 'simms', 'jacobson', 'kilik', 'intersects', 'zbornak', 'approaches', 'categorically', 'epitaph', 'parted', 'completes', 'moisture', 'meetup', '600th', 'measurement', 'stance', 'missguided', 'monoethnic', 'skins', 'poses', 'microorganism', 'nongovernmental', 'rake', '1400s', 'peaky', 'blinders', 'buddhists', 'protestants', 'custody', 'ego', 'slowtalking', 'greatly', 'agitated', '61', 'arson', 'md90', 'guests', 'circumstances', 'finegrained', 'foliated', 'metamorphic', '80000', 'arose', 'observable', 'morse', 'lamp', 'nondesert', 'factual', 'ishk', 'disliked', 'ukrainians', 'snatchers', 'loyal', 'separates', 'address', 'values', 'manifest', 'kun', '8000', '1873', 'dislike', 'explorers', '1564', 'sabha', 'darts', 'leviticus', 'banking', '1797', 'sensing', 'unsuccessfully', 'longlength', 'maryanne', 'pair', 'shrinking', 'balloon', '39th', 'midatlantic', 'eretria', 'timetraveling', 'nurse', 'endeavors', 'kweli', 'weltschmertz', 'toonami', 'draughts', '305', 'fundamentally', 'unsolvable', '222', 'installments', 'northampton', '1598', 'frenchitalian', '2ndhighestgrossing', 'reconnected', 'curb', 'enthusiasm', 'farms', 'businessmen', 'insoluble', 'watergate', 'rhianna', 'redness', 'blanche', 'devereaux', '209', '86112', 'wong', 'karwai', 'anus', 'skyline', 'barton', 'fink', 'spiciness', 'betrays', '13261330', '50thlargest', 'tress', 'branches', 'stethoscope', 'ini', 'sicario', 'hannibalic', 'chilean', 'antiequality', 'hides', 'condell', 'suburban', 'drugfree', 'spunoff', 'forerunner', 'barrack', 'cavern', 'guard', 'understood', '1817', 'commemorate', 'successes', 'existent', 'attacking', 'rhys', 'ifans', 'eightyfirst', 'meateaters', 'lifespans', '83', 'scififantasy', 'gymnastics', 'relinquish', 'sanskrit', 'twentyyear', 'ahead', 'announcement', 'warmest', 'canadianmexican', 'fielder', 'karenina', 'blank', 'backdrop', 'peewee', 'raincoat', '50000', 'chahta', 'kal', 'naa', 'hat', 'mentions', 'electrical', 'mechanical', 'accord', 'deindustrialization', '30s', 'steelworker', 'ille', 'vilaine', 'setagaya', 'impotent', 'derive', 'parakeet', 'collaborator', 'comedyhorror', 'grigorij', 'richters', 'nationstates', 'dos', 'aveiro', 'selfoperating', 'smart', 'hodgkins', 'guanhumara', 'structural', 'evennumbered', 'halflife', 'clause', 'steroid', 'zelda', 'irritability', 'rawhide', 'lamb', 'stationed', 'judaism', 'tranquil', 'dungeon', 'nathan', 'oral', 'unwilling', 'assimilated', 'discouraged', 'monitor', 'libyan', 'encryption', '1340', 'versatile', '19161922', 'opener', 'pens', 'dhirubhai', '1460', 'statehood', 'contractual', 'bettered', 'tombs', 'herald', 'thickest', 'neural', 'girlsquad', 'parenting', 'appalachian', 'numidians', 'puppet', 'cfo', '812354', 'folded', 'shine', 'goofy', 'bmw', 'winchell', 'u', 'pastime', 'deathbed', 'reformer', 'customization', 'parkinsons', 'stayathome', 'exited', 'coyotes', 'incorporation', 'mostpopulous', 'spectate', 'farthestrange', 'trainspotting', 'marshes', 'lessons', 'buddies', 'sheepdog', 'neglected', 'critiqued', 'eliminations', 'antissaro', 'autoantibodies', 'skit', 'hw', 'toshiba', 'negated', 'tess', 'chum', 'maronite', 'bonus', 'frenchlanguage', 'limericks', 'washboard', '6525', 'tengulanguage', 'loses', 'layout', 'lustra', 'uninfluenced', 'examined', 'franz', 'kafka', '829', 'versus', 'tired', 'worshippers', 'robbie', '50yearold', 'supplements', 'gofundme', 'invitation', '650', 'roster', 'stick', '1495', '1455', 'imperfect', '1888', 'jackets', 'ramblin', 'gayathri', 'raguram', 'choreographer', 'sakthi', 'chidambaram', 'deva', 'ganesan', 'priyanka', 'feminism', 'junun', 'mockumentary', 'vincente', 'minnelli', 'wagon', 'gigi', 'burns', 'hardesty', '10year', '20001', 'contender', 'merit', 'erotica', 'ads', 'reserves', 'accumulate', 'minerals', 'gallon', 'linz', 'parking', 'ament', 'monkeywrench', 'withhold', 'hisense', 'significantly', 'gunday', 'abbas', 'zafar', 'burbage', 'scope', 'nonacting', 'unrevealed', 'nuestro', '965', '001', 'habitable', 'citalopram', 'selective', 'serotonin', 'reuptake', 'inhibitor', 'celexa', 'cipramil', 'depressive', 'disorders', 'antidepressant', 'depressant', 'antipsychotic', 'paglen', 'footage', 'brokered', 'ryback', 'siege', 'melodramatic', 'depict', 'outsiders', 'selene', 'len', 'wiseman', 'froom', 'vocalists', 'tallahassee', 'destinations', 'redmond', 'woodrow', 'harshly', 'mid80', 'bulldozer', 'adorra', 'gansa', 'screenings', 'extremeright', 'unfamiliar', '1705', 'disappointed', 'expectations', 'headquarter', 'uneducated', 'yiddish', 'byzantines', '20002009', 'bodily', 'confines', 'pot', '95', 'startford', 'glocester', 'casino', 'paths', 'favorably', 'cottage', '1850s', 'goo', 'cookbook', 'wbcw', 'merv', '1780s', 'deteriorated', '1390s', 'multivolume', 'plum', 'ki', 'spinster', 'shintoists', 'jiwon', 'collin', 'romanticcomedy', 'streptococcus', 'firmicutes', 'coccusshaped', 'grampositive', 'lactic', 'nonrespiring', 'respiring', 'pointy', 'shape', 'spherical', 'spheroid', 'gram', 'stain', 'arthropod', 'rodshaped', 'nonliving', 'nitric', 'lactobacillales', 'coccus', 'sporulating', 'amoeba', 'turtles', 'breathe', 'wushu', 'crouching', 'whatsoever', 'credits', 'billions', '93', 'halsey', 'frangipane', 'cheryl', 'strayed', 'drives', 'piloted', 'categorizes', 'sting', 'phillips', 'caper', 'helios', 'hyperion', 'hera', 'eos', 'spawn', 'kassen', 'gomes', 'martinez', 'bonds', 'sheeran', 'sheds', 'complexity', 'opensided', 'tinroofed', 'structures', 'woodframed', 'shingled', 'roofs', 'framed', 'cutrone', 'songbird', 'whistle', 'register', 'fiveoctave', 'melismatic', 'fivenote', 'syllable', 'oneoctave', 'babylonian', 'talmud', 'latest', 'ana', 'lucia', 'thoughts', 'napkin', 'tripp', 'fontaine', 'indierock', 'intripp', 'berbick', '20yearold', 'handbag', 'celeste', 'heikegani', 'shell', 'resemble', 'decapod', 'crustacean', 'resembled', 'ninja', 'resembling', 'nose', 'lobster', 'normally', 'everlasting', 'homesman', 'hailee', 'steinfeld', 'hilary', 'swank', 'mantle', 'teammates', 'turkmenistan', 'iikhanate', 'bedroom', 'confirmed', 'confirmation', 'takei', 'patsy', 'ole', 'pry', 'paisley', 'hank', 'tubb', 'dierks', 'kacey', 'musgraves', 'underwood', 'rascal', 'flatts', 'postsecondary', 'startups', 'queensland', 'lighting', 'ravetch', 'tonya', 'zhivago', 'dolittle', 'tidewater', 'bee', 'gees', 'evancho', 'guess', 'drawing', 'empathy', 'experiencing', 'constantly', 'oneself', 'taste', 'jorah', 'mormont', 'debaters', 'kimberly', 'elise', 'nate', 'ravera', 'jurnee', 'smollett', 'tessanne', 'chin', 'disinterested', 'bridgetunnel', 'birdgetunnel', 'salma', 'hayek', 'matteo', 'garrone', 'pagerank', 'croatian', 'dolan', 'nimoy', 'lou', 'solverson', 'gifted', 'anschluss', 'annexation', 'reich', 'soil', 'stacey', 'blades', 'tracii', 'selfnamed', 'knives', 'deejay', 'bingham', 'greengrass', 'dramathriller', 'dramahorror', 'windom', 'bullseye', 'voyage', 'mimi', 'hanover', 'boa', 'jinyoung', 'yang', 'hyunsuk', 'hynsuk', '501', 'shymalan', 'horrorthriller', 'levitch', 'tragedian', 'lvovevich', 'senor', 'iglesias', 'functional', 'thoroughly', 'disproven', 'ponies', 'ileana', 'dcruz', 'kick', 'jalsa', 'pokiri', 'julayi', 'jaffa', 'strangers', 'bertino', 'dutt', 'ofallon', 'hostage', 'kwapis', 'showcased', '2030', 'obsessed', 'fourengine', 'narrowbody', 'midsized', 'largesized', 'sized', 'comparative', 'widebody', 'bread', 'negan', 'walking', 'boujee', 'koop', 'metro', 'boomin', 'uzi', 'vert', 'routine', 'vivaldi', 'baroque', 'hampton', 'dangereuses', 'tartuffe', 'carr', 'roof', 'mendacity', 'excluding', 'mores', 'superficiality', 'decay', 'repression', 'greed', 'bosses', 'markowitz', 'ecuadorian', 'maganiello', 'mcteer', 'bryce', 'blessed', 'oyelowo', 'romola', 'garai', 'benicio', 'specialist', 'tubman', 'goalkeeping', 'hartsfield', 'daa', 'ryuk', 'tsugumi', 'ohba', 'takeshi', 'obata', 'telanovela', 'flesh', 'organs', 'marrying', 'primates', 'mermaids', 'wilder', 'millenniums', 'wider', 'romania', 'plumber', 'deniro', 'vincentalexander', 'hertz', 'jukebox', 'preceding', 'unwritten', 'damned', 'basie', 'joke', 'marijuana', 'cochair', 'norml', 'lea', 'in1971', 'citezenship', 'amusing', 'purposeful', 'talks', 'oona', 'malayam', 'welshlanguage', 'rathnam', 'interpersonal', 'psychotherapy', 'attachmentfocused', 'detachmentfocused', 'symptomatic', 'resolving', 'impersonal', 'emphasis', 'specter', 'dropout', 'macht', 'feautres', 'q', 'timber', 'meltdown', 'dell', 'timepoint', 'glacier', 'indicator', 'indicated', 'longterm', 'climatic', 'patterns', 'fraction', 'obscured', 'euphan', 'worzel', 'gummidge', 'connally', 'romani', 'cynthia', 'sorceress', 'archenemy', 'latveria', 'thirdworld', 'moderate', 'proven', 'fourthbiggest', 'verified', 'croatia', 'ederson', 'moraes', 'suleiman', 'magnificent', 'silversmith', 'smithed', 'houseman', 'mankiewicz', 'viceroy', 'proceedings', 'representing', 'matching', 'sixtyeight', 'percentile', 'zoologist', 'bts', 'retweeted', 'limbu', 'signaling', 'sinotibetan', 'greeting', 'tibet', 'cs', 'mentioning', 'walden', 'sherman', 'kroll', 'aldo', 'chitty', 'chittychittybangbang', 'magical', 'dictionary', 'shumacher', 'rollins', 'arlington', 'lowly', 'graded', 'walton', 'entrepreneurship', 'cressida', 'improvised', 'heller', 'stormy', 'prefers', 'remain', 'superunknown', 'nevermind', '419267', '267', 'alphabetical', 'halifax', 'framlingham', 'mycroft', 'liu', 'paddy', 'chayefsky', 'fictionhorror', 'redgrave', 'luigi', 'squash', 'biannual', 'cedric', 'yarbrough', 'reno', 'outkast', 'boi', 'hailing', 'stylized', 'awful', 'terabithia', 'kingsman', 'wackerman', 'formation', 'custodian', 'maid', 'suspicious', 'schwentke', 'herman', 'webster', 'mudgett', '1869', 'juris', 'completing', 'lerman', 'dartagnan', 'musketeers', 'perks', 'wallflower', 'indignation', 'nana', 'patekar', 'shruti', 'haasan', 'squids', 'paresh', 'rawal', 'evonne', 'goolagong', 'cawley', 'chivalry', '12h', 'inductions', 'walkof', 'adrock', 'feminist', 'flashdance', 'stemmed', 'collections', '10005', 'meindl', 'jill', 'carmen', 'electra', 'coaching', 'chaz', 'bono', 'chace', 'edy', 'ganem', 'chow', 'greene', 'slaughter', 'fry', 'ashton', 'hostess', 'toaster', 'revolutions', 'americanaustralian', 'sheila', 'kelley', 'maika', 'reddick', 'orser', 'urie', 'cooks', '65th', '67th', '20012005', 'hollis', 'mclarem', 'piccoli', 'guare', 'waxman', 'garrison', 'hatched', 'earling', 'swayze', 'parish', 'carothers', 'jaco', '1485', '1545', '102', '102episode', 'bold', '262', 'mostwatched', 'splash', 'numetal', 'korn', 'lowell', 'ganz', 'babloo', 'mandel', 'abby', 'sciuto', 'pauley', 'perrette', 'ncis', 'cavallo', '1578', '1070', 'eastsoutheast', 'hatteras', '1236', 'sable', 'nova', 'scotia', 'westsouthwest', 'mirka', 'miroslava', 'vavrinec', 'slovakborn', 'vavrincova', 'witchcraft', 'hog', 'warts', 'leatherette', 'britisharmenian', 'supermodeling', 'liana', 'liberato', 'fetters', 'sin', 'landon', 'cathy', 'difficulty', 'hardship', 'destitution', 'labyrinth', 'signal', 'monitoring', 'tasked', 'counterintelligence', 'processing', 'responsibilities', 'nsa', 'sigint', '2430', '15thcentury', '13thcentury', '1450s', '210', 'advises', 'cab', 'quiney', '1662', 'fraternal', 'baptised', '1585', 'hamnet', 'langston', 'burg', '37th', '36th', 'oprah', 'winfrey', 'submit', 'bane', 'someones', 'rear', 'daryl', 'forster', 'reeve', 'donofrio', 'hutcherson', 'analeigh', 'tipton', 'braff', 'mandolin', 'soundboard', 'withstand', 'wynonna', 'clair', 'ciminella', 'ramon', 'magsaysay', 'honours', 'distinctions', 'eda', 'reiss', 'merin', 'fancine', 'susanne', 'blakeslee', 'najimy', 'audley', 'parrilla', 'foray', 'chamis', 'francine', 'unvoiced', '52nd', 'renfroe', 'carly', '19971998', 'bradford', 'dushku', 'thenmerku', 'paruvakaatru', 'seenu', 'ramasamy', 'shibu', 'issac', 'shaq', 'alterego', 'shaquille', 'sails', 'stevenson', 'treasure', 'edwin', 'choirs', 'occupations', 'coupla', 'chicks', 'talking', 'vidal', 'onbroadway', 'othelllo', 'othello', 'cabin', 'bones', 'baron', 'munchausen', 'castaway', 'siam', 'concocted', 'landen', '817', 'olds', 'adolescents', '07', 'infants', '4290', 'noneducational', '167', '148', 'nearest', 'bandleader', 'selectively', 'taxa', 'millennia', 'attributes', 'behaviors', 'millenia', 'investigating', 'suicidal', 'susanna', 'developers', 'segal', '1859', 'honest', '53000', 'flora', 'mcgrath', 'axl', 'energetic', 'forelimbs', 'naturally', 'rodentia', 'primate', 'fugitive', 'marshals', 'kay', 'sarrainodu', 'boyapati', 'srinu', 'telegu', 'ashutosh', 'gowariker', 'ram', 'gopal', 'varma', 'prescribed', 'converts', 'wiig', 'subfamily', 'galloromance', 'gaul', 'gaulish', 'particularly', '05', 'cukor', 'divorcement', 'betters', 'precode', 'andie', 'macdowell', 'rosenberg', 'finale', 'marxist', '5333', 'presentation', 'caryn', 'mandabach', 'roseanne', 'crossover', 'debuts', 'razorbill', 'flotus', 'advancing', 'gopalkrishna', 'ias', 'govern', 'suit', 'gundam', 'mecha', 'devised', 'crusher', 'r2', 'kenichi', 'matsuzaki', 'animage', 'nue', 'yoshiyuki', 'tomino', 'lelouch', 'mitsuo', 'fukuda', 'gpx', 'cyber', 'akutagawa', 'runaway', 'ideon', 'kazutaka', 'miyatake', 'haruka', 'takachiho', 'ichiro', 'okouchi', 'goro', 'taniguchi', 'naoyuki', 'robots', 'nesher', 'armas', 'bio', 'hazardous', 'helgeland', 'worn', 'bodyguard', 'ormsby', 'flyboys', 'dudley', 'schink', 'pilgrim', 'gadon', 'dissimilar', 'selfhelp', 'psychologically', 'darius', 'rucker', 'hootie', 'blowfish', 'sonefeld', 'felber', 'dealer', 'creature', 'showgirl', 'asset', 'tangible', 'assets', 'intangible', 'goodwill', 'cleansers', 'styling', 'gel', 'brands', 'mascara', 'pigments', 'shampoo', 'flaws', 'lotions', 'redden', 'cheeks', 'discoverer', '27000', '43000', 'kmart', 'insular', 'mccary', 'mcmary', 'soprano', 'alto', 'mccarey', 'frenemies', 'hogan', 'fences', 'saniyya', 'hornsby', 'mykelti', 'williamson', 'jovan', 'adepo', 'photograph', 'animatronic', 'kabir', 'cuisine', 'dishes', 'roast', 'stews', 'salted', 'fillet', 'bottarga', 'tomato', 'mutton', 'ale', 'variants', 'shapiro', 'io', 'fring', 'odenkirk', 'esposito', 'ehrmantraut', 'skyler', 'laughs', 'prerecorded', 'wayans', 'kravitz', 'balaban', 'obyrne', 'clarkson', 'rabe', 'jenny', 'evaporates', 'rowan', 'atkinson', 'maigret', 'stormzy', 'wiley', 'grime', 'ebenazer', 'kwadjo', 'omari', 'owuo', 'skepta', 'trip', 'gabon', 'pime', 'meridian', 'nemo', 'bertrand', 'considerable', 'ek', 'giles', 'leadon', 'meisner', 'colm', 'feore', 'zhylaw', 'riddick', 'gentleman', 'lamniformes', 'megamouth', 'goblin', 'deepsea', 'familiar', 'tregenna', 'torchwood', 'cowbois', 'ac', 'injans', 'gruff', 'tragedies', 'lupe', 'fiasco', 'contiguous', '1300', 'straits', 'dominick', 'dunne', 'syco', 'englishirish', 'yelp', 'rocafella', 'colllsion', 'audra', 'mcdonald', 'musicals', 'raisin', 'porgy', 'bess', 'ragtime', 'differently', 'clues', 'pitter', 'patter', 'lovely', 'overpowered', 'saitama', 'sit', 'com', 'fringe', 'hoag', 'schoolteacher', 'sioux', 'nonsense', 'depressionera', 'angus', 'marrykate', 'olsen', 'mitchum', 'balsam', 'molly', 'kareem', 'abduljabbar', 'reg', 'fabricated', 'gil', 'sharone', 'lauderdale', 'berkowitz', 'oingo', 'boingo', 'elflman', 'brigham', 'provo', 'abigail', 'breslin', 'definitely', 'nim', 'rgine', 'chassagne', 'naughty', 'taiwanese', 'ossana', 'schamus', 'ang', 'fernando', 'alonso', 'diaz', 'cordoba', 'uzbek', '4818', '1818', '8818', 'zula', 'barbarian', 'nonsovereign', 'honduras', 'belize', 'salvador', 'promotional', '97', 'puppy', 'substantially', 'subculture', 'norms', 'differing', 'differentiate', 'tipper', '1048', 'erich', 'manstein', 'jailed', 'confinement', 'goldblum', 'genie', 'takers', 'espinosa', 'woodville', 'armadillo', 'shops', 'eazye', 'kathie', 'sacramento', 'albertson', 'tuska', 'jefferson', 'jag', '227', '221', 'vicepresident', 'incorporating', 'amplification', 'valkyrie', 'americangerman', 'dreamgirls', 'jethro', 'gibbs', '905', 'marton', 'csokas', '101', 'flicker', 'peformed', 'craseonycteridae', 'hipposideridae', 'bumblebee', 'craseonycteris', 'thonglongyai', '192', 'totaling', 'lanford', 'jogged', 'instated', 'neame', 'wicked', 'baum', 'realistic', 'stems', 'dies', 'slang', 'fashionclothes', 'wu', 'chineseborn', 'jakle', 'rebel', 'chrissie', 'alexis', 'knapp', 'ester', 'hana', 'mae', 'prius', 'carrying', 'promiscuity', 'broderick', 'penelope', 'durning', 'henriksen', 'cazale', 'seneca', 'royalist', 'republicanism', 'trends', 'believer', 'colmcille', 'naver', 'jwoww', 'vocalized', 'sounds', 'caspian', 'bounds', 'railed', 'originals', 'hopman', 'disrupted', 'rudy', 'ruben', 'mccullah', 'lutz', 'luketic', 'swordandsorcery', 'peep', 'andrei', 'tarkovsky', 'hydraulic', 'resonance', 'suppressor', 'tube', 'wa', 'englishwoman', 'agnes', 'lorre', 'rosemont', 'hollow', 'tajikistan', 'alhambra', 'cartwright', 'manningham', 'archives', 'bestknown', 'baltic', 'autonomous', 'furia', 'levasseur', 'aja', 'piranha', 'julio', 'cortazar', 'politkovskaya', 'maniac', 'alexandre', 'p2', 'rhetoric', 'oeuvre', 'h1', 'h4', 'hercules', 'xxxviii', 'halftime', 'xviii', 'xxxiv', 'controller', 'cyberpunkthemed', 'seagal', 'bundle', 'balloons', 'millie', 'affiliations', 'ives', 'blick', 'singular', 'briana', 'nonsexual', 'augusto', 'pinochet', 'randall', 'flagg', 'jamey', 'sermon', 'landy', 'nicky', 'cox', 'stiles', 'criticizes', 'winnipeg', 'bombers', 'winnpeg', 'goldeyes', 'franchises', 'yamaha', 'fur', 'coats', 'longitudinal', 'broadcasters', 'distributors', 'oatmeal', 'bolland', 'kirby', 'illustrations', 'nighy', 'davy', 'bootstrap', 'cianfrance', 'coccio', 'marder', 'botswana', 'dealings', 'administrations', 'levesque', 'helmsley', 'hammerstein', 'hungry', 'hippos', 'staple', 'breadfruit', 'dried', 'plantains', 'pulse', 'starch', 'extracted', 'spongy', 'pith', 'metroxylon', 'sagu', 'sago', 'sept', 'sooyoung', 'artery', 'bypass', 'grafting', 'treatments', 'angioplasty', 'atherectomy', 'atherosclerosis', 'vessels', 'widen', 'narrowed', 'obstructed', 'arteries', 'veins', 'preventatives', 'cinderella', 'madden', 'jacobi', 'grainger', 'whishaw', 'barley', 'brideshead', 'revisited', 'suffragette', 'curse', 'client', 'scrolls', 'skyrim', 'terraria', 'rift', 'ip', 'kerbal', 'sandbox', 'wyler', 'spellbound', 'omen', 'niall', 'horan', 'fool', 'fix', 'forget', 'saswata', 'chatterjee', 'kolkata', 'dehli', 'clancy', 'aviator', 'marys', 'rainy', 'huron', 'cochrane', '37000', 'nonautonomous', 'fist', 'merits', 'accomplishments', 'kidd', 'smokin', 'aces', 'aria', 'symphony', 'deejays', 'deejaying', 'rayna', 'jaymes', 'pertaining', 'loretta', 'nwa', 'tudyk', 'cocktail', 'abum', 'aquaman', 'docucomedy', 'dash', 'automatic', 'trackandfield', 'humanity', 'hung', 'cbc', 'orangemen', 'dimensions', 'karloffs', 'actual', 'saldvar', 'harbour', 'psychopathic', 'villains', 'unambiguously', 'virtuous', 'wesley', 'tomasz', 'wasilewski', 'peers', 'kos', 'whiskers', '460', '370', '19912010', 'hippo', 'overture', 'insincere', 'loni', 'convey', 'polo', 'levi', 'hook', 'g7', 'ministers', 'forum', 'faneuil', 'locals', 'regis', 'dfl', 'hennepin', 'candidacy', 'suggesting', 'nests', 'suggests', 'laying', 'thiokol', 'atk', 'aic', 'cordant', 'propulsion', 'mortonthiokol', 'propel', 'fictioncomedy', 'rainmaker', 'bostonians', 'americanborn', 'dramaromance', 'colson', 'canton', 'joey', 'graceffa', 'videographer', 'youtuber', 'burno', 'downington', 'downingtown', 'tisch', 'attendee', 'uzumaki', 'wanting', 'clanton', 'ranch', 'steal', 'thief', 'maireclaude', 'notforprofit', 'meriwether', 'dicks', 'travolta', 'guys', 'invisible', 'raises', '3684', 'relay', 'sprint', '4000', 'perosn', 'svitavy', 'pardubice', 'vermont', 'roads', 'irrigation', 'ignore', 'anticorruption', 'gretel', 'grimm', 'whiskey', 'tango', 'foxtrot', 'shuffle', 'carlock', 'ficarra', 'requa', 'expunged', 'seann', 'rudd', 'bobbe', 'coworker', 'mailman', 'postman', 'yuri', 'clary', 'fray', 'prez', 'texmex', 'waited', 'perrotta', 'payne', 'ordered', 'supervisor', 'pr', 'rostova', 'mellon', 'herbert', 'hoover', 'stanislavski', 'adler', 'tutored', 'hannabarbaraproduced', 'masashi', 'kishimoto', 'ninjas', 'shumer', 'liqour', 'fims', 'sewing', 'sewers', 'sewer', 'stafford', 'employer', 'befriended', 'meeting', 'maximize', 'maximized', 'apathy', 'minimize', 'dysphonia', 'retains', 'phonation', 'hoarse', 'breathy', 'adapt', 'disputes', 'asimov', 'sevigny', 'erected', 'mcdermott', 'baruch', 'spinoza', 'rembrandt', 'gerd', 'rundstedt', 'wehrmacht', 'jumped', 'conant', 'slums', 'onehour', 'resolved', 'timed', 'wgbh', 'bostick', 'grazer', 'twelveparts', 'cormac', 'counselor', 'unpredictable', 'extravaganza', 'twista', 'burr', 'georgie', 'flores', 'depew', 'niki', 'koss', 'pepi', 'sonuga', 'perrey', 'otters', 'namibia', 'angola', 'portugues', 'romansh', 'ladin', 'aragonese', 'francoprovencal', 'asturianleonese', 'gascon', 'provenal', 'gallowallon', 'francoprovenal', 'chattanooga', 'jeong', 'tambor', 'chapelle', 'aileen', 'wuoronos', 'africanborn', 'nanowrimo', 'mouzakis', 'dru', 'chaser', 'perspectives', '19491964', 'whip', '19611964', '4964', '19591974', '19441964', 'mandoki', 'sweetheart', 'belleforest', 'tatius', 'cicero', 'goethe', 'demosthenes', 'boccaccio', 'inhibit', 'stamp', 'muninn', 'sleipnir', 'steed', 'commutes', 'freki', 'huginn', 'keane', 'ices', 'authentic', 'bieberfever', '6126', 'kristi', 'kaylor', '24k', 'moonshine', 'ronson', 'schedule', 'sereies', 'premiering', 'wc', 'prussian', 'portuguesespeaking', 'strick', 'heche', 'snipes', 'zeffirelli', 'luchino', 'visconti', 'evens', 'zrich', 'notice', '550', 'secondrichest', 'forbesestimated', 'pretax', '620', 'bankrupt', 'reald', 'capitan', 'grauman', '6838', 'rko', 'pantages', 'terrain', 'flatland', 'canyons', 'taiga', 'snowcapped', 'flatlands', 'janeane', 'garofalo', 'cavett', 'judah', 'friedlander', 'covey', 'lili', 'ciara', 'canine', 'pewdiepie', 'vlogs', 'felix', 'arvid', 'ulf', 'kjellberg', 'solis', '1834', 'debra', 'messing', 'airbender', 'aang', 'dinner', 'katara', 'seiko', 'clocks', 'jewelries', 'lamps', 'shirts', 'pooh', 'milne', 'shepard', 'winniethepooh', 'seekers', 'migrants', 'eritrea', 'noncitizen', 'flourished', 'abuser', 'foodabuser', 'recordist', 'ballard', 'struggle', 'scarcity', 'possessions', 'exile', 'satanist', 'atheistic', '1555', '1666', 'rockblues', 'polka', 'azalea', 'dunes', 'kellan', 'gallner', 'earle', 'absolutely', 'cassidy', 'oneoff', '1114170', 'bennes', 'alldutch', 'lumet', 'mcquarry', 'kussman', 'reanimator', 'hp', 'lovecraft', 'chechen', 'heads', 'disapora', 'arbresh', 'kosovo', 'gheg', 'constituting', 'shqip', 'echo', 'heelers', 'pharmaceuticals', 'biomedical', 'kurupt', 'tools', 'deployment', 'internetworking', 'analytics', 'apps', 'database', 'compute', 'storing', 'deploying', 'eclectic', 'garibay', 'sheppard', 'lyrical', 'phantoms', 'koontz', 'topscorer', 'heckering', 'heckerling', 'mi', 'springfield', 'allure', 'nyc', 'conde', 'nast', 'convent', 'everwood', 'guiding', 'usc', 'trojans', 'heisman', 'omar', 'sharif', 'fluently', 'fluent', 'foreigner', 'turnover', '114', 'odowd', 'documentarystyle', 'piddock', 'whitman', 'volunteered', 'clerk', 'vwalt', 'volunteering', 'plantation', 'signified', 'slavedriven', 'antebellum', 'seltzer', 'kermit', 'tragicomedy', 'nov', 'joanna', 'posted', 'demo', 'myspace', 'cardiologist', 'superheroines', 'aliases', 'supermassive', 'irrational', 'rational', 'decimal', 'settles', 'repeating', 'marvin', 'englishborn', 'canadianborn', 'walters', 'dinnerladies', 'mowlam', 'volkswagen', 'ag', '1498', 'metroid', 'ska', 'kroeger', 'lucky', 'admiral', 'rochen', 'rubicon', 'louchie', '1773', 'dilla', 'bronx', 'apartments', 'coop', 'brunswick', 'haim', 'feldman', 'siemaszko', 'millennials', 'masur', 'ateam', 'bokenkamp', 'tensions', 'criminology', 'ecological', 'sustainability', 'globalization', 'culturology', 'demography', 'sociology', 'interventionism', 'vanity', 'krueger', 'bimonthly', 'fallon', 'uggams', 'rhett', 'wernick', 'octavia', 'aesthetics', 'existentialism', 'archaeology', 'boyd', 'cheers', 'sticom', '575', '405', '410', '835', 'cracks', 'satirist', 'schuyler', 'degrassi', 'phelps', 'bearer', 'realize', 'revoked', 'tetralogy', 'duology', 'spin', 'jeezy', 'typewriter', 'bleecker', 'citybased', 'thriving', 'invulnerable', 'canberra', 'heldenbergh', 'zookeepers', 'misfortunates', 'perabo', 'serkis', 'geoffrey', 'beevers', 'thames', 'adaptordirector', 'adapting', 'bede', 'affiliation', 'upin', 'cartooning', 'shortstory', 'shinzo', 'abe', 'sketches', 'krzysztof', 'komeda', 'undercover', 'portayed', 'miyu', 'irino', 'tokyoborn', '235', 'zebras', 'dany', 'rigoulot', 'inline', 'deewana', 'wilford', 'brimley', 'nichols', 'ronin', 'pryce', 'marmet', 'weisz', 'zeik', 'natascha', 'mcelhone', 'actioncomedy', 'firsttime', 'nnedi', 'okorafor', 'cod', 'vacationed', 'platinumcertified', 'greenwich', 'charing', 'centred', 'brodbin', 'habits', 'hellblazer', 'sins', 'cappello', 'comicbook', 'sorum', 'leppard', 'zz', 'cheaptrick', 'willows', 'scottsdale', '3g', 'gps', 'navigation', 'predecessors', 'triband', 'umtshsdpa', '4g', 'frequency', 'vegasbased', 'groves', 'grove', 'pupil', 'knowitall', 'please', 'destin', 'cretton', 'offenses', 'bandmates', '1011', 'registration', 'thicke', 'flo', 'rida', 'blige', 'pharrell', 'brandy', 'mononymous', 'dutchtunisian', 'lindelof', 'lita', 'badlands', 'enola', 'b29', 'superfortress', 'hiroshima', 'codename', 'cryptonym', 'tibbets', 'jetliner', 'hyekyo', 'joongki', 'yoon', 'bora', 'brits', 'luxo', '85th', 'suggested', 'quvenzhan', 'wallis', 'keitel', 'machinations', 'parliamentarians', 'roundheads', 'unarmed', '1651', '1622', 'royalists', 'cavaliers', '1742', 'capillaries', '1650', 'mid1600s', 'extreme', 'radation', 'sulfur', 'alkalinity', 'push', 'equilibrium', 'toxicity', 'monoxide', 'saratoga', 'hattie', 'mcdaniel', 'pidgeon', 'cully', 'hamner', 'augustus', 'goetz', 'nigerianborn', 'dicky', 'eklund', 'wahlberd', 'dusick', 'breaker', 'steinberg', 'lizzy', 'cronenberg', 'kopple', 'kaplan', 'gaghan', 'lumen', 'dexter', 'alternatively', 'yoast', 'lizzie', 'spaulding', 'mackie', 'kinsey', 'lorenzo', 'primal', 'jasper', 'banff', 'drumheller', 'canmore', '53th', 'mormon', 'voicing', 'hey', 'coleader', 'papp', 'mort', 'weisinger', 'barks', '73', 'bavaria', 'barber', 'kallstadt', 'erlingen', 'emigrating', 'dungeons', 'gygax', 'arneson', 'delage', 'kdka', 'americanbased', 'herskovitz', 'rufus', 'sewell', 'mccormack', 'emeritus', 'surgeon', 'lobby', 'withdrawn', 'yog', 'zorro', 'sharpe', 'exam', '1636', '1634', 'greenberg', 'shea', 'fryman', 'noth', 'aboveaverage', 'belowaverage', 'selfdirected', 'wage', 'discounts', 'largo', 'caraven', 'bront', 'howe', 'horne', 'passage', 'granada', 'output', 'unanimous', 'inoperability', 'pettyfer', 'knoxville', 'gambled', 'extract', 'brothel', 'venues', 'bars', 'bouncer', 'policeman', 'wagering', 'constable', 'saloonkeeper', 'teamster', 'workplaces', 'referee', 'orebody', 'seam', 'placer', 'deposits', 'dodecanese', 'landmasses', 'tyrrhenian', 'selfimprovement', 'decor', 'cosmo', 'sladen', 'semiretirement', 'burnaby', '1892', 'anita', 'loos', 'conway', 'falsely', 'racketeering', 'kidnapping', 'justinian', 'byzantine', '527', '565', '588', '524', '585', 'nebraskalincoln', 'investing', 'storyboard', 'titanium', 'guetta', 'giorgio', 'tuinfort', 'gum', 'oceanian', 'melanesia', 'southatlantic', 'jakarta', 'industrially', 'medan', 'bandung', 'ridiculous', 'thin', 'antigua', 'ayutthaya', 'foreigners', 'meyerowitz', 'unindustrialized', 'pageants', 'griet', 'earring', 'johannes', 'vermeer', 'rapped', 'mature', 'cultivating', '49ers', 'cobalamin', 'soluble', 'texture', 'interacts', 'explodes', 'antenna', 'choreographed', 'bloomsbury', 'scholastic', 'confronts', 'newbern', 'hamil', 'saget', 'goliyon', 'raasleela', 'ramleela', 'rampeela', 'leela', 'behansali', 'coacted', 'codecorated', 'cofilmed', 'diablo', 'sammy', 'cahn', 'humorist', 'leia', 'peach', 'johnathan', 'dishonors', 'worse', 'thanos', 'galazy', 'damion', 'poitier', 'ansel', 'elgort', 'eiza', 'gonzlez', 'figgis', 'scheduling', 'nigerian', 'dispute', 'hijrah', 'dissolving', 'swiftly', 'farmers', 'coding', 'carell', 'braveheart', 'nsai', 'intention', 'distributing', 'ranger', 'noteworthy', 'twoface', 'emoji', 'grandchild', 'ambulance', 'mounted', 'prehospital', 'assyrian', 'neoaramaic', 'webber', 'dreamcoat', 'dorado', 'andersson', 'aladdin', 'menken', 'bjorn', 'ulvaeus', 'shishkin', 'abba', 'ferns', 'mets', 'diamondbacks', 'emeryville', 'laika', 'foxcatcher', 'outcasts', 'swen', 'lucasfilms', 'videoondemand', 'collects', 'charman', 'roiland', 'diaper', 'mortyis', 'scandinavia', 'holdings', '240000', 'hoskins', 'sleep', 'apnea', 'paralysis', 'disrupt', 'bruxism', 'insomnia', 'circadian', 'sleepwalking', 'dyssomnia', 'narcolepsy', 'hypersomnia', 'undisturbed', 'parasomnia', 'mckellen', 'hayter', 'troll', 'dam', 'lenore', 'koren', 'koran', 'mila', 'kunis', 'gould', 'speke', 'bergin', 'hackman', 'romano', 'costarring', 'mooseport', 'semibiographical', 'hefer', 'hephthalite', 'ghaznavid', 'saffarid', 'ghorid', '438', '439', 'kushan', 'khilji', 'samanid', '1132', 'hotak', '1548', '1682', '699', '799', 'hephthlite', 'maczinski', 'wincer', 'mckinley', 'grounds', 'panamerican', 'exposition', '18971901', 'peacefully', '1840s', 'fantasyadventure', 'computeranimation', 'kinks', 'hawks', 'selections', 'adriatic', 'ramayanam', 'gunasekhar', 'reddy', 'telugulanguage', 'gere', '1492', 'goldwyn', 'melton', 'dunstan', 'greutert', 'ufos', 'egg', 'yong', 'ned', 'deliver', 'cradle', 'avant', 'garde', 'actormanager', 'selfgoverning', 'doldrums', 'designing', 'westerner', 'namibian', 'craft', 'tunney', 'fairuza', 'balk', 'ronny', 'turiaf', 'veruca', 'flemming', 'fork', 'camaro', 'ril', 'aubry', 'laroquette', 'toddler', 'desimone', 'sicilianamerican', 'sicilian', 'lucchese', 'whereabouts', 'denizen', 'lawabiding', 'twogun', 'gabourey', 'sidibe', 'moira', 'buffini', 'pathways', 'impulse', 'arcs', 'reaches', 'mayfield', 'didgeridoo', '356', 'require', 'seek', 'consequences', 'resign', 'minster', 'resignation', 'immediately', 'jeanmartin', 'charcot', 'anatomical', 'pathology', 'anatomic', 'neurologist', 'neurology', 'undertaken', 'instructed', 'vasoline', 'interstate', 'cloverfield', 'winstead', 'gallagher', 'hoeber', 'mahmud', 'ghazan', '1304', 'breast', '56', 'contemporaries', 'countrywestern', 'xlvi', 'brees', 'pnc', 'menama', '310000', 'doherty', 'ajab', 'prem', 'ghazab', 'kahani', 'portmanteaus', 'romedy', 'gustave', 'eiffel', 'meteorology', 'aerodynamics', 'damour', 'womb', 'benedek', 'fliegauf', 'emiliano', 'zapata', 'zapatal', 'gruver', 'technirama', 'sayonara', 'madness', 'drains', 'congokinshasa', 'drain', 'beresford', 'alexandra', 'burke', 'ecosse', 'outdoors', 'deutch', 'fists', 'bryon', 'yune', 'bautista', 'cung', 'rza', 'gza', 'segel', 'eleveneleven', 'hamlin', 'winslet', 'wellbeing', 'employers', 'implementation', 'bilirubin', 'excreted', 'urine', 'elevated', 'lethal', 'bile', 'hensleigh', 'murdermystery', 'thinking', 'funeral', 'shonen', 'sj', 'viz', 'catalog', 'shjo', 'acronymed', 'tokyopop', 'stylization', 'mandeans', 'assyrians', 'armenians', 'circassians', 'turks', '28th1985', 'lamarr', 'jelly', 'cinnamon', 'jcole', 'chandni', 'moonlight', 'peruvian', 'harvest', 'boss', 'routing', '5022', 'selkirk', 'confidential', 'endings', 'passings', '2pac', 'lesane', 'crooks', 'memorialized', 'dora', 'milland', 'centenarian', 'unsocial', 'leeves', 'miriam', 'margolyes', 'margoyles', 'lumley', 'callow', 'js', 'bach', '530', 'pst', '830', 'est', 'kodak', 'fords', 'dolby', 'doobie', 'romcom', 'recreated', '19891993', 'competitively', 'milton', 'margai', 'coronary', 'bmi', 'exercising', 'unpreventable', 'uhry', 'coordinating', 'arranging', 'vendors', 'permits', 'catering', 'entails', 'budgeting', 'angloirish', 'angloamerican', 'comission', 'purnell', 'maleficent', 'trackless', 'pedestrian', 'janine', 'dassler', 'sportswear', 'adidas', 'athleticwear', 'puma', 'prone', 'severe', 'lymelife', 'derick', 'martini', 'alligators', 'seem', 'substitute', 'townshend', 'unconventional', 'barnum', 'reds', 'beatty', 'airwest', 'preeminent', 'medley', 'lengths', 'contested', 'breaststroke', 'backstroke', 'swimming', 'jrr', 'dredd', 'eomer', 'dayton', 'wrightpatterson', 'hanscom', 'caicos', 'accords', 'daytonparis', 'cried', 'caracazo', 'caracas', 'casualties', 'pruitt', 'djimon', 'hounsou', 'constastine', 'bligh', 'moby', 'nevil', 'shute', 'volcanoes', 'mountaintops', 'tops', 'aaj', 'imtiaz', 'imitiaz', 'kalsaif', 'krakowski', 'bowden', 'dratch', 'grizz', 'failing', 'obligations', 'panda', 'ebershoff', 'platt', 'amblin', 'venous', 'catheter', 'cvc', 'vein', 'yemen', 'oman', 'holbrook', 'furnace', 'narcos', 'tombstones', 'dea', '1872', 'mclennan', 'bexar', 'blog', 'ukulele', 'ukuleleist', 'keyboards', 'percussion', 'stringed', 'lute', 'banjoist', 'cello', 'keyboard', 'herzog', 'cinematelevision', 'booksmagazines', 'cibrian', 'krumholtz', 'benanti', 'amber', 'rescued', 'jenifer', 'ramsey', 'renee', 'oh', 'yeonseo', 'haetnim', 'eunhye', 'luv', 'sidushq', 'jo', 'eunbyul', 'jeon', 'hyebin', 'hardwicke', 'nickki', 'nikki', 'michelozzo', 'donatello', 'piero', 'della', 'francesca', 'masaccio', 'ghiberti', 'brunelleschi', 'stratosphere', 'mesosphere', 'troposphere', 'restless', 'sekulow', 'christianbased', 'buddhismbased', 'dennys', 'realestate', 'skrein', 'brianna', 'hildebrand', 'kapicic', 'carano', 'kapii', 'victorian', 'mastery', 'monologue', 'monologuist', '1801', 'enslaving', 'imp', 'wise', 'anybody', 'preminger', 'verhoeven', 'vogel', 'sedgman', 'gardenzio', 'kerouac', 'steadman', 'garry', 'kasparov', 'grandmaster', 'clementine', 'monuments', 'empty', 'pilgrims', 'pavonazzo', 'lust', 'corwin', 'impeccable', 'tywin', 'alastair', 'denniston', 'fascist', 'xiii', 'valois', 'ix', 'baghdad', 'marvelendorsed', 'des', 'moines', 'sabertooth', 'renewal', 'herta', 'ware', 'tenenbaums', 'anjelica', 'huston', 'gwyneth', 'paltrow', 'tenenbaum', 'fletcher', 'depeche', 'mode', 'fletch', 'rymer', 'kara', 'boly', 'os', 'tompkins', 'nra', 'myself', 'fabolous', 'carmichael', 'blew', 'retitled', 'sinister', 'ackroyd', 'fictions', '1787', 'recognizing', 'salute', 'ouehbs', 'iwjeaqk', 'arbiter', 'substituted', 'loaded', 'malfoy', 'patients', 'riddler', 'poison', 'clayface', 'disciplines', 'zegers', 'cahill', 'keena', 'rabat', '580000', 'krakow', 'converse', 'beginner', 'sanderson', 'hershey', 'recreations', 'burrows', 'ferrel', 'mckay', 'darwish', 'mid90s', 'chimamanda', 'ngozie', 'adichie', 'mid80s', 'mid70s', 'mepris', 'agust', 'canadaus', 'waterfalls', 'mexicous', 'peachy', 'nu', 'villeneuve', 'notaries', 'vaduz', '87779', '130000000', 'profits', '136766062', '140000000', 'kolyma', 'tungsten', 'antimony', 'peat', 'cafeteria', 'corpses', 'waterboy', 'famer', 'swann', 'cowher', 'nonamerican', 'chams', 'highness', 'emergencies', '68', 'gunshot', 'wound', 'cochise', 'outlaw', 'pacifist', 'obeyed', 'inferior', 'journal', '800000', 'eden', 'busy', 'fabulous', 'cloudy', 'hear', 'anymore', 'threeword', '5c', 'juggled', '5s', 'discounted', 'nokia', 'vertue', 'bbc2', 'nicola', 'emile', 'obeys', '2016000', 'sayles', 'errol', 'princesses', 'wreckit', 'tides', 'tananarive', 'stroman', 'lorne', 'courteney', 'geller', 'weathers', 'tolbert', 'dtat', 'doe', 'petz', 'psychedelic', 'romy', 'michele', 'analyze', 'ps', 'bandslam', 'sorority', 'equidae', 'donkeys', 'zebra', 'chet', 'como', 'eddy', 'dottie', 'cramer', 'everly', 'norma', 'badminton', 'scars', 'kensit', 'ignmar', 'latvia', 'circles', '84th', 'rango', 'lessmore', 'nes', 'singaporean', 'median', 'household', 'technologically', 'cfda', 'orientation', 'hostility', 'philosopy', 'tetris', 'alexey', 'pajitnov', 'programmed', 'paiddownloaded', 'puzzle', 'phones', 'satoru', 'iwata', 'tj', 'carroll', 'saunders', 'georgine', 'seminary', 'prepares', 'ordination', 'clergy', 'seminarians', 'preparing', 'pastors', 'pupils', 'scholarly', 'hardcore', 'poona', 'pact', 'signer', 'babasaheb', 'ambedkar', 'signers', 'mahatma', 'yerwada', 'coat', 'rink', 'biographic', 'dane', 'dehaan', 'laureline', 'saban', 'proprietor', 'lussier', 'verna', 'dede', 'reitman', 'ba', 'winchester', 'breaux', 'berenger', 'plague', 'pump', 'phunk', 'humps', 'techno', 'milos', 'forman', '196', 'iphones', 'download', 'downloaded', 'banished', 'solitary', 'jun', 'jihyun', 'mare', 'windstruck', 'thieves', 'abcupn', 'yvonne', 'hughley', 'hughleys', 'sian', 'lichfield', 'eurus', 'staffordshire', 'mrigayaa', 'discusses', 'vocally', 'harmanpreet', 'kaur', 'oneday', 'internationals', 'oldman', 'slater', 'toya', 'woo', 'calling', '84', 'enlisted', 'playthings', 'blurays', 'mp3s', 'compact', 'rents', 'gokarts', 'financing', 'americanchinese', 'theresa', 'jeroen', 'krabb', 'armin', 'muellerstahl', 'krabbe', 'neapolitan', 'carvedtop', 'flute', 'carved', 'flatbacked', '1600000000', 'demme', 'panjabi', 'queenstown', 'cherbourg', 'southampton', 'alienate', 'johannson', 'minghella', 'pegg', 'stilley', '1880', 'laugh', 'bjrk', 'cranham', 'gaskill', 'tierney', 'blythe', 'queenie', 'chadbon', 'includedmalcolm', 'pam', 'zayn', 'malik', 'javadd', 'javaad', 'josephina', 'reorganization', 'organizing', 'vantage', 'foley', 'fiveissue', 'darkfantasy', 'remus', 'lupin', 'suppressing', 'mixeduse', 'pronunciation', 'ells', 'thessaloniki', 'reflected', 'strategically', 'internationale', 'oif', 'anzus', 'asiapacific', 'hospitalisations', 'glow', 'actordirector', 'dresses', 'disappointment', 'mvezo', 'thembu', 'americanization', 'victorvictoria', 'notebook', 'ww2', 'dominate', 'declarations', 'celebratory', 'selfreleased', 'evelyn', 'sbastien', 'csar', 'graduating', 'modelled', 'internally', 'agitation', 'radicalised', 'culminating', '3033', 'soon', 'raymone', 'lab', 'disrespecting', 'famers', 'penn', 'mauvais', 'amants', 'du', 'pontneuf', 'cach', 'camille', 'claudel', 'sils', 'coupled', 'fdration', 'checs', 'federations', 'governing', 'bidding', 'meade', 'cymru', 'industrialised', 'harmonica', 'eager', 'raw', 'gridiron', 'goalposts', 'houghton', 'pixel', 'kerrang', 'culebra', 'vieques', 'estado', 'libre', 'asociado', 'porto', 'travi', 'avery', 'spawning', 'antonia', 'josepha', 'johanna', 'navarre', 'detroitbased', '89th', 'launching', 'turkmen', 'shabakis', 'yazidis', 'kawliya', 'varies', 'assessed', 'statuette', 'ruy', 'lpez', 'villalobos', 'islas', 'filipinas', 'gpi', 'peacefulness', 'polygynous', 'polyandrous', 'behavioral', 'ecology', 'breeding', 'caracciolo', 'notably', 'closeknit', 'charming', 'hubris', 'perils', 'misconstrued', 'bedtime', 'filed', '118', 'canals', 'mouths', 'cancellation', 'protg', 'mentorship', 'instantaneous', 'purest', 'rather', 'emphasized', 'therese', 'planner', 'attic', '428427', '424423', '348347', 'adaptability', 'millburn', 'mattress', 'lowbudget', 'quackser', 'stockholder', 'supervoting', 'mitte', 'elanor', 'wenrich', 'conceptualised', 'armoured', 'adding', 'mindhunters', 'renny', 'harlin', 'velsquez', 'val', 'kilmer', 'edison', 'disrupts', 'farmhand', 'inadvertently', 'acquires', 'droids', 'avocation', 'saturdaymorning', 'daphne', 'dinkley', 'solve', 'supposedly', 'antics', 'missteps', 'vermillion', 'serials', 'plantagenet', 'thereof', 'therefore', 'controlling', 'saigon', 'piaf', 'downcast', 'bassheavy', 'trapstyle', 'iterations', 'celebrating', 'llc', 'pavitt', 'poneman', 'seminal', 'ciccone', 'anthologist', 'crowds', 'wasikowska', 'slimane', 'dazi', '605', 'montrealers', 'blocked', 'rejections', 'stuffs', 'twohanded', 'blocks', 'facials', 'swats', 'denials', 'packs', 'incarnation', 'daker', 'moffett', 'recovering', 'astro', 'dimetra', 'stade', 'rodat', 'intensity', 'delegates', 'indicating', 'roberson', 'allred', 'renner', 'gregg', 'cobie', 'smulders', 'dramatizations', 'incidents', 'frideric', 'handel', 'giulio', 'cesare', 'massenet', 'cloptre', 'joaqun', 'leaf', 'beethoven', 'luitpold', 'reichsfhrer', 'squadron', 'rundgren', 'ushering', 'quiz', '69th', 'environmentalist', 'sizeable', 'renderings', 'sixthmost', '132', 'transplants', 'antemasque', 'strongwilled', 'reunite', 'mystical', 'relic', 'ne', 'moffitt', 'leati', 'anoai', 'populace', 'russo', 'reserved', 'examinations', 'zemeckisdirected', 'gleason', 'ringwald', 'sheedy', 'shahjahanabad', 'detectives', 'cooperating', 'criminalturnedbusinessman', 'investigate', 'maureen', 'zealandborn', '103000', 'mckenzie', 'kin', 'marijuanathemed', 'poryes', 'correll', 'wichita', 'halfman', 'predominantly', 'rewrite', '12book', 'depicting', 'napoleonic', 'ranting', 'embarrassing', 'preaching', 'mallah', 'ysafzay', 'youngestever', 'laureate', 'mingora', 'stints', 'pronounced', 'bonaire', 'curaao', 'coasts', 'asymmetric', 'afterschool', 'shotgun', 'trachtenberg', 'julianna', 'margulies', 'illustrating', '855', 'gateway', 'immigration', 'mjk', 'winemaker', 'marking', 'ridgely', 'melora', 'rysher', 'blackman', 'robards', 'interrelated', 'forgiveness', 'praising', 'storytelling', 'aimee', 'however', 'overlong', 'commedia', 'arte', 'cannonball', 'availability', 'delivering', 'listen', 'salih', 'jogos', 'olmpicos', 'vero', 'xxxi', 'olympiad', 'der', 'freistaat', 'sachsen', 'swobodny', 'stat', 'sakska', 'anhalt', 'thuringia', 'silesian', 'lubusz', 'voivodeships', 'karlovy', 'liberec', 'nad', 'labem', 'knockaround', 'burn', 'mulholland', 'juno', 'petersen', 'rene', 'crouse', 'madigan', 'haynes', 'oquinn', 'editorinchief', 'ojibwa', 'chippewa', 'anishinaabeg', 'anishinaabe', 'anishinabe', 'plural', 'autonym', 'odawa', 'potawatomi', 'ojicree', 'mississaugas', 'algonquin', 'woodlands', 'subarctic', 'tier', 'varicella', 'zoster', '834881', '788445', 'tolmach', 'rafa', 'parera', 'saroo', 'brierley', '91634', 'proportion', 'arriving', 'vanua', '860000', 'violet', 'baudelaire', 'lemony', 'snicket', 'unfortunate', 'yash', 'naresh', 'malhotra', 'spade', 'fran', 'drescher', 'replacing', 'ghostwritten', 'bigbudget', '34dihydroxyphenethylamine', 'catecholamine', 'phenethylamine', 'familiarly', 'bara', 'miamidade', 'establishing', 'encourages', 'principally', 'honour', 'onscreen', 'lopoldville', 'rpublique', 'dmocratique', 'drc', 'droc', 'aforementioned', 'notices', 'announcements', 'horoscopes', 'editorial', 'gag', 'strips', 'schedules', 'principled', 'ideologue', 'noting', 'zimmerman', 'drawings', 'galleries', 'mccullough', 'prevalence', 'dny', 'dca', 'tionne', 'tboz', 'watkins', 'rozonda', 'chilli', 'abdication', 'beattie', 'wolpert', 'nathanson', 'junction', 'connacht', 'revelstoke', 'povertystricken', 'regio', 'metropolitana', '126', 'contanious', 'okovi', 'hypocorism', 'nole', 'reaching', 'redone', 'akon', 'labelmate', 'colby', 'odonis', 'secularized', 'lutheranism', 'uniting', '1804', 'shaft', '51st', 'moan', 'dannon', 'hm', 'gaius', 'noelle', 'reprise', 'rescheduling', 'serious', 'sinclair', 'gielgud', 'mid20th', 'wallach', 'mantegna', 'quartette', 'ramani', 'jojo', 'moyes', 'che', 'ikwadur', 'ripuwlika', 'navrtilov', 'passionada', 'comparing', 'encyclopdia', 'britannica', 'approached', 'britannicas', 'johann', 'gottfried', 'herder', 'recognised', 'bosniaherzegovina', 'bih', 'appointment', '1002', 'eastern9', '02', 'onika', 'maraj', 'forefront', 'shrine', 'auditorium', 'sidekick', 'tramp', 'mack', 'waite', 'furthermore', 'awardnominated', 'horrific', '1483', 'fourdome', 'ogglnks', 'dogville', 'interpreter', 'dental', 'darnell', 'grammynominated', 'vj', 'webby', 'cella', 'unscripted', '109', 'scoring', 'coverdated', 'hood', 'germanborn', 'topearning', 'affluent', 'sayaji', 'shinde', 'sakunthala', 'pasupathy', 'quechua', 'kinwa', 'kinuwa', 'buckland', 'ucl', 'statessamesex', 'jurisdictions', 'rory', 'mcilroy', 'ly', 'palo', '1864', 'roh', 'nuufolau', 'seanoa', 'practised', 'jatin', '200407', '165000', 'nanotech', 'obnoxiously', 'avram', 'abram', 'conspicuously', 'contrary', 'archetypal', 'rollers', 'dodger', 'nerruku', 'palahniuk', 'et', 'irreconcilable', 'romanized', 'ramazan', 'ramadhan', 'ramathan', 'sawm', 'wilhelm', 'bhrat', 'gaarjya', 'girasoli', 'jfj', 'steady', '11000000', 'certifying', '33rdlargest', 'neptunedue', 'eccentric', '2227', 'trafficked', 'isolation', 'icebergs', 'aquifers', 'gh', 'blame', 'operative', 'presenting', 'difficulties', 'tries', 'conflicting', 'requirements', 'zootropolis', 'comedyadventure', 'bdiyat', 'ashshm', 'vip', 'binational', 'strategists', 'scipio', 'africanus', 'ginnifer', 'goodwin', 'torrence', 'exequiel', 'augusta', 'kajol', 'kontinen', 'basilica', 'epa', 'glamazon', 'exwife', 'publicised', 'ouisa', 'kittredge', 'adhered', 'abstinence', 'roaring', 'cautionary', 'ser', 'franois', 'cyril', 'dependencies', 'estvez', '171000', 'allmusic', 'rockpop', 'redefined', 'embracing', 'configurations', 'incurring', 'jeanpaul', 'goude', 'sly', 'bobbin', 'winder', 'tensile', 'unheralded', '14522', 'polymath', 'sculpting', 'botany', 'cartography', 'confederations', 'specials', 'custodianship', 'timerelated', 'noninterference', 'czechoslovakborn', 'colosseum', 'generosity', 'relieving', 'eruption', 'nikolaevna', 'zakharenko', 'nevertheless', 'iwork', 'suites', 'delano', 'fdr', 'dbut', 'doss', 'bracey', 'griffiths', 'musculoskeletal', 'zola', 'stratton', 'gunfire', 'sheyi', 'fk', 'moebius', 'mzires', 'francobelgian', 'bandes', 'dessines', 'mbius', 'storyboards', 'tron', 'abyss', 'tessandra', 'chavez', 'proprietary', 'accessing', 'wachowski', 'aacta', 'disturbance', 'lootings', 'arsons', 'disturbances', 'veeru', 'abdomenbelly', 'entente', 'gueststarring', 'synni', 'reuss', 'plauen', 'prinzessin', 'distributions', 'centos', 'debian', 'fedora', 'opensuse', 'ubuntu', 'suse', 'server', 'kampuchea', 'srok', 'donaghy', 'cocks', 'shsaku', 'martell', 'luttrell', 'murphymonjack', 'bertolotti', 'graden', 'concurrently', 'vacating', 'welterweight', 'reginald', 'hudlin', 'frigate', 'sizes', 'woodenhulled', 'threemasted', 'nyah', 'nordoffhall', 'nationalsozialistische', 'deutsche', 'arbeiterpartei', 'fhrer', 'surpassing', 'tonynominated', 'toho', 'securities', 'blmis', '777200lr', 'swashbuckler', 'goya', 'rsfsr', 'overthrowing', 'menshevik', 'drg', 'installing', 'cornville', 'tasting', 'wines', 'actionhorror', 'aborted', 'reentry', 'fuel', 'stuck', 'thruster', 'lois', 'namesake', 'thenyoungest', 'vettel', 'sanctioned', 'peaceloving', 'guthrie', 'towner', 'sensational', 'vol', 'brookline', 'chorea', 'knope', 'perky', 'midlevel', 'bureaucrat', 'nbcuniversal', 'decrease', 'usna', 'denote', 'sevencontinent', 'landis', 'burbs', 'kwon', 'jiyong', 'quadrupleplatinum', 'chevalier', 'officier', 'commandeur', 'grandcroix', 'honoured', 'liddibrown', 'tending', 'masses', 'yuryevna', 'duvre', 'profundity', 'workmanship', 'expatriate', 'wired', 'nerdist', 'barnyard', 'g4', 'zachary', 'quinto', 'wilkinson', 'marshallgreen', 'schnetzer', 'lakeith', 'stanfield', 'mbe', 'amg', 'relational', 'dynamic', 'randomaccess', 'dram', 'marissa', 'ft', 'escapes', 'fleeing', 'strengthen', 'peril', 'selfserving', 'courtiers', 'surround', 'scheming', 'intercollegiate', 'infections', 'medications', 'toxins', 'bouvier', 'stockbroker', 'vernou', 'hader', 'margarita', 'levieva', 'transparent', 'colorless', 'fluids', 'damodardas', 'henriette', 'treason', '1649', 'mebarak', 'ripoll', 'bandleaders', '102nd', 'penda', 'lowerlying', 'pastoral', 'vale', 'glamorgan', 'swansea', 'bridgend', 'cowan', 'witty', 'lore', 'bowed', 'arachnids', 'parasitiformes', 'cardiffborn', '1326', '1330', 'rewards', 'kernel', 'touchscreen', 'smartphones', 'tablets', 'steiner', '18931', 'donal', 'jimbo', 'beelzebub', 'onizuka', 'infamous', 'bankrobber', 'imprio', 'onesixth', 'cowriting', 'gcsi', 'eore', 'terra', 'protists', 'archaea', 'postseason', 'providers', 'exchanges', 'worldrankings', 'definition', 'fluctuations', 'calculate', 'ike', 'fledgling', 'successive', 'habitation', 'celts', 'slavs', 'gepids', 'avars', 'laid', 'negotiating', 'uchronic', 'kruger', 'schweiger', 'mlanie', 'laurent', 'wpc', 'shagged', 'goldmember', 'treble', 'incarceration', 'paroled', 'maury', 'midlands', 'possessing', 'specialised', 'painful', 'inflammatory', 'granulomas', 'maurice', 'affiliated', 'lenin', 'jure', 'reorganisation', 'yves', 'tbily', 'ivorian', 'controversially', 'kendall', 'mid1950s', 'khanates', 'ardolino', 'constitutes', '405212', 'neighbouring', 'avalon', '138', 'acre', 'saintgermain', 'cf', 'headlines', 'transaction', 'resolutionlibya', 'diversifying', 'britishfounded', 'entrepreneurs', 'nik', 'belford', '103', 'mins', 'mychael', 'danna', 'beset', 'f8', 'transported', 'pocketing', 'neurotic', 'chiefly', 'gopalakrishnan', 'padmanabhan', 'pillai', 'wizarding', 'shuttle', 'amid', 'tracing', 'yetiyoya', 'fdralaw', 'dmokirasyaw', 'rpebilk', 'perske', 'sultry', 'regard', 'ranging', 'crafty', 'canning', 'flaherty', 'grandpa', 'herohe', 'bumper', 'harleen', 'quinzel', 'dini', 'timm', 'regan', 'lindstrm', 'parlophon', 'ltd', 'fingal', 'oflahertie', '185430', 'marathi', 'germanoccupied', 'minorplanet', '134340', 'positional', 'isomer', 'dunphy', 'preproduction', 'raimi', 'request', 'cora', 'ante', 'meridiem', 'midday', 'bayley', 'afforded', 'percapita', '1040000', 'thunderbolt', 'lightfoot', 'starman', 'kl', 'krautrock', 'seabed', 'artefacts', 'multitasking', 'unexpected', 'reformed', 'kering', 'andrea', 'supervisory', 'jareau', 'ao', 'philadelphiasan', 'globetrotters', 'withdrawal', 'unrecognizedthe', 'slovene', 'abbr', 'rs', 'actra', 'borsos', 'cas', 'hence', 'bartolom', 'casas', 'evenings', 'canonicity', 'autoalliance', 'otosan', 'charters', 'screwball', 'determine', 'prescription', 'intense', 'moviegoing', 'reversals', '365', '173', 'heated', 'coloured', 'respected', 'hatekhniyon', 'makhon', 'tekhnologi', 'leyisrael', 'ditko', 'wheeler', '7315', '72585', '689', 'lured', 'deception', 'asphyxiation', 'strangulation', 'makeshift', 'tourniquet', 'stabbed', 'tortured', 'girolamo', 'louisa', 'metcalf', 'valle', 'mxico', 'plateaus', 'altitude', '2240', 'cdmx', 'ds2', 'evol', 'hndrxx', 'a1', 'freebandz', 'unacknowledged', 'rambo', 'spreading', '40687', '811844', 'orca', 'orcinus', 'systematic', 'odontoceti', 'parvorder', 'cetaceans', 'porpoises', 'beaked', 'sperm', 'hickenbottom', 'immensely', 'censusestimated', '4042000', 'brett', 'masterminded', 'threeonthree', 'twoontwo', 'oneonone', 'corresponds', 'likewise', 'dith', 'lumires', 'immortals', 'actionstar', 'changeling', 'watchman', 'forensic', 'shortie', 'shawty', 'johnt', 'rigby', 'sloane', 'shelter', 'doctorow', 'picks', 'hostal', 'ie', 'noncommercially', 'hospitality', 'tent', 'caravancamper', 'campsite', 'isherwood', 'ondaatje', 'zaentz', 'elaborate', 'lurking', 'levers', 'hearstshaw', 'greatgrandfather', 'randolph', 'huffam', 'khlo', 'observe', 'chronicling', 'folasade', 'adu', 'obe', 'flad', 'denman', 'matthewman', 'stronger', 'gesture', 'stylised', 'alyce', 'alois', 'austrianamerican', 'byelorussia', 'belorussia', 'aleksandr', 'grigoryevich', 'aliaksandr', 'ryhoravi', 'lukaenka', 'midseason', 'bombings', 'erosion', 'necessitated', 'requiring', 'largescale', '1714', '1702', '1100', 'richter', 'kilgrave', 'barty', 'crouch', 'skank', 'luca', 'vows', 'temples', '380', '362', 'researcher', 'troop', 'nonetheless', 'thenceo', 'storewithinastore', 'deed', 'halfhour', 'mireille', 'enos', 'terrence', 'fisherman', 'wharf', 'syre', 'peaking', 'italiani', 'angier', 'borden', 'tread', 'howards', 'lavenza', 'aphrodite', 'bellatrix', 'lestrange', 'havisham', 'madame', 'thnardier', 'godmother', 'mme', 'consequently', 'spiro', 'agnew', 'heileanan', 'tuath', 'norreyjar', 'shortstories', '7200', '8000m', 'horizon', 'prostitute', 'joyful', 'lanier', 'takashi', 'bufford', 'arianna', 'practitioners', 'eschewed', 'tatopoulos', 'mns', 'mrlind', 'foerster', 'afroasiatic', 'dilli', 'nct', 'onlineonly', 'cooksey', 'virgil', 'lawmangambler', 'shootout', 'constableunited', 'stir', 'echoes', 'mortdecai', 'guillaume', 'whereas', 'larp', 'initialism', 'examination', 'selfdestructive', 'barrens', 'blundetto', 'trkiye', 'cumhuriyeti', 'early1970s', 'aloud', 'sexy', 'searchin', 'livin', 'surrender', 'initiative', 'undertook', 'posttax', 'royalties', 'colloquially', 'oversexed', 'adedayo', 'adegboyega', 'lupita', 'nyong', 'domhnall', 'deu', 'amended', 'protections', 'workplace', 'disenfranchise', 'baines', '1908january', 'assuming', 'therein', 'fact', 'nesta', 'disqualification', 'doping', 'offences', 'eightpart', '09', 'hurwitz', 'chiyaan', 'nadu', 'amongst', 'recognitions', 'wait', 'kjo', 'tchalla', 'hugely', '1816', 'wheatley', 'ivanov', 'fouract', 'chekhov', 'cymbeline', 'meditation', 'insight', 'cultivation', 'lovingkindness', 'compassion', 'mahayana', 'bodhicitta', 'vajrayana', 'stripper', 'rfk', 'bacon', 'pollak', 'bodison', 'contrast', 'lowlands', 'accordance', 'tyrone', 'regenerations', 'aubrey', 'ja', 'pras', 'statham', 'brandname', 'opioids', 'matanitu', 'tugalala', 'nmi', 'stefanie', 'elrond', 'trilogies', 'continuity', 'narrating', 'regularseason', 'britpop', 'dub', 'unordered', 'hiding', 'reclusive', 'targeting', 'eg', 'specified', 'sectors', 'nelle', 'porter', 'madhuri', 'dixit', 'shanowski', 'mikaela', 'banes', 'succeeds', 'rendering', 'clinic', 'mungo', 'ticker', 'phyllis', 'reactivated', 'umg', 'selfdeception', 'devoting', 'postlethwaite', 'dina', 'marnie', 'crusade', 'forrester', 'prospect', 'vaccination', 'processed', 'highestselling', 'immense', 'bhl', 'idrissa', 'akuna', 'challenged', 'tanzanians', 'trilingual', 'knebel', 'spiderwebs', 'wristmounted', 'webshooters', 'spidersense', 'enabling', 'foes', 'overlapping', 'definitions', 'relates', 'comedycrime', 'jvc', 'dwindled', 'punj', 'randal', 'vacancies', 'dibiase', 'villainous', 'owe', 'shuster', 'siegel', 'estates', 'leyva', 'muoz', 'ramrez', 'trouble', 'umpires', 'antje', 'traue', 'ayelet', 'zurer', 'meloni', 'tobin', 'unsinkable', 'cleared', 'assert', 'communitys', 'hugonominated', '19yearold', 'abducted', 'leftwing', 'smuggled', 'cruz', 'tsetung', '1893september', 'antitrust', 'dismemberment', 'payload', 'cargo', 'outfitting', 'alberic', 'twisletonwykehamfiennes', '1743', 'encounters', 'dashing', 'heughan', 'embroiled', 'zoetrope', 'christmasthemed', 'graceful', 'mutual', 'milhous', 'adkins', 'strengthened', 'firsts', 'pussycat', 'puff', 'andrs', 'cristina', 'frostnixon', 'anakin', 'grands', 'purposebuilt', 'fia', 'barclaycard', 'bestreviewed', 'portage', 'watershed', 'prevention', 'context', 'golan', 'disengagement', 'benzodiazepines', 'bzd', 'bzs', 'benzos', 'psychoactive', 'benzene', 'diazepine', 'portmanteau', 'variability', '19096', 'sq', 'heartburn', '300000', 'mena', 'suvari', 'punchdrunk', 'polly', 'lowlifes', 'foote', '81900', 'chancebased', 'tunes', 'midway', 'ventured', 'anoop', 'reckoned', 'disgorging', 'stomach', 'naturalized', 'stilinski', 'babes', 'loren', 'hess', 'bowman', 'hubbel', 'spivey', 'mckinnon', 'lovett', 'arthouse', 'thrillseeker', 'recognisable', 'diarmuid', 'dramatised', 'aleve', 'naprosyn', 'nsaid', 'ibuprofen', 'cryin', 'vidor', 'rickricky', 'expressions', 'learns', 'strung', 'cord', '187020', 'stint', 'vinton', 'vishishtadvaita', 'iast', 'sri', 'sampradaya', 'dvaita', 'uttara', 'mms', 'stika', 'vedantic', 'subsumed', 'bhedabheda', 'difference', 'nondifference', 'romanised', 'peking', 'cattleherding', 'rooted', 'handling', 'minting', 'smelting', 'fabrication', 'corrosion', 'attractions', 'ghostwriter', 'accommodation', 'residential', 'fixture', 'wane', 'technologicallyfocused', 'agglomeration', '9900', 'broader', 'prefectures', 'kant', 'honshu', 'izu', 'ogasawara', 'syllables', 'benelux', 'nazism', 'hiram', '1822', 'rajski', 'doris', 'rendered', 'supervillains', 'greysummers', 'jeane', 'mortenson', 'reentering', '1854', '1679', 'oates', 'revelations', 'popish', 'exclusion', 'varenberg', 'jcvd', 'tenors', 'wanya', 'stockman', 'ballads', 'acappella', 'harmonies', 'celliers', 'merry', 'jareth', 'pontius', 'pilate', 'temptation', 'keralam', 'malabar', 'upenn', 'bulk', 'mayte', 'mirza', 'sirajuddin', 'gennadyevich', 'kazakhstani', 'wba', 'wbc', 'ibf', 'ibo', 'milius', 'centrepiece', 'visegrd', 'hiroo', 'gauri', 'dolores', 'janney', 'saavedra', 'banda', 'ranchera', 'upwards', 'yevgenievich', 'oligarchs', 'mammary', 'glands', 'gig', 'codirect', 'fantasycomedy', 'nonvoting', 'offconsole', 'remotely', 'settings', 'videogame', 'marcellus', 'nlf', 'guerrilla', 'anticommunist', 'nva', 'arrowverse', 'mina', 'harker', 'jekyll', 'backboard', 'agt', 'megastores', 'majorlabel', 'adhering', 'disagree', 'abccmt', 'musicaldrama', 'mockumentaries', 'nusa', 'tenggara', 'exception', 'fallujah', 'poprock', 'lootera', 'dhadakne', 'mcgillis', 'favour', 'enlightening', 'barkley', 'colt', 'seavers', 'usbased', 'vw', 'hyundaikia', 'plc', 'bla', 'ferenc', 'dezs', 'blask', 'mid1990s', 'cinquime', 'lment', 'driven', 'dahan', 'mbbs', 'lavalle', 'polizzi', 'reverend', 'tholomew', 'coleading', 'mercedesfunded', 'benetton', 'spelt', 'wodeyer', 'odeyer', '1761', 'marths', 'vicinity', 'mtropole', 'daixmarseilleprovence', 'agglomerations', 'bouchesdurhne', 'departement', 'suez', 'canal', 'ural', '204', 'toolman', 'lightyear', 'liner', 'colliding', 'iceberg', 'prefix', 'seagoing', 'hitting', 'augello', 'mari', 'karma', 'transits', '120th', '150th', 'longitude', 'cosmology', 'senses', '1863', 'democraticdominated', 'legislatures', 'tranter', 'goldstein', 'blackbear', 'kramer', 'widmark', 'maximilian', 'schell', 'klemperer', 'marlene', 'dietrich', 'clift', 'supertoys', 'aldiss', 'intel', 'x86', 'ported', 'mmb', 'isl', '1454february', 'financier', 'navigator', 'demonstrated', 'outskirts', 'conjectured', 'voyages', 'constituted', 'hitherto', 'worlders', 'cam', 'kavner', 'quinton', 'ernie', 'sabella', 'rafiki', 'mombasainlawthe', 'laughing', 'hyenas', 'courtordered', 'stemming', 'rovero', 'melnick', 'brinson', 'cy', 'waits', 'plight', 'exemplifies', 'vendler', 'tireless', 'persistence', 'lopold', 'ier', 'coburg', 'laeken', 'orlans', 'deport', 'antiwar', 'insights', 'halfhourlong', 'kilborn', 'visibility', 'fhrerbunker', 'botwin', 'sphere', 'mononym', 'jongsuk', 'jinnah', 'alalc', 'mahomedali', 'jinnahbhai', '187611', 'considering', 'benazir', 'bhutto', 'rolemodels', 'sync', 'plante', 'singes', 'canyon', 'photographic', 'accessory', 'expulsion', 'eccleston', 'zylka', 'coon', 'dowd', 'regina', 'settlemire', 'moneyball', 'chri', 'thunderdome', 'proud', 'nutbush', 'thoughout', 'stapp', 'lawmen', 'frontier', 'awaited', 'fantasyaction', 'procedural', 'transliterated', 'chyornaya', 'vdova', 'romanoff', 'fela', 'reefer', 'mid1970s', 'studioalbum', 'bullitt', 'papillon', 'towering', 'freemarket', 'sykes', 'jarhead', 'tubbs', 'electro', 'adoptive', 'desperado', 'armageddon', 'ilsa', 'faust', '19408', '156430', 'elizabethan', 'jointcia', 'schlesinger', 'kathrin', 'romary', 'haworth', 'variously', 'palaeontology', 'ichnology', 'jordison', 'crahan', 'attenborough', 'late1970s', 'horowitz', 'deetz', 'goth', 'averages', 'thickness', 'vistavision', 'antiheroine', 'courage', 'jellicoe', 'narrowly', '1960general', 'landgrant', 'doctoral', 'ithaca', 'lemmon', 'mayron', 'cioffi', 'emblematic', 'attitudes', 'specification', 'toplevel', 'priority', 'rugrats', 'haunted', 'occupants', 'scifidrama', 'telegraph', 'fullfledged', 'tlhingan', 'hol', 'piqad', 'klingons', 'spinal', 'treponema', 'pallidum', 'deliberately', 'negotiator', 'dalton', 'mastermind', 'orchestrates', 'madeleine', 'broker', 'deposit', 'robbers', 'corresponding', 'eurasian', 'seabiscuit', '40yearold', 'miri', 'porno', 'historicallybased', 'binds', 'istria', 'approximated', '314159', 'euclidean', 'paranoid', 'opponents', 'indefinite', 'detentions', 'occupant', 'investigation', 'superiority', 'intrigues', 'liquidpropellant', 'recover', 'propulsive', 'reuse', 'alani', 'vzquez', 'struck', 'avalanches', 'crimethriller', 'scheider', 'mckee', 'gleichschaltung', 'robard', 'achsenmchte', 'sjikukoku', 'potenze', 'asse', 'crole', 'hatien', '12million', 'damian', 'span', 'boxrec', 'yahoo', 'gad', 'ewan', 'gugu', 'mbatharaw', 'shipped', 'mortally', 'wounded', '24yearold', 'enraged', 'thtivaeltaja', 'ctc', 'croydon', 'mandate', 'vocational', 'lulu', 'session', 'hollies', 'scaffold', 'reintroduction', 'capitalregion', 'rsc', 'clashing', 'voyager', 'autumn', 'elias', 'koteas', 'logue', 'dermot', 'mulroney', 'lafuente', 'medianu', 'overlords', 'enslaved', 'sophisticated', 'gestalt', 'magicthemed', 'fountain', 'categorize', 'simulcast', 'itv1', 'stv', 'auditions', 'bootcamp', 'foreshadowing', 'jyoti', 'ndtv', 'horton', 'hears', 'ogamntril', '2ndmost', 'panels', 'marieclaude', 'thx', '1138', 'santini', 'rhcp', 'rockfunk', 'topten', 'threeeighths', 'repblica', 'dominicana', 'fiveeighths', 'hispaniola', 'antilles', 'feihung', 'huang', 'feihong', 'zhang', 'yimou', 'taissa', 'lofranco', 'laos', 'lao', 'sathalanalat', 'paxathipatai', 'paxaxon', 'colloquial', 'muang', 'indochinese', '3897', 'boone', 'cottesloe', 'lineal', 'spinks', 'sicherheitsdienst', 'sd', 'onwards', 'ordo', 'hermeticus', 'liveactioncomputeranimated', 'peyo', 'scully', 'illfated', 'dsi', 'jeanne', 'darc', '1412', '1431', 'pucelle', 'dorlans', 'lancastrian', 'steered', 'reef', 'ashore', 'torino', 'yathrib', 'poster', 'onair', 'wrnw', 'briarcliff', 'wccc', 'wwww', 'wwdc', 'afternoons', 'wnbc', 'firing', 'johnsonled', 'breakoffense', '9year', 'welcoming', 'gal', 'gadot', 'softbodied', 'eightarmed', 'mollusc', 'octopoda', 'artistwriter', 'liefeld', 'nicieza', 'ebony', 'greats', 'athleticism', '1710', '1715', 'alphonso', 'dabruzzo', 'identifying', 'announcing', 'ufficiale', 'omri', 'mccabe', 'trinian', 'hfpa', 'firemen', 'daystomonths', 'afterward', 'investigated', 'europethe', 'medc', 'reinstated', 'boom', 'sociopolitical', 'anni', 'piombo', 'pulite', 'maxi', 'assassinations', 'antimafia', 'norn', 'brixton', 'embarking', 'alecx5', '494', 'prowess', 'intimidation', 'indomitable', 'felumlee', 'rss', 'ww1', 'pescia', 'pazzo', 'madman', '64th', 'freetrade', 'defended', 'geale', 'achieving', 'mir', 'perhaps', 'provincial', 'quitting', 'azerbaijanis', 'stating', 'pew', 'proved', 'highfantasy', 'carbo', 'mixture', 'hydrochloric', 'tetrachloroaurate', 'anion', 'frigid', 'zones', 'poles', 'liar', '703000', 'shahi', 'qila', '93030', 'adversaries', 'rogues', 'gallery', 'alxandros', 'copa', 'jobim', 'cancerous', 'maattrraan', 'jilla', 'nandamuri', 'kalyan', 'lakshmi', 'kalyanam', 'depository', 'alun', 'saphira', 'shock', 'zachariah', 'piaget', 'bennigan', 'whispers', 'sarsgaard', 'lombardy', 'vernacular', 'collectors', 'abel', 'makkonen', 'tesfaye', 'compono', 'quintet', 'pipes', 'miniatures', 'polity', 'ensured', 'jodhpur', 'malloy', 'streetcar', 'clarissa', 'mallowan', 'dbe', 'yixing', '1721', 'menes', 'atyat', 'neptunes', 'safeguard', 'catastrophe', 'decontamination', 'surroundings', 'rubles', 'tanzanian', 'lodovico', 'buonarroti', 'simoni', '1475', 'florentine', 'exerted', 'aset', 'iset', 'unholy', 'haggard', 'minghags', 'monitors', 'googlecom', 'devises', 'transition', 'succeeding', 'explained', 'cellular', 'jameka', 'colours', 'giving', 'asshai', '1162', 'temjin', 'highfat', 'refractory', 'jazrah', 'albarayn', 'alawal', 'bahrein', 'russelldirected', 'collge', 'jeandebrbeuf', 'dismissed', 'swap', 'batandball', '22yardlong', 'wicket', 'stumps', 'regardless', 'whether', 'examples', 'microstates', 'niue', 'micronesia', 'chinesespeaking', 'rajiv', 'bhatia', 'fragrances', 'raewon', 'chung', 'xu', 'karena', 'ng', 'appointing', 'morrow', 'araneae', 'airbreathing', 'chelicerae', 'fangs', 'inject', 'proton', 'nucleus', 'atom', 'uniquely', 'jeanmarc', 'claiming', 'raid', 'abbottabad', 'cactusstrewn', 'mtley', 'cre', 'santana', 'authoring', 'tallarico', 'moyna', 'macgill', 'brigid', 'britishamericanirish', 'delgado', 'affinities', 'jazzbased', 'jardine', 'bliss', 'frugal', 'willem', 'dafoe', 'furlong', 'trejo', 'rourke', 'beacon', '1002012', 'ezail', 'danube', 'buda', 'bastion', 'gresham', 'szchenyi', 'mtystemplom', 'tremont', 'oan', 'nyt', 'skrts', '470469', 'witches', 'pork', 'godfathers', '1980searly', 'yo', 'starsnyou', 'affordable', 'aca', 'statute', '111th', 'dodd', 'repeal', 'celebrations', 'footballers', 'playmaker', 'beckenbauer', 'facade', 'mall', 'remodelling', 'aston', 'blore', 'fiveseason', 'rao', 'cillian', 'englandit', 'plead', 'insanity', 'penalty', 'privatisation', 'oc', 'obc', 'triumph', 'donmar', 'streptococcal', 'lamented', 'rag', 'doll', 'yarn', 'triangle', '13year', 'fay', 'lesueur', 'tykwerdirected', 'abcwb', 'threequarters', 'ak47s', 'electronicsalthough', 'traction', '2008and', 'tyres', 'mogambo', 'adventureromantic', 'sinden', 'stardom', 'sponsorship', 'ladbrokes', 'accompaniment', 'relocating', 'invictus', 'darabont', 'distinguish', 'bookkeeping', 'capitalization', '2586', 'identify', 'volpi', 'mags', 'bennett', 'dickie', 'modelle', 'advertise', 'aide', 'pose', 'davidoff', 'assumed', 'ellinik', 'glssa', 'drkn', 'azrbaycan', 'respublikas', '109th', 'enrique', 'martn', 'morales', 'enforce', 'approve', 'veto', 'brigit', 'helmet', 'challenger', 'calcutta', 'anjez', 'gonxhe', 'bojaxhiu', 'albanianindian', 'sanaa', 'lathan', 'blossom', '700billion', 'acknowledging', 'attribute', 'stonedirected', 'vronsky', 'lively', 'demian', 'bichir', 'sending', 'headbutting', 'sedition', 'oriented', 'ariolaeurodisc', 'bertelsmann', 'pearlman', 'attached', '242', 'immoral', 'statism', 'outlook', 'reflects', 'antiauthoritarian', 'syndicalism', 'mutualism', 'participatory', 'connecting', 'shields', 'commodores', 'socalled', 'eastman', 'thralls', 'constance', '1627', '1672', 'jesuit', 'wizkid', 'kyla', 'popism', 'incognegro', 'toln', 'swans', 'legitimacy', 'command', 'umn', 'umb', 'dress', 'pogo', 'somniosus', 'castell', 'penfro', 'threeyear', 'marisa', 'tomei', '478580', 'recordtying', 'enchantress', 'melancholia', 'intending', 'blending', 'hallelujah', 'chants', 'hare', 'vedic', 'palme', 'adjoins', 'woolridge', 'straddling', 'walloon', 'rhodin', 'stockholmbased', 'bettie', 'amaru', '1971september', 'makaveli', 'pac', 'schermerhorn', 'bowles', 'carnivoran', '166', 'frbauti', 'bleistr', 'boisterous', 'sixminute', 'segment', 'reflective', 'geothermal', 'springs', 'denying', 'saying', 'enormous', 'veeraiya', 'ramayana', 'ravana', 'raavanan', 'maturity', 'sixyearold', 'tomalin', '78rpm', 'rpm', 'clips', 'trailers', 'blogging', 'longmeadow', 'pursuing', 'imperio', 'espaol', 'measured', '30thmost', 'utrecht', 'sour', 'ipo', 'favorites', 'comment', 'subscribe', 'webm', '264mpeg', 'avc', 'adobe', 'usergenerated', 'ozark', 'journeys', 'xena', '2525', 'washburne', 'jasmine', 'miliken', 'sadie', 'kavanaugh', 'vocabulary', 'lingua', 'latna', 'italic', 'paved', 'abolition', 'modernized', 'lincolndouglas', 'secularist', 'investigator', 'yoda', 'ideologically', 'anc', 'emmerich', 'cowriters', 'devlin', 'tagore', 'depressed', 'guzaarish', 'justiseseeking', 'sarbjit', 'groton', 'angular', 'elongation', '478', 'outlets', 'melvin', 'kaminsky', 'eilleen', 'riggs', 'waned', 'influx', 'mitty', 'dodgeball', 'occupy', 'gamaliel', 'orenthal', 'certainly', 'exported', 'syncretic', 'philosophies', 'sampras', 'spartan', 'hex', 'shrader', 'distinguishing', 'coffeeserving', 'coffeehouse', 'stomp', 'yard', 'markus', 'notch', 'persson', 'mojang', 'futureworld', 'booker', 'ruandaurundi', 'periphery', 'archaic', 'pilts', 'reportedly', 'rebrand', 'deny', 'paradigm', 'shifter', 'bhambla', 'insistence', '1394928', 'writerproducers', 'kreisberg', 'liveactionanimated', 'welker', 'metres', 'zo', 'skarsgard', 'concluding', '852', 'quintanillaprez', 'iranians', 'tajiks', 'pashtuns', 'appreciated', 'lit', 'caribbeandesignated', 'sint', 'eustatius', 'saba', 'iso', '31661', 'kinnock', 'tally', 'brilliant', 'psychiatrist', 'cannibalistic', 'manndirected', 'manhunter', 'farrokh', 'bulsara', 'coprincipal', 'garnering', 'fourwheeldrive', 'ningxia', 'qinghai', 'xinjiang', 'yunnan', 'comedyfantasy', 'geffen', 'iconic', 'kerri', 'thornesmith', '204214', '223170', 'bajan', 'cowell', 'necrophile', 'possibly', 'assume', 'weintraub', 'gilroy', 'borenstein', 'connolly', 'gatins', 'culmination', 'pastry', 'guerra', 'pasteles', 'guerre', 'ptisseries', 'francomexican', 'blockade', 'fortress', 'ula', 'veracruz', 'louisphilippe', 'metalrock', 'majesty', 'petrucci', 'myung', 'branched', 'ulee', 'agrotera', 'potnia', 'wildland', 'aside', 'enjoyment', 'afterburn', 'spur', 'deregulation', 'conceptual', 'systemic', 'biases', 'articulating', 'expose', 'timor', 'charon', 'styx', 'nix', 'kerberos', 'observations', 'toptwo', 'fourpiece', 'yauch', 'schellenbach', 'thrash', 'wog', 'kwan', 'scheinert', 'screenpartnership', 'collette', 'retaliation', 'saath', 'hssh', 'rajshri', 'anglo', 'santigold', 'jaxx', 'stanka', 'brljevic', 'wwfwwe', 'clarion', 'collegiate', 'multistate', 'beasley', 'shaver', 'relishes', 'contend', 'wouldbe', 'kingdomsamesex', 'ab', 'lib', 'almualib', 'imran', 'manaf', 'hijaz', 'spite', 'techniscope', 'schenck', 'lundin', 'yards', 'gracie', 'ensembles', 'interchange', 'cartellone', 'cardinal', 'gazzara', 'wyszyski', 'sideways', 'auxiliary', '01', 'scorers', 'stature', 'demographic', 'retaining', 'uniqueness', 'claiborne', 'highsecurity', 'ratm', '8thsmallest', '11thleast', '13thmost', 'hawaiialeutian', 'bimstec', 'bangladeshchinaindiamyanmar', 'ptolemies', 'rosetta', '1891', 'jurist', 'falchuk', 'balti', 'topfive', 'bop', 'arundel', 'rashtriya', 'swayamsevak', 'sangh', 'rossif', 'orator', 'populist', 'opossum', 'unconscious', 'abbasmustan', 'tips', 'perpetual', 'horizontal', 'plantations', 'alyn', 'cain', 'routh', 'hoechlin', 'polska', 'salky', 'dragonball', 'disappear', 'dabangg', 'ratan', 'dhan', 'payo', 'bajrangi', 'bhaijaan', 'sultan', 'devi', 'inn', 'anglosaxon', 'protogermanic', 'yalu', 'dmz', 'subalpine', 'initiatives', 'sentry', 'ziauddin', 'longestserving', 'anchors', 'marryman', 'guildamerican', 'sagaftra', 'anselm', 'formulated', 'rushd', 'averroes', 'kalam', 'benevolent', 'logically', 'meaningful', 'immanuel', 'deduced', 'albanyschenectadytroy', 'ny', 'nearby', 'schenectady', 'excelling', 'momentum', 'demonstrate', 'humanrated', 'sobriquet', 'bapu', 'pyari', 'behna', 'incarnations', 'babbit', 'aspiring', 'programmes', 'tutti', 'frutti', 'fortunes', 'skg', 'heal', 'obligatory', 'wjib', 'sha', 'overarching', 'popfocused', 'mcnally', 'wendkos', 'coyote', 'ugly', 'lok', 'constituency', 'middlemarket', 'yoona', 'seohyun', 'breathnach', 'beaufoy', '323', 'profile', 'gomer', 'ignatius', 'kstj', 'dl', 'continual', 'storyarc', 'liability', 'stabilized', 'scatman', 'crothers', 'sambdromo', 'sambadrome', 'grandstandlined', 'maracan', 'vitria', 'samba', 'californiabased', 'bassman', 'milestone', 'riku', 'thwart', 'keyblade', 'dreamcatcher', 'righteous', 'carwood', 'lipton', 'trilogychristopher', '282005e280932012', 'clyde', 'coining', 'predicting', 'lilit', 'hag', 'isaiah', '3414', 'manuscripts', 'waynebatman', 'eckhart', 'menaced', 'undermine', 'gim', '59th', 'dabbled', 'backbone', 'comedyvariety', 'cosmic', 'quandaries', 'astrophysics', 'hurry', 'astrophysicist', 'communicator', 'fentanil', 'potent', 'synthetic', 'kebbell', 'ortiz', 'whigham', 'notary', 'simza', 'moriarty', 'wigram', 'hunan', 'concurrent', 'subjected', 'cludia', 'leite', 'incio', 'pedreira', 'symbiote', 'kultgen', 'marvelton', 'advertiser', 'patriotpublisher', 'offerman', 'mullally', 'coscreenwriter', 'kricfalusi', 'farrow', 'thirtyminute', 'merseyside', 'eulogy', 'rallying', 'unabashedly', 'championed', 'interventionist', 'compromises', 'disparate', 'metacritic', 'weighted', 'kbahn', 'sporadic', '1487', 'waterfilled', 'greekborn', 'consensus', 'affectionate', 'genuinely', 'pure', 'courtship', 'albumdvd', 'liotta', 'ogghwai', 'hawai', 'husbandwife', 'valerie', 'faris', 'cockney', 'staying', 'observatory', 'hallow', 'holiness', 'bluesy', 'beggars', 'banquet', 'followups', 'fingers', 'coalition', 'grohldirected', 'xia', 'venerated', 'tranh', 'vit', 'nam', 'indochina', 'khng', 'chng', 'intimidating', 'councils', 'windiest', 'smokey', 'bandit', 'temperance', 'marcy', 'nicolle', 'stylist', 'rihmeek', 'singaporeans', 'sweeping', 'chingkwake', 'cheltenham', 'reunites', 'wally', 'pfister', 'crowley', 'intricate', 'mi6', '007', 'reanimation', 'amassed', 'batted', 'biennial', 'ibby', 'recognising', 'amazonas', 'discharge', 'centralised', 'summerscyclops', 'sure', 'faithfully', 'examine', 'unanticipated', 'rejoined', 'lasseter', 'nivens', '197377', '198592', 'partnering', 'statefunded', 'albarn', 'hewlett', 'corporeal', 'dashner', 'internship', 'scorch', 'kaya', 'scodelario', 'aml', 'ameen', 'brodiesangster', 'poulter', 'retain', 'amend', 'removing', 'accomplishment', 'flair', 'lymphomas', 'maneuver', '88th', 'enact', 'commentators', 'bd', 'suge', 'windward', 'deutschendorf', 'plec', 'usab', 'fiba', 'laborer', 'deferred', 'prosecution', 'assaulting', 'therapist', 'purify', 'wendell', 'crumb', 'imprisons', 'postpresidency', 'republiek', 'zeven', 'verenigde', 'nederlanden', 'provincin', '1581', '1795', 'bayer', 'sager', 'thenhusband', 'bastn', 'hawk', 'downtown', 'treaties', 'disarmament', 'msa', 'cuts', 'discretionary', 'outlays', 'junqueira', 'reis', 'marquand', 'strikes', 'eduardo', 'saverin', 'mccollum', 'moskovitz', 'directory', 'massively', 'mmorpg', 'epoch', '2588000', 'glaciations', 'colonizing', 'unies', 'pour', 'lducation', 'anatoly', 'kucherena', 'exploits', 'poole', 'schmidt', 'dot', 'romita', '1704694', 'nielsen', 'soundscan', 'hewitt', 'prinze', 'bridgette', 'galecki', 'frontwoman', 'charttopping', '450', 'billionaires', '23000', 'millionaires', 'politicalthriller', 'verse', 'rakeysh', 'omprakash', 'mehra', 'rajkumar', 'hirani', 'claus', 'reversal', 'bokml', 'nynorsk', 'mayen', 'svalbard', 'viper', 'madsen', 'vivica', 'unborn', 'judea', 'transcaucasia', 'elasmobranch', 'cartilaginous', 'slits', 'pectoral', 'fins', 'vertebrate', 'leftover', 'brewers', 'additives', 'cheeses', 'creams', 'butters', 'jams', 'jellies', 'marmite', 'pt', 'belarusian', 'walbridge', 'franzoni', 'authenticity', 'chronic', 'nw', 'merchandising', 'licenses', 'heartbreaker', 'geeska', 'afrika', 'gaaffaa', 'afriikaa', 'yafrika', 'qnd', 'alqarn', 'afrq', 'hoa', 'akram', 'zelman', 'kessler', 'twenty20', 'deliveries', 'abode', 'darussalam', 'jawi', 'eszterhas', 'mimirose', 'lookalike', 'simpkins', 'corddry', 'solved', 'skodowska', 'expansionist', 'mid1930s', 'horns', 'unconstitutional', 'restrict', 'obergefell', 'hodges', 'mercer', 'costofliving', 'survey', 'divestment', 'embark', 'metalhard', 'limitations', 'privileges', 'encompassed', 'adulation', 'questioned', 'gorkha', '1768', 'rana', 'premiers', 'dat', 'nigga', 'hangeul', 'chosn', 'gl', 'muntcha', 'joseon', 'ncpo', 'ligue', 'nationale', 'lnh', 'staples', 'popcaan', 'kelela', 'mavis', 'rosemarie', 'dewitt', 'e5c4p3', 'yielded', 'cdf', 'lynton', 'repbrica', 'zna', 're', 'pybrika', 'ze', 'res', 'publica', 'ianuensis', 'repubblica', 'genova', '1005', 'liguria', '1347', 'roderick', 'antiquary', 'antiquarius', 'aficionado', 'hippokrts', 'pericles', 'josephine', 'facto', '13676', '14000000', 'defines', 'paraguay', 'guiana', 'falkland', 'bore', 'ptolemy', 'philadelphus', 'unions', 'girlfriend', 'collage', 'oppenheim', 'iruvar', 'belgrade', 'grizabella', 'checked', 'hoping', 'marmel', 'munroe', 'philopator', 'ptolemaic', 'barneys', 'doonan', 'funan', 'chenla', 'vassalised', 'ordainer', 'laverne', 'illuminated', 'irishcanadian', 'cultic', 'melanesian', 's4c', '2482', 'besteducated', 'nostalgic', 'callin', 'flirt', 'redefine', 'popsoul', 'giler', 'brandywine', 'brusselscapital', 'trinidadian', 'bioshock', 'borderlands', 'delsin', 'rowe', 'talion', 'vesperia', 'min', 'telltale', 'liberian', 'kepulauan', 'kecil', 'emperador', 'showings', 'pienaar', 'stranded', 'womanizer', 'arrondissement', 'lhteldeville', 'arrondissements', 'districts', 'coitus', 'copulation', 'insertion', 'thrusting', 'penis', 'erect', 'pleasure', 'reproduction', 'winds', 'muammad', 'allhfull', 'alqsim', 'allh', 'hshim', 'qasim', 'allah', 'abdulmuttalib', '570', '632', 'nonmuslims', 'frumious', 'bandersnatch', 'prosperous', 'goalkeepers', 'grammars', 'downturn', 'centreeast', 'odisha', 'jharkhand', 'biotechnology', 'junfan', 'jeet', 'kune', 'crochon', 'pallett', 'diol', 'edmond', 'tiwill', 'duprate', 'bauder', 'bogie', '870887', 'imhotep', 'apex', 'apical', 'residing', 'preyzoologists', 'predation', 'nonparasitical', 'nonbacterial', 'posing', 'talmy', 'berg', 'marsan', 'wuornos', 'palogene', 'israelites', 'hebrews', 'edie', 'falco', 'ferres', 'cloris', 'leachman', 'lupone', 'bouncing', 'ernestine', 'bridgeport', 'projection', 'dramaturgy', 'playwriting', 'coloradoconsolidated', 'capitals', 'statesstate', 'estuaries', 'rt', 'e4', '229', 'bethel', 'dualsport', 'dtente', 'introduce', 'bicameral', 'chambers', 'cpsu', 'leste', 'turcomongols', 'timurid', 'chagatai', 'timur', 'turcomongol', 'conqueror', 'defence', 'progressives', 'centrists', 'freedland', 'sztykiel', '03', 'tendencies', 'slackers', 'cynical', 'disaffected', 'zombi', 'midgard', 'weldon', 'dax', 'clandestine', 'herbal', 'essences', 'mller', 'talkies', 'woolrich', 'blackmail', 'chbosky', 'spiliotopoulos', 'marques', 'altar', '1533', '1558', 'damul', 'mrityudand', 'gangaajal', 'apaharan', 'multistarrer', 'raajneeti', 'aarakshan', 'chakravyuh', 'satyagraha', 'engels', 'outpouring', 'usn', 'uniformed', 'bet', 'billboards', 'srp', 'striped', 'pyjamas', 'parole', 'crustacea', 'taxon', 'lobsters', 'krill', 'woodlice', 'pow', 'panavision', 'unaired', 'blist', 'britishaustralian', 'jeffreys', 'morton', 'marquette', 'mateo', 'alameda', 'deutscher', 'schferhund', 'discouraging', 'demand', 'fauvist', 'fruitful', 'compressed', 'gauge', 'locomotives', 'handwritten', 'stitches', 'illuminate', '1901december', 'kiichiro', 'toyoda', 'gothenburg', 'gteborg', 'conversely', 'violated', '271', 'steagall', 'shophe', 'shofe', 'shophim', 'shofeim', 'verb', 'sufet', 'ledbetter', 'psychotherapist', 'antimilitarism', 'vissarionovich', 'firstteam', 'costumed', 'crimefighter', 'speeds', 'littleknown', 'inpatient', 'wil', 'wheaton', 'oconnell', 'computational', 'unpleasant', 'unsettling', 'distressing', 'princely', 'nominally', 'carandini', 'macho', 'hellraiser', 'gigs', 'securing', 'spinoffprequel', 'nigel', 'pennyworth', 'ipcress', 'espionage', 'furie', 'doleman', 'zulu', 'alfie', 'schatzberg', 'rutger', 'hauer', 'drinks', 'wholebean', 'microground', 'caffe', 'looseleaf', 'teas', 'juices', 'frappuccino', 'boulange', 'pastries', 'snacks', 'chips', 'crackers', 'offerings', 'locality', 'guadalajara', 'altos', 'jalisco', 'collide', 'borreliosis', 'ixodes', 'andean', 'titicaca', 'archaeological', 'nondomesticated', '5200', '7000', 'pakistaniamerican', '780', 'tano', 'sharmila', 'mansoor', 'pataudi', 'parampara', 'anari', 'rocksteady', 'stockpiles', '7300', 'warheads', 'vessel', 'afloat', 'kb', 'microcephalus', 'gurry', 'inuit', 'eqalussuaq', 'crump', 'actionfantasy', 'stefen', 'fangmeier', 'buchman', 'paolini', 'musicalromantic', 'wholly', 'sweetest', 'farce', 'magnetosphere', 'engineered', 'johns', 'apl', 'swri', 'kbos', 'directcontrolled', 'offering', 'shortlist', 'polaris', 'neon', 'reflektor', '30000', 'disciples', 'firstcentury', 'u18', 'protracted', 'says', 'projected', 'biofuels', 'macabre', 'overlap', 'nacho', 'alanis', 'morissette', 'arod', 'dominicanamerican', 'baseman', 'bruising', 'westchester', 'homemaker', 'thysdrus', 'mahdia', 'governorate', '21576', 'impressive', 'worldfamous', 'shida', 'kartli', 'homonymous', 'gladstone', 'fourandahalf', 'archipelagoes', 'ceuta', 'melilla', 'alboran', 'faheem', 'rashad', 'najm', 'industrystandard', 'interface', 'generate', 'highquality', 'andreessen', 'thiel', 'lokmanya', 'keshav', 'smallerscale', 'workload', 'bugsy', 'workhouse', 'concerti', 'worsens', 'bruise', 'spiderlike', 'bicycle', 'rode', 'hallinan', 'trend', 'hallstrm', 'jacobsen', 'affection', 'spontaneous', 'awkward', 'elegant', 'narrativedriven', 'remotes', 'wanderers', 'clockers', 'lush', 'heywood', 'konigsberg', 'labile', 'ascent', 'sinise', 'carla', 'gugino', 'directv', 'kanal', 'murtaugh', 'hesse', '731095', 'peacocke', 'igneel', 'chappaquiddick', 'kopechne', 'singlevehicle', 'negligence', '28yearold', 'nattevagten', 'bornedal', 'aerospace', 'earners', 'vaz', 'setta', 'brutally', 'pedophilia', 'charismatic', 'scientologytype', 'anas', 'throwing', 'kilometres', 'baeksang', 'buckinghamshire', 'mathers', 'eminm', 'hayti', 'tonnes', 'rajinikanth', 'tde', 'organised', 'skesis', 'chanology', 'pranks', 'hacks', 'hacktivism', 'dec', 'sensate', 'straczynski', 'rajinder', 'blackandwhite', 'cinemascope', 'garret', 'dillahunt', 'macisaac', 'paxton', 'enoch', 'nucky', 'goon', 'psychedelia', '1104', 'undisclosed', 'inoperable', 'rian', 'solution', 'manish', 'dayal', 'lofty', 'michelinstarred', 'elijah', 'haus', 'sachsencoburg', 'und', 'wettin', 'duchies', 'feeds', 'carrion', 'sexiest', 'diploma', 'certificate', '1929september', 'rainier', 'deglamorized', 'fiftholdest', 'diamorphine', 'moody', 'cariboo', 'nucleotide', 'genome', 'extrachromosomal', 'autosomal', 'huntingtin', 'timecode', 'changeup', 'mcnamara', 'debby', 'timmons', 'glave', 'phill', 'ballspielverein', 'bvb', 'rhinewestphalia', 'equivalent', 'dearborn', '576', '249', 'severson', 'guitarists', 'protective', 'clares', 'pretend', 'multi', 'bello', 'isaacs', 'nyqvist', 'epitomised', 'humanism', 'cricketers', 'nasir', 'olu', 'dara', 'hapkido', 'hapsburg', 'cough', 'unexplained', 'bowel', 'wining', 'geneva', 'saruman', 'eligibility', 'liston', 'clearly', 'upset', 'championsheavyweight', 'antagonized', 'citing', '1d', 'dirnt', 'purportedly', 'sexist', 'bledel', 'endpoints', 'twelvemember', 'schuester', 'morrison', 'guidance', 'pillsbury', 'jayma', 'terri', 'jessalyn', 'gilsig', 'dianna', 'agron', 'colfer', 'mchale', 'salling', 'ushkowitz', 'kbe', 'fulham', 'rousselot', 'acheson', 'recapture', 'wordplay', 'leukaemia', 'cullinan', 'uniwersytet', 'latajcy', 'fifpro', 'farewell', 'offenders', 'hers', 'lebensraum', 'doreen', 'closing', 'ridden', 'licence', 'attracting', 'encyclopedia', 'aim', 'jarrold', 'opting', 'betterpreserved', 'ranganathan', 'fps', 'jhalak', 'dikhhla', 'jaa', 'shahrukh', 'srk', 'captaining', 'rave', 'lianjie', 'ivorywhite', 'mausoleum', 'yamuna', 'agra', 'haughton', 'leukos', 'yavarum', 'nalam', 'fanbased', '342239', '104', 'buena', 'vista', 'md80', 'selden', 'singin', 'assemblage', 'selfconsciously', 'ironic', 'quotable', 'titleholder', 'remittances', 'chairs', 'spaceballs', 'tights', 'negritos', 'barefoot', 'false', 'improvolympic', 'plaintiffs', 'nord', 'caphatien', 'cheir', 'pteron', 'pashtodari', 'afnistn', 'uploaded', 'vevo', '1750', '945', 'fifthgeneration', 'singleseat', 'allweather', 'acquisition', 'tsinchuan', 'katheryn', 'postworld', 'prompting', 'dhill', 'thandiwe', 'herb', 'alpert', 'bering', 'undergraduate', 'atwt', 'sergio', 'spaghetti', 'callahan', 'eggleston', 'effectsdriven', 'rocketeer', 'deborah', 'conferences', 'ritika', 'sashikanth', 'utv', 'thirukumaran', 'coproduces', 'gamebased', 'shinji', 'mikami', 'tokuro', 'fujiwara', 'capcom', 'reprises', 'southerly', 'nagasaki', 'dictates', 'bibla', 'sacred', 'sooman', 'carnivorans', 'rivaled', 'ursus', 'maritimus', 'boyband', 'biting', 'littlefoot', 'tyrannosaurus', 'tynan', 'projecting', 'southwards', 'mimic', 'sapien', 'hellboy', 'faun', 'pale', 'catwalk', 'salinger', 'sy', 'sidse', 'babett', 'knudsen', 'irrfan', 'cruiserweight', 'sof', 'caves', 'vneta', 'venezia', 'serensima', 'girlfight', 'expat', 'activists', 'ensure', 'nurture', 'campaigning', 'neville', 'tfi', 'motormouthed', 'xxix', 'wada', 'greenlight', 'filly', 'ricinus', 'communis', 'mats', 'wilander', 'khattar', 'repo', 'stakeout', 'overdrive', 'carnation', '19monthlong', 'antigen', 'gathering', 'decentralized', 'directives', 'demetria', 'devonne', 'assemblythe', 'confused', 'administers', 'circling', 'salome', 'aestheticization', 'lesserknown', 'gumm', 'vaudevillian', 'ape', 'imported', 'rambaldi', 'tribunal', 'seated', 'voters', 'bursting', 'dotcom', 'lewes', 'dillingham', 'codenamed', 'natal', 'pcs', 'redesigned', 'sensor', 'graphical', 'gui', 'losin', 'commercialisation', 'placing', 'antissa', 'antisjgren', 'syndromerelated', 'anti', 'rossa', 'lupus', 'erythematosus', 'sle', 'sssle', 'subacute', 'cutaneous', 'scle', 'neonatal', 'biliary', 'bankable', 'pavel', 'chekov', 'viktorovich', 'balinese', 'ham', 'sheffield', 'keynes', 'dons', 'fidler', 'gideon', 'moneymakers', 'acar', 'guanabara', 'juts', 'wtc', 'rebuilt', 'prompted', 'align', 'rodham', 'secretaries', 'fergusson', 'stalled', 'rat', 'yasbeck', 'riegert', 'jeni', 'joely', 'odonnell', 'recipients', 'blowin', 'achangin', 'foner', 'slickers', 'homegrown', 'ruston', 'recoup', 'rereleases', 'springboard', 'creatorowned', 'mlcts', 'rankun', 'mrui', 'rangoon', 'hrithik', 'roshan', 'abhay', 'deol', 'farhan', 'akhtar', 'imraan', 'pim', 'militarypolitical', 'cabal', 'negotiation', 'favreau', 'hadley', 'bangladeshis', 'wollheim', 'sorvino', 'northam', 'brolin', 'dutton', 'giannini', 'extortion', 'coercion', 'threats', 'torture', '828', '2780400', 'peruvians', 'guarani', 'aymara', 'quichua', 'shuar', 'confronted', 'trapping', 'shiloh', 'vicksburg', 'tatars', 'uyghurs', '2472', 'frontrunner', 'mariethrse', 'opcw', 'francoitalian', 'pasipha', 'crete', 'twentysecond', 'wea', 'copycat', 'thou', 'reruns', 'wildly', 'persuaded', 'thenowner', 'upstate', 'phenomenon', 'universally', 'domino', 'containment', 'adventuredrama', 'nathaniel', 'philbrick', 'mobydick', 'firstweek', '106000', 'industrialist', 'benchley', 'raiders', 'archetypes', 'aksum', 'clockwise', 'mont', 'volcanicrelated', 'spokeswoman', 'plhza', '1038', 'suppliers', 'footwear', 'accessories', 'odeon', 'infinitely', 'alma', 'ennis', 'ds', 'dns', 'trisomy', 'hatchback', 'configuration', 'door', 'swings', 'upward', 'ssegment', 'tt', 'mercedesbenz', 'slclass', '488', 'dependency', '6500', 'callaham', 'gourang', 'rajya', 'dancingheroes', 'desi', 'fusionstyle', 'shifted', 'oggchang2an1', '1956os', 'forradalom', 'felkels', 'sovietimposed', 'previouslyrestricted', 'collapse', 'jeux', 'olympiques', 'mcnichol', 'writerartist', 'timeslot', 'radiofriendly', 'accessibility', 'kg', 'barring', 'hybrids', 'futuramarelated', 'calendars', 'ferrah', 'leni', 'bonaventure', 'versatility', 'saldana', 'fictionaction', 'jazzpop', 'fide', 'hirst', 'fanny', 'ardant', 'homes', 'weeknights', 'agoura', 'kathmandu', 'zalman', 'sherilyn', 'fenn', 'burl', 'herv', 'villechaize', 'tannaitic', 'rabbis', 'halakha', 'sirach', 'alphabetum', 'siracidis', 'othijoth', 'sira', 'rosh', 'hashanah', 'compare', '127', 'seasonseries', 'televisionseasons', 'ppp', 'suseenthiran', 'piglets', 'santino', 'frederico', 'constanzia', 'objectives', 'fostering', 'aid', 'famine', 'twa', 'hutu', 'tutsi', 'ilkhnn', 'hulaguyn', 'ulus', 'highpower', 'marconigrams', 'cordillera', 'astute', 'endeavour', 'postjupiter', 'hibernation', 'onboard', 'checkouts', 'encounter', '132524', 'proceeded', 'approach', 'e6km', 'unsigned', 'duets', 'thayil', 'hiro', 'yamamoto', 'francesco', 'dassisi', 'giovanni', 'pietro', 'bernardone', '118111823', '1226', 'friar', 'siena', '255', 'riaacertified', 'amityville', 'perseus', 'andalusia', 'halkes', 'roboting', 'irishenglish', 'glassnote', 'twist', 'ellison', 'lorraine', 'incomes', 'gilbreth', 'nora', 'resemblance', 'flix', 'meg', 'delpy', 'quasibiographical', 'marketable', 'commisar', 'danilov', 'monsignor', 'mashup', 'epigrams', 'primettes', 'greenskinned', 'hulking', 'muscular', 'humanoid', 'emotionally', 'resenting', 'numeronym', 'n11', 'sachs', 'brics', 'maybach', 'rockie', 'participation', 'wulfric', 'antin', 'gigandet', 'cumming', 'mcs', 'unternehmen', 'psychogenic', 'shyer', 'ours', 'surfer', 'norcal', 'splendor', 'navigating', 'searchers', 'enlarged', 'architects', 'courtyard', 'offseason', 'clippers', 'milica', 'bogdanovna', 'jovovichserbian', 'cyrillic', 'brill', 'late19th', 'aichi', 'pregnant', 'padmashree', 'vibhushan', 'bhushan', 'conductors', 'sheet', 'quicksilver', 'dominion', 'nonexecutive', 'biggestselling', 'nolfi', 'rivele', 'ambrose', 'chiang', 'kaishek', 'dalongdong', 'baoan', 'hsing', 'lungshan', 'manka', 'ximending', 'dispersing', 'futebol', 'clube', 'croy', 'stieg', 'larsson', 'ebert', 'saide', 'overwhelmingly', 'doubling', 'hopera', 'jive', 'bucket', 'weenies', 'stuntwoman', 'selecting', 'predefined', 'cryer', 'hedonistic', 'uptight', 'troublesome', 'keen', 'magnus', 'nayvadius', 'demun', 'wilburn', 'ode', 'whitelaw', 'eugenides', 'erdoan', 'reversed', 'checks', 'balances', 'secularism', 'atatrk', '1619', '1006', 'koreans', 'highrises', 'sustainable', 'sentient', 'builders', 'rite', 'beam', 'b612', 'coo', 'danica', 'rusty', 'schweickart', 'bing', 'crosby', '185', 'transcendentalism', 'hunchback', 'macia', 'abeckaser', 'qtip', 'fuchs', 'drowned', 'stalking', 'olchin', 'koenigs', 'dravidian', 'lanka', 'lankan', 'moors', 'burghers', 'chindians', 'apprehend', 'bassett', 'arithmetic', 'molen', 'epitomize', '160', 'amphitheatre', 'gymnasium', '20year', 'monash', 'crayon', 'xx', 'sackler', 'lederer', 'hecht', 'macarthur', 'quasiwar', 'becquerel', 'isolating', 'isotopes', 'polonium', 'radium', 'lukas', 'haas', 'classically', 'pharmacology', 'metastatic', 'expendable', 'crewserved', 'copperman', 'nite', 'airplay', 'wasted', 'jamhuri', 'ya', 'muungano', 'hepler', 'abolish', 'blackstone', 'merrimack', 'singlecamera', 'rita', 'volk', 'sulkin', 'willett', 'comiccon', 'aboard', 'mende', 'tribesmen', 'captors', 'cutter', 'edtv', 'dazed', '27thmost', 'seventhmost', 'vegetation', 'djproducer', 'taggart', 'pall', 'kylo', 'stahelski', 'kolstad', 'fitzgeralds', 'mcmullen', 'faber', 'hogbonu', 'ajashe', 'dahomey', 'disraeli', 'vere', 'announces', 'labourmarket', 'lambert', 'roxanne', 'restoration', 'gmez', 'jurisdiction', 'apcrda', 'minted', 'circulating', 'fiat', 'alertness', 'krrish', 'warmed', 'serviced', 'radios', 'rhythmic', 'willi', 'gueststarred', 'tristan', 'alleged', 'vma', 'terreur', 'historians', 'retorically', 'discredit', 'dominating', '1794', 'dechristianised', 'comit', 'salut', 'restructured', 'wpk', 'reunification', 'fatherland', 'boasting', 'convincing', 'flemyng', 'annis', 'microwave', 'scheme', '673', 'nonsequel', 'wiryeseong', 'hanseong', 'keijo', 'incheon', 'gyeonggi', 'himym', 'doublelength', 'alike', 'contradicted', 'chen', 'shizheng', 'ye', 'aidan', 'au', 'aurum', 'summarized', 'rows', 'backtoback', 'playmate', 'invested', 'lesieur', 'warhola', 'physiological', 'heartbeat', 'ingrid', 'cherilyn', 'sarkisian', 'daltrey', 'entwistle', 'kesselring', 'runoff', 'zyuganov', 'captaincy', 'cb', '08', 'handing', 'bind', 'receptors', 'antagonists', 'annum', 'fleischer', 'fictionsupernatural', 'mostimportant', 'sela', 'arjuna', 'khel', 'kuomintang', 'catalanism', 'motto', 'que', 'gisondo', 'dangelo', 'shahenshah', 'shahanshah', 'igb', 'demarcated', 'symbolize', 'marker', 'telekinesis', 'traumatized', 'psychokinetic', 'jall', 'addn', 'rm', 'balkh', 'mevln', 'mawln', 'mevlev', 'mawlaw', '1207', '1273', 'vine', 'cantons', 'fens', '296', 'skerritt', 'yaphet', 'kotto', 'sast', 'clip', 'segments', 'ifc', 'poblacht', 'hireann', 'hartswood', 'eaton', 'loca', 'explosion', 'harwell', 'henchy', 'carolinians', 'vying', 'caucuses', 'foss', 'othon', 'bastos', 'cassia', 'empties', 'federally', 'rok', 'shortages', 'superstars', 'gwp', 'intratrade', 'vendor', 'nishikanth', 'kamat', 'teamsters', 'hoffa', 'adopting', 'herschel', 'slogans', 'jarvis', 'decode', 'culminates', 'underpinnings', 'phonology', 'orthography', 'semantics', 'syntax', 'morphology', 'fluency', 'comprehension', 'iq', 'standardized', 'hamptons', 'noodle', 'hobbs', 'georges', 'pompidou', 'halles', 'montorgueil', 'hays', 'fires', 'calico', 'capitalg', 'waymo', 'fiber', 'satirises', 'workings', 'fortyeight', 'rakuten', 'ariake', 'coliseum', 'koto', 'langlois', 'lefroy', '1871', 'desmond', '338', 'singleweek', 'pointofsale', 'kenner', '1167764', 'extravagant', 'monasteries', 'reformation', 'convert', 'hartwell', 'ludlum', 'ashmolean', 'beaumont', 'voiceovers', 'evolutionstellar', 'remnants', '36526', 'inductees', 'hitch', 'bendis', 'kubert', 'cabinetry', 'carving', 'joinery', 'carpentry', 'woodturning', 'dixie', 'undertaking', 'utilizing', 'fuelling', 'annecy', 'friedrich', 'spotted', 'telegram', 'busby', '505990', 'madding', 'crowd', 'petulia', 'gobetween', 'madhouse', 'tunisie', 'mchenry', 'conforming', 'greens', 'quarterbacks', 'alden', 'islets', 'amounting', '18300', 'tunnels', 'supplement', 'tenfold', 'spots', 'odd', 'luminosity', 'cooler', '0907', '0445', 'willard', 'outgrossing', 'nondisney', 'holdstock', 'derleth', 'discretion', 'bfs', 'fullcontact', 'striking', 'grappling', 'trinity', 'pronounce', 'yazid', 'zizou', 'ceremonial', 'oneyear', 'margos', 'dezerian', 'devising', '7thlargest', 'indiathe', 'leonethe', 'thrillerhorror', 'heyman', 'andres', 'heinz', 'mclaughlin', 'acms', 'cmas', 'pallbearer', 'apt', 'picking', 'hedsor', 'velraj', 'mysterious', 'quixotic', 'obsession', 'debutante', 'propounded', 'dni', 'ilh', 'ainiakbari', 'dabistni', 'mazhib', 'wetlands', 'creeks', 'parkways', 'rounds', 'scenic', 'byway', 'tsg', 'donners', 'insensitive', 'karenjit', 'vohra', 'charlton', 'grandebutera', 'meteora', 'arbor', 'profiles', 'bellwether', 'dollhouse', 'decorated', 'antiimperialist', 'improvements', 'klaatu', 'cybernetic', 'implant', 'stylistic', 'explosions', '1616', 'aeronautical', 'lancet', 'suburbia', 'symphonic', 'stonestreet', 'ellie', 'kemper', 'moynihan', 'carvey', 'buress', 'almajid', 'altikriti', 'goodreads', 'milo', 'ventimiglia', 'hartley', 'kelechi', 'cephas', '8217', 'styled', 'drt', 'logos', 'chubbuck', 'scd', '71st', 'iliadis', 'ellsworth', 'alleca', 'outperforming', 'nawazuddin', 'siddiqui', 'huma', 'qureshi', 'yami', 'gautam', 'vinay', 'pathak', 'divya', 'dutta', 'radhika', 'apte', 'boles', 'decarlo', 'callaway', 'cee', 'polley', 'pinsent', 'dukakis', 'scilly', 'arctos', 'widest', 'ursid', 'discover', 'juridical', 'delivery', 'subnational', 'ock', 'moldoff', 'lefty', 'highend', 'shame', 'willy', 'brandt', 'ecosystem', 'littoral', 'submediterranean', 'emmanuelle', 'fiona', 'jacksonville', 'deciding', '196465', '197071', '288', 'guill', 'fictionalised', 'nin', 'ni', 'bambino', 'lefthanded', 'pitcher', 'slugging', 'outfielder', 'organizacin', 'estados', 'americanos', 'organizao', 'tats', 'amricains', 'oas', 'oea', 'solidarity', 'customary', 'francophones', 'evaluation', 'interpretation', 'luxemburg', 'decisive', 'lemarr', 'franais', 'mittelmchte', 'kzponti', 'hatalmak', 'ttifak', 'devletleri', 'balama', 'tsentralni', 'sili', 'quadruple', 'vierbund', 'feats', 'frantic', 'chases', 'darkman', 'alcide', 'herveaux', 'viacom', 'cyclades', 'britt', 'frecheville', 'supplying', 'gunfighter', 'ease', 'reputable', 'ordinary', 'treadaway', 'favourable', 'graeme', 'blundell', 'hopgood', 'burstall', 'interpret', 'gentry', 'preparations', 'winters', 'revere', 'mezcal', 'specificity', 'colima', 'nayarit', 'aguascalientes', 'stipulated', 'enslavement', 'nonaryan', '04', 'algarve', 'reino', 'ostensibly', 'dissemination', 'csi', 'overtly', 'derry', 'protesters', 'bystanders', 'demetriusrelated', 'internment', 'rejecting', 'berkshire', 'valrian', 'christin', 'fourseason', 'warmtohot', 'snowy', 'browne', 'highwire', 'margolis', 'chloe', 'then26yearold', 'knan', 'minato', 'multiindustry', 'anarchos', 'castina', 'jms', 'georgeville', 'unpronounceable', 'mcteigue', 'cera', 'redwood', 'fir', '207', '220', 'bhansali', 'saawariya', 'inring', 'rodman', 'fourmonth', 'pondered', 'melded', 'rhythms', 'jamming', 'gossard', 'hume', 'cronyn', 'laurents', 'primitive', 'mesothelae', 'trksoy', 'periodical', 'distorted', 'transcend', 'l4yer', 'cak', 'superhumans', 'grohl', 'recruited', 'mendel', 'smear', 'distrito', 'lisboa', 'blink', 'poway', 'helpmann', 'lpa', 'aeia', 'belvoir', 'hedda', 'gabler', 'dawes', 'roslyn', 'packer', 'shortlisted', 'mutt', 'holes', 'medavoy', 'tuckerdavies', 'mcneely', 'sachar', 'endorsement', 'rimmel', 'addressing', 'humanistic', 'headlined', 'cumulus', 'semiimprovised', 'flavours', 'cornetto', '18thcentury', 'transforming', 'candle', 'rerecorded', 'repenned', 'dedication', '33million', 'epilepticus', 'chemotherapy', 'interfere', 'sedate', 'mechanically', 'ventilated', 'heyday', 'electropop', 'dancepop', 'presidio', 'ass', 'specialises', 'tata', 'uconn', 'nastassja', 'kinski', 'mcdowell', 'refreshed', 'hdr10', 'highdynamicrange', 'menchell', 'clare', 'sera', 'crimecomedy', 'badham', 'stowe', 'roeg', 'mayersberg', 'tevis', 'lands', 'seeking', 'drought', 'surreal', 'rip', 'roar', 'freddy', 'socal', 'gunit', 'kkk', 'buttons', 'directional', 'joystick', 'highdefinition', 'tactile', 'algae', 'protista', 'nematodes', 'seals', 'elmer', 'gantry', 'chud', 'awakenings', 'indra', 'perun', 'pillbox', 'superhit', 'trichechidae', 'trichechus', 'aquatic', 'herbivorous', 'sheffer', 'blethyn', 'categorised', 'longdistance', '422', 'reborn', 'pacifier', 'gangs', 'tenitra', 'commuting', 'gervais', 'mcgrory', 'heathcote', 'pancho', 'highwaymen', 'waylon', 'dzayer', 'algrie', '703', 'fours', 'retroactive', 'premoporretta', '522', 'longo', 'taketwo', 'novelty', 'milligan', 'cribbins', 'oppressive', 'ancillary', 'professes', 'incomparable', 'barbeque', 'typeset', 'smoother', 'reminiscent', 'multiaward', 'naca', 'highspeed', 'logged', 'macgraw', 'lettieri', 'struthers', 'dodson', 'pickens', 'mccoy', 'orders', 'beynon', 'delegate', 'brigadier', 'slaveholder', 'trader', 'accents', '976', 'reporting', 'jab', 'kadhal', 'kanmani', 'smallbudget', 'unnoticed', 'ssstandartenfhrer', 'schultz', 'somebody', 'selectivefire', 'semiautomatic', 'gasoperated', '762', '39', 'rifle', 'artocarpus', 'heterophyllus', 'jakfruit', 'jak', 'mulberry', 'moraceae', '13yearold', '330803', 'similarly', 'scolding', 'obnoxious', 'vituperative', 'sarcastic', 'vengeful', 'triumphs', 'alisa', 'zinov', 'yevna', 'rosenbaum', 'russianamerican', 'siddig', 'trois', 'couleurs', 'bleu', 'kielowski', 'hail', 'je', 'vous', 'salue', 'godard', 'auteur', 'doillon', 'olaf', 'jakob', 'theodor', 'schwann', 'regulating', 'interplanetary', 'risktaking', 'emmynominated', 'kiriakis', 'kroitor', 'morland', '299', 'tonne', 'tons', 'nudity', 'vitale', 'oettinger', 'tractor', 'englishaustralian', 'kerosene', 'gasoline', 'soared', 'copas', 'spyaction', 'tutors', 'regents', 'frederator', 'incubator', 'wiktincubation', 'mra', 'abyssinians', 'inhabiting', 'tigrayans', 'manipulated', 'flees', 'dprk', 'spinout', 'pathological', 'tissues', 'trachea', 'bronchi', 'bronchioles', 'alveoli', 'pleura', 'pleural', 'cavity', 'nerves', 'jayhawks', 'researches', 'addy', 'doha', 'programsfacilities', 'mostvisited', 'burgess', 'ilene', 'landress', 'oic', 'ladera', 'spurs', 'nyasaland', 'ameriki', 'srbi', 'serb', '1718', '1239', '1307', 'longshanks', 'hammer', 'scots', 'malleus', 'scotorum', '1272', 'roahn', 'hylton', 'jmike', 'swearingin', 'fanbase', 'contraband', 'smugglers', 'powder', 'smuggling', 'universidad', 'autnoma', 'latinoamericana', 'medellin', 'cigarettes', 'lambeth', 'eleventhround', 'stoppage', 'amalgamation', 'federating', 'ideological', 'restaurateur', 'michd', 'mendelsohn', 'edgerton', 'disruptor', 'selfie', 'catharine', 'rupel', 'lierse', 'sk', 'aldridge', 'ayrault', 'trebia', 'trasimene', 'cannae', 'strengths', 'weaknesses', 'aswan', 'downstream', 'nasser', 'associates', 'headlining', 'schengen', 'centres', 'pious', 'regnant', 'camaraderie', 'mp', 'inquiry', 'reluctance', 'northcentral', 'lvares', 'cartoonists', 'rvolution', 'franaise', 'farreaching', 'actiondrama', 'isla', 'suspect', 'interact', 'messages', 'henstridge', 'elektra', 'natchios', 'merciless', 'murdock', 'washed', 'fisk', 'kingpin', 'gewirtz', 'complimenting', 'eldrick', 'tont', 'kongsang', 'sbs', 'pmw', 'shalini', 'maturing', 'alaipayuthey', 'chainz', 'colombians', 'colombianos', 'ransohoff', 'hiller', 'melvyn', 'coburn', 'stratforduponavon', 'warwickshire', 'surprise', '1836', 'morpheus', 'quantum', 'solace', 'kiara', 'saulters', 'occultthemed', '064942', 'edt', 'novaya', 'gazeta', 'evgeny', 'exiting', 'podium', 'samaritan', 'twentysix', 'mostresearched', 'wildlife', 'bamar', 'irrawaddy', '1050s', 'burmese', 'theravada', 'hardcover', 'imazien', 'amazi', 'amazigh', 'contentious', 'bork', '72', 'sunsets', 'extension', 'provisions', 'wiretaps', 'conducting', 'surveillance', 'suspected', 'terroristrelated', 'twoplayer', 'chessboard', 'checkered', 'gameboard', 'grid', 'piazzi', 'palermo', 'topher', 'rosemary', 'demigoddess', 'ambassadoratlarge', 'rami', 'malek', 'mizuo', 'cobbs', 'mj', 'hornets', 'ruco', 'coinciding', 'laundrette', 'overwhelming', 'reflect', 'conroy', 'webslinger', 'actionheist', 'venkat', 'baa', 'iberia', 'ogvkwbk', 'deflects', 'slowprogressing', '112', 'sqmi', 'heald', 'shoestring', 'centering', 'octopodes', 'hapalochlaena', 'coral', 'reefs', 'termed', 'avian', 'feathered', 'ancestors', 'pledge', 'whereby', 'uncommon', 'lindstrom', 'irony', 'gratification', 'burberry', 'dolce', 'gabbana', 'fifthhighest', 'experimentalelectronic', 'transgressive', 'psychologists', 'phenomenology', 'motivation', 'conation', 'mogul', 'selfdesignated', 'gurkani', 'grkniyn', 'soninlaw', 'towncity', 'naples', 'campania', 'comune', 'pompei', '62', '185329', 'postimpressionist', 'rijn', 'spa', 'iuvents', 'turin', 'piedmont', 'torinese', 'enrico', 'centreback', 'sajid', 'twiceweekly', 'wtf', 'circulation', 'webbased', 'alternatives', 'retrench', 'stanch', 'computing', 'onehalf', 'terreneuveetlabrador', 'akamassiss', 'talamh', 'isc', 'agus', 'labradar', 'easterly', 'godavari', 'masonic', 'lodges', 'dod', '54mile', 'sclc', 'counter', 'steppes', 'stretched', 'northwards', 'eastwards', 'westwards', 'ornamental', 'nowadays', 'syndicate', 'anatomically', 'physiologically', 'foliage', 'nonplayable', 'kirstie', 'sanction', 'bouts', 'wbo', 'a7x', 'baptiste', 'eea', 'invasin', 'playa', 'girn', 'baha', 'cochinos', 'batalla', 'ciasponsored', 'paramilitary', '2506', 'dwarves', 'sidereal', 'tenseason', 'phoebe', 'buffay', 'ursula', 'jada', 'pinkett', 'fries', 'monrovia', 'cattle', 'headhunters', 'wcwworld', 'schur', 'harmonize', 'showcasing', 'sexobsessed', 'hunnam', 'rinko', 'kikuchi', 'gorman', 'kazinsky', 'dugan', 'raspberry', 'midtolate', 'ineffective', 'cuckoo', 'nest', 'galbraith', 'angolan', 'cabinda', 'tumultuous', 'terminus', 'flinders', 'freeway', 'tram', 'tullamarine', 'busiest', 'containerised', 'grunwald', 'leterrier', 'yuspa', 'hawkes', 'surrogate', 'cohengreene', 'saravanan', 'sadanah', 'answer', 'dippold', 'sol', '260', 'austronesian', 'muslimmajority', 'cheerleadermurdering', 'camisky', 'singerrhythm', 'commerford', 'bassbacking', 'wilk', 'varieties', 'beothuk', 'criticised', 'prosecute', '19992002', 'diddy', 'anfield', 'bhubali', 'felipe', 'filippo', '1683', '1746', 'reassumed', 'meara', 'segunda', 'intervencin', 'francesa', 'instigator', 'justifying', 'cronos', '2024', 'leuven', 'lucien', 'laviscount', 'bonas', 'kanell', 'hocus', 'pocus', 'bye', 'contortionist', 'wearing', 'nonhuman', 'uruguayan', 'mcmillen', 'performancecapture', 'anthropomorphic', 'rrated', 'bau', 'medic', 'seventhday', 'adventist', 'rocktinged', 'remixes', '12thlongest', 'usma', 'cooling', 'revealing', 'concealed', 'massif', 'propelled', 'surnow', 'cochran', 'counterterrorist', 'bauer', 'estonia', 'kyrgyzstan', 'moldova', 'sfsr', 'reconstituted', 'federative', 'constitutionally', 'uno', 'suv', 'troller', 'fpv', 'laeta', 'kalogridis', 'lehane', 'feasible', 'spinning', 'printer', 'thinkpadthinkcentre', 'x86based', 'lenovo', 'pwc', 'spss', 'overrun', 'parasites', 'tripledoubles', '412', 'secondwealthiest', 'sk8er', 'baltusrol', '1567872', 'dominates', 'leavitt', 'metzen', 'lps', '21stcentury', 'sanchez', 'nelsonfatty', 'magoo', 'trixie', 'californication', 'tunt', 'addicts', 'hang', 'thennickname', '72nd', 'gooding', 'zellweger', 'collateral', 'jacelyn', '1769', 'minchin', 'royaltyfree', 'pouya', 'shabazian', 'daugherty', 'martyn', 'spanishmexican', 'favourably', 'bille', 'alexandrina', '1819', 'blindness', 'subdivision', '6x', 'editorials', 'expressing', 'opeds', 'columnists', 'synthesis', 'telling', 'persuading', 'concur', 'enantiomers', 'alleviate', 'adhd', 'neurotransmitters', 'norepinephrine', 'amine', 'receptor', 'taar1', 'vesicular', 'monoamine', 'transporter', 'vmat2', 'preferred', 'presentations', 'sheev', 'sidious', 'sith', '1535', 'cartier', 'middleclass', 'auspices', 'ninette', 'thomson', 'gruesome', 'vadnagar', 'stall', 'trustee', 'whalers', 'doses', 'wives', 'underlying', 'rebellious', 'junius', 'brutus', 'tributes', 'secondlanguage', 'interlanguage', 'varying', 'quebecaccented', 'marcia', 'harden', 'polito', 'finney', 'accra', 'gland', 'ovoid', 'kidneyshaped', 'lymphatic', 'adaptive', 'innate', 'humoral', 'selfmade', 'tutelage', 'wat', 'bayon', 'testimony', 'patronised', 'countless', 'quraysh', 'bint', 'amr', 'najjar', 'deteriorating', 'teacherstudent', 'classroom', 'langella', 'reignited', 'monterey', 'extensively', 'berlinale', 'mechanics', 'personalization', 'gear', 'fowler', 'culpable', 'prizefighting', 'coordinates', 'jcs', 'commandant', 'exit', 'mists', 'pandaria', 'assemble', 'gnarls', 'sureyjar', 'normani', 'kordei', 'dinah', 'jauregui', 'camila', 'cabello', '1438', 'incas', 'comedydramasdil', 'writereditor', 'aug', 'indoaryan', 'adjoining', 'uw', 'udub', 'unionaccording', 'geza', 'affleckboldt', 'looney', 'bankruptcy', 'azaria', 'baath', 'imbued', 'compass', 'legged', 'ellory', 'elkayem', 'kari', 'wuhrer', 'deadwood', '885', 'romancedisaster', '1707', 'realms', 'herek', 'duchovny', 'hearings', 'prosecutions', '1693', 'nitro', 'eroge', 'staffers', 'chunsoft', '3ds', 'levorotary', 'enantiomer', 'dextrorotary', 'righthanded', 'relevant', 'venerate', 'differ', 'diocese', 'dioecesis', 'urbis', 'seu', 'romana', 'diocesi', 'roma', 'effie', 'claimant', 'yorkist', 'bharathi', 'morphed', 'gimmick', 'abdul', 'rashid', 'salim', 'withers', 'mccambridge', 'sal', 'mineo', 'cardenas', 'holliman', 'concurrence', 'quiverfull', 'hierarchies', 'subservient', 'fizzle', 'televizzle', '1415', 'yugoslav', 'wilton', 'waiter', 'diminished', 'smile', 'innovations', 'seamless', 'controllable', 'customizable', 'gambit', 'philippa', 'boyens', 'childwickbury', 'christiane', 'highlights', 'nau', 'viktor', 'begley', 'mckean', 'thirtyninth', 'tidal', 'chronicum', 'migrating', 'dory', 'ak', 'badly', 'terribly', 'watertight', 'compartments', 'activated', 'doors', 'outdated', 'regulations', 'directions', 'determining', 'improving', 'procedures', 'stem', 'repairing', 'decadent', 'depraved', 'reporters', 'harron', 'chihuahua', 'coahuila', 'nuevo', 'tamaulipas', 'claudette', 'rosa', 'stromberg', 'woolverton', 'sharlto', 'copley', 'imelda', 'staunton', 'lesley', 'manville', 'widowed', 'mee', 'dilapidated', 'reopening', 'balanced', 'elites', 'enrolling', 'helium', 'outermost', 'melting', 'volatiles', 'ammonia', 'dramatizing', 'karol', 'jzef', 'wojtya', 'predetermined', 'kongchinese', 'hsin', 'yen', 'misspelled', '106460000', 'deteriorate', 'knickerbockers', 'kyam', 'topbilled', 'whitehall', 'associazione', 'calcio', 'brat', 'misdeameanor', 'therapeutic', 'euphoria', 'wakefulness', 'heartache', 'groupings', 'intend', 'anglofrisian', 'anglic', 'mid7th', 'eightyearold', 'eperviers', 'sparrow', 'togolaise', 'atonement', 'lap', 'briggs', 'emayatzy', 'corinealdi', 'toussaint', 'joyce', 'byers', 'supernaturalhorror', 'exdestiny', 'kbs2', 'mondays', '2155', 'santoshi', 'introducing', 'neyo', 'nayer', 'crossreferencing', 'lfath', 'jalaluddin', '1542', 'chrono', '519', 'chapters', 'convinced', 'gandalf', 'thorin', 'oakenshield', 'armitage', 'reclaim', 'smaug', 'storey', 'macmillan', 'corn', 'sleepwalkers', 'tupelo', 'rekha', 'nambiar', 'gabriele', 'caius', 'marcius', 'coriolanus', 'warehouse', 'oahu', 'molokai', 'lnai', 'kahoolawe', 'maui', 'klm', 'cityhopper', 'corendon', 'martinair', 'transavia', 'tui', 'fuqua', 'boyhood', 'takara', 'tomy', 'closure', 'twentyeighth', 'leadoff', 'npg', 'playermanager', 'tyrus', 'closings', 'cancellations', 'respect', 'nt', 'kain', 'diathk', 'novum', 'testamentum', 'syriacaramaic', 'shemayon', 'keppa', 'apostles', 'heatseekers', 'americanenglish', 'yg', 'philips', 'indoor', 'profitability', 'actorfilmmaker', 'confessed', 'fission', 'thermonuclear', 'tontnt', 'interval', 'metrogoldwynmayerunited', 'mgmua', 'rudess', 'levin', 'spock', 'beard', 'keyboardistvocalist', 'roine', 'stolt', 'marillion', 'trewavas', 'roxburgh', 'plea', 'bargain', 'convictions', 'unfolds', 'episodebyepisode', 'fright', 'desario', '112263', '1122', 'simoncreated', 'deuce', 'crudup', 'ejogo', 'demin', 'terrifying', 'nafta', 'exportoriented', 'ftas', 'rossington', 'rickey', 'medlocke', 'ombdesignated', 'josesan', 'franciscooakland', 'cooked', 'fitness', 'metaphorical', '1516', '1553', 'reestablishment', 'halfsister', 'bequeathing', 'halfsisters', 'unbeaten', 'catesby', 'ascending', 'sla', 'akkineni', 'tawantinsuyu', 'incan', 'inka', 'vilcabamba', 'cusco', 'urubamba', 'machupicchu', 'cuzco', 'flows', 'gravitationally', 'indirectlythe', 'instrumentals', 'evoked', 'eac', 'intuition', 'linmanuel', 'opetaia', 'foai', 'mancina', 'mh', 'blacklisted', 'mccarthyism', 'emmett', 'merlock', 'ducktales', 'fester', 'addams', 'grigori', 'rasputin', 'bokeem', 'woodbine', 'cho', 'demographers', 'researchers', 'earlytomid', 'wholesaler', 'strongest', 'rely', 'dresden', 'novosibirsk', 'yekaterinburg', 'nizhny', 'novgorod', 'scoobert', 'scooby', 'doo', 'hannabarbera', 'civile', 'armistice', 'cassibile', 'cobelligerent', 'citystates', 'exhausted', '1681', 'carmaker', 'orman', 'flippers', 'considerably', 'gcnra', 'conservation', 'cataract', '1254429', '5076', 'iucn', '75th', 'equals', 'kbenhavn', 'hafnia', 'bury', 'musicassette', 'analog', 'foodstirs', 'mixes', 'subscription', 'crafting', 'aquatics', 'archery', 'introduces', 'modify', 'stats', 'veneto', 'schoolgirl', 'aristotls', '384', '322', 'alluding', 'covert', 'misbehavior', 'twinjet', '5240', 'urbanised', 'bighearted', 'ddlj', 'fourthgreatest', 'mangoes', 'juicy', 'drupe', 'mangifera', 'foetida', 'localized', 'duff', 'mckagan', 'eastcentral', 'kiedis', 'flea', '15yearold', 'lupo', 'cannell', 'organizer', 'necrophilia', 'spyglass', 'stereotypes', 'blond', 'haired', 'roghachd', 'halba', 'kinrick', '843', 'outreach', 'demonstration', 'hexalogy', 'promotions', 'ghc', 'keiji', 'sakoda', 'zero1', 'sixthtallest', 'magicandvariety', 'cotten', 'moraleboosting', 'baseketball', 'demeanor', 'opposites', 'outgoing', 'decidedly', 'staunch', 'privatized', 'goggins', 'remar', '33387677', 'thirteenthlargest', 'thiruvananthapuram', 'mahendra', 'limitedovers', 'guilbert', 'triumphed', 'chevron', 'rocking', 'powerhouse', 'burst', 'membershipbased', '145000', 'prakesh', 'hernndez', 'estrada', '1752', 'regency', 'patronage', 'szeged', 'miskolc', 'gyr', '190', 'goodie', 'combating', 'noncanonical', 'mustafa', 'colleagues', 'exploit', 'selfproduced', 'publicity', 'circumvent', 'infringement', 'laumet', 'sieur', '1658october', '1730', 'motte', 'persianized', 'hindustani', 'franca', 'micronations', 'deceit', 'axel', 'sevenissue', 'penciled', 'mcniven', 'coopration', 'dveloppement', 'conomiques', 'ocde', 'stimulate', 'pitches', 'caldern', 'devious', 'maids', 'mid2011', 'noi', 'separatist', 'amrutlal', 'sanctions', 'violations', 'sohn', 'lefauve', 'pantelleria', 'canale', 'sicilia', 'stretto', 'canali', 'strittu', 'conjunction', 'sardinian', 'gibraltar', 'nowformer', 'independents', 'tts', 'hutton', 'kowalski', 'jena', 'quick', 'malta', 'regenerate', '19852010', 'trudy', 'nguyen', 'glin', 'medalwinning', 'decathlete', 'seunghyun', 'gd', 'yeah', 'gaon', 'unison', 'viable', 'eureka', 'ohara', 'icarly', 'jailing', 'publicservice', 'austrians', 'virtually', 'defenseoriented', 'hitless', 'cicotte', 'shoeless', 'woodwind', 'polychoral', 'tami', 'nbcdirectv', 'jeannie', 'mai', 'trench', 'skyfall', 'cupertino', 'cwfc', 'whodunit', 'maclean', 'beaty', 'plotlines', 'ideals', 'surmount', 'obstacles', 'raakhee', 'mamta', 'kulkarni', 'amrish', 'aashif', 'sheikh', 'ranjeet', 'biwi', 'zathura', '10thbest', 'melies', 'suzy', 'calf', 'quarterly', 'mcgee', 'luxurious', 'passanger', 'palance', 'wettig', 'willingham', 'abnormalities', 'congenital', 'roadster', 'bev', 'acrimony', '19268', 'baja', 'acquaintances', 'costanza', 'benes', 'fullsized', 'allelectric', 'fivedoor', 'liftback', 'shrubs', 'sedges', 'grasses', 'mosses', 'lichens', 'fiveweek', 'chesney', 'gon', 'alright', 'deriving', 'musiciansongwriter', 'exacerbated', 'pills', '964000', 'lovelock', 'cns', 'racemic', 'cooke', 'gor', 'ichir', 'kouchi', 'clamp', 'overtheair', 'mischief', 'neighbourhoods', 'nederln', 'belge', 'belgischcongo', '1484', 'versace', 'starter', 'quarterbacked', 'guldbagge', 'revolved', 'ravensymon', 'anneliese', 'pol', 'tkeyah', 'keymh', 'rondell', 'cameroon', 'niger', 'twopart', 'gutirrez', 'panasonic', 'sarafian', 'boyle', 'gnomeo', 'indirectly', 'mercurythe', 'ganymede', 'balochistan', 'advisors', 'indochinathe', 'assistance', '128', 'favourites', 'relegation', 'ballykissangel', 'rothdirected', 'tigerland', 'gladys', 'polygyny', 'neogreek', 'poly', 'gyne', 'lucid', 'totalitarianism', 'humanize', 'socialists', 'inherently', 'superseding', 'nobels', 'fredspris', 'armaments', 'physiology', 'hudgens', 'benson', 'korine', 'collegeaged', 'desperation', 'amala', 'saranya', 'ponvannan', 'samuthirakani', 'wisden', 'almanack', 'weitzman', 'silkwood', 'offscreen', 'pontchartrain', 'borgne', 'twombly', 'personified', 'armenianamerican', 'rites', 'badge', 'dale', 'schwartz', 'sunil', 'lulla', '58', 'goguryeo', 'mashima', 'dentsu', 'satelight', 'chatwin', 'marsters', 'yunfat', 'joon', 'eriko', 'tamura', 'fcmanchester', 'hickam', 'darko', 'reinvigorate', 'multichannel', 'convincingly', 'ontiveros', 'pepsicola', '1096', 'secondoldest', 'wtan', 'reconstructed', 'theonym', 'wanaz', 'cite', 'cactus', 'cactuses', 'cactaceae', 'spellings', 'botanical', 'botanists', 'strives', 'wherever', 'duggar', 'devout', 'baptists', 'resonate', 'fantasies', 'autocratic', 'egotistical', 'hypocritical', 'bigot', 'dabney', 'charttopper', 'intellectually', 'crafts', 'batinspired', 'tosh', 'bunny', 'wailer', 'harwood', 'jh', 'niels', 'arden', 'oplev', 'subscriber', 'telecast', 'pre7th', 'stigeweard', 'genitive', 'stige', 'suffix', 'weard', 'warden', 'nonfamily', 'haydon', '1828', 'oireachtas', 'ireann', 'seanad', 'uachtarn', 'topgrossing', 'interwoven', 'dracul', '1436', 'forcing', 'flee', 'trgovite', '3b', 'bases', 'baserunner', 'uncanny', 'claremont', 'dpad', 'triggers', 'haptic', 'iwgp', 'wroughton', 'holloway', 'politicaleconomic', '33rd', 'bfi', 'regulates', 'monogamist', 'sedaris', 'santaland', 'electrochemistry', 'czechamerican', 'mcgoohan', 'armory', 'rerelease', 'papa', 'frozen', 'hodgkin', 'nonhodgkin', 'theatreland', 'netherrealm', 'starship', 'twentythird', '112077', '35193978', 'qazan', 'tatarstan', '1216965', 'hodge', 'erika', 'christensen', 'selfgovernance', 'hispanicized', 'willkapampa', 'espritu', 'pampa', 'manco', '1539', '1572', 'schuster', 'pinkman', 'crystallized', 'methamphetamine', '7040', 'fourthhighestgrossing', 'filmshighestgrossing', 'jade', 'remembrance', 'affirmative', 'conchr', 'gragir', 'preview', 'letts', 'desha', 'nonspeaking', 'komarnicki', 'chesley', 'sullenberger', 'zaslow', 'instability', 'oddtoed', 'rhinoceroses', 'eventoed', 'giraffes', 'camels', 'deer', 'hippopotamuses', 'preying', 'candleshoe', 'encouraging', 'frontiers', 'dropbox', 'synchronization', 'strauss', 'gap', 'salesforcecom', 'airbnb', 'weebly', 'pinterest', 'mozilla', 'wikimedia', 'craigslist', 'salesforce', 'dude', 'radu', 'hostages', '1442', 'loyalty', '1754', 'himalaya', 'tibetan', 'iommi', 'geezer', 'diameters', 'lynne', 'chicagobased', 'jona', 'bethsaida', 'gaulanitis', 'ecologically', 'surnames', 'identification', 'taxonomy', 'wladimirowitsch', '1005545', '654', 'husbandandwife', 'economicssee', 'proportionality', 'codron', 'morahan', 'guildford', 'albery', 'nol', 'coward', 'mccowen', 'mapother', 'asking', 'jeans', 'chuke', 'sanam', 'sharat', 'chattopadhyay', 'twoterm', 'mmg', 'eleventime', 'declaring', 'exmachina', 'brittain', 'gerda', 'wegener', 'helene', 'armie', 'riseborough', 'glusman', 'doctrine', 'wyle', 'leder', 'osment', 'arlene', 'mckinney', 'scarred', 'simonet', 'lauding', 'bijou', 'shiri', 'appleby', 'biehn', 'alarb', 'alahliyyah', 'allibnniyyah', 'multifaceted', '120000', 'callie', 'khouri', 'appetite', 'destructionera', 'izzy', 'stradlin', 'keynote', 'comedymusical', 'simulated', 'subdue', 'claycourt', 'surface', 'mironoff', 'alloys', 'facades', 'frames', 'villeneuvedirected', 'calendaryear', 'trafford', 'lyr', 'upside', '173yearold', 'moyer', 'navigate', 'tribulations', 'terrors', 'spruce', 'visafree', 'visaonarrival', '168', 'allegedly', 'annasophia', 'robb', 'sorbo', 'sonya', 'balmores', 'branscombe', 'caviezel', 'hallie', 'accidentally', 'pawe', 'aleksander', 'feild', 'tilney', 'deitrick', 'haddon', 'sixers', 'luftschlacht', 'um', 'raf', 'luftwaffe', 'kooky', 'jess', 'loft', 'greenfield', 'lamorne', 'cece', 'onagainoffagain', 'tremors', 'novelizations', 'highestcharting', 'maps', 'postrelease', 'updates', 'microtransactions', 'etc', 'boutiques', 'feuding', 'rehabilitation', '5450', 'depending', 'magnoli', 'fargnoli', 'blinn', 'shakti', 'ka', 'twentynine', 'cadet', '1178', 'vorsprung', 'durch', 'technik', 'cecily', 'ziegesar', 'scroll', 'asked', 'tying', 'monroeville', 'marylebone', 'mcc', 'prc', 'chalk', 'dba', 'licensing', 'auerstedt', 'annihilated', 'friedland', 'olmos', 'shortterm', 'sizemore', 'ribisi', 'vin', 'paratrooper', 'lastsurviving', 'servicemen', 'clustered', 'ee', 'puzhayum', 'kadannu', 'udayapuram', 'sulthan', 'chandranudikkunna', 'dikhil', 'sundar', 'das', 'lohithadas', 'manoj', 'jayan', 'manju', 'warrier', 'vacationing', 'amrica', 'axelrod', 'philpottspage', 'kronos', 'krnos', 'gaia', 'kpax', 'souls', 'crooklyn', 'quilt', 'misre', 'soomaaliya', 'jamhuuriyadda', 'federaalka', 'livestrong', 'polymaths', 'gowns', 'crillon', 'nippon', 'nihonkoku', 'thrilla', 'manila', 'leian', 'rianz', 'phonographic', 'bpi', 'brona', 'croftlily', 'yerma', 'earthquaking', 'trianon', 'gritty', 'saints', 'oriental', 'faithful', 'worthy', 'emulation', 'ecclesiastical', 'veneration', 'canonization', 'glorification', 'druckman', 'songbook', 'oup', 'ctv', 'iwo', 'jima', 'waale', 'sapne', 'shougang', 'pinyin', 'bijng', 'lnqi', 'jlb', 'delight', 'bacterium', 'orth', 'creighton', 'rothenberger', 'katrin', 'benedikt', 'etymologically', 'nourishing', 'enhancing', 'chu', 'te', 'jtunn', 'angrboa', 'fenrir', 'jrmungandr', 'jewelry', 'romijn', 'delegation', 'papen', 'discovers', 'genovia', 'dowager', 'clarisse', 'renaldi', 'neurologic', 'syndromes', 'paucity', 'spasticity', 'fictiondisaster', 'mumolo', 'townsend', 'embraced', 'thrillermystery', 'ora', 'reassuming', 'twentyfourth', 'av', 'semiconductors', 'gen', 'boomers', 'lexington', 'courting', 'standish', 'lodie', 'krause', 'cabot', 'jeanfranois', 'richet', 'abdel', 'raouf', 'dafri', 'bahamas', 'grenada', 'grenadines', 'barbuda', 'kitts', 'nevis', 'equally', 'deeplying', 'arrivals', 'interhuman', 'kaysen', 'clea', 'dastr', 'almadnah', 'afat', 'mthq', 'ah', 'swinging', 'enumerated', 'thorough', 'disabilities', 'hesher', '5050', 'lookout', 'manic', 'pradhnamantr', 'meehan', 'besterman', 'belfort', 'azoff', 'lapaglia', 'denham', 'revenant', 'experimentation', 'majesties', 'trl', 'uddenwentworth', 'nonsectarian', 'hbcu', 'toledo', 'tempe', 'lymphoblastic', 'unfinished', 'wardenclyffe', 'portable', 'twoway', 'telephones', 'assistants', 'pdas', 'transmitters', 'receivers', 'waves', 'acoustic', 'wires', 'denomination', '385', 'balaenoptera', 'musculus', 'mysticeti', 'bail', 'molded', '193', 'ramesh', 'exaggerating', 'cairo', 'transjordan', 'showbusiness', 'banter', 'introductions', 'im', 'torrance', 'costello', 'penner', 'schneck', 'favourite', 'centuriesold', 'tardis', 'chantelle', 'brownyoung', 'catchup', 'iplayer', 'aleutian', 'virginiaplaintiffs', 'postgrunge', 'fuses', 'knigreich', 'preuen', 'vasudev', 'nearghost', 'hdf', 'patriarchs', 'avot', 'abot', 'illfame', 'seats', '470', 'viking', 'gorm', 'bluetooth', 'proficient', 'seafaring', 'farnon', 'herriot', 'fictionmystery', 'lex', 'luthor', 'ebersol', 'ionizing', 'reforma', 'liberals', 'ayutla', 'conservatives', 'resisting', 'restructuring', 'depose', 'varsity', 'eminent', 'factually', 'fenton', 'barbato', 'drugaddled', 'barnstorm', 'allstarr', '1233', 'guiol', 'edna', 'ferber', 'arista', 'ministerial', 'portfolios', 'platoon', 'featurefilm', 'ealy', 'ferrara', 'meagan', 'romany', 'malco', 'jedo', 'yedo', 'yeddo', 'phileas', 'fogg', 'cock', 'cec', 'supervised', 'entrepreneurcontestants', 'posed', 'eivissa', 'wildstorm', 'bsb', 'huxtable', 'nuts', 'lifeguards', 'patrol', 'darling', 'brindavanam', 'naayak', 'baadshah', 'govindudu', 'andarivadele', 'temper', 'khaidi', 'tollywood', 'criminally', 'avary', 'boosted', 'brickman', 'ira', 'pazhanisaamy', 'gravedigger', 'autism', 'pithamagan', 'leif', 'erikson', 'inaugurating', 'cristoforo', 'colombo', '1506', 'lowcost', 'luton', 'sustain', 'daylight', 'ogaklkikekl', 'settop', 'macinnes', 'exdream', 'csd', 'orchestrator', 'hazard', 'pebbles', 'referring', 'hurd', 'henn', 'reiser', 'volley', 'outset', 'accessible', 'jaye', 'seventeenthcentury', 'sailing', 'bangkok', 'tuaisceart', 'ulsterscots', 'norlin', 'airlann', 'contractor', 'airframe', 'aft', 'fuselage', 'avionics', 'mngke', '1259', 'precipitating', 'infighting', 'tolui', 'toluid', 'mistakes', 'debrett', 'pricing', 'khans', 'bolster', 'households', 'schlitz', 'ebook', 'dug', 'soilearthrock', 'entrance', 'ruddy', 'submission', 'swades', 'chak', 'essentials', 'emotionality', 'aspiration', 'mortality', 'iihf', 'cyborg', 'hackers', 'comets', 'crandall', 'averaging', 'routines', 'cannabis', 'stamatina', 'devanagari', 'newar', 'sayre', 'traces', 'hydrocarbons', 'ingenuity', 'disguises', 'preadolescent', 'arises', 'hua', 'guofeng', 'sidelined', 'deng', 'pursuant', 'branded', 'xiaoerjing', 'dungan', 'xuejzw', 'zhongyuan', 'sixepisode', 'darcy', 'xforce', 'recognizable', 'antiheroic', 'castile', 'sixissue', 'titaness', 'kareena', 'brewer', 'bossa', 'balneario', 'barra', 'tijuca', 'copacabana', 'ipanema', 'leblon', 'charleson', 'keating', 'feingold', 'wdc', 'lautomobile', 'gaydos', 'jabal', 'lubnn', 'fogelman', 'unbroken', 'crimewave', 'bundesliga', 'fogell', 'mclovin', 'augie', 'farcques', 'damico', 'champslyses', 'legolas', 'ringbearer', 'overcoming', 'enmity', 'elves', 'bixby', 'ferrigno', 'bana', 'anf', 'contents', 'autoimmunity', 'prevalences', 'safeguards', 'shelly', 'hawkman', 'hawkgirl', 'crude', 'selfinjuring', 'hubbard', 'inhuman', 'exerts', 'anchored', 'nasdaq', 'citizenships', 'aol', 'talkshow', 'bench', 'kristoffer', 'kimble', 'ambersons', 'chimes', 'tribunals', '16000', 'gregson', 'hourly', 'aftershow', 'nightly', 'comedygame', 'plinko', 'gameshow', 'mazursky', 'gaviria', '19492', 'narcoterrorist', 'sukumar', 'tamannaah', 'uphold', 'judeochristian', 'bochco', 'thom', 'yorke', 'greenwood', 'selway', 'differentiated', 'periodically', 'conferred', 'relied', 'wartime', 'downandout', '3lw', 'e3', 'rumors', 'speculation', 'personas', 'indistinguishable', 'constitute', 'responsive', 'eventdriven', 'motivations', 'environmentalism', 'veganism', 'antiracism', 'antisexism', 'decentralization', 'turnkey', 'powerwall', 'askey', 'penfold', 'watling', 'pygmies', 'secreted', 'pelton', 'nbcyahoo', 'characterscraig', 'gopala', 'subramaniam', 'biggs', 'fianc', 'melania', 'melanija', 'knavs', 'germanized', 'knauss', 'cruyff', 'romrio', 'ronaldinho', 'bu', 'waco', 'tiberius', 'aw', 'herculaneum', 'villas', 'suzrrounding', 'ash', 'pumice', 'giulietta', 'degli', 'spiriti', 'italianfrench', 'masina', 'pisu', 'valentina', 'cortese', 'valeska', 'gert', 'rossdale', 'woolley', 'overtime', 'regulation', 'razors', 'voltage', '11yearold', 'suspicion', 'fripp', 'budd', 'onwumere', 'carolwood', 'holmby', 'socialites', 'performanceroland', 'barthes', 'mythologies', 'beavis', 'butthead', 'idiocracy', 'overnight', 'investigates', 'bondi', 'mclaury', 'earps', 'botched', 'kilmarnock', 'ayrshire', 'rhythmlead', 'helders', 'leadrhythm', 'omalley', 'vfxlos', 'fixing', 'exposes', 'initiates', 'netalee', 'hershlag', 'revenues', 'prophets', 'stormare', 'fichtner', 'mpcv', 'crack', 'horroraction', 'accidental', 'centralwestern', 'warming', 'bosh', 'guided', 'broaden', 'arguably', 'breakup', 'confident', 'equivalence', 'equation', 'shandling', 'bogus', 'matheson', '10s', 'hillah', 'babil', 'universitt', 'wien', 'lgbtq', 'nakano', 'selby', 'retells', 'treachery', 'mcinnerny', 'bonneville', 'isabelle', 'euphemia', 'ewwy', 'prady', 'molaro', 'newfound', 'loopholes', 'blames', '14year', 'purposefully', 'faulty', 'penghu', 'lengle', 'murry', 'okeefe', 'jamesfronted', 'mynah', 'stills', 'furay', 'delphinidae', 'pritchett', 'civilisation', 'restrooms', 'fountains', 'whites', 'blacks', 'bunn', 'krokidas', 'thatcher', 'sawyer', 'medicinal', 'revisions', 'greatgreatgrandmother', 'longestreigning', '06', 'midst', 'revolted', '1791', 'vertires', 'larran', 'chronicled', 'malignant', 'tumor', 'distal', 'ntas', 'khwarazmian', '1219', 'tacit', 'hormone', 'deficiency', 'callum', 'jashni', 'tull', 'juche', 'selfreliance', 'marxism', 'leninism', 'fellowes', 'ada', 'inserted', 'docking', 'connect', 'tablet', 'pitching', '714', 'rbis', '2213', '2062', '6897', 'onbase', 'ops', '1164', 'tangled', 'supervising', 'lilo', 'stitch', 'eyez', 'koninkrijk', 'hulandes', 'amos', 'ieee', '80211', '802', 'mahesh', 'zakhm', 'jasarat', 'parlophonevirgin', 'ucb', 'besser', 'carlton', 'cbe', 'attanasio', 'skeletons', 'sharman', '508', 'polis', 'attica', 'delian', 'pertuesa', 'indeed', 'pregreek', 'alfonso', 'cuarn', 'sauros', 'gigantic', 'quadruped', 'itinerary', 'mediumhaul', 'nonpersonal', 'lens', 'communicated', 'testicles', 'cherokee', 'asgaya', 'gigageyi', 'uukuhuwa', 'cayuga', 'gahnawiyogeh', '3858', 'dramatically', 'bloated', 'cag', 'cytosineadenineguanine', 'triplet', 'repeats', 'mechanisms', 'shensi', 'robinette', 'doctrines', 'miracles', 'crucifixion', 'whence', 'siobhan', 'cohosting', 'wktu', 'visage', 'ghana', 'pennsylvaani', 'pennsilfaani', 'qualifying', 'automatically', 'grumpy', 'grumpier', 'nederlandse', 'kabinet', 'fixedstock', 'vooruzhonnyye', 'sily', 'soyuza', 'sovetskikh', 'sotsialisticheskikh', 'respublik', 'beginnings', 'irishborn', 'theos', 'dhamma', 'meanings', 'jainism', 'galpagos', 'attendance', 'deloitte', 'hoffmandirected', 'normative', 'sunnah', 'hadith', 'proficiency', 'anglicized', 'loptr', 'hverungr', 'khmers', 'krorhorm', 'rocked', 'mignola', 'investigators', 'ala', 'libraries', 'goldie', 'hawn', 'nonmusical', 'napier', 'childress', 'diagnostic', 'princetonplainsboro', 'injuryprone', 'vague', 'revise', 'sanz', 'assortment', 'ungar', 'gedei', 'fogerty', 'creedence', 'clearwater', '2600', 'fivepointed', 'terrazzo', 'embedded', 'sidewalks', 'sciencebased', 'lifeforms', 'futuristic', 'cyborgs', 'electorate', 'tolkin', 'leoni', 'predsedatel', 'pravitel', 'stva', 'rossiyskoy', 'federatsii', 'yerministr', 'zinnemann', 'sebha', 'sabh', 'oasis', '640', 'barca', 'qrb', 'abn', '183', 'donovan', 'naturecentered', 'ps3', 'alienation', 'gaiety', '3135', 'sauchiehall', 'wander', 'themed', 'kkhh', 'newsom', 'akm', 'ak74', 'pk', 'rpk', 'bouquet', 'inheriting', 'episcopal', 'preparatory', 'cupwinning', 'runnersup', 'mediumrange', 'bessie', 'barnz', 'shainberg', 'khabira', 'keneti', 'roemer', 'oort', 'holden', '2918', 'demann', 'dashev', 'musica', 'top50', 'genes', 'defect', 'germ', '974', 'sackheim', 'confusion', 'selfgovernment', 'vanguard', 'surfing', 'wrestlemania', 'xxvii', 'motorcade', 'robyn', 'fenty', 'hanja', 'k9', '2016present', 'parodies', 'hydrostatics', 'statics', 'explanation', 'lever', 'hydrostatic', 'constraints', 'nonavian', 'largebodied', 'instalment', 'deepening', 'prefontaine', 'bowerman', 'coogler', 'boseman', 'danai', 'gurira', 'raylan', 'givens', 'enforcing', 'harlan', 'cutforth', 'lipsitz', 'criteria', 'evaluating', 'gnp', 'schweizer', 'suisses', 'gli', 'svizzeri', 'ils', 'svizzers', 'kardi', 'logia', 'circulatory', 'tictactoe', 'cartel', '219', 'subfields', 'radiofrequency', 'instrumentation', 'microelectronics', 'ddc', 'daimler', 'heavyduty', 'chassis', 'onhighway', 'popdancerecord', 'teenaged', 'bagnold', 'floor', 'whichever', 'aniplex', 'suddenly', 'airhorn', 'msw3', 'fielded', 'academies', 'castellum', 'beau', 'willimon', 'execution', 'developmental', 'malayalm', '377', 'issuing', 'stretches', '1926february', 'lending', 'mortem', 'realizing', 'osullivan', 'highlighting', 'screenshots', '1301', '34yearold', 'mace', 'neill', 'saintdomingue', '1214', '663268', 'orchids', 'amphibians', 'butterflies', 'rainforest', 'grassland', 'thr33', 'ringz', 'nava', 'tejano', 'darr', 'baazigar', 'anjaam', 'loess', 'preys', 'annabelle', 'tropics', 'speculations', 'raadhika', 'sarathkumar', 'radaan', 'mediaworks', 'wessex', 'butterfat', 'chilled', 'toasted', 'condiment', 'sauce', 'frying', 'nokou', 'thrillerdrama', 'archangel', 'delays', '115th', '74274774828', '814', 'numbered', 'franks', '768', 'lombards', '774', 'olusegun', 'olumide', 'adeola', 'overweight', 'damnesia', '15year', 'acousticbased', 'dialect', 'amalgam', 'aeolic', 'ionic', '12110', 'dactylic', 'hexameter', 'fremantlemedia', 'gough', 'icelanders', 'mesophile', '420', 'pressures', 'trenches', 'dose', 'vacuum', 'leeward', 'falcn', 'esper', 'sensed', 'motiontracking', 'logins', 'commands', 'icy', 'underland', 'centuryfox', 'hyphen', '6925', 'classifications', 'nilosaharan', 'maasai', 'kalenjin', 'dinka', 'nuer', 'shilluk', 'ateker', 'maaspeaking', 'comparatively', 'conquests', 'baumbach', 'greta', 'gerwig', 'supervision', 'caniforms', '187000', 'nymph', 'pareia', 'eurymedon', 'nephalion', 'chryses', 'philolaus', 'heracles', 'dexithea', 'telchines', 'euxanthius', 'bordeaux', 'girondins', 'matchmaking', 'exposed', 'knowing', 'participants', 'realitystyle', 'amiel', 'duerre', 'stagecoach', 'despereaux', 'exaggerated', 'cleisthenes', 'isagoras', 'remarkably', 'interruptions', 'lamian', 'hegemony', '440s', '430s', '510', 'philosophers', 'akademia', 'lyceum', 'sophocles', 'thenknown', 'miyagi', 'schloss', 'belvedere', 'chiquis', 'raqc', 'newer', 'hiragana', 'katakana', 'skylight', 'cern', 'zatanna', 'shazam', 'darkseid', 'catwoman', 'ra', 'ghul', 'deathstroke', 'reverseflash', 'sinestro', 'brainiac', 'nondc', 'universerelated', 'audiovisual', 'sigismund', 'schlomo', 'psychoanalysis', 'psychopathology', 'psychoanalyst', 'raul', 'fenwaykenmore', 'allston', 'caregiving', 'evison', 'mexicosamesex', 'campeche', 'michoacn', 'morelos', 'quintana', 'roo', 'guerrero', 'puebla', 'quertaro', 'isobel', 'dipertuan', 'agong', 'schrab', 'threepart', 'afar', 'demanding', 'perfectionist', 'painstaking', 'staging', 'coordination', 'mouf', 'chickennbeer', 'vampirethemed', 'slant', 'rhyme', 'punctuation', 'noninherited', 'extremist', 'vicepresidential', 'eagleton', 'catlin', 'tulip', 'ohare', 'runway', 'miu', 'dmos', 'graphy', 'graph', 'implies', 'actionsuspense', 'neutralism', 'neutralist', 'wherein', 'intends', '2029', 'connor', 'savior', 'lookin', 'broadsheet', 'haute', 'monarchies', 'salazar', 'travelling', 'renegade', 'antonius', 'oligarchy', 'denmarksamesex', 'philbin', 'springer', 'establishes', 'bektashi', 'konstantinos', 'gavras', 'greekfrench', 'seulgi', 'wendy', 'camden', 'familydrama', 'desylva', 'sistrom', 'sis', 'xxiv', 'zoonotic', 'vectorborne', 'erythroxylaceae', 'salle', 'rdi', 'corridor', 'boswash', 'urbanized', 'coolidge', 'gaithersburg', 'jaume', 'colletserra', 'smoothies', 'gourmet', 'soups', 'salads', 'africaninfluenced', 'analytic', 'cubism', 'freely', 'andreas', 'countryside', 'amol', 'gupte', 'convenient', 'manageable', 'counted', 'cpc', 'musicianactor', 'priscilla', 'bourgeois', 'printing', 'marketstreet', 'postoffice', 'trachoma', 'republika', 'srbija', 'pannonian', 'balkans', 'herlihy', 'misanthropic', 'plainsboro', 'ppth', 'hector', 'escaton', 'puffy', 'primordial', 'eggers', 'sendak', '479', 'consolidated', 'citycounty', 'dynamics', 'underdog', 'cit', 'mille', 'plantes', 'bioengineering', 'bioweapons', '1946september', 'sixpence', 'ruins', 'mixer', 'screencasting', 'wynn', 'peders', 'bokma', 'fading', 'interviewing', 'katya', 'katja', 'schuurman', 'tappahannock', '851373', '1351587', '2410960', 'austar', 'optus', 'steals', 'infiltrating', 'subconscious', 'erased', 'seemingly', 'implantation', 'hymenopteran', 'modernity', 'pamplin', 'synonymous', 'speechwriter', 'fertility', 'surrogacy', 'gravitational', 'singularity', 'theorems', 'prediction', 'emit', 'blumhouse', 'inflated', 'equitably', 'coordinate', 'troia', 'ilion', 'ilios', 'tria', 'lium', 'hittite', 'wilusha', 'truwisha', 'truva', 'troya', 'ida', 'secondmostpopulous', 'stylistically', 'rockoriented', 'redirected', 'outstripping', 'ytv', 'zeek', 'braverman', 'parenthood', 'croods', 'portsmouth', 'debtors', '760000', 'schieber', 'alluvial', 'flanking', 'thar', 'kirthar', 'firstever', 'alumnus', 'nyu', 'specifies', '1150', 'courtly', 'cammell', 'snapper', 'tenzin', 'gyatso', 'jetsun', 'jamphel', 'ngawang', 'lobsang', 'yeshe', 'lhamo', 'thondup', 'noyce', 'wimmer', 'olbrychski', 'diehl', 'chiwetel', 'ejiofor', 'comparable', 'afterwards', 'infamously', 'reemerged', 'flamboyant', 'androgynous', 'srv', 'arnett', 'colbert', 'dga', 'heading', 'circumnavigational', 'purduefunded', 'howland', 'taupin', 'kesey', 'smallscale', 'brokedown', 'serendipity', '1527', 'prudent', 'prudente', 'filipe', '1554', 'uxoris', 'citations', 'cir', 'appellate', 'secondyoungest', 'colonised', 'scarwid', 'heavier', 'rehired', 'beyrouth', 'soundcloud', 'dubois', 'nonhorror', 'grinch', 'seuss', 'sms', 'audiorecorded', 'instigated', 'shift', 'recordlabel', 'killas', 'amalgamating', 'merging', 'chaperone', 'thespis', 'fleetcenter', 'banknorth', 'firefighters', '343', 'renovation', 'dormitory', 'koduri', 'srisaila', 'cel', 'uninterrupted', 'exofficio', 'decisionmaking', 'klinghoffer', 'persistent', 'outlying', 'gallows', 'sorcery', 'frenzy', 'runic', 'frigg', 'commonplace', 'requirement', 'applicable', 'mon', 'mothma', 'particle', 'granule', 'bouldersized', '1957september', 'coffey', 'flashback', 'edgecomb', 'australianamericanbritish', 'baz', 'luhrmann', 'ludgate', 'jeremie', 'midthunder', 'aselton', 'sympathizer', 'waterhouse', 'sonnets', 'verses', 'uncertain', 'authorship', 'adherence', '2140', '199697', 'gregorian', 'rp', '277', '446', 'directtofan', 'drmfree', 'szkely', 'cane', 'flatfronted', 'willowwood', 'jung', 'punctuated', 'protectorate', 'early1980s', 'rooker', 'gillan', '41317', 'sits', 'runways', 'laguardia', '1760', 'tar', 'heels', 'mixedgender', 'coeducation', 'coed', 'fueled', 'coexecutive', 'duffer', 'coexecutiveproduced', 'dhirajlal', 'hirachand', 'bombay', 'kokilaben', 'vasu', 'raju', 'threeengined', 'scanlan', 'allain', 'alessandro', 'venturella', 'weinberg', 'moonstruck', 'poisoning', 'stoller', 'makers', 'qualityminded', 'drinkers', 'handmade', 'roasts', 'efficiency', 'compounds', 'vitamers', 'fourweight', 'atalanta', 'fiorentina', 'sampdoria', 'internazionale', 'acf', 'inter', 'paeksang', 'corp', 'ilgan', 'bartel', 'griffeth', 'chornobylska', 'katastrofa', 'eighthmost', 'ritts', 'lei', 'frampton', 'prerogative', 'piedras', 'villa', 'toretto', 'oconner', 'deckard', 'avenge', 'comatose', 'damita', 'stef', 'discard', 'recreate', 'cookbooks', 'maldives', 'interconnection', 'serenissima', 'careerbest', 'fourthhighest', 'sammartino', 'backlund', 'softley', 'linus', 'roache', 'rosemond', 'endemic', '56343', '9153', 'mediums', 'sticks', 'touchpad', 'rylan', 'clarkneal', 'massed', 'arrian', 'alans', 'legions', 'institutionalized', 'euthanasia', 'sterilization', 'unfit', 'elisha', 'cuthbert', 'abrahams', 'ri', 'chard', '50year', 'forcibly', 'sixsmith', '252', 'plastino', 'marianne', 'boruch', 'dybek', 'friman', 'vv', 'ganeshananthan', 'mcguane', 'jagged', 'rewarding', 'tabula', 'ansata', 'numerals', 'mdcclxxvi', 'ouron', 'genitourinary', 'urinary', 'unusually', 'nonstate', 'valleya', 'schuylkill', 'option', '12000', 'overpopulation', 'footprint', 'exceeds', 'mere', 'mi2', 'informative', 'chemung', 'laguna', 'aguna', 'venesia', 'superseded', 'novo', 'everchanging', 'exemplified', 'rockinflected', 'hurts', 'warring', 'porsche', 'fnc', 'rifles', 'reliability', 'repeat', 'realignment', 'unprecedented', 'profusion', 'nude', 'damaging', 'ving', 'rhames', 'cinque', 'yate', 'gloucestershire', 'taleban', 'iea', 'waging', 'insurgency', 'jihad', 'fourthlongestserving', 'cheadle', 'mcfadden', 'cch', 'pounder', 'schiff', 'friendships', 'breckenridge', 'precipitous', 'raging', 'comebacks', '1521', 'mexicotenochtitlan', 'viceroyalty', 'adversely', 'requesting', 'donations', 'kinkade', 'breckman', 'shalhoub', 'pocahontas', 'reliant', 'taxpayer', 'tuition', 'yield', 'endowment', 'yonder', 'juventino', 'rosas', 'oer', 'bloodhoundz', 'gigolo', 'wormald', 'fools', 'tentime', 'territorial', 'digging', 'globenominated', 'drugaddicted', 'freeland', 'canaries', 'canarias', 'clearance', 'clearing', 'apocalypto', 'mesoamerica', 'shobu', 'yarlagadda', 'prasad', 'devineni', 'firstseeded', '1h39', 'ecosystems', 'egoyan', 'fiveo', 'bekmambetov', 'zahn', 'musique', 'concrte', '60plus', 'instructions', 'prohibitions', 'idolatry', 'blasphemy', 'adultery', 'dishonesty', 'coveting', 'walla', 'skagit', 'libertatum', 'charta', 'runnymede', 'parliaments', 'stamford', '306', 'sevens', 'amplifications', 'rabbinic', 'embodied', 'midrash', 'pentateuch', 'tanakh', 'commentaries', 'denotes', 'inactivated', 'blurryface', 'stressed', 'oggktn', 'zanjeer', 'deewaar', 'rafi', 'mecartin', 'lal', 'cochin', 'hanifa', 'harisree', 'asokan', 'neena', 'kurup', 'janardanan', 'fountainhead', 'shrugged', 'objectivism', 'roark', 'embodies', 'individualism', 'hastened', 'stormaktstiden', 'oversees', 'shilowich', 'dceu', 'romelle', 'liz', 'proof', 'raiford', 'starke', '93yearold', 'bookends', 'bookended', 'kelvin', '3857', 'westphalia', 'romantically', 'firehouse', 'headington', 'broadbent', 'implement', 'catgut', 'tightly', '97000', 'bookings', 'styley', 'uplift', 'mofo', 'cosmonaut', '1674', 'orchestrate', 'farrar', 'revivals', 'headline', 'gramophone', 'carmina', 'fancher', 'androids', 'chaka', 'toub', 'youtubers', 'buxton', 'brotherly', 'woodbury', 'tripura', 'assam', 'barak', 'andaman', 'nicobar', 'dwellings', 'rudimentary', 'huts', 'shacks', 'shantytowns', 'plumbing', 'chancer', 'allmerciful', 'riot', 'lashing', '1139', 'muirfield', 'gullane', 'lothian', '7174', 'subsists', 'essence', 'psychiatry', 'pad', 'mcaleese', '312679', 'compiling', '250th', 'ticotin', 'ironside', 'risqu', 'profane', 'metallic', 'haakon', 'revolving', 'hdds', 'generalpurpose', 'spiegel', 'fn2187', 'mediumsized', 'nero', 'elf', 'replacements', 'samaire', 'faizon', 'missi', 'pyle', 'animatrix', 'sagan', 'drugstore', '349', 'amal', 'neerad', 'prithviraj', 'zoey', 'josiah', 'secretaryturnedcopywriter', 'det', 'vicki', 'transcript', 'occitan', 'canas', 'riviera', 'alpesmaritimes', 'midem', 'magik', 'nobleman', 'madiba', 'epiccbs', 'serialised', 'automakers', 'lon', 'scissors', 'roosevelts', 'huband', 'fulfillment', 'tauar', 'urals', 'krt', '88thlargest', 'sardinia', 'domes', 'minarets', 'feca', 'importantly', 'amendments', 'aramayo', 'progressiveliberal', 'metabolism', 'amino', 'merciful', 'interweave', 'dynastic', 'daenerys', 'targaryen', 'exiled', 'shipment', 'bolsheviks', 'tai', 'bongwater', 'harpercollins', 'bea', 'bernice', 'frankel', 'em', 'misty', 'josey', 'firefox', 'tightrope', 'gran', 'goode', 'intestine', 'lethargy', 'aches', 'lowgrade', 'fevers', 'decide', 'morrer', 'deconstructing', 'worldteam', 'cycliste', 'protour', 'gluck', 'roadshow', 'overbrook', 'civic', 'furnish', 'iau', 'secondmostmassive', 'tenthmostmassive', 'eponyms', 'puppets', 'artsfocused', 'disfigured', 'mercenary', 'birdie', '1068', '1135', 'beauclerc', 'menace', 'guynes', '200millionth', 'resigned', 'envoy', 'bartender', 'noordin', 'epiphany', 'snappin', '1594', 'latinised', 'adolph', 'aggravated', 'progressively', 'unsolved', '961000', '1039', 'smoothed', 'slappy', 'xerxes', 'leonidas', 'godking', 'nispel', 'adverts', 'idents', 'shorts', 'swoosie', 'kurtz', 'natwick', 'thenrelatively', 'impoverished', 'ivers', 'mikan', 'cheetah', 'goldfinger', 'coniferous', 'hardwoods', 'hickory', 'huizhou', 'guangdong', 'semiconductor', 'bluesoriented', 'cocky', 'appointments', 'tg', 'transformationalgenerative', 'tgg', 'combinations', 'grammatical', 'docter', 'ranft', 'amharic', 'woreda', 'existential', 'questions', 'discourses', 'resettled', 'airtoair', 'f35', 'crust', 'previewed', 'contralto', 'adolescence', 'auntbymarriage', 'xgene', 'corvette', 'cigars', 'cigarillos', 'pipe', 'tobaccos', 'democraticrepublican', '1491', '1547', '1509', 'devon', 'criss', 'warblers', 'freezing', 'traumatic', 'oznowicz', 'diverticulitis', 'moments', 'mountbatten', 'annus', 'horribilis', 'fetched', 'nonwrestling', 'cornelius', 'escaping', '1749', 'secondhighestgrossing', 'charactersrichard', 'clusters', 'trav', 'rotation', 'acupuncture', 'chi', 'lam', 'guangzhou', 'brawley', 'delroy', 'lindo', 'handler', 'higgins', 'mclennen', 'rawling', 'gunderson', 'impending', 'fm', 'wenham', 'pervasive', '70560000', 'computed', 'bomber', 'monaghan', 'eyewitness', 'watersoluble', 'roanoke', 'farmhouse', 'invincible', 'stereo', '178000', 'joins', 'jeanmichel', 'officio', 'coprince', '180000', 'secondhighestpaid', 'birtwistle', 'paterson', 'broccoli', 'tamahori', 'caucasia', 'cbd', 'halfwaypoint', 'intermission', 'jai', 'homage', 'rawlinson', 'merton', 'inklings', 'abruptly', 'thenrecord', 'stepcousin', 'elswit', 'prepackaged', 'drinkware', 'mugs', 'tumblers', 'appetizers', 'worsening', 'alejandro', 'interspersed', 'swallowing', 'rosary', 'nearnaked', 'attach', 'consulate', 'prospera', 'coofficial', 'yanbian', 'prefecture', 'changbai', 'jilin', 'moist', 'browngardt', 'lavinia', 'dispatcher', 'blackwood', 'gass', 'siff', 'ogden', 'aisi', 'releasesooraj', 'pyar', 'kiya', 'upholding', 'medicare', 'medicaid', 'adamscorleone', 'ricedavies', 'balto', 'gloaming', 'kevorkian', 'necktie', 'shylock', 'salom', 'mostow', 'kretschmann', 'noseworthy', 'estes', 'guiry', 'whlm', 'industrialisation', 'fisheries', 'courtenay', 'understudied', 'girlfriends', 'langpronaudio', 'enushawaii', 'daya', 'innercity', 'rhyming', 'chanted', 'woodland', 'bentez', 'scarecrow', 'plunging', 'astronomers', 'reddishbrown', 'tholins', 'macromolecules', 'gases', '19000', 'panspermia', 'hypothesis', 'meteoroids', 'asteroids', 'figuratively', 'irritant', 'rabindranath', 'clara', 'polydor', 'straighttoseries', 'cofounding', 'cubist', 'coinvention', 'thongs', 'snogging', 'russoturkish', 'bulgarian', 'inquiries', 'spotless', 'airports', 'hijacked', 'crisp', 'percy', '158', 'assessing', 'firstclass', 'pinnacle', 'highclass', 'opulent', 'cabins', 'secretarygeneral', 'antnio', 'guterres', 'webcomic', 'shellstrop', 'monique', 'g10', 'trilateral', 'grayson', 'spektors', 'respublika', 'familyoriented', 'scrapping', 'aidedecamp', 'kailash', 'satyarthi', 'suppression', 'protagonistantihero', 'ceasefire', 'intensive', 'backdoor', 'akosombo', 'fraggle', 'posting', 'shutouts', 'canucks', 'goaltender', 'luongo', 'insidious', 'tris', 'tegen', 'mbc', '2200', 'kst', 'yuma', 'upheld', 'sharia', 'cgcg', 'laboratories', 'chechnya', 'threeact', 'dilemma', 'mousetrap', 'westmacott', 'prascovia', 'elikolani', 'valiente', 'honolulu', 'corgi', 'olde', 'exquisite', 'warburton', 'fraley', 'felinae', 'nonpantherine', 'rustyspotted', 'catsized', 'lynx', 'ocelot', 'serval', '896', 'zugo', 'lngdo', 'rn', 'zhongguancun', 'uluslararas', 'trk', 'kltr', 'tekilat', 'epsom', 'comedymockumentary', 'secretly', 'sacp', 'noticed', 'konlive', 'clarity', 'tuvia', 'bielski', 'zus', 'asael', 'aron', 'braves', 'linking', 'brewster', 'rede', 'globo', 'vladimirovich', 'eldred', 'bumpy', 'taaha', 'tap', 'hype', '197', 'amplifiers', 'firoz', 'nadiadwala', 'akc', 'purebred', 'pedigrees', 'montrealenglishpronunciation', 'mcalester', 'riding', 'alder', 'morphine', '1230', 'nellie', 'kew', 'gmt', 'annette', 'farro', 'writerdirector', 'lagravenese', 'gilliam', 'pivot', 'takepart', 'czechs', 'ei', 'ech', 'feminine', 'eka', 'esk', 'nrod', 'bearing', 'labeling', '276', 'feldstein', 'nonmasters', 'enjoy', 'weekends', 'espn2', 'exceptions', 'hostilities', 'commemorates', 'concorde', 'twoday', 'guillotine', 'twoseason', 'ministries', 'excitement', 'sameer', 'euryale', 'pholegander', 'eponym', 'pholegandros', 'anno', 'domini', '2201', '2300', 'writerproducer', 'wonderfalls', 'pushing', 'daisies', 'delson', 'shinoda', 'rhinelandpalatinate', 'graphite', 'moderated', 'reactor', 'pripyat', 'ranveer', 'pygmalion', 'aankhen', 'carioca', 'landscapes', 'gehrig', 'mnd', 'rebounding', 'durability', 'fallout', 'slade', 'lich', 'stabbington', 'omotic', 'cushitic', 'varietysketch', 'korman', 'lyle', 'waggoner', 'libretto', 'fwa', '1853', 'northup', 'stateborn', 'pyrexia', 'febrile', 'setpoint', 'udayakrishna', 'siby', 'preetha', 'vijaykumar', 'jagathy', 'sreekumar', 'ashokan', 'ambika', 'sudheesh', 'sphadikam', 'kottayam', 'nazir', 'oduvil', 'unnikrishnan', 'udayakrishnasiby', 'primacy', 'tilden', 'antennae', 'rhotic', 'embankment', 'wetland', 'lexifier', 'adug', 'mansour', 'zayed', 'nahyan', 'magritte', 'abbasids', 'idrisid', 'aghlabid', 'rustamid', 'fatimids', 'hammadids', 'almoravids', 'almohads', 'ottomans', 'longevity', 'decadesold', 'cumulatively', 'nottwo', 'realization', 'transactions', 'breaching', 'mrinal', 'rajeshwara', 'centreleft', 'khoisan', 'anglia', 'cathedral', 'resilient', 'millionseller', 'huawei', 'zte', 'htc', 'nepalese', 'proclamation', 'semple', 'rayfiel', 'grady', 'arizonaalternate', 'oodham', 'donen', 'behm', 'affluence', 'economical', 'courtships', 'godrich', 'donwood', 'invertebrate', 'eastwick', 'oleander', 'hushi', 'supermaninfilmchristopherreeveseries281978e280931987', 'hegira', 'hijri', 'ellroy', 'lovitz', 'arkin', 'vigoda', 'edgeworth', 'ridgemont', '1757july', 'allers', 'minkoff', 'hahn', 'mecchi', 'colorectal', 'cervical', 'dimpling', 'nipple', 'scaly', 'scoobydum', 'scrappydoo', 'paying', 'subscribers', 'rf', 'coaxial', 'cables', 'pulses', 'fiberoptic', 'critters', 'tesich', 'variably', 'geopolitics', 'highrise', 'eileen', 'heckart', 'bray', 'penciller', 'coplotter', 'algren', 'mid1920s', 'lanois', 'patches', 'pigment', 'battalion', 'univisionthe', 'defenses', 'dogma', 'octavian', 'signalled', 'carryover', 'infrequent', 'dexterous', 'paws', 'teluguspeaking', 'nizam', 'eclipse', 'pompey', 'realigned', 'crassus', 'radioedit', 'abcd', 'baaghi', 'skaters', 'vulcanized', 'puck', 'estuary', 'chanteys', 'nhmc', 'akiva', 'schaffer', 'jorma', 'taccone', 'coproducing', 'dialogues', 'rocknrolla', 'tinker', 'tailor', 'locke', 'mobster', 'vineyard', 'kurmul', 'elyas', 'stretching', 'slopes', 'carmel', 'childlike', 'sensibilities', 'noun', 'grundy', '692', 'pilgrimage', 'dargah', 'mahachaitya', 'amaravathi', 'kanaka', 'durga', 'visakhapatnam', 'araku', 'horsley', 'konaseema', 'ysr', 'stonewall', 'koninklijke', 'antwerp', 'nader', 'corbett', 'jeffries', 'infomercial', 'spends', 'leiner', 'kutcher', 'parked', 'recklessness', 'airings', 'reworked', 'psephocracy', 'uptempo', 'basically', 'shall', 'thirdseason', 'leap', 'kazakh', 'dala', 'ecoregion', 'palearctic', 'grasslands', 'savannas', 'shrublands', 'biome', 'pontic', 'emin', 'mid19th', '1624', '1626', 'opt', 'denominations', 'bosnian', 'tricky', 'constituio', 'federativa', 'activeduty', 'personnel', 'statutory', 'absorbing', 'shalamar', 'unaided', 'magnitude', '027', 'brightest', 'centaurus', 'thirdbrightest', 'outshone', 'canopus', 'overboard', 'appomattox', 'surrenders', 'workthe', 'fosse', 'saldanha', 'blu', 'spix', 'macaw', 'moreover', 'solos', '842', 'auckland', 'soxers', 'pranker', 'khaganate', 'leukemias', 'cll', 'chairwoman', 'deliberative', 'avnet', 'nelligan', 'attributions', 'kinsmen', 'wellattested', 'documentation', 'ascribed', 'solidified', 'columbias', 'guestroles', '20162017', 'silenced', 'weaken', 'earvin', 'weisberg', 'cared', '14episode', 'unannounced', '730', 'yr', 'genndy', 'tartakovsky', 'murdocca', 'hoff', 'sgt', 'weiland', '603488', '2027828', 'beck', 'shue', 'fairytale', 'dartmouth', 'edm', 'pushpull', 'strategypushe280', 'interchangeably', 'virginie', 'bessonsilla', 'europacorp', 'kander', 'ebb', 'ragnarok', 'workroom', 'catchall', 'pottery', 'origami', 'scrapbooking', 'romper', 'stomper', 'multiproject', 'haeundaegu', 'wag', 'straw', 'tootsie', 'americansouth', 'thad', 'pangborn', 'burdens', 'vosges', 'chola', 'longestruling', 'gangas', 'cholas', 'hoysalas', '1537', 'kemp', 'gowd', 'vijayanagara', '1735', '1826', 'deposing', 'highconcept', 'shadyac', 'oedekerk', 'downonhisluck', 'complains', 'correctly', 'leicestershire', 'godwinson', 'supervisors', 'administrators', 'thompkins', 'dorff', 'thenunknown', 'intermittently', 'sren', 'masculinity', 'ashes', '2690', 'sumerian', 'confounded', 'electronicinflected', 'emperorempress', 'transitional', 'libertas', 'embodiment', 'robed', 'mbashe', 'mthatha', 'jezebel', 'roadkill', 'tarver', 'leelee', 'sobieski', 'brilliantly', 'zama', 'hasdrubal', 'gfa', 'comhaont', 'aoine', 'chasta', 'bhal', 'feirste', 'guid', 'greeance', 'bilfawst', 'sxsw', 'midmarch', 'biennale', 'stahl', 'tenets', 'consciousness', 'inductive', 'selfinterest', 'transform', '8298', 'mily', 'acuna', 'ahadith', 'mgk', 'jamal', 'cutthroat', 'ton', 'matthews', 'fatts', 'patrons', 'showmanship', 'lectures', '449300', 'educates', 'commissioning', 'lullaby', 'eponymously', 'shallowest', 'coarchitect', 'maxim', 'litvinov', 'leonid', 'krasin', 'bogdanov', 'revolutionaries', 'terpetrosian', 'kamo', 'baryshnikov', 'irma', 'douce', 'endearment', 'debonair', 'timing', 'bretaigne', 'windust', 'fulton', 'grandmasters', 'reykjavk', 'ghostwriters', 'anons', 'fawkes', 'dowdell', 'rainforests', '390', '194000', 'mohawk', '149', 'bisected', 'northsouth', 'eastwest', 'applying', 'infinitesimals', 'exhaustion', 'rigorously', 'prove', 'geometrical', 'parabola', 'grillo', 'pulau', 'kalimantan', 'ladykillers', 'adjusted', 'namdaemun', 'inconvenient', 'afroecuadorians', 'eupenmalmedy', 'eupenmalmdy', 'unfavourable', 'gayvenue', 'ghetto', 'gaytto', 'gayborhood', 'frequented', 'manhunt', 'alerting', 'recommending', 'tentpole', 'illustrate', 'new7wonders', 'tno', 'semimajor', 'polemicist', 'allegory', 'consecrated', 'azerbaijani', 'pashto', 'namethe', 'peterare', 'apocryphal', 'canons', 'sitin', 'evicted', 'demands', 'crimehorror', 'niven', '13to19yearold', 'romanceoriented', 'selfconfidence', 'monomously', 'dooley', 'behar', 'cerf', 'boniamy', 'ephron', 'workshop', 'sesame', 'scotch', 'marmo', 'maddy', 'celebes', 'palau', 'amon', 'gth', 'seventythree', '1093', 'arnulf', 'beside', 'parallel', 'leninist', 'maoism', 'marxismleninismmaoism', '14time', 'slugger', 'glove', 'rasl', 'confirm', 'monotheism', 'bumbling', 'landforms', '8537673', '3026', 'systrom', 'krieger', 'mclaurin', 'dougan', 'theatreradio', 'aging', 'befriends', 'mostpopulated', 'forceful', 'aba', 'subscriptions', 'mostsubscribed', 'olmstead', 'adelstein', 'parouse', 'moritz', 'ratner', 'mathew', 'baynton', 'scacchi', 'maxine', 'peake', 'worrying', 'satirizes', 'puroresu', 'inoki', 'ecw', 'aaa', 'webos', 'symbian', 'gameloft', 'gryptonite', '630', 'tenthhighestgrossing', 'frenchswiss', 'demerger', 'peppard', 'ebsen', 'remington', 'anupam', 'kher', 'tsardom', 'imperator', 'spelaea', 'atrox', 'yukon', 'apparently', 'reveled', 'fijacin', 'volumen', 'fixation', 'verbinski', 'joachim', 'rnning', 'espen', 'sandberg', 'iteration', 'jpmorgan', 'midpacific', 'stagiros', 'stageiros', 'picturesque', 'chalcidice', 'argirolofos', 'scm', 'workinprocess', 'inventory', 'interlinked', 'provision', 'operators', 'cap21', 'dropping', 'forger', 'curve', 'piggy', 'fozzie', 'bert', 'grover', 'esports', 'mediated', 'humancomputer', 'interfaces', 'esport', 'sponsoring', 'kimi', 'sinai', 'shankman', 'walken', 'blonsky', 'legislated', 'intact', 'regressions', 'tequilana', '6year', 'rituparno', 'ghosh', 'raima', 'ashalata', 'exercises', 'skid', 'sprague', 'doomsday', 'nfc', 'csa', 'gdps', 'leeuwen', 'shuman', 'fertita', 'uncertainty', 'dismay', 'twicedivorced', 'ethologists', '201214', 'newsroom', 'spirited', 'saoirse', 'ronan', '66', 'grosser', 'kowloon', 'tong', 'soonest', 'x20', 'dynasoar', 'gelbart', 'dgarement', 'combats', 'civilisations', 'thread', 'derain', 'parisbased', 'vivendi', 'doubtfire', 'neorealist', 'briclike', 'fail', 'renault', 'euroseries', 'gp2', 'mysterythriller', 'malini', 'machaao', 'bratty', 'patzzi', 'fated', 'syntactic', 'remodeled', 'rejuvenated', 'oneplane', '12time', 'allnba', '100metre', 'phonograph', 'raynold', 'riesner', 'pea', 'aksel', 'hennie', 'consummated', 'liaison', 'grip', 'ioannes', 'paulus', 'halfcompleted', 'exalted', 'xiv', 'intertwining', 'sie', 'scei', '8mm', 'sleepy', 'copperfield', 'selflimiting', 'bacterial', 'embolism', 'sore', 'runny', 'sneezing', 'headache', 'unifying', 'colead', 'dismissal', 'curtisscripted', 'junger', 'larisa', 'oleynik', 'blazers', 'dunk', 'foamposite', 'skateboarding', '13time', 'wanderlust', 'caddish', 'cleaver', 'meiji', 'silkscreening', 'observation', 'logical', 'reasoning', 'disneytoon', 'disneynature', 'iaea', 'reflection', 'mulan', 'manero', 'discothque', 'gorney', 'confidante', 'pescow', 'commuted', 'originators', 'tulsa', 'rockabilly', 'potomac', 'socratic', 'elenchus', 'informational', 'docudrama', 'pres', 'nme', 'prag', 'reema', 'trojan', 'laomedon', 'reeser', 'soma', 'blooming', 'topselling', 'aline', 'brosh', 'slingshot', 'cloak', 'dagger', 'overruled', 'unravel', 'institutional', 'kisses', 'searcy', 'scorpius', 'ramen', '694', 'ninthhighestgrossing', 'preuenschlag', 'hindenburg', 'hanot', 'journalists', 'leatherheads', 'dujardin', 'executing', 'quartercentury', 'tactic', 'ridicule', 'maneuvered', '434', 'oitnb', 'sack', 'multiweek', 'spoof', 'izzie', '274', 'contemporaneous', 'justices', 'acerbic', 'bigg', 'cents', 'hie', 'kremer', 'balaji', 'telefilms', 'jeetendra', 'loner', 'leticia', 'herren', 'galen', 'marekstarkiller', 'xd', 'edwina', 'findley', 'hatufim', 'abductees', 'raff', 'submitting', 'governmentmanaged', 'rationing', '763908', '601448', 'xfactor', 'commended', '174', 'roir', 'germantown', 'mifflin', 'spaceflights', 'brains', 'cutout', 'stopmotion', 'props', 'stiff', 'fabric', 'emulated', 'portals', 'kristopher', 'tripleplatinum', 'fierstein', 'prosky', 'specify', 'subjectmatter', 'moods', 'brummy', 'equivalents', 'threemember', 'havel', 'berlinbrandenburg', 'afa', '195455', 'tanzaniamalawi', 'tense', 'nyasa', 'frustration', 'empirical', 'subjective', 'arthron', 'pous', 'exoskeleton', 'jointed', 'appendages', 'voluntarily', 'tsagadaina', 'khaanat', 'turkicized', 'backpacking', 'camping', 'canoeing', 'canyoning', 'caving', 'hiking', 'horseback', 'kayaking', 'mountaineering', 'waterskiing', 'jetskiing', 'atv', 'darvette', 'mowryhousley', 'georg', '3february', '19485october', 'mcnair', 'mkena', 'madhya', 'sophieanne', 'britons', 'iloilo', 'ratu', 'epeli', 'nailatikau', 'hamilcar', 'functionality', 'conveniently', 'lwt', 'handover', 'invisibly', 'msi', 'odi', 'dignity', 'knighthood', 'peerage', 'sagar', 'jacky', 'ustad', 'thozha', 'pulimurugan', 'reviewing', 'lyrically', 'selfesteem', 'insecurity', 'carcinoma', 'uncontrolled', 'woogie', 'cursed', 'overthrew', 'abagnale', 'cons', 'prosecutor', 'amores', 'perros', 'grams', 'babel', 'sagarmth', 'chomolungma', 'chabon', 'hydrosphere', 'bookkeeper', 'beatlemania', 'robotic', 'outputs', 'tabu', 'gwendolyn', 'levarr', 'tristate', 'vicinities', 'waterbury', 'norwalk', 'danbury', 'radioshack', 'raakesh', 'paswan', 'vandana', 'tiwari', 'tripathi', 'shilpa', 'choube', 'susheel', 'kashyap', 'raghuvir', 'shekhawat', 'nikhilesh', 'grifters', 'backdraft', 'pleasantville', 'trinit', 'coloniale', 'ambivalence', '2003present', 'whiteout', 'socii', 'numidianberber', 'saguntum', 'surprising', 'overland', 'reinforcement', 'gallic', 'crushing', 'ambush', '16thlargest', 'barrister', 'solicitor', 'metabolite', 'labelimprint', 'zealander', 'syncopy', 'uncomfortable', 'provocation', 'newborns', 'rsa', 'reinvent', 'amidst', 'popbased', 'owning', 'darner', '44058', 'kilometre', 'hemispheres', 'afroeurasia', 'blackground', 'mobo', 'rajmund', 'thierry', 'polaski', 'frenchpolish', 'molecule', 'atoms', 'covalent', 'brabbit', 'peacekeeping', 'recruits', 'subjugating', 'traced', '966', 'mieszko', 'coextensive', '10thcentury', 'bloodiest', 'lineups', 'symmetry', 'muscularity', 'conditioning', 'prepare', 'dehydration', 'nonessential', 'loading', 'vascularity', 'tanning', 'accentuate', 'awry', 'muren', 'macnaughton', 'hanson', 'susannah', 'toni', 'leggett', 'lengthened', 'yd', '7445', '7290', '1783', 'cassandra', 'softporn', 'escort', 'mayfair', 'mcaloney', 'sublime', 'rancid', 'reviving', 'boroughs', 'reflecting', 'seaside', 'censusdesignated', 'cdp', 'lecturer', 'tropes', 'malekith', 'plunge', 'joaquim', 'almeida', 'razr', 'capitalize', '2463431', 'katey', 'sagal', 'bskyb', 'iptv', 'fios', 'att', 'uverse', 'drainage', 'demolished', 'landpower', 'aus', 'realworld', 'sweete', 'crewson', 'pill', 'mccamus', '186000', 'renaultnissan', 'premieres', 'highestrated', 'telecasts', 'skopje', 'vilayet', 'aversion', 'avid', 'bowler', 'humpty', 'hskd', 'shashank', 'khaitan', 'tannenbaum', 'fickman', 'moe', 'jelline', 'viscount', 'greystoke', 'feral', 'mangani', 'ariel', 'kickboxing', 'shawkat', 'threedimensional', 'stereoscopic', 's3d', 'enhances', 'illusion', 'boro', 'escalating', 'democratically', 'downfall', '1396', 'peiser', 'sampling', 'quirky', 'subgenres', 'inaugurated', 'exploitation', 'momentous', 'xvi', 'parry', 'kingsbury', 'gara', 'pakulamulligan', 'polanskidirected', 'fill', 'qualifiers', 'twoandahalf', 'grateful', 'meerkat', 'warthog', '1508', 'cornerstone', 'longhaul', 'buenos', '187', 'mast', 'whispering', 'craze', 'quarrymen', 'sapphire', 'waterrich', 'aquifer', 'karst', 'watercourses', 'maivia', 'ahmet', 'ertegun', 'endurance', '4921', '4550', '14928', 'ikaamui', 'waipounamu', 'bhumibol', 'adulyadej', 'het', 'achterhuis', 'annex', 'mancuso', '15376', 'takeoff', 'valens', 'bopper', '8701', 'remind', 'topthree', 'facilitator', 'camps', 'gems', 'scenarist', 'wellpublicized', 'denialofservice', 'ddos', 'shahmukhi', 'gurumukhi', 'beit', 'hamikdash', 'hasheni', '516', 'seleo', 'portuguesa', 'ludden', 'splatstick', 'feebles', 'braindead', 'communists', '1738', 'isced', 'frontmen', 'xzibit', 'knocturn', 'rosalie', 'reassert', 'donaldson', 'asserting', 'socioeconomic', 'lovegrove', 'divinyls', 'dornhelm', 'octavianus', 'ceramic', 'plates', 'goldmedalist', 'miran', 'fogel', 'joni', 'lefkowitz', 'mohamed', 'p5', 'grants', 'unsc', 'hypothetical', 'sadistic', 'hooten', 'heraldic', 'escutcheon', 'surcoat', 'tabard', '1046', 'crore', 'vidyasagar', 'jovovichhawk', 'dessalines', 'retreated', 'plainedunord', 'hati', 'schnerr', 'cleary', 'hove', 'bergstein', 'orbach', 'technically', 'categorization', 'bantoid', 'refusal', 'comply', 'oppressor', 'caboose', 'eighthhighest', 'competitiveness', 'olympiastadion', 'neurosurgery', 'emory', '47000', 'appalachians', 'telenovelas', 'mam', 'tambin', 'havana', 'rudo', 'cursi', 'twentyfive', 'kaaba', '806858', '80page', 'caravan', 'outofthebox', 'bundled', 'v18', 'codecs', 'default', 'si', 'sargent', 'rocha', 'sorcerer', 'creeds', 'nicene', 'flavors', 'textures', 'coagulation', 'casein', 'outright', 'elwes', 'eliot', 'characterization', 'pacing', 'homages', 'expedited', 'drastically', 'outcome', 'geoff', 'voicework', 'anomalisa', 'domergue', 'morley', 'sarne', 'raquel', 'welch', 'badrinath', 'semidesert', 'kpi', 'wilfred', 'mott', 'benineseamerican', 'milano', 'treviso', 'pisa', 'bari', 'fourthround', 'potro', '1887december', 'fulfilled', 'shochiku', 'minnale', 'madras', 'dumm', 'spastic', 'diplegia', 'kannada', 'doli', 'saja', 'rakhna', 'priyadarshan', 'vaali', 'chiranjeevi', 'perazhagan', 'chandramukhi', 'ganga', 'mozhi', 'vayadhinile', 'pachaikili', 'muthucharam', 'kushi', 'thenali', 'thirumalai', 'snegithiye', 'kaaka', 'dinakaran', 'longerwavelength', 'fab', 'bottoms', 'blueprint', 'chm', 'alchemy', 'ist', 'chymist', 'alchimista', 'allcaps', 'eddirue', 'vivian', 'maude', 'boorman', 'exuberant', 'aimovi', 'slovenian', 'vr', 'headset', 'midsummer', 'allstars', 'dtp', 'genetically', 'singlegame', '169', '147', 'personally', 'lurie', 'rampton', 'behalf', 'limburg', 'hasselt', 'answered', 'advert', 'crunchie', 'macworld', 'createdcocreated', 'shakers', 'apollobuurt', 'exorcist', 'bnin', 'boards', 'trips', 'complementing', 'supershows', 'merkin', 'vineyards', 'winery', 'caduceus', 'cellars', 'meaney', 'chinlund', 'borrego', 'zuniga', 'rosson', 'unhabitat', '20122013', 'bithynia', 'pergamon', 'boudica', 'qualitative', 'mid1st', 'sqkm', 'reddishorange', 'underside', 'turbulent', 'heroturnedrobber', 'plissken', 'macready', 'kungfu', 'devolved', 'heminges', 'extremophiles', 'thrive', 'geochemically', 'addresses', 'ensuring', 'melancholy', 'werewolves', 'slaughtered', 'corvin', 'lycanvampire', 'safehouse', 'awaken', 'mulhern', 'someday', 'ballantine', 'makedonija', 'fakedocumentary', 'brethren', 'jehovah', 'witnesses', 'pallas', 'vesta', 'broca', 'sheherazade', 'lhermitte', 'desires', '1001', 'buds', 'adviser', 'satya', 'nadella', 'naturalization', 'naturalisation', 'humpback', 'sportsperson', 'sobers', 'actressmodels', 'refaeli', 'esti', 'ginzburg', 'shlomit', 'malka', 'baskets', 'blyton', 'geena', 'betelgeuse', 'netherworld', 'sylvia', '209331', '143', 'faculties', 'judgement', 'imperioli', 'sanctified', 'transcendental', 'ultimacy', '1895october', 'seaman', 'metrocolor', 'tewksbury', 'corie', 'ballou', 'barbarella', 'universitypreparatory', 'jawaani', 'deewani', 'filmsestablished', 'elective', 'mindy', 'grinder', 'cone', 'kiv', 'chemists', 'specialize', 'subdisciplines', 'gta', 'dailly', 'houser', 'benzies', 'garbut', 'engaging', 'idealistic', 'anniyan', 'kanthaswamy', 'dissociative', 'getups', 'crippled', 'kilograms', 'opted', 'charactercentric', 'magia', 'peligro', 'dnde', 'estn', 'ladrones', 'emulate', 'lecturing', 'tetrapod', 'fourlimbed', 'crocodilians', 'amphisbaenians', 'lizards', 'tuatara', 'trainability', 'obedience', 'searchandrescue', 'meltzer', 'gangaridai', '1045', 'puzzleplatform', 'valve', 'javier', 'bardem', 'stefano', 'santiago', 'magill', 'wincott', 'protoindoeuropeans', 'protoindoeuropean', 'makkena', 'wickes', 'pirandello', 'pinter', 'betrayal', 'forsythe', 'headlands', 'traits', 'exboyfriend', 'bruxelles', 'rgion', 'bruxellescapitale', 'hoofdstedelijk', 'gewest', 'reflections', 'aamir', 'vinod', 'ashwini', 'bhave', 'ramya', 'neelam', 'kothari', 'envisioned', 'imminent', 'manchuria', 'unconditional', 'cementing', 'srpska', 'brko', 'nigh', 'ismail', 'evert', 'generalinterest', '8848', 'musi', 'seder', 'evocative', 'jc', 'chasez', 'kirkpatrick', 'fatone', 'dit', 'mid2017', 'seizing', 'oleary', 'xtra', 'konnie', 'huq', 'itv2', 'willoughby', 'luckiest', 'faulkner', 'ratification', '275member', 'britishcanadianamerican', 'darryl', 'wolfhard', 'gaten', 'matarazzo', 'dyer', 'heaton', 'buono', 'schnapp', 'keery', 'vines', 'fairly', 'synth', 'synthesiser', 'generates', 'loudspeakers', 'headphones', 'protestant', 'comfortable', 'pyrmont', 'berhad', 'mas', 'kota', 'kinabalu', 'kuching', 'nofx', 'pennywise', 'ovw', 'thunderstruck', 'barkin', 'groundwater', '0001', 'descending', 'prowse', 'wordofmouth', 'scoop', 'deficit', 'marlens', 'laps', 'equalled', 'honourable', 'niuean', 'niu', '2400', '19009', 'pathway', 'chemin', 'rvoires', 'agel', '161', 'marinus', 'stonemason', 'rab', 'laptops', 'reuel', 'phonetic', 'transcription', 'illustration', 'longman', 'isbn', '0582053838', 'philologist', 'silmarillion', 'underlie', 'postdoctoral', 'kennedys', 'camelot', 'supercopa', 'duarte', 'thermocline', 'fathoms', 'antislavery', 'modernists', 'exwhigs', 'exfree', 'soilers', 'oneeyed', 'jacks', 'peel', 'olenna', 'tyrell', 'etruscans', 'selfcontained', 'raffles', 'erwin', 'nomenclature', 'capitalizing', 'donghae', '20102011', 'baek', 'dongsoo', '20132014', 'healer', 'crimeaction', 'surveys', 'digs', 'postmodernist', 'omnipotence', 'ermey', 'harewood', 'arliss', 'kevyn', 'oross', 'twodisc', 'ax', 'babado', 'flintstones', 'umarji', 'anuradha', 'debutant', 'maaya', 'chesave', 'comparisons', 'nagarjuna', 'geethanjali', 'astrology', 'dashon', 'caan', 'schaumburg', 'electromagnetic', 'teleprinter', 'disruption', 'jla', 'oneact', 'coronet', '5182', 'lowered', 'deeming', 'uncommercial', 'superstition', 'obscurantism', '224', 'looping', 'lewgoy', 'razzie', 'animax', 'mzizima', 'feminists', 'anvil', 'hoc', 'newsgathering', 'schizopolis', 'nonprofessional', 'thenactive', 'sasha', 'ernesto', 'guevara', 'phy', 'specifications', 'implementing', 'wlan', 'mhz', 'ghz', 'lan', 'firms', 'kellerman', 'braun', 'latins', 'phsis', 'nootropics', 'enhancers', 'enhancer', 'recreationally', 'aphrodisiac', 'euphoriant', 'asa', 'butterfield', 'comden', 'strouse', 'complement', 'comecon', 'g8', '63rd', 'comingout', 'drm', 'prototype', 'examines', 'kaliningrad', 'oblast', 'secretive', 'islamist', 'militant', 'iis', 'might', 'conspire', 'basing', 'rationale', 'allegation', 'forth', 'rentfree', 'fayetteville', 'doxycycline', 'cefuroxime', '33652424', 'reissued', 'confection', 'awake', 'gravure', 'bloys', 'greig', 'pleaded', 'harboring', 'fraud', 'fern', 'pixie', 'shakes', 'prankstars', 'prank', 'sequoia', 'pruritus', 'colorist', 'investigations', 'grouped', 'p2p', 'condominium', 'condominia', 'condominiums', 'agree', 'dominium', 'circumscribed', 'antivehicle', 'fakir', 'beds', 'bohemia', 'waldstein', 'yelena', 'vanya', '496', '9313', '3596', 'peoplekm2', '805', 'endeavours', 'nitesh', 'disguise', 'atypical', 'serinda', 'iwan', 'rheon', 'eme', 'ikwuakor', 'leung', 'woglom', 'moh', 'hospitals', 'asylums', 'a24', 'sober', 'multiplicity', 'herbie', 'robocop', 'sahul', 'australinea', 'meganesia', 'seram', 'presson', 'schoolboys', 'wikileaks', 'leaks', 'expenditures', 'informing', 'changeable', 'strands', 'deportivo', 'alavs', 'vicente', 'linwood', 'boomer', 'fujifilm', 'instax', 'sx70', 'spectra', '8x10', 'mab', 'penerbangan', 'deemphasize', 'omit', 'christy', 'ruggles', 'duopoly', 'directorproducers', 'reitz', 'hunsrck', 'rhineland', 'gosford', 'breach', 'stoploss', 'americanmexican', 'troublemaker', 'estranged', 'dargento', 'handheldstyle', 'gamepad', 'uchicago', 'hessington', 'alharazi', 'pappas', 'pontiff', 'temporal', 'braithwaite', 'braithwaites', 'ironhide', 'eeyore', 'metlife', 'rutherford', 'arrangement', 'accredited', 'sobel', 'placements', 'hales', 'rebounded', 'ibhof', 'annemarie', 'keshet', 'encino', 'solvers', 'lapd', 'mackey', 'grier', 'bebe', 'neuwirth', 'alyson', 'twelvechild', 'dowling', 'phalanxes', 'phalanges', 'pikes', 'sarissas', 'barbers', 'airfield', 'kalaeloa', 'lipsync', 'erick', 'dowdle', 'baths', 'blend', 'subterranean', 'slurry', 'exudate', 'linh', 'pham', 'regbo', 'rawson', 'thurber', 'polow', 'cytoplasm', 'membrane', 'biomolecules', 'nucleic', 'expeditionary', 'rustom', 'levine', 'blackbeard', 'mcshane', 'angelica', 'penlope', 'armando', 'brenton', 'thwaites', 'carina', 'smyth', 'multiuse', 'archetype', '311988469', 'towne', 'recommendation', 'heston', 'braa', 'vigorously', 'militarism', 'openness', 'arndt', 'philosophia', 'characterised', 'lustful', 'insecure', 'caesars', 'tesman', 'sevenweek', 'brosnahan', 'vibrant', 'massacres', 'decapitations', '16594', '2639', 'masquerade', 'bash', 'prat', 'llobregat', 'fiumicino', 'constituents', '10county', 'kern', 'obispo', 'saeed', 'jaffrey', 'merna', 'crocker', 'swoff', 'swofford', 'valid', 'fourinnings', 'simi', 'pervades', 'etching', 'repast', 'sighted', 'emaciated', 'bare', 'edmund', '382', 'sidetracked', 'firewall', '45700', '113', 'taxonomists', 'welliver', 'robbing', 'mattie', 'reuben', 'rooster', 'cogburn', 'engelman', 'werb', 'adroitly', 'articulate', 'cardsharp', 'chick', 'occultus', 'practicing', 'occultists', 'deeper', 'icct', 'boardroom', 'rnb', 'gidget', '74', 'bourke', 'oconnor', 'harivansh', 'shrivastava', 'beastprince', 'elia', 'schulberg', '7641', 'visayas', 'mindanao', 'defected', 'sounded', 'clermont', 'trv', 'djam', 'rudin', 'chatsworth', 'lac', 'xwing', 'filthy', 'emphasising', 'skate', 'uncover', 'bloodsport', 'lionheart', 'timecop', 'ral', 'juli', 'bison', 'ysd', 'greenwalt', 'skies', 'statethe', 'irelandalthough', 'docs', 'sheets', 'slides', 'gmailinbox', 'alloduohangouts', 'mapping', 'turnbyturn', 'notetaking', 'kickbutt', 'bornholm', 'offset', 'shemar', 'gubler', 'vangsness', 'geez', 'abugida', 'abjad', 'vowels', 'notated', 'diacritic', 'consonants', 'diacritics', 'introductory', 'elongated', 'embayment', 'anatolian', 'peninsulas', 'mainlands', 'ipod', 'smartwatch', 'walcott', 'textbased', 'muds', 'graphicsbased', 'mmorpgs', 'oda', 'slain', 'winick', 'darla', '102484', 'finnick', 'odair', 'traynor', 'eh', 'arin', 'ilejay', 'safest', 'nonalbum', 'achs', 'canids', 'fielders', 'integrity', 'essentially', 'framebyframe', 'grooming', 'decomposing', 'putrefaction', 'princedom', 'monarchical', 'feudatory', '988', '1278', 'cornwall', 'rothesay', 'dribblers', 'feints', 'twofootedness', 'goalscoring', 'defenders', 'hedges', 'castrodad', 'pernell', 'cbn', 'televangelist', 'familyfocused', 'ign', '25000000', 'aics', 'citycommune', 'wikia', 'peerreviewed', 'nupedia', 'sanger', 'schwartzberg', 'welldeveloped', 'malleability', 'ductility', 'conductivity', 'connectors', 'computerized', 'donalbain', 'wellplotted', 'regicide', 'grab', 'trusted', 'pockets', 'foundering', 'knipfing', '26000', 'lightyears', 'canaanitesphoenicians', '1550', '76000', 'displaced', 'draven', 'concealment', 'crypsis', 'disguising', 'mimesis', 'disbandment', 'wiping', 'scaled', 'firespewing', 'serpentine', 'reptilian', 'storch', 'whalley', 'rotem', 'dioguardi', 'dewey', 'chasing', 'pavements', 'handset', 'alliancea', 'consortium', 'resolve', 'boiled', 'relapse', 'webhosting', 'draganddrop', 'cartoonish', 'enjoyable', 'institutes', '18month', '100episode', 'bigamist', 'phrases', 'marseillaise', 'libert', 'galit', 'fraternit', 'upheavals', 'yearnumbering', 'swedishamerican', 'shree', 'amma', 'yanger', 'ayyapan', 'caradoc', 'nanak', 'kartarpur', '1520', 'panth', 'gdr', 'literal', 'charmont', 'bondagediscipline', 'dominancesubmission', 'sadismmasochism', 'bdsm', '5196', '6789', '2815', '3222', 'lobbying', 'ethnocultural', 'mutually', 'intelligible', 'blisters', 'daria', 'stack', 'belafonte', 'ioan', 'gruffudd', 'alba', 'mcmahon', 'ascetics', 'withdraw', 'concentrating', 'aljall', 'merchants', 'aristocrats', 'gwenhwyfar', 'gwenivar', 'guenevere', 'gwenevere', 'arthurian', 'renown', 'autechre', 'aphex', 'farnsworth', 'gallienne', 'metallurgy', 'infancy', 'arousal', 'gasolina', 'reggaeton', 'fielding', 'yann', 'martel', 'shipwreck', 'lifeboat', 'ramifications', 'liberators', 'principate', 'straughan', 'smiley', 'ciarn', 'hinds', 'claver', 'reanimated', 'virally', 'desanto', 'witwicky', 'rereleased', 'omission', '1247', 'arrives', 'repressed', 'lansquenetsoustannes', 'opens', 'chocolaterie', 'unflinching', 'persianate', 'supersoldier', 'frail', 'enhanced', 'perfection', 'serum', 'patriotic', 'fourissue', '426429', '357', 'nightwing', 'revolutionized', 'moviemaking', 'vivid', 'surfers', 'volcanologists', 'neoliberalism', '485', 'mccomb', 'kentwood', 'integrates', 'clapping', 'shortrunning', 'brackins', 'codified', 'selfdefense', 'stringer', 'adaptions', 'swingin', 'jordana', 'wimpy', 'disastrous', 'religiously', 'lucius', 'frozone', 'windu', 'afro', 'tenpenny', 'malpaso', 'visiting', 'earthend', '18467', '571', 'stuhlbarg', 'americanized', 'sixthsmallest', '468', '85000', 'christgau', 'alexandrian', 'koin', 'supraregional', 'troupeturnedrecording', 'panthon', 'flattering', 'carmela', 'map', 'macmurray', 'batter', '366', '367', 'retrieve', '4189', '4191', '2245', '2246', '3035', '11429', '11434', '892', '728', 'marija', 'lani', 'yelichoconnor', 'toshir', 'ishid', 'koreyoshi', 'kurahara', 'tatsuo', 'nogami', 'susumu', 'saji', 'foraging', 'amrita', 'shenaz', 'treasurywala', 'supplemental', 'hempsteadwright', 'wadham', 'errors', 'steadily', 'ringgold', 'wilmer', 'onequarter', 'nepali', 'xpand', '4d', 'fxx', '1401', 'backfield', 'quoted', 'verbal', 'circa', '1008', 'tamar', 'peekskill', 'archduke', 'ferdinand', 'gavrilo', 'princip', 'sarajevo', 'frechette', 'menominee', 'mal', 'borgia', 'esther', 'overthrown', 'donating', 'paparazzi', 'sixthgrade', 'grimhilde', 'ignatowski', 'zebulon', 'retreating', 'lectins', 'moieties', 'oxnard', 'centro', 'diy', '924', 'gilman', 'zwick', 'reliable', 'accipitridae', 'genera', 'annuities', 'clintongore', 'quayle', 'linuslinux', 'publique', 'congolese', 'consequence', 'shelby', 'partridge', 'emmitt', 'subscriptionbased', 'banate', 'mid15th', 'scouting', 'otherworldly', 'infiltrate', '12243', '587', '5412', 'scanland', 'rmi', 'petronilla', 'radegund', 'lisieux', 'hutch', 'spevack', 'mccormick', 'lynda', 'aila', 'zanti', 'mccubbing', 'definitive', 'mcnulty', 'appropriate', 'discooriented', '198082', 'marston', 'flvius', 'vespasinus', 'findlay', 'campioni', 'ditalia', 'travelogue', 'hrs', 'rodas', 'germination', 'tiernan', 'shaffir', 'pell', 'coassistant', 'bysshe', 'myriam', 'cyr', 'clairmont', 'stepsister', 'spall', 'polidori', '4dx', 'septuagint', 'prokaryotic', 'microorganisms', 'renly', 'gethin', 'discriminatory', 'mackinnon', 'strathairn', 'excised', 'mauritian', 'shaletype', 'sedimentary', 'metamorphism', 'midtown', 'disneyland', 'ramin', 'djawadi', 'leach', 'winninger', 'kibbee', 'preisser', 'jaynes', 'buchan', 'dudgeon', 'claudie', 'blakley', 'balthasar', 'steinitz', 'canadaunited', 'ordre', 'decorations', 'mistreatment', 'expectation', 'universit', 'laval', 'rseau', 'dmographie', 'lagence', 'universitaire', '2025', '2050', 'auditory', 'artworks', 'imaginative', 'euescreen', 'pinewood', 'donors', '3372540239', 'oligarch', 'parlance', 'outranks', 'pran', 'schanberg', 'haing', 'ngor', 'rockoff', 'cerone', 'viennese', 'classicism', 'crabb', 'mini', 'dinotopia', 'fanvoted', 'acm', 'internetvoting', 'newartist', 'chineseamerican', 'guccio', '344', '0712', '9391', '1084', 'ebenezer', 'miser', 'homepage', 'rg', 'gangsta', 'trippin', '319', 'superpowered', 'andalucia', 'newell', 'naoko', 'takeuchi', 'nordics', 'norden', 'hinterland', 'whalebone', 'infraorder', 'cetacea', 'dacre', 'unbearable', 'lightness', 'transmissible', 'casual', 'secretions', 'fallin', 'hines', 'pemberton', 'pebdani', 'zorn', 'eastbound', 'barron', 'guiney', 'explains', 'atticus', 'finch', 'heroism', 'woolf', 'giannis', 'anastasakis', 'santi', 'santogold', '112827', '017', 'question', 'momma', 'ruthless', 'shorty', 'lorax', 'vail', 'crops', 'cheek', 'speechgenerating', 'celt', 'odea', 'cranes', 'singleelimination', 'roundrobin', 'kleiser', 'newtonjohn', 'sandy', 'hopr', 'boriented', 'vivah', 'betamax', 'babitsky', 'fax', 'kahn', 'bullet', 'coveted', 'xlv', 'expressly', 'unequal', 'voter', 'accommodations', '522000', 'taoisigh', 'taoiseach', 'appoints', 'fasttracked', 'wncl', 'odysseus', 'epistemology', 'ontology', 'alistair', 'cees', 'overeem', 'promptly', 'blitzkrieg', 'dadle', 'chapitres', 'adle', 'abdellatif', 'kechiche', 'exarchopoulos', 'seydoux', 'sportsrelated', 'vertically', 'petrograd', 'obligate', 'hypercarnivores', 'folds', 'screaming', 'sindarin', 'quenya', 'anduin', 'acari', 'acarina', 'arachnida', 'var', 'glenwood', 'gallo', 'resnn', 'noneu', 'hl', 'monmouth', 'pseudohistorical', 'historia', 'regum', 'britanniae', '1136', 'moneysense', 'gwenn', 'beymer', 'moreno', 'chakiris', 'fapp', 'asc', 'projections', '581', 'remembering', 'underweight', 'codirection', 'unkrich', '60year', 'consummate', 'fritz', '78866', 'sidley', 'megatall', 'britishamericanswedish', 'end2001', 'overthetop', 'olympos', 'oros', 'docile', 'tetrodotoxin', 'neurotoxin', 'pyramid', 'guernsey', 'autoerotic', 'alphonse', 'astrological', 'hicks', 'rescreened', '430', 'celebration', 'pre1920', 'deadball', 'cans', 'ecosoc', 'trusteeship', 'synecdoche', 'plutarch', 'heavensbee', 'tumbos', 'repository', 'panhandle', 'insatiable', 'manifestation', 'nuns', 'vinny', 'worndown', 'futility', 'inhumanity', 'falk', 'midshipmen', 'howie', 'littrell', '17075200', 'oneeighth', '144', 'tradenamed', 'mildronate', 'limitedmarket', 'ivars', 'kalvi', 'grindeks', 'torquay', 'zhi', 'gung', 'cantonese', 'wuxia', 'fusco', 'demibiographical', '1s', 'pedigree', 'meritorious', 'ruddock', 'pulled', 'thenundisputed', 'rib', 'daman', 'diu', 'dadra', 'nagar', 'haveli', '1028', 'bharti', 'sheetal', 'polytheism', 'polytheismos', '19982000', 'predating', 'antiestablishment', 'hotbeds', 'countercultural', 'boggs', 'affiliates', '5400', 'postwar', 'dislocation', 'futuresexlovesounds', 'sexyback', 'lustrum', 'scre4m', 'ceasing', 'thirdplace', 'freeborn', 'whereupon', 'disengaged', 'infant', 'majoritymuslim', 'tempchin', 'strandlund', 'szymczyk', 'threepeat', 'miguel', 'zavala', 'guzmn', 'rajskub', 'choderlos', 'laclos', 'mostviewed', 'combustible', 'ignited', 'witnessing', 'swore', 'oath', 'tempered', 'mayberry', 'rfd', '2148', 'utc', 'assessment', 'spheres', 'constructively', 'joo', 'prncipe', 'perfeito', '14771481', 'choreographers', 'pellam', 'oorelithe', 'kalla', 'malla', 'sulla', 'pudhe', 'dhoka', 'aahey', 'kelor', 'kirti', 'automator', 'hydropower', 'statesbased', 'tv3', 'superchannel3', 'yorin', 'etv', 'nrk', 'b92', 'avala', 'muz', 'honorably', 'jammember', 'mccready', 'seattlebased', 'fretless', 'twelvestring', 'outlaws', 'jodi', 'befikre', 'yrf', 'forayed', 'offbeat', 'kabul', 'typecasting', 'mediashy', 'dysthymic', 'threedecade', 'directorate', 'equitable', 'rigid', 'nse', 'bse', 'dulhan', '1567', 'alleyn', 'tamburlaine', 'burbagehe', 'quite', 'housekeeping', 'playhouses', 'sharer', '71', 'fractures', 'formations', 'excepting', 'recharged', 'seeps', 'oases', 'vapour', 'condensed', 'reducing', 'ssri', 'offlabel', 'propagate', 'mulligan', 'grevioux', 'lycanthrope', 'willamette', 'midlate', '12thcentury', 'culhwch', 'olwen', 'dibb', 'classics', 'malayan', 'saf', 'hodgenville', 'galahad', 'elfont', 'notredame', '1831', 'loverboy', 'haerim', 'shinto', 'reorganize', 'faura', 'niv', 'fichman', 'gulln', 'saramago', 'biochemistry', 'molecules', 'buildingblock', 'lowgc', 'acidtolerant', 'nonsporulating', 'firmus', 'cutis', 'classify', 'matched', '234', '591', 'nicolette', 'hesiod', 'euryphaessa', 'hymn', 'titn', 'titnes', 'titanesses', 'titanides', 'titandes', 'radiustwc', 'allegorical', 'polemical', 'sheathing', 'allwood', 'asphalt', 'sheathed', 'vinylsided', 'leisure', 'hobbyists', 'modal', 'falsetto', 'liltu', 'mesopotamian', 'cuneiform', 'sumer', 'akkadian', 'assyria', 'babylonia', 'brachyura', 'thorax', 'cuyahoga', 'hokkaido', 'okinawa', 'mills', 'glendon', 'swarthout', 'sluggers', 'tapping', 'acuff', 'opry', 'countrymusic', 'hay', 'barn', 'wsm', 'optional', 'baccalaureate', 'specialfocus', 'tufts', 'brisbane', '1884december', 'waning', 'fundamentalism', 'darwinism', 'scopes', 'lean', 'dottor', 'zivago', 'britishitalian', 'rattlesnakes', 'redcliffe', '530300', 'crompton', 'lordship', 'revested', 'andal', 'resund', 'italianled', 'jimnez', 'pinault', 'gomorrah', 'becker', 'prussiandominated', 'nicklaus', 'snead', 'cocked', 'vicious', 'brides', 'kweens', 'sixx', 'ghostley', 'travers', 'goff', 'ernst', '455', 'dohyun', 'rockfolk', 'mda', 'telethon', 'dystrophy', 'babu', 'nassar', 'pawan', 'parvati', 'ravi', 'teja', 'phata', 'nikhla', 'tera', 'jagannadh', 'suggestion', 'trevorrow', 'speedman', 'policegiri', 'trisha', 'ips', 'krishnan', 'narasimha', 'balakrishna', 'asin', 'barood', 'ayya', 'darshan', 'rakshitha', 'prachi', 'desai', 'cleo', 'larter', 'midtempo', 'melding', 'bca', 'assembles', 'productrelated', 'lucio', '1741', 'virtuoso', 'cleric', 'ospedale', 'piet', '1703', '1723', '1740', 'concertos', 'choral', 'frsl', 'marquise', 'vicomte', 'valmont', 'humiliation', 'degradation', 'enjoying', 'bmovies', 'meeow', 'duckman', 'boob', 'rosalind', 'celia', 'jaques', 'oyetokunbo', 'elsey', '1206', 'passengerkilometers', '2776', 'asmweek', '472522', 'sixtholdest', 'fantme', 'lopra', 'chaney', 'leroux', 'hackford', 'nakamura', 'shid', 'drummond', 'computergenerated', 'fukushima', 'cg', 'ktar', 'yoshida', 'ricci', 'scissor', '1906march', 'austrianborn', 'jewishamerican', 'selfcentered', 'pub', 'mcelhenney', 'howerton', 'herz', 'firma', 'firstlook', 'sufficiently', 'recites', 'grouping', 'jokes', 'oneliners', 'kmida', 'inducing', 'roseland', 'saura', 'cra', 'cuervos', 'elisa', 'cumple', 'cien', 'aos', 'lmites', 'cinematographic', 'ipt', 'reverse', 'korsh', 'sebert', 'tik', 'tok', 'glacial', 'indicators', 'accumulation', 'ablation', 'sublimation', 'highlatitude', '1917june', 'exert', 'dissent', 'theocracy', 'jurists', 'sleyman', 'kanun', 'muhteem', '1566', 'kanuni', 'lawgiver', '16thcentury', 'haussmann', '1902october', 'intoxicated', 'regal', 'chambre', 'communes', 'departing', 'bangtan', 'sevenmember', 'sweat', 'tears', 'darjeeling', 'kalimpong', 'sikkim', 'nagaland', 'phedape', 'yakthungpan', 'druk', 'gyal', 'khap', 'limbuyakthung', 'yakthung', 'aslan', 'treader', 'shmucks', 'fashioned', 'orgy', 'joshy', 'baena', 'klausner', 'sherdog', 'adlard', 'kirkman', 'profanity', 'germain', 'orchard', 'silvermist', 'glenda', 'jennie', 'linden', 'pinball', 'starstudded', 'annmargret', 'gamecube', 'speechless', 'meow', 'fuzzyface', 'atlantabased', 'antwan', 'hussey', 'kongborn', 'jann', 'duffield', 'goldsman', 'hoot', 'dimple', 'kapadia', 'saagar', 'vishwanath', 'anees', 'bazmee', 'recognise', 'grrrl', 'zine', 'toei', 'bruckner', 'dania', 'dree', 'lomenda', 'mumba', 'rocco', 'dispirito', 'daddario', 'cudmore', 'bewley', 'larissa', 'lorenza', 'izzo', 'dewantatum', 'zuckerman', 'calvano', 'taryn', 'rottman', 'hapka', 'quddus', 'tara', 'archibald', 'salvatore', 'chastity', 'xy', '18681971', 'kiteboarder', '19601961', 'wingard', 'stateslist', 'frenchcanadian', 'malle', 'sid', 'hammerback', 'houx', 'desperately', 'insas', 'maedeli', 'brche', 'secondplaced', 'bb', 'lancme', 'atreides', 'hoosiers', 'babaloo', 'dody', 'cm', 'hooch', 'sleepless', 'forrest', 'gump', 'sharbino', 'flashbacks', 'loaf', '1614', 'offshore', 'reinsurance', 'vavrincov', '215', 'inborn', 'goodloe', 'bellin', 'festinger', 'hone', 'essanay', 'executiveproduced', 'froud', 'itc', 'embarks', 'crosscountry', '1450', 'camilla', 'milnes', 'beryl', 'archers', 'adventurethriller', 'mcburney', 'airtransport', 'parischarles', 'gaulle', 'heathrow', '638', 'parisorly', 'tiff', 'moench', 'swenson', 'madefortelevision', 'crimedrama', 'bleckner', 'dolier', 'lunar', 'rager', 'latlantique', 'otan', 'curtin', 'portraits', 'blakesley', 'zellman', 'bendinger', 'paruvakatru', 'monsoon', 'bottrell', 'rashaun', 'annabeth', 'gish', 'wheelchairusing', 'alipore', 'atas', 'natas', 'iatas', 'shubert', 'sagittarius', 'toxotes', '240', '270th', 'forbade', 'tushingham', 'trapper', 'idle', 'adventureromance', 'osborn', 'hayers', 'mukhtar', 'bedouin', 'esercito', 'rodolfo', 'graziani', 'caron', 'corre', 'mcneice', 'frenais', 'pollard', 'preiss', 'donohoe', 'gunnis', 'semifictionalized', 'edutainment', '90336', 'tetrapods', 'passerines', 'perching', 'bevan', 'fellner', 'doran', 'studiocanal', 'stalker', 'supplanted', 'lothario', 'veterinarian', 'astin', 'lusia', 'strus', 'rodere', 'incisors', 'suborders', 'fruiteating', 'megabats', 'echolocating', 'microbats', 'huggins', 'strannix', 'rancher', 'burials', 'melquiades', 'mcclusky', 'sreenu', 'allu', 'aravind', 'geetha', 'aadhi', 'pinisetty', 'rakul', 'preet', 'tresa', 'srikanth', 'caped', 'crusaders', 'ashburn', 'mullins', 'sensu', 'stricto', 'ol', 'arpitan', 'icons', 'selznick', 'thalberg', 'heerman', 'alcott', 'lapine', 'sondheim', 'amell', 'naya', 'becca', 'benoist', 'cohenchang', 'puckerman', 'demoted', 'cherish', 'twocamera', 'cybill', 'grounded', 'synthpop', 'faster', 'strand', 'commissioner', 'bebop', 'armored', 'trooper', 'votoms', 'yoroiden', 'troopers', 'escaflowne', 'myhime', 'myotome', 'ange', 'accel', 'inuyasha', 'yakitate', 'seinen', 'masamune', 'shirow', 'masked', 'nagoya', 'semiannually', 'shogakukan', 'militaristic', 'japanesedisseminated', 'penning', 'tokuma', 'shoten', 'shinichir', 'keiko', 'nobumoto', 'toshihiro', 'kawamoto', 'kimitoshi', 'yamane', 'kanno', 'mehoz', 'eifa', 'caso', 'smilovic', 'lawson', 'wore', 'cazy', 'charley', 'gondorff', 'maurer', '193527', 'soni', 'brolly', 'mmp', 'ewell', 'negulesco', 'nunnally', 'hairstyling', 'eyelids', 'eyebrows', 'oils', 'waxes', 'emollients', 'complexion', 'skintone', 'cleanser', 'pollutants', 'formulas', 'preservatives', 'viscous', 'cleaning', 'blush', 'blusher', 'cheekbones', 'dragonfly', 'mccarten', 'exhusband', 'jeantienne', 'dominique', 'esquirol', 'douard', 'sguin', '1844', 'usvi', 'cuisines', 'andrajos', 'ciambotta', 'pis', 'eez', 'ikhthyes', 'otro', 'spanishbritish', 'coixet', 'tva', 'levity', 'gustavo', 'fixer', 'smoothtalking', 'betsy', 'norris', 'britcom', 'bads', 'nettelbeck', 'hardedged', 'blackadder', 'instalments', 'dogsbody', 'baldrick', 'simenon', 'machin', 'hartnell', 'badel', '923', '2724900', 'zella', 'standoff', 'dreamers', 'stoessel', 'jorge', 'r5', 'nocturnals', 'joywave', 'ecuatorial', 'guine', 'quatoriale', 'guin', '28000', 'congobrazzaville', 'miniature', 'gabonese', 'gabonaise', 'findie', 'antz', 'interpunct', 'reardon', 'logicians', 'malliswari', 'kyun', 'namastey', 'mitsukurina', 'owstoni', 'carcharodon', 'carcharias', 'pointer', 'mackerel', 'lamna', 'lamnidae', 'conceding', 'harkness', 'wasalu', '1350', 'paypal', 'stoppelman', 'crowdsourced', 'mashing', 'dubose', 'heyward', 'bored', 'mni', 'alcindor', 'nbl', 'onion', 'vocalistaccordionist', 'persi', 'bassistguitarist', 'rani', 'byu', 'twentythree', 'grandchildren', '1785', 'obs', 'teleplays', 'mclarenhonda', 'oviedo', 'asturias', 'karting', 'asturian', 'uviu', 'adrift', 'sorceryadventure', 'mako', 'iwamatsu', 'akiro', 'vamp', 'seceded', '1823', 'indigo', 'ail', 'export', 'ecotourism', 'differentiates', 'aitcheson', 'phos', 'eduard', 'lewinski', 'druglord', 'bogo', 'shere', 'fluke', 'cousins', 'kingmaker', 'sundstrm', 'dillo', '1964march', 'affectionately', 'namely', 'bellisario', 'belisarius', 'valkyries', 'troyer', 'artisans', 'csks', 'mrton', 'bikes', 'epworth', 'limestone', '499', '1937march', 'earthy', 'realist', 'elwin', 'lyman', 'nome', 'peopleplaces', 'yifan', 'regner', 'bellas', 'trish', 'ad65', 'annaeus', 'stoic', 'carolyn', '2100', 'endorheic', 'outflows', 'tr', 'turkmenia', 'waitrose', 'ocado', 'anspaugh', 'swingers', 'liman', 'livingston', 'attaining', 'garber', 'beitner', 'thulsa', 'additions', 'strengthbased', 'throws', 'acrobatic', 'maneuvers', '747', 'rotorcraft', 'bits', '238m', 'eckhardt', 'abortion', 'bryn', 'mawr', 'villanova', 'radnor', 'merion', 'atx', 'disgust', 'startle', 'narrower', 'foothills', 'pennines', 'wakefield', 'emir', 'wool', 'redeveloped', 'siclia', 'regione', 'siciliana', 'evacuation', 'grgory', 'cortzar', 'nx37602', 'airlift', 'wingspan', 'xxv', 'sce', 'mitsuhisa', 'ishikawa', 'musashino', 'faraldo', 'sevenpart', 'pictureseight', 'rooks', 'ltdbaby', 'cowcinemanx', 'penthouse', 'ugarte', 'revolve', 'pending', '17year', 'embezzlement', 'corruptly', 'allende', 'tapia', 'medically', 'schlosser', 'odim', 'demonic', 'wreaks', 'deschain', 'linchpin', 'ahl', 'parlement', 'nikkei', 'notley', 'ungava', 'boney', 'shourie', 'habib', 'faisal', 'ishaqzaade', 'oneshot', 'barr', '12issue', 'maxiseries', 'forays', 'ukbased', 'selfpenned', 'niskayuna', 'blcker', 'strt', 'vegetals', 'cereals', 'wheat', 'maize', 'millet', 'sorghum', 'starchy', 'tubers', 'potatoes', 'cassava', 'yams', 'taro', 'exporters', 'minimally', 'invasive', 'endovascular', 'graft', 'cabg', 'cabbage', 'percutaneous', 'transluminal', 'pta', 'arterial', 'intermittent', 'claudication', 'improves', 'outcomes', 'addon', 'wikis', 'gamepedia', 'voip', 'thieblot', 'ksp', 'telara', 'freetoplay', 'trion', 'relogic', 'navarone', 'cronin', 'yearling', 'bryer', 'aodhn', 'dorrian', 'kurstin', 'apu', 'ritwik', 'ghatakinspired', 'meghe', 'dhaka', 'kcvo', 'hon', 'knots', 'monahan', 'minnesotaontario', 'michiganontario', 'traverses', '2700', 'waterways', 'eastward', 'lakessaint', 'photographing', 'ngo', 'loyalists', 'elude', 'thirtyfive', 'kraus', 'posse', 'reissue', 'macola', 'yella', 'wray', 'hoban', 'wash', 'charactersalpha', 'mastrantonio', 'dubstepinfluenced', 'shiites', 'freund', 'hippocratic', 'paragon', '1911january', '46thlargest', '410939', 'polymer', 'sealants', 'brunker', 'barlen', 'sofa', 'vergara', 'winterspringpro', 'unusuals', 'hokage', 'ranchers', 'prospector', 'schieffelin', 'lite', 'lyce', 'saintlouis', 'gonzague', 'educate', 'elevate', 'nonbusiness', 'ethical', 'lra', 'kony', '969', '958', 'zwittau', 'pardubick', 'kraj', 'pardubicki', 'moravia', 'ibrd', 'grettel', 'grethel', 'folkloric', 'fairies', 'goblins', 'griffins', 'unicorns', 'enchantments', 'bobb', 'formidable', 'forwards', 'pf', 'doktor', 'pasternak', 'andreievich', 'alecia', 'beth', 'texanmexican', 'kerner', 'hominem', 'basu', 'lenora', 'crichlow', 'wellregarded', 'hannabarberaproduced', 'dumberer', 'hummingbird', 'denby', 'harman', 'ising', 'maximise', 'perceptually', 'dysfunction', 'kindred', '1928march', 'conspirators', 'reconvened', 'tremonti', 'blackbird', 'disbanding', 'epistolary', 'whit', '1677', 'sephardiportuguese', 'harmenszoon', 'draughtsman', 'rudolf', 'heer', 'kriegsmarine', 'generaloberst', '169000', 'explaining', 'laymen', 'sportsoriented', 'twelvepart', 'expeditions', 'sidebottom', 'varley', 'cohn', 'pampered', 'thumb', 'roguish', 'laughton', 'nordhoff', 'havilland', 'terrell', 'tung', 'serle', 'annabella', 'devoe', 'tyree', 'outta', 'mol', 'mostwidely', 'lusophone', 'intelligibility', 'dalby', 'ladino', 'ladinisch', 'rhaetoromance', 'dolomite', 'tyrol', 'trentino', 'belluno', 'pluralization', 'weakening', 'problematic', 'lexical', 'spezia', 'rimini', 'deutsch', 'gascony', 'dpartements', 'pyrnesatlantiques', 'hautespyrnes', 'landes', 'gers', 'gironde', 'lotetgaronne', 'hautegaronne', 'arige', 'aran', 'morphosyntax', 'mazin', 'kospiah', 'fasano', 'liebesman', 'althea', 'leasure', 'formative', 'iles', 'bebington', 'cheshire', '1832', 'subscribing', 'attested', 'baldr', 'slippy', 'slipper', 'ravenous', 'greedy', 'giselle', 'andalasia', 'unorthodox', '201314', '201718', 'thirtyone', 'kniglichpreuische', 'akademie', 'wissenschaften', 'knste', 'hiroshi', 'sakurazaka', 'tagline', 'chicagoland', 'centreright', 'forza', 'mirabilis', 'polytechnic', 'eidgenssische', 'technische', 'hochschule', 'eth', 'lindsayabaire', 'kapner', 'deltas', 'careertransforming', 'rossitano', 'waterline', 'vlog', 'metadata', 'barriers', 'bassline', 'repetition', 'hiccups', 'dimartino', 'konietzko', 'eisen', 'twelveyearold', 'profoundly', 'alludes', 'aud', 'congregants', 'conscience', '1628', '1691', 'reorganized', 'spanking', 'flirting', 'amethyst', 'georgiabased', 'geter', 'dekker', 'surrounds', 'akhmadovich', 'qadar', 'amatkhant', 'preevo', 'concentrations', 'exodus', 'arielle', 'kebbel', 'manipulate', 'aws', 'iot', 'actuators', 'connectivity', 'cpu', 'gpu', 'localram', 'harddiskssd', 'preloaded', 'servers', 'databases', 'crm', 'elastic', 'ec2', 's3', 'disposal', '247365', 'paradiseinterscope', 'minogue', 'americano', 'factored', 'didio', 'copublisher', 'rebirth', 'yardspergame', 'bwaa', 'fivedivision', 'sapphires', 'calvary', 'linehan', 'atalla', 'ayoade', 'moone', 'trenneman', 'denselypopulated', '035', '056', 'scotts', 'roquebrunecapmartin', 'blends', 'melrose', 'lyndsey', 'mcelroy', 'punchline', 'usersubmitted', 'judging', 'answers', 'equivalently', 'ratios', 'fractions', 'integers', 'mid18th', 'thora', 'hird', 'imrie', 'weasley', 'extend', 'sportsracing', 'litre', 'arnage', 'bentayga', 'mulsanne', 'sidescrolling', 'samus', 'rochon', 'millworth', 'illegally', 'fiddler', 'marcel', 'nkotb', 'manasseri', 'jadwiga', 'guts', 'octane', 'narc', 'reddington', 'eluding', 'comprehends', 'ir', 'interdisciplinary', 'coe', 'ilo', 'polities', 'igos', 'ins', 'ngos', 'mncs', 'worldsystems', 'warmth', 'twelveissue', 'confronting', 'seems', 'rotated', 'kizzy', 'cappuccino', 'spe', 'smashed', 'jez', 'johnhenry', 'butterworth', 'seolgungnyeolcha', 'koreanczech', 'transperceneige', 'lob', 'legrand', 'rochette', 'sthetics', 'esthetics', 'aisthtik', 'sancti', 'andreae', 'postnominals', 'fife', 'valverde', 'galle', 'bawcutt', 'stacpoole', 'unwin', 'pronunciations', 'nida', 'kensington', 'rehearsal', 'unless', 'threatening', 'friedkin', 'rastafari', 'rastafarianism', 'conversion', 'ironweed', 'osage', 'forks', '104yearold', 'retelling', 'vampireromance', 'seventeenyearold', 'marries', 'chooses', 'mieke', 'dobbels', 'actresssinger', 'veerle', 'baetens', 'romain', 'balzac', 'pre', 'goriot', 'sva', 'bangor', 'championnat', '195859', 'kanwar', 'guddu', 'dhanoa', 'lalit', 'rishi', 'solaris', 'earlyestablished', '4146', 'gilby', 'navstar', 'spacebased', 'radionavigation', 'storeapple', 'thirdparty', 'multiband', 'dualband', 'quadband', 'pentaband', 'jabir', 'robeo', 'eleazer', 'perez', 'orientates', 'rockier', 'savan', 'kotecha', 'yacoub', 'tones', 'lanscilo', 'tramar', 'lacel', 'dillard', 'rayana', 'boynton', 'colman', 'manuel', 'garciarulfo', 'marwan', 'kenzari', 'odom', 'sergei', 'polunin', 'serhiy', 'volodymyrovych', 'garcarulfo', 'mensinger', 'catman', 'frehley', 'rossana', 'runaways', 'furnier', 'kulick', 'corabi', 'ratt', 'voodoo', 'gillen', '509th', 'composite', 'warfield', 'vente', 'louisiane', '828000', '214', 'clandestinely', 'chgoku', 'propellerdriven', 'uee', 'seojoon', 'bogum', 'jihoon', 'seowon', 'laboum', 'solbin', 'kwak', 'taegeun', 'bae', 'joohyun', 'yonggyu', 'preteen', 'fantasticks', 'benh', 'zeitlin', 'alibar', 'coscored', '1648', 'pitted', 'rump', 'parliamentarian', 'acidity', 'sulphur', 'miniver', 'advise', 'topranking', 'hucksters', 'moneymaker', 'harlean', 'reckless', 'bombshell', 'threeissue', '285', 'reznik', 'micky', 'charlene', 'eklundward', 'havers', 'illeana', 'kurtwood', 'hedaya', 'folland', '206', 'uranian', 'tilted', 'lockwood', 'curry', 'dietes', 'iridioides', 'iriswild', 'gena', 'rowlands', 'sandoval', 'tergesen', 'sylvan', 'mortimer', 'palatine', 'bayern', 'dd', 'dnd', 'tsr', 'codeveloping', 'kaye', 'selfpublish', 'paley', 'bisset', 'frederik', 'staggered', 'scepticism', '101st', 'interrupts', 'hayward', 'infatuation', 'brothelcasino', 'disobedience', 'inputoutput', 'assistantenabled', 'liza', 'hanala', 'clapp', 'lode', 'usms', 'doorman', 'nightclubs', 'stripclubs', 'wager', 'stakes', '30second', 'irreparably', 'refereed', 'fitzsimmonssharkey', 'foul', 'fitzsimmons', 'sporades', 'nties', 'spordes', 'correspond', 'samos', 'ikaria', 'mozart', 'concerto', 'honoree', 'cracklin', 'rosie', 'longfellow', 'serenade', 'desiree', 'yesterday', 'semiretiring', 'heathsladen', 'citigroup', 'prioritycapitolemi', 'clef', 'anonymously', 'newsweek', 'maura', 'hagman', 'laundering', 'complicity', 'flavius', 'petrus', 'sabbatius', 'iustinianus', 'flvios', 'ptros', 'sabbtios', 'ioustinians', '482', 'revive', 'greatness', 'reconquer', 'historiography', 'remixer', 'surinameseborn', 'dodgson', 'png', 'niugini', 'hiri', 'motu', 'gini', 'arafura', 'bookmemoir', 'karel', 'reisz', 'britishfrenchirish', 'kusturica', 'nutsa', 'kukhianidze', 'barbra', 'streisand', 'affliction', 'regiment', 'traders', 'persians', 'permitting', 'numerously', 'crimefighting', 'morpurgo', 'irvine', 'arestrup', 'kross', 'mullan', 'cassio', '17thcentury', 'delft', 'meisje', 'parel', 'shanks', 'helm', 'photoplay', 'phi', 'raincoast', 'williamspaisley', 'yeti', 'starcraft', 'hearthstone', 'hack', 'crawler', 'reaper', '745000', 'maarten', 'tristar', 'madnah', 'hejaz', 'madinah', 'firmware', 'http', 'generalist', 'planted', 'nurtured', '4500', 'wrongfully', 'leondis', 'gvrd', 'rcmp', 'grc', 'gendarmerie', 'mounties', 'bcas', 'nena', 'semiticists', 'urmia', 'mosul', 'vernaculars', 'evita', 'ashman', 'lloydwebber', 'impresario', 'bindon', 'bror', 'cocomposer', 'kristina', 'frn', 'duvemla', 'gruppo', 'collectives', 'sams', 'backlot', 'filmtv', 'trutv', 'emmywinning', 'spartina', 'dbacks', 'purcell', 'eyewear', 'viewer', 'simulating', 'perceptions', 'stimulations', 'diving', 'hutchings', 'prospero', 'benjamenta', 'bfg', 'technicians', 'catalogue', 'c112', 'konungariket', 'sverige', 'dagenham', 'dyssomnias', 'parasomnias', 'disruptions', 'grinding', 'sleepiness', 'neurological', 'sleepwake', 'famke', 'janssen', 'romijnstamos', 'mane', 'lafount', 'bloomfield', 'wilcken', 'milena', 'markovna', 'repertory', 'epstein', 'jagielski', 'catlett', 'castlebeck', 'adventurers', 'barrow', 'regrets', 'remarries', 'archvillain', 'gunton', 'gesundheit', 'mylander', 'brokaw', 'esquire', 'kushans', 'hephthalites', 'samanids', 'saffarids', 'ghaznavids', 'ghorids', 'khiljis', 'hotaks', 'durranis', 'aznaviyn', 'mamluk', 'transoxiana', '977', '1186', 'ghurids', 'selfdesignation', 'shansabn', 'presumably', 'tajik', 'ghor', 'durrani', '1747', 'ahmad', 'kandahar', 'sistan', 'zaranj', 'khorasan', '861', 'khalji', '1290', '1320', 'ephthalites', 'exonym', 'yada', 'kushano', 'rjavaa', 'bhs', 'kuanxar', 'yuezhi', 'bactrian', 'smniyn', '819', '999', 'hotaki', 'afghan', 'ghilji', '1709', 'mirwais', 'safavid', 'afsharid', 'afshar', 'hussain', 'suzerainty', 'archrival', 'recurred', 'spivot', 'swagger', 'czolgosz', 'secondgeneration', 'polishamerican', 'leanings', 'specially', 'heshe', 'gangrene', 'wounds', 'regno', 'referendum', 'discontent', 'gunasekar', 'karri', 'mallemala', 'sundara', 'arbitrage', 'lawton', 'gossett', 'lorimar', 'malick', 'manz', 'goodbar', 'jarecki', 'marling', 'hoblit', 'elizondo', 'pallandt', 'rossner', 'roseann', 'costas', 'mandylor', 'rolston', 'outerbridge', 'shawnee', 'oren', 'koules', 'canadiandomiciled', '447', 'stake', 'eugne', 'tripplehorn', 'risky', 'taps', 'cosa', 'nostra', 'siculoamericani', 'siculumiricani', 'inept', 'lars', 'neonazi', '2011the', 'stupid', 'driveand', 'fukunaga', 'neuroscience', 'cracked', 'stp', 'deleo', 'kretz', 'conner', 'lindsey', 'weber', 'stucken', 'karlheinz', 'skurge', 'heming', '17751783', '1664', 'renaming', '1271', 'casanus', 'westerners', 'cantrell', 'layne', 'staley', 'xliv', 'moviesoggadu', 'bence', 'calhern', 'casca', 'garson', 'calpurnia', 'michener', '1599', 'sagas', 'locales', 'censored', 'lszl', 'strabler', 'spatter', 'catchment', '6853', '4258', 'ennl', 'annl', 'iaro', 'iteru', 'yeor', 'northflowing', 'hilly', 'kibira', 'nyungwe', 'ruvubu', 'rurubu', 'ruvuvu', 'gillooly', 'tracksuit', 'faculty', 'wilden', 'diggs', 'mcclane', 'reluctant', 'carver', 'gruber', 'castlethe', 'launderer', 'visualizes', 'mediate', 'storks', 'ninenine', 'toland', 'filippelli', 'japaneseamerican', 'waheeda', 'rehman', 'kamna', 'kaul', 'sarhadi', 'umesh', 'kalbagh', 'clouse', 'concord', 'sammo', 'hollywoodproduced', 'sparking', 'surge', 'cpr', 'commemorated', 'aesthetical', 'communicative', 'worldview', 'contrives', 'stillwater', 'reap', 'murderplotting', 'ninemonth', 'novelistscreenwriter', 'latimer', 'fearing', 'paulette', 'loaned', 'starlet', 'lamour', 'aunts', 'insect', 'selick', 'castellan', 'olympians', 'oshea', 'supernaturaladam', 'heidkrger', 'una', 'mcchord', 'liveperformance', 'ziskin', 'horvitz', 'arcades', 'numerical', 'computation', 'infans', 'tandy', 'belushi', 'joliet', 'elwood', 'formality', 'giscard', 'destaing', 'helmut', 'g6', 'kazuo', 'ishiguro', 'honesty', 'margarethe', 'cammermeyer', 'dalmatians', 'skynet', 'mcginty', 'nichol', 'summa', 'omer', 'vaako', 'asgardian', 'wielded', 'doublebladed', 'axe', 'leno', 'sacudn', 'looting', 'shootings', 'bolivarian', 'bolivariana', 'llanos', 'clashes', 'metonymously', 'profound', '19171960', 'dyall', 'adelaide', 'quarto', 'youngsters', 'deepika', 'padukone', 'rahul', 'giselli', 'monteiro', 'mcbrayer', 'adsit', 'lonny', 'maulik', 'pancholy', 'cerie', 'click', 'maroney', 'idw', 'blaxploitation', 'duk', 'oogway', 'elbe', 'sultanate', 'continuouslyoperating', 'cecelia', 'ewen', 'bailiwick', 'frankenweenie', 'ookoolehleh', 'uke', 'nylon', 'gut', 'cntv', 'jeanette', 'passmore', 'hutchison', 'kranz', 'ravenna', 'seer', 'twohy', 'kiele', 'bori', 'serendipitous', 'ethos', 'sprang', 'decorative', '1400', 'precedents', 'manifested', '1420s', 'uccello', '1428', 'tommaso', 'quattrocento', 'bells', 'crossovers', 'aclj', 'dramatis', 'personae', 'booklength', 'repeatedly', 'raping', 'kayla', 'tenepisode', 'braga', 'sturridge', 'jeanlouis', 'lebris', 'krouac', 'diaval', 'kimovich', 'garik', 'hankerson', 'pressings', 'venerates', 'clementina', 'necropolitan', 'grottoes', 'relics', 'archbasilica', 'lateran', 'hardships', 'perron', 'jewel', 'sardo', 'numspa', 'clemens', 'havelock', 'vetinari', 'pratchett', 'postal', 'turing', 'enigma', 'forge', 'orderly', 'chancellery', 'dictatorial', 'forcible', 'mainline', 'medici', 'claude', 'licentious', 'competent', 'memoirist', 'manipulations', 'albeit', '1589', 'seniormost', 'agnatic', 'kurdish', 'artifact', 'catalano', 'twohour', 'heathers', 'basildon', 'battlestar', 'galactica', 'daldry', 'bernhard', 'schlink', 'stuttgart', 'dsseldorf', 'bremen', 'hannover', 'jerrod', 'katcher', 'seagle', 'rouleau', 'mead', 'hercule', 'poirot', 'marple', '117000', 'ballbreaker', 'secondhighestselling', 'slamdance', 'entertainmenttalent', 'arlen', 'elinor', 'lipman', 'meanwhile', 'buckle', 'inwards', 'starboard', 'flooding', '2224', 'peacetime', 'hatter', 'croc', 'enemiesclassic', 'monozygotic', 'zygote', 'embryos', 'dizygotic', 'hitcher', 'eba', 'maghreb', 'neva', 'tsar', 'herzstein', '8h', 'fortysecond', 'bridal', 'veil', 'diversions', 'conselho', 'nacional', 'justia', 'bestperforming', 'uncombined', 'needing', 'ore', 'lenworth', 'laird', 'nutrition', 'prices', 'souther', 'higherend', 'feng', 'xiaogang', 'hanyu', 'yifeng', 'guan', 'runnian', 'coupling', 'twoepisode', 'montclair', 'wildabouts', 'unchanged', 'materialistic', '783million', 'examining', 'eccentrics', 'secaucus', 'vigilantethriller', 'goodfellas', 'longpostponed', 'wellesley', 'seyfried', 'mostel', 'voutsinas', 'raspy', 'abctbs', 'independentlyreleased', 'deviated', 'tamed', 'malibu', 'wrecking', 'equus', 'browns', 'wagoner', 'skeeter', 'kontinental', 'khl', 'hazanavicius', 'langmann', 'brnice', 'bejo', 'stateswoman', 'sharmeen', 'obaidchinoy', 'junge', 'monotonous', 'kaui', 'hemmings', 'carls', 'snes', '16bit', 'tilematching', '425', 'skifflerock', 'scottishamerican', 'baruchel', 'ferrera', 'animations', 'divinity', 'educating', 'satullo', 'bhimrao', 'ramji', 'saheb', 'dalit', 'dalits', 'madan', 'mohan', 'malviya', 'unto', 'annul', 'electorates', 'electing', 'assemblies', 'malaviya', 'educationist', 'blower', 'wigand', 'insider', 'oelsen', 'floris', 'sobibor', 'nighthawks', 'ladyhawke', 'osterman', 'hobo', 'gattaca', 'precinct', 'cleve', 'charmed', 'tilly', 'jobeth', 'obie', 'elephunk', 'apldeap', 'taboo', 'aplde', 'margraviate', '14171701', 'downloading', '3gs', 'browse', 'calculations', 'voicemail', 'purged', 'ryoo', 'seungbum', 'sukkyu', 'operatives', 'sassy', 'bizarre', 'jaeyong', 'cha', 'taehyun', 'timetranscending', 'jungjae', 'hyunseung', 'hyuk', 'donghoon', 'gianna', 'seungwan', 'rosewood', 'lori', 'meadowlands', 'orients', 'latino', 'surrealism', 'clubready', 'moga', 'bcci', 'facilitating', 'rebbie', 'toriano', 'adaryll', 'esco', 'stairsteps', 'mcclain', 'italiano', 'strasberg', 'seductress', 'overshadow', 'calder', 'tutor', 'downloadsstreaming', 'audible', 'kindle', 'ereaders', 'iaas', 'paas', 'codeveloped', 'massproduced', 'molding', 'lem', 'dobbs', 'katz', 'roundbacked', 'archtop', 'shallower', 'arched', 'mandolins', 'mandola', 'octave', 'mandocello', 'mandobass', 'starbuck', '2727', 'archana', 'kalinda', 'cobh', 'weide', 'beckingham', 'fuzz', 'benji', 'dunn', '2006present', 'gardener', 'gervasi', 'schwartzman', 'axeman', 'massimo', 'dolcefino', 'degreegranting', 'undergraduates', 'danser', 'mrket', 'trier', 'zeroes', 'flatliners', 'forsaken', 'pickup', 'waterman', 'zain', 'conurbation', '528155', 'malayalamspeaking', 'organising', 'jeevan', 'kang', 'buyout']\n",
            "[Debug] Index -> Word vocabulary size: 35107\n",
            "[Debug] Word -> Index vocabulary size: 35107\n",
            "[Debug] Some words: [('<UNK>', 1), ('chris', 2), ('hemsworth', 3), ('appeared', 4), ('in', 5), ('a', 6), ('perfect', 7), ('getaway', 8), ('roald', 9), ('dahl', 10)]\n"
          ],
          "name": "stdout"
        }
      ]
    },
    {
      "cell_type": "code",
      "metadata": {
        "colab": {
          "base_uri": "https://localhost:8080/"
        },
        "id": "-14tsoFy1jWN",
        "outputId": "5474446b-1d40-406d-91b7-2fc474139b18"
      },
      "source": [
        "# Load pre-trained embedding model\n",
        "import gensim\n",
        "import gensim.downloader as gloader\n",
        "import numpy as np\n",
        "\n",
        "\n",
        "embedding_model_type = \"glove\"\n",
        "embedding_dimension = 300\n",
        "\n",
        "embedding_model = load_embedding_model(embedding_model_type, embedding_dimension)\n"
      ],
      "execution_count": null,
      "outputs": [
        {
          "output_type": "stream",
          "text": [
            "[==================================================] 100.0% 376.1/376.1MB downloaded\n"
          ],
          "name": "stdout"
        }
      ]
    },
    {
      "cell_type": "code",
      "metadata": {
        "id": "j2drLtXoBOJy"
      },
      "source": [
        "# Convert sentences into numbers (only for train set)\n",
        "def convert_sentence_idx(df,word_to_idx):\n",
        "  sentence = []\n",
        "  for el in df.tolist():\n",
        "    el = el.split(' ')\n",
        "    y = []\n",
        "    for w in el:\n",
        "      y.append( word_to_idx[w])\n",
        "    sentence.append(y)\n",
        "  return sentence\n",
        "\n",
        "# Convert sentences into numbers (for val e test set)\n",
        "def convert_sentence_idx_val(df,word_to_idx,oov_terms):\n",
        "  sentence = []\n",
        "  for el in df.tolist():\n",
        "    el = el.split(' ')\n",
        "    y = []\n",
        "    for w in el:\n",
        "      if w in oov_terms:\n",
        "        y.append(word_to_idx['<UNK>'])\n",
        "      else:\n",
        "        y.append( word_to_idx[w])\n",
        "    sentence.append(y)\n",
        "  return sentence\n"
      ],
      "execution_count": null,
      "outputs": []
    },
    {
      "cell_type": "code",
      "metadata": {
        "id": "FPuc01KgnDui"
      },
      "source": [
        "def build_embedding_matrix_rand(embedding_model, embedding_dimension, word_to_idx, oov_terms):\n",
        "    \"\"\"\n",
        "    Builds the embedding matrix of a specific dataset given a pre-trained word embedding model\n",
        "\n",
        "    :param embedding_model: pre-trained word embedding model (gensim wrapper)\n",
        "    :param word_to_idx: vocabulary map (word -> index) (dict)\n",
        "    :param oov_terms: list of OOV terms (list)\n",
        "    :param co_occorruence_count_matrix: the co-occurrence count matrix of the given dataset (window size 1)\n",
        "\n",
        "    :return\n",
        "        - embedding matrix that assigns a high dimensional vector to each word in the dataset specific vocabulary (shape |V| x d)\n",
        "    \"\"\"\n",
        "\n",
        "    ### YOUR CODE HERE ###\n",
        "\n",
        "    embedding_matrix = np.zeros((len(word_to_idx),embedding_dimension))\n",
        "    for index,w in enumerate(word_to_idx):\n",
        "      if w == '<PAD>':\n",
        "        continue\n",
        "      elif w in oov_terms or w == '<UNK>':\n",
        "        embedding_matrix[index] = np.random.rand(embedding_dimension)\n",
        "      else:\n",
        "        embedding_matrix[index] = embedding_model[w]\n",
        "    return embedding_matrix\n"
      ],
      "execution_count": null,
      "outputs": []
    },
    {
      "cell_type": "code",
      "metadata": {
        "colab": {
          "base_uri": "https://localhost:8080/"
        },
        "id": "_CzzrDxD1mfw",
        "outputId": "a02e8e66-a129-4944-ddca-8484a7a9d87a"
      },
      "source": [
        "# Check OOV and build embedding vocabularies for train and validation\n",
        "# Handle OVV terms\n",
        "import scipy\n",
        "oov_terms_train = check_OOV_terms(embedding_model, word_listing_train)\n",
        "print(\"TRAIN: Total OOV terms: {0} ({1:.2f}%)\".format(len(oov_terms_train), float(len(oov_terms_train)) / len(word_listing_train)))\n",
        "print()\n",
        "\n",
        "\n",
        "V1 = build_embedding_matrix_rand(embedding_model,embedding_dimension,word_to_idx_train,oov_terms_train)\n",
        "\n",
        "\n",
        "oov_terms_val = check_OOV_terms(word_listing_train, list(word_to_idx_val.keys()))\n",
        "\n",
        "print()\n",
        "\n",
        "# Convert train sequences into numbers\n",
        "claim_to_idx = convert_sentence_idx(df_train.claim,word_to_idx_train)\n",
        "evidence_to_idx = convert_sentence_idx(df_train.evidence,word_to_idx_train)\n",
        "sentence_to_idx = claim_to_idx + evidence_to_idx\n",
        "print(len(sentence_to_idx))\n",
        "\n",
        "# Convert validation sequences into numbers\n",
        "claim_to_idx_val = convert_sentence_idx_val(df_val.claim,word_to_idx_val, oov_terms_val)\n",
        "evidence_to_idx_val = convert_sentence_idx_val(df_val.evidence,word_to_idx_val, oov_terms_val)\n",
        "sentence_to_idx_val = claim_to_idx_val + evidence_to_idx_val\n",
        "print(len(sentence_to_idx_val))\n"
      ],
      "execution_count": null,
      "outputs": [
        {
          "output_type": "stream",
          "text": [
            "TRAIN: Total OOV terms: 4687 (0.14%)\n",
            "\n",
            "\n",
            "243480\n",
            "14330\n"
          ],
          "name": "stdout"
        }
      ]
    },
    {
      "cell_type": "code",
      "metadata": {
        "colab": {
          "base_uri": "https://localhost:8080/"
        },
        "id": "VK-Lz4z7njez",
        "outputId": "7af4062c-e860-44f1-de7a-4663695f4baa"
      },
      "source": [
        "# Function that counts the max length of the sentences\n",
        "def max_len(sentence_to_idx):\n",
        "  len_max = 0\n",
        "  for indice, el in enumerate(sentence_to_idx):\n",
        "    if len_max < len(el):\n",
        "      len_max = len(el)\n",
        "  return len_max\n",
        "\n",
        "max = max_len(sentence_to_idx)\n",
        "print(max)"
      ],
      "execution_count": null,
      "outputs": [
        {
          "output_type": "stream",
          "text": [
            "202\n"
          ],
          "name": "stdout"
        }
      ]
    },
    {
      "cell_type": "code",
      "metadata": {
        "colab": {
          "base_uri": "https://localhost:8080/"
        },
        "id": "themULt5r6O9",
        "outputId": "1d7a3253-35ba-44fd-b60d-50c8a434912d"
      },
      "source": [
        "#Pad sequence for train\n",
        "\n",
        "from keras.preprocessing.sequence import pad_sequences\n",
        "max = max_len(sentence_to_idx)\n",
        "print(max)\n",
        "claim_train = pad_sequences(claim_to_idx, padding='post', maxlen=max)\n",
        "evidence_train = pad_sequences(evidence_to_idx, padding='post', maxlen=max)\n",
        "X_train = (claim_train, evidence_train)"
      ],
      "execution_count": null,
      "outputs": [
        {
          "output_type": "stream",
          "text": [
            "202\n"
          ],
          "name": "stdout"
        }
      ]
    },
    {
      "cell_type": "code",
      "metadata": {
        "id": "L7cm5Ao9sZ0S"
      },
      "source": [
        "#Pad sequence for val\n",
        "from keras.preprocessing.sequence import pad_sequences\n",
        "claim_val = pad_sequences(claim_to_idx_val, padding='post', maxlen=max)\n",
        "evidence_val = pad_sequences(evidence_to_idx_val, padding='post', maxlen=max)\n",
        "X_val = (claim_val, evidence_val)"
      ],
      "execution_count": null,
      "outputs": []
    },
    {
      "cell_type": "code",
      "metadata": {
        "colab": {
          "base_uri": "https://localhost:8080/"
        },
        "id": "bhwAt1j6BfYy",
        "outputId": "05056b45-3a25-4e73-b905-7d5139a7a6e3"
      },
      "source": [
        "def prepare_labels(df):\n",
        "  labels = []\n",
        "  for element in df:\n",
        "    if element not in labels:\n",
        "      labels.append(element)\n",
        "  labels_to_idx = { label : index for index, label in enumerate(labels)}\n",
        "  idx_to_labels = dict(zip(labels_to_idx.values(), labels_to_idx.keys()))\n",
        "  return labels_to_idx, idx_to_labels\n",
        "\n",
        "\n",
        "labels_to_idx, idx_to_labels = prepare_labels(df_train.label)\n",
        "print(labels_to_idx)\n",
        "from numpy import array\n",
        "from numpy import argmax\n",
        "from sklearn.preprocessing import LabelEncoder\n",
        "from sklearn.preprocessing import OneHotEncoder\n",
        "# integer encode\n",
        "label_encoder = LabelEncoder()\n",
        "integer_encoded = label_encoder.fit_transform(df_train.label)\n",
        "print(integer_encoded)\n",
        "# binary encode\n",
        "onehot_encoder = OneHotEncoder(sparse=False)\n",
        "integer_encoded = integer_encoded.reshape(len(integer_encoded), 1)\n",
        "onehot_encoded = onehot_encoder.fit_transform(integer_encoded)\n",
        "print(onehot_encoded)\n",
        "\n",
        "\n",
        "integer_encoded_val = label_encoder.fit_transform(df_val.label)\n",
        "print(integer_encoded_val)\n",
        "\n",
        "# binary encode\n",
        "onehot_encoder_val = OneHotEncoder(sparse=False)\n",
        "integer_encoded_val = integer_encoded_val.reshape(len(integer_encoded_val), 1)\n",
        "onehot_encoded_val = onehot_encoder_val.fit_transform(integer_encoded_val)\n",
        "print(onehot_encoded_val)"
      ],
      "execution_count": null,
      "outputs": [
        {
          "output_type": "stream",
          "text": [
            "{'SUPPORTS': 0, 'REFUTES': 1}\n",
            "[1 1 0 ... 0 1 0]\n",
            "[[0. 1.]\n",
            " [0. 1.]\n",
            " [1. 0.]\n",
            " ...\n",
            " [1. 0.]\n",
            " [0. 1.]\n",
            " [1. 0.]]\n",
            "[1 1 1 ... 1 1 1]\n",
            "[[0. 1.]\n",
            " [0. 1.]\n",
            " [0. 1.]\n",
            " ...\n",
            " [0. 1.]\n",
            " [0. 1.]\n",
            " [0. 1.]]\n"
          ],
          "name": "stdout"
        }
      ]
    },
    {
      "cell_type": "markdown",
      "metadata": {
        "id": "LT_mahMl8e_w"
      },
      "source": [
        "#### MODELS DEFINITION"
      ]
    },
    {
      "cell_type": "code",
      "metadata": {
        "id": "0RoPiKJTlv55"
      },
      "source": [
        "#SENTENCE EMBEDDING: Encode token sequences via a RNN and take the last state as the sentence embedding.\n",
        "#MERGING INPUTS: concatenation\n",
        "\n",
        "def create_model_1():\n",
        "\n",
        "  shared_embedding = Embedding(input_dim=len(word_to_idx_train), output_dim=embedding_dimension, weights = [V1], trainable = True, mask_zero = True, name = 'shared_embedding')\n",
        "\n",
        "  #sentence encoding for claim\n",
        "  claim_input = Input(shape = (X_train[0].shape[1],), dtype = \"float32\", name = 'claim_input')\n",
        "  encoded_claim = shared_embedding(claim_input)\n",
        "  claim_features =  Bidirectional(LSTM(64, name = 'lstm_claim'))(encoded_claim)\n",
        "\n",
        "  #sentence encoding for evidence\n",
        "  evidence_input = Input(shape = (X_train[1].shape[1],), dtype = \"float32\", name = 'evidence_input')\n",
        "  encoded_evidence = shared_embedding(evidence_input)\n",
        "  evidence_features = Bidirectional(LSTM(64, name = 'lstm_evidence'))(encoded_evidence)  #Encode token sequences via a RNN and take the last state as the sentence embedding\n",
        "                                                                           #Each LSTM cell will output one hidden state h for each input. So it is already ok\n",
        "\n",
        "  # Merge all available features into a single large vector via concatenation\n",
        "  concatenation = Concatenate(name = 'concatenation')([claim_features, evidence_features])\n",
        "\n",
        "  #MLP\n",
        "  output = Dense(16, name = 'dense_1')(concatenation)\n",
        "  output = Activation('relu', name = 'act_1')(output)\n",
        "  output = Dense(4, name = 'dense_2')(output)\n",
        "  output = Activation('relu', name = 'act_2')(output)\n",
        "  output = Dense(2, name = 'output')(output)\n",
        "  output = Activation('softmax',name = 'act_output')(output)\n",
        "\n",
        "\n",
        "\n",
        "  model = Model(inputs = [claim_input,evidence_input], outputs = output)\n",
        "\n",
        "  model.compile(loss='binary_crossentropy',\n",
        "                optimizer=Adam(0.01),\n",
        "                metrics=['accuracy'])\n",
        "\n",
        "  model.summary()\n",
        "\n",
        "  return model\n",
        "\n"
      ],
      "execution_count": null,
      "outputs": []
    },
    {
      "cell_type": "code",
      "metadata": {
        "id": "RnAuKlpY50pO"
      },
      "source": [
        "#SENTENCE EMBEDDING: Encode token sequences via a RNN and take the last state as the sentence embedding.\n",
        "#MERGING INPUTS: Sum\n",
        "def create_model_2():\n",
        "\n",
        "  shared_embedding = Embedding(input_dim=len(word_to_idx_train), output_dim=embedding_dimension, weights = [V1], trainable = True, mask_zero = True, name = 'shared_embedding')\n",
        "\n",
        "  #sentence encoding for claim\n",
        "  claim_input = Input(shape = (X_train[0].shape[1],), dtype = \"float32\", name = 'claim_input')\n",
        "  encoded_claim = shared_embedding(claim_input)\n",
        "  claim_features = Bidirectional(LSTM(64, name = 'lstm_claim'))(encoded_claim)\n",
        "\n",
        "  #sentence encoding for evidence\n",
        "  evidence_input = Input(shape = (X_train[1].shape[1],), dtype = \"float32\", name = 'evidence_input')\n",
        "  encoded_evidence = shared_embedding(evidence_input)\n",
        "  evidence_features = Bidirectional(LSTM(64, name = 'lstm_evidence'))(encoded_evidence)\n",
        "\n",
        "  # Merge all available features into a single vector by summing them\n",
        "  merging = Add(name = 'sum')([claim_features, evidence_features])\n",
        "\n",
        "  #MLP\n",
        "  output = Dense(16, name = 'dense_1')(merging)\n",
        "  output = Activation('relu', name = 'act_1')(output)\n",
        "  output = Dense(4, name = 'dense_2')(output)\n",
        "  output = Activation('relu', name = 'act_2')(output)\n",
        "  output = Dense(2, name = 'output')(output)\n",
        "  output = Activation('softmax',name = 'act_output')(output)\n",
        "\n",
        "\n",
        "  model = Model(inputs = [claim_input,evidence_input], outputs = output)\n",
        "\n",
        "  model.compile(loss='binary_crossentropy',\n",
        "                optimizer=Adam(0.01),\n",
        "                metrics=['accuracy'])\n",
        "\n",
        "  model.summary()\n",
        "\n",
        "  return model\n",
        "\n"
      ],
      "execution_count": null,
      "outputs": []
    },
    {
      "cell_type": "code",
      "metadata": {
        "id": "QKrbQ7V17DYM"
      },
      "source": [
        "#SENTENCE EMBEDDING: Encode token sequences via a RNN and take the last state as the sentence embedding.\n",
        "#MERGING INPUTS: MEAN\n",
        "def create_model_3():\n",
        "\n",
        "  shared_embedding = Embedding(input_dim=len(word_to_idx_train), output_dim=embedding_dimension, weights = [V1], trainable = True, mask_zero = True, name = 'shared_embedding')\n",
        "\n",
        "  #sentence encoding for claim\n",
        "  claim_input = Input(shape = (X_train[0].shape[1],), dtype = \"float32\", name = 'claim_input')\n",
        "  encoded_claim = shared_embedding(claim_input)\n",
        "  claim_features = Bidirectional(LSTM(64, name = 'lstm_claim'))(encoded_claim)\n",
        "\n",
        "  #sentence encoding for evidence\n",
        "  evidence_input = Input(shape = (X_train[1].shape[1],), dtype = \"float32\", name = 'evidence_input')\n",
        "  encoded_evidence = shared_embedding(evidence_input)\n",
        "  evidence_features = Bidirectional(LSTM(64, name = 'lstm_evidence'))(encoded_evidence)\n",
        "\n",
        "  # Merge all available features into a single vector by doing the mean\n",
        "  merging = Average(name = 'mean')([claim_features, evidence_features])\n",
        "\n",
        "\n",
        "  #MLP\n",
        "  output = Dense(16, name = 'dense_1')(merging)\n",
        "  output = Activation('relu', name = 'act_1')(output)\n",
        "  output = Dense(4, name = 'dense_2')(output)\n",
        "  output = Activation('relu', name = 'act_2')(output)\n",
        "  output = Dense(2, name = 'output')(output)\n",
        "  output = Activation('softmax',name = 'act_output')(output)\n",
        "\n",
        "  model = Model(inputs = [claim_input,evidence_input], outputs = output)\n",
        "\n",
        "\n",
        "  model.compile(loss='binary_crossentropy',\n",
        "                optimizer=Adam(0.001),\n",
        "                metrics=['accuracy'])\n",
        "\n",
        "  model.summary()\n",
        "\n",
        "  return model\n",
        "\n"
      ],
      "execution_count": null,
      "outputs": []
    },
    {
      "cell_type": "code",
      "metadata": {
        "id": "h43VrZgy6rh-"
      },
      "source": [
        "from keras import backend as K\n",
        "\n",
        "def mean(input):\n",
        "    return K.mean(input, axis=1, keepdims=False)"
      ],
      "execution_count": null,
      "outputs": []
    },
    {
      "cell_type": "code",
      "metadata": {
        "id": "Raq-b2Xu84Bq"
      },
      "source": [
        "#SENTENCE EMBEDDING: Encode token sequences via a RNN and average all the output states.\n",
        "#MERGING INPUTS: concatenation\n",
        "\n",
        "def create_model_4():\n",
        "\n",
        "  shared_embedding = Embedding(input_dim=len(word_to_idx_train), output_dim=embedding_dimension, weights = [V1], trainable = True, mask_zero = True, name = 'shared_embedding')\n",
        "\n",
        "  #sentence encoding for claim\n",
        "  claim_input = Input(shape = (X_train[0].shape[1],), dtype = \"float32\", name = 'claim_input')\n",
        "  encoded_claim = shared_embedding(claim_input)\n",
        "  claim_features = Bidirectional(LSTM(64, name = 'lstm_claim', return_sequences = True))(encoded_claim)\n",
        "  # Average all the output states\n",
        "  claim_features = Lambda(mean, input_shape=(202,300))(claim_features)\n",
        "\n",
        "  #sentence encoding for evidence\n",
        "  evidence_input = Input(shape = (X_train[1].shape[1],), dtype = \"float32\", name = 'evidence_input')\n",
        "  encoded_evidence = shared_embedding(evidence_input)\n",
        "  evidence_features = Bidirectional(LSTM(64, name = 'lstm_evidence', return_sequences = True))(encoded_evidence)\n",
        "  # Average all the output states\n",
        "  evidence_features = Lambda(mean, input_shape=(202,300))(evidence_features)\n",
        "\n",
        "  # Merge all available features into a single large vector via concatenation\n",
        "  merging = Concatenate(name = 'concatenation')([claim_features, evidence_features])\n",
        "\n",
        "  #MLP\n",
        "  output = Dense(16, name = 'dense_1')(merging)\n",
        "  output = Activation('relu', name = 'act_1')(output)\n",
        "  output = Dense(4, name = 'dense_2')(output)\n",
        "  output = Activation('relu', name = 'act_2')(output)\n",
        "  output = Dense(2, name = 'output')(output)\n",
        "  output = Activation('softmax',name = 'act_output')(output)\n",
        "\n",
        "  model = Model(inputs = [claim_input,evidence_input], outputs = output)\n",
        "\n",
        "  model.compile(loss='binary_crossentropy',\n",
        "                optimizer=Adam(0.001),\n",
        "                metrics=['accuracy'])\n",
        "\n",
        "  model.summary()\n",
        "\n",
        "  return model\n",
        "\n"
      ],
      "execution_count": null,
      "outputs": []
    },
    {
      "cell_type": "code",
      "metadata": {
        "id": "PxYEBdyv6aeL"
      },
      "source": [
        "#SENTENCE EMBEDDING: Encode token sequences via a RNN and average all the output states.\n",
        "#MERGING INPUTS: sum\n",
        "\n",
        "def create_model_5():\n",
        "\n",
        "  shared_embedding = Embedding(input_dim=len(word_to_idx_train), output_dim=embedding_dimension, weights = [V1], trainable = True, mask_zero = True, name = 'shared_embedding')\n",
        "\n",
        "  #sentence encoding for claim\n",
        "  claim_input = Input(shape = (X_train[0].shape[1],), dtype = \"float32\", name = 'claim_input')\n",
        "  encoded_claim = shared_embedding(claim_input)\n",
        "  claim_features =Bidirectional(LSTM(64, name = 'lstm_claim', return_sequences = True))(encoded_claim)\n",
        "  # Average all the output states\n",
        "  claim_features = Lambda(mean, input_shape=(202,300))(claim_features)\n",
        "\n",
        "  #sentence encoding for evidence\n",
        "  evidence_input = Input(shape = (X_train[1].shape[1],), dtype = \"float32\", name = 'evidence_input')\n",
        "  encoded_evidence = shared_embedding(evidence_input)\n",
        "  evidence_features = Bidirectional(LSTM(64, name = 'lstm_evidence', return_sequences = True))(encoded_evidence)\n",
        "  # Average all the output states\n",
        "  evidence_features = Lambda(mean, input_shape=(None,None))(evidence_features)\n",
        "\n",
        "  # Merge all available features into a single large vector via concatenation\n",
        "  merging = Add(name = 'sum')([claim_features, evidence_features])\n",
        "\n",
        "  #MLP\n",
        "  output = Dense(16, name = 'dense_1')(merging)\n",
        "  output = Activation('relu', name = 'act_1')(output)\n",
        "  output = Dense(4, name = 'dense_2')(output)\n",
        "  output = Activation('relu', name = 'act_2')(output)\n",
        "  output = Dense(2, name = 'output')(output)\n",
        "  output = Activation('softmax',name = 'act_output')(output)\n",
        "\n",
        "  model = Model(inputs = [claim_input,evidence_input], outputs = output)\n",
        "\n",
        "\n",
        "  model.compile(loss='binary_crossentropy',\n",
        "                optimizer=Adam(0.001),\n",
        "                metrics=['accuracy'])\n",
        "\n",
        "  model.summary()\n",
        "\n",
        "  return model\n"
      ],
      "execution_count": null,
      "outputs": []
    },
    {
      "cell_type": "code",
      "metadata": {
        "id": "HtfZa8vq6Zga"
      },
      "source": [
        "#SENTENCE EMBEDDING: Encode token sequences via a RNN and average all the output states.\n",
        "#MERGING INPUTS: average\n",
        "\n",
        "def create_model_6():\n",
        "\n",
        "  shared_embedding = Embedding(input_dim=len(word_to_idx_train), output_dim=embedding_dimension, weights = [V1], trainable = True, mask_zero = True, name = 'shared_embedding')\n",
        "\n",
        "  #sentence encoding for claim\n",
        "  claim_input = Input(shape = (X_train[0].shape[1],), dtype = \"float32\", name = 'claim_input')\n",
        "  encoded_claim = shared_embedding(claim_input)\n",
        "  claim_features = Bidirectional(LSTM(64, name = 'lstm_claim', return_sequences = True))(encoded_claim)\n",
        "  # Average all the output states\n",
        "  claim_features = Lambda(mean, input_shape=(202,300))(claim_features)\n",
        "\n",
        "\n",
        "  #sentence encoding for evidence\n",
        "  evidence_input = Input(shape = (X_train[1].shape[1],), dtype = \"float32\", name = 'evidence_input')\n",
        "  encoded_evidence = shared_embedding(evidence_input)\n",
        "  evidence_features = Bidirectional(LSTM(64, name = 'lstm_evidence', return_sequences = True))(encoded_evidence)\n",
        "  # Average all the output states\n",
        "  evidence_features = Lambda(mean, input_shape=(None,None))(evidence_features)\n",
        "\n",
        "  # Merge all available features by doing the mean\n",
        "  merging = Average(name = 'mean')([claim_features, evidence_features])\n",
        "\n",
        "  #MLP\n",
        "  output = Dense(16, name = 'dense_1')(merging)\n",
        "  output = Activation('relu', name = 'act_1')(output)\n",
        "  output = Dense(4, name = 'dense_2')(output)\n",
        "  output = Activation('relu', name = 'act_2')(output)\n",
        "  output = Dense(2, name = 'output')(output)\n",
        "  output = Activation('softmax',name = 'act_output')(output)\n",
        "\n",
        "\n",
        "\n",
        "  model = Model(inputs = [claim_input,evidence_input], outputs = output)\n",
        "\n",
        "  model.compile(loss='binary_crossentropy',\n",
        "                optimizer=Adam(0.001),\n",
        "                metrics=['accuracy'])\n",
        "\n",
        "  model.summary()\n",
        "\n",
        "  return model"
      ],
      "execution_count": null,
      "outputs": []
    },
    {
      "cell_type": "code",
      "metadata": {
        "id": "QvvDEUvh62lT"
      },
      "source": [
        "#SENTENCE EMBEDDING: Encode token sequences via a simple MLP layer.\n",
        "#MERGING INPUTS: concatenation\n",
        "\n",
        "def create_model_7():\n",
        "\n",
        "  shared_embedding = Embedding(input_dim=len(word_to_idx_train), output_dim=embedding_dimension, weights = [V1], trainable = True, mask_zero = True, name = 'shared_embedding')\n",
        "\n",
        "  #sentence encoding for claim\n",
        "  claim_input = Input(shape = (X_train[0].shape[1],), dtype = \"float32\", name = 'claim_input')\n",
        "  encoded_claim = shared_embedding(claim_input)\n",
        "  claim_flatten = Flatten(name = 'flatten_claim')(encoded_claim)\n",
        "  claim_features = Dense(128, name = 'mlp_claim')(claim_flatten)\n",
        "\n",
        "  #sentence encoding for evidence\n",
        "  evidence_input = Input(shape = (X_train[1].shape[1],), dtype = \"float32\", name = 'evidence_input')\n",
        "  encoded_evidence = shared_embedding(evidence_input)\n",
        "  evidence_flatten = Flatten(name = 'flatten_evidence')(encoded_evidence)\n",
        "  evidence_features = Dense(128, name = 'mlp_evidence')(evidence_flatten)\n",
        "\n",
        "  # Merge all available features into a single large vector via concatenation\n",
        "  merging = Concatenate(name = 'concatenation')([claim_features, evidence_features])\n",
        "\n",
        "  #MLP\n",
        "  output = Dense(4, name = 'dense_1')(merging)\n",
        "  output = Activation('relu', name = 'act_1')(output)\n",
        "  #output = Dense(4, name = 'dense_2')(output)\n",
        "  #output = Activation('relu', name = 'act_2')(output)\n",
        "  output = Dense(2, name = 'output')(output)\n",
        "  output = Activation('softmax',name = 'act_output')(output)\n",
        "\n",
        "  model = Model(inputs = [claim_input,evidence_input], outputs = output)\n",
        "\n",
        "  model.compile(loss='binary_crossentropy',\n",
        "                optimizer=SGD(0.01),\n",
        "                metrics=['accuracy'])\n",
        "\n",
        "  model.summary()\n",
        "\n",
        "  return model\n",
        "\n"
      ],
      "execution_count": null,
      "outputs": []
    },
    {
      "cell_type": "code",
      "metadata": {
        "id": "wgwfOj137FjW"
      },
      "source": [
        "#SENTENCE EMBEDDING: Encode token sequences via a simple MLP layer.\n",
        "#MERGING INPUTS: sum\n",
        "\n",
        "def create_model_8():\n",
        "\n",
        "  shared_embedding = Embedding(input_dim=len(word_to_idx_train), output_dim=embedding_dimension, weights = [V1], trainable = True, mask_zero = True, name = 'shared_embedding')\n",
        "\n",
        "  #sentence encoding for claim\n",
        "  claim_input = Input(shape = (X_train[0].shape[1],), dtype = \"float32\", name = 'claim_input')\n",
        "  encoded_claim = shared_embedding(claim_input)\n",
        "  claim_flatten = Flatten(name = 'flatten_claim')(encoded_claim)\n",
        "  claim_features = Dense(128, name = 'mlp_claim')(claim_flatten)\n",
        "\n",
        "  #sentence encoding for evidence\n",
        "  evidence_input = Input(shape = (X_train[1].shape[1],), dtype = \"float32\", name = 'evidence_input')\n",
        "  encoded_evidence = shared_embedding(evidence_input)\n",
        "  evidence_flatten = Flatten(name = 'flatten_evidence')(encoded_evidence)\n",
        "  evidence_features = Dense(128, name = 'mlp_evidence')(evidence_flatten)\n",
        "\n",
        "\n",
        "  # Merge all available features by summing them\n",
        "  merging = Add(name = 'sum')([claim_features, evidence_features])\n",
        "\n",
        "  #MLP\n",
        "  output = Dense(4, name = 'dense_1')(merging)\n",
        "  output = Activation('relu', name = 'act_1')(output)\n",
        "  #output = Dense(4, name = 'dense_2')(output)\n",
        "  #output = Activation('relu', name = 'act_2')(output)\n",
        "  output = Dense(2, name = 'output')(output)\n",
        "  output = Activation('softmax',name = 'act_output')(output)\n",
        "\n",
        "  model = Model(inputs = [claim_input,evidence_input], outputs = output)\n",
        "\n",
        "\n",
        "  model.compile(loss='binary_crossentropy',\n",
        "                optimizer=SGD(0.01),\n",
        "                metrics=['accuracy'])\n",
        "\n",
        "  model.summary()\n",
        "\n",
        "  return model\n",
        "\n"
      ],
      "execution_count": null,
      "outputs": []
    },
    {
      "cell_type": "code",
      "metadata": {
        "id": "rv6jTD477UHG"
      },
      "source": [
        "#SENTENCE EMBEDDING: Encode token sequences via a simple MLP layer.\n",
        "#MERGING INPUTS: mean\n",
        "\n",
        "def create_model_9():\n",
        "\n",
        "  shared_embedding = Embedding(input_dim=len(word_to_idx_train), output_dim=embedding_dimension, weights = [V1], trainable = True, mask_zero = True, name = 'shared_embedding')\n",
        "\n",
        "  #sentence encoding for claim\n",
        "  claim_input = Input(shape = (X_train[0].shape[1],), dtype = \"float32\", name = 'claim_input')\n",
        "  encoded_claim = shared_embedding(claim_input)\n",
        "  claim_flatten = Flatten(name = 'flatten_claim')(encoded_claim)\n",
        "  claim_features = Dense(128, name = 'mlp_claim')(claim_flatten)\n",
        "\n",
        "  #sentence encoding for evidence\n",
        "  evidence_input = Input(shape = (X_train[1].shape[1],), dtype = \"float32\", name = 'evidence_input')\n",
        "  encoded_evidence = shared_embedding(evidence_input)\n",
        "  evidence_flatten = Flatten(name = 'flatten_evidence')(encoded_evidence)\n",
        "  evidence_features = Dense(128, name = 'mlp_evidence')(evidence_flatten)\n",
        "\n",
        "\n",
        "  # Merge all available features by doing the mean\n",
        "  merging = Average(name = 'mean')([claim_features, evidence_features])\n",
        "\n",
        "  #MLP\n",
        "  output = Dense(4, name = 'dense_1')(merging)\n",
        "  output = Activation('relu', name = 'act_1')(output)\n",
        "  #output = Dense(4, name = 'dense_2')(output)\n",
        "  #output = Activation('relu', name = 'act_2')(output)\n",
        "  output = Dense(2, name = 'output')(output)\n",
        "  output = Activation('softmax',name = 'act_output')(output)\n",
        "\n",
        "\n",
        "  model = Model(inputs = [claim_input,evidence_input], outputs = output)\n",
        "\n",
        "  model.compile(loss='binary_crossentropy',\n",
        "                optimizer=SGD(0.01),\n",
        "                metrics=['accuracy'])\n",
        "\n",
        "  model.summary()\n",
        "\n",
        "  return model\n",
        "\n"
      ],
      "execution_count": null,
      "outputs": []
    },
    {
      "cell_type": "code",
      "metadata": {
        "id": "gLkQXoJc8lK5"
      },
      "source": [
        "def mean_bagofvectors(input):\n",
        "    return K.mean(input, axis=-1, keepdims=False)"
      ],
      "execution_count": null,
      "outputs": []
    },
    {
      "cell_type": "code",
      "metadata": {
        "id": "XVs90gl68j5G"
      },
      "source": [
        "#SENTENCE EMBEDDING: Compute the sentence embedding as the mean of its token embeddings (bag of vectors).\n",
        "#MERGING INPUTS: concatenation\n",
        "\n",
        "def create_model_10():\n",
        "\n",
        "  shared_embedding = Embedding(input_dim=len(word_to_idx_train), output_dim=embedding_dimension, weights = [V1], trainable = True, mask_zero = True, name = 'shared_embedding')\n",
        "\n",
        "  claim_input = Input(shape = (X_train[0].shape[1],), dtype = \"float32\", name = 'claim_input')\n",
        "  encoded_claim = shared_embedding(claim_input)\n",
        "  # Average all the output states\n",
        "  claim_features = Lambda(mean_bagofvectors, input_shape=(202,300))(encoded_claim)\n",
        "\n",
        "\n",
        "  evidence_input = Input(shape = (X_train[1].shape[1],), dtype = \"float32\", name = 'evidence_input')\n",
        "  encoded_evidence = shared_embedding(evidence_input)\n",
        "  # Average all the output states\n",
        "  evidence_features = Lambda(mean_bagofvectors, input_shape=(202,300))(encoded_evidence)\n",
        "\n",
        "  # Merge all available features into a single large vector via concatenation\n",
        "  concatenation = Concatenate(name = 'concatenation')([claim_features, evidence_features])\n",
        "\n",
        "  #MLP\n",
        "  output = Dense(128, name = 'dense_1')(concatenation)\n",
        "  output = Activation('relu', name = 'act_1')(output)\n",
        "  output = Dense(32, name = 'dense_2')(output)\n",
        "  output = Activation('relu', name = 'act_2')(output)\n",
        "  output = Dense(2, name = 'output')(output)\n",
        "  output = Activation('softmax',name = 'act_output')(output)\n",
        "\n",
        "\n",
        "  model = Model(inputs = [claim_input,evidence_input], outputs = output)\n",
        "\n",
        "  model.compile(loss='binary_crossentropy',\n",
        "                optimizer=Adam(0.01),\n",
        "                metrics=['accuracy'])\n",
        "\n",
        "  model.summary()\n",
        "\n",
        "  return model\n",
        "\n"
      ],
      "execution_count": null,
      "outputs": []
    },
    {
      "cell_type": "code",
      "metadata": {
        "id": "a-v9lNrd_rNf"
      },
      "source": [
        "#SENTENCE EMBEDDING: Compute the sentence embedding as the mean of its token embeddings (bag of vectors).\n",
        "#MERGING INPUTS: sum\n",
        "\n",
        "def create_model_11():\n",
        "\n",
        "  shared_embedding = Embedding(input_dim=len(word_to_idx_train), output_dim=embedding_dimension, weights = [V1], trainable = True, mask_zero = True, name = 'shared_embedding')\n",
        "\n",
        "  claim_input = Input(shape = (X_train[0].shape[1],), dtype = \"float32\", name = 'claim_input')\n",
        "  encoded_claim = shared_embedding(claim_input)\n",
        "  # Average all the output states\n",
        "  claim_features = Lambda(mean_bagofvectors, input_shape=(202,300))(encoded_claim)\n",
        "\n",
        "  evidence_input = Input(shape = (X_train[1].shape[1],), dtype = \"float32\", name = 'evidence_input')\n",
        "  encoded_evidence = shared_embedding(evidence_input)\n",
        "  # Average all the output states\n",
        "  evidence_features = Lambda(mean_bagofvectors, input_shape=(202,300))(encoded_evidence)\n",
        "\n",
        "  # Merge all available features by doing the sum\n",
        "  merging = Add(name = 'sum')([claim_features, evidence_features])\n",
        "\n",
        "  #MLP\n",
        "  output = Dense(128, name = 'dense_1')(merging)\n",
        "  output = Activation('relu', name = 'act_1')(output)\n",
        "  output = Dense(32, name = 'dense_2')(output)\n",
        "  output = Activation('relu', name = 'act_2')(output)\n",
        "  output = Dense(2, name = 'output')(output)\n",
        "  output = Activation('softmax',name = 'act_output')(output)\n",
        "\n",
        "  model = Model(inputs = [claim_input,evidence_input], outputs = output)\n",
        "\n",
        "\n",
        "  model.compile(loss='binary_crossentropy',\n",
        "                optimizer=Adam(0.001),\n",
        "                metrics=['accuracy'])\n",
        "\n",
        "  model.summary()\n",
        "\n",
        "  return model\n",
        "\n"
      ],
      "execution_count": null,
      "outputs": []
    },
    {
      "cell_type": "code",
      "metadata": {
        "id": "u80_MmUB__tf"
      },
      "source": [
        "#SENTENCE EMBEDDING: Compute the sentence embedding as the mean of its token embeddings (bag of vectors).\n",
        "#MERGING INPUTS: mean\n",
        "\n",
        "def create_model_12():\n",
        "\n",
        "  shared_embedding = Embedding(input_dim=len(word_to_idx_train), output_dim=embedding_dimension, weights = [V1], trainable = True, mask_zero = True, name = 'shared_embedding')\n",
        "\n",
        "  claim_input = Input(shape = (X_train[0].shape[1],), dtype = \"float32\", name = 'claim_input')\n",
        "  encoded_claim = shared_embedding(claim_input)\n",
        "  # Average all the output states\n",
        "  claim_features = Lambda(mean_bagofvectors, input_shape=(202,300))(encoded_claim)\n",
        "\n",
        "\n",
        "  evidence_input = Input(shape = (X_train[1].shape[1],), dtype = \"float32\", name = 'evidence_input')\n",
        "  encoded_evidence = shared_embedding(evidence_input)\n",
        "  # Average all the output states\n",
        "  evidence_features = Lambda(mean_bagofvectors, input_shape=(202,300))(encoded_evidence)\n",
        "\n",
        "  # Merge all available features by doing the mean\n",
        "  merging = Average(name = 'mean')([claim_features, evidence_features])\n",
        "\n",
        "  #MLP\n",
        "  output = Dense(128, name = 'dense_1')(merging)\n",
        "  output = Activation('relu', name = 'act_1')(output)\n",
        "  output = Dense(32, name = 'dense_2')(output)\n",
        "  output = Activation('relu', name = 'act_2')(output)\n",
        "  output = Dense(2, name = 'output')(output)\n",
        "  output = Activation('softmax',name = 'act_output')(output)\n",
        "\n",
        "\n",
        "  model = Model(inputs = [claim_input,evidence_input], outputs = output)\n",
        "\n",
        "  model.compile(loss='binary_crossentropy',\n",
        "                optimizer=Adam(0.001),\n",
        "                metrics=['accuracy'])\n",
        "\n",
        "  model.summary()\n",
        "\n",
        "  return model\n",
        "\n"
      ],
      "execution_count": null,
      "outputs": []
    },
    {
      "cell_type": "code",
      "metadata": {
        "id": "HT1jCvDQANb0"
      },
      "source": [],
      "execution_count": null,
      "outputs": []
    },
    {
      "cell_type": "code",
      "metadata": {
        "id": "4dBGdTpZAN5P"
      },
      "source": [
        "#SENTENCE EMBEDDING: Encode token sequences via a RNN and take the last state as the sentence embedding.\n",
        "#MERGING INPUTS: concatenation\n",
        "#This net considers the cosine similarity too.\n",
        "\n",
        "def create_model_13():\n",
        "\n",
        "  shared_embedding = Embedding(input_dim=len(word_to_idx_train), output_dim=embedding_dimension, weights = [V1], trainable = True, mask_zero = True, name = 'shared_embedding')\n",
        "\n",
        "  #sentence encoding for claim\n",
        "  claim_input = Input(shape = (X_train[0].shape[1],), dtype = \"float32\", name = 'claim_input')\n",
        "  encoded_claim = shared_embedding(claim_input)\n",
        "  claim_features =  Bidirectional(LSTM(64, name = 'lstm_claim'))(encoded_claim)\n",
        "\n",
        "  #sentence encoding for evidence\n",
        "  evidence_input = Input(shape = (X_train[1].shape[1],), dtype = \"float32\", name = 'evidence_input')\n",
        "  encoded_evidence = shared_embedding(evidence_input)\n",
        "  evidence_features = Bidirectional(LSTM(64, name = 'lstm_evidence'))(encoded_evidence)\n",
        "\n",
        "  cosine = Dot(axes=1, normalize=True)([claim_features, evidence_features])\n",
        "\n",
        "  # Merge all available features into a single large vector via concatenation\n",
        "  merging = Concatenate(name = 'concatenation')([claim_features, evidence_features, cosine])\n",
        "\n",
        "  #MLP\n",
        "  output = Dense(16, name = 'dense_1')(merging)\n",
        "  output = Activation('relu', name = 'act_1')(output)\n",
        "  output = Dense(4, name = 'dense_2')(output)\n",
        "  output = Activation('relu', name = 'act_2')(output)\n",
        "  output = Dense(2, name = 'output')(output)\n",
        "  output = Activation('softmax',name = 'act_output')(output)\n",
        "\n",
        "\n",
        "\n",
        "  model = Model(inputs = [claim_input,evidence_input], outputs = output)\n",
        "\n",
        "  model.compile(loss='binary_crossentropy',\n",
        "                optimizer=Adam(0.01),\n",
        "                metrics=['accuracy'])\n",
        "\n",
        "  model.summary()\n",
        "\n",
        "  return model\n",
        "\n"
      ],
      "execution_count": null,
      "outputs": []
    },
    {
      "cell_type": "code",
      "metadata": {
        "id": "IhnSQCCXDetg"
      },
      "source": [
        "#SENTENCE EMBEDDING: Encode token sequences via a RNN and take the last state as the sentence embedding.\n",
        "#MERGING INPUTS: sum\n",
        "#This net considers the cosine similarity too.\n",
        "\n",
        "def create_model_14():\n",
        "\n",
        "  shared_embedding = Embedding(input_dim=len(word_to_idx_train), output_dim=embedding_dimension, weights = [V1], trainable = True, mask_zero = True, name = 'shared_embedding')\n",
        "\n",
        "  #sentence encoding for claim\n",
        "  claim_input = Input(shape = (X_train[0].shape[1],), dtype = \"float32\", name = 'claim_input')\n",
        "  encoded_claim = shared_embedding(claim_input)\n",
        "  claim_features =  Bidirectional(LSTM(64, name = 'lstm_claim'))(encoded_claim)\n",
        "\n",
        "  #sentence encoding for evidence\n",
        "  evidence_input = Input(shape = (X_train[1].shape[1],), dtype = \"float32\", name = 'evidence_input')\n",
        "  encoded_evidence = shared_embedding(evidence_input)\n",
        "  evidence_features = Bidirectional(LSTM(64, name = 'lstm_evidence'))(encoded_evidence)\n",
        "\n",
        "  cosine = Dot(axes=1, normalize=True)([claim_features, evidence_features])\n",
        "\n",
        "  # Merge all available features by doing the sum\n",
        "  merging = Add(name = 'sum')([claim_features, evidence_features, cosine])\n",
        "  #flatten_concat = Flatten\n",
        "\n",
        "  #MLP\n",
        "  output = Dense(16, name = 'dense_1')(merging)\n",
        "  output = Activation('relu', name = 'act_1')(output)\n",
        "  output = Dense(4, name = 'dense_2')(output)\n",
        "  output = Activation('relu', name = 'act_2')(output)\n",
        "  output = Dense(2, name = 'output')(output)\n",
        "  output = Activation('softmax',name = 'act_output')(output)\n",
        "\n",
        "\n",
        "\n",
        "  model = Model(inputs = [claim_input,evidence_input], outputs = output)\n",
        "\n",
        "  model.compile(loss='binary_crossentropy',\n",
        "                optimizer=Adam(0.01),\n",
        "                metrics=['accuracy'])\n",
        "\n",
        "  model.summary()\n",
        "\n",
        "  return model\n",
        "\n"
      ],
      "execution_count": null,
      "outputs": []
    },
    {
      "cell_type": "code",
      "metadata": {
        "id": "UZxe2IT6D-to"
      },
      "source": [
        "#SENTENCE EMBEDDING: Encode token sequences via a RNN and take the last state as the sentence embedding.\n",
        "#MERGING INPUTS: concatenation\n",
        "#This net considers the cosine similarity too.\n",
        "\n",
        "def create_model_15():\n",
        "\n",
        "  shared_embedding = Embedding(input_dim=len(word_to_idx_train), output_dim=embedding_dimension, weights = [V1], trainable = True, mask_zero = True, name = 'shared_embedding')\n",
        "\n",
        "  #sentence encoding for claim\n",
        "  claim_input = Input(shape = (X_train[0].shape[1],), dtype = \"float32\", name = 'claim_input')\n",
        "  encoded_claim = shared_embedding(claim_input)\n",
        "  claim_features =  Bidirectional(LSTM(64, name = 'lstm_claim'))(encoded_claim)\n",
        "\n",
        "  #sentence encoding for evidence\n",
        "  evidence_input = Input(shape = (X_train[1].shape[1],), dtype = \"float32\", name = 'evidence_input')\n",
        "  encoded_evidence = shared_embedding(evidence_input)\n",
        "  evidence_features = Bidirectional(LSTM(64, name = 'lstm_evidence'))(encoded_evidence)\n",
        "\n",
        "  cosine = Dot(axes=1, normalize=True)([claim_features, evidence_features])\n",
        "\n",
        "  # Merge all available features into a single large vector via concatenation\n",
        "  merging = Average(name = 'mean')([claim_features, evidence_features, cosine])\n",
        "  #flatten_concat = Flatten\n",
        "\n",
        "  #MLP\n",
        "  output = Dense(16, name = 'dense_1')(merging)\n",
        "  output = Activation('relu', name = 'act_1')(output)\n",
        "  output = Dense(4, name = 'dense_2')(output)\n",
        "  output = Activation('relu', name = 'act_2')(output)\n",
        "  output = Dense(2, name = 'output')(output)\n",
        "  output = Activation('softmax',name = 'act_output')(output)\n",
        "\n",
        "\n",
        "\n",
        "  model = Model(inputs = [claim_input,evidence_input], outputs = output)\n",
        "\n",
        "  model.compile(loss='binary_crossentropy',\n",
        "                optimizer=Adam(0.01),\n",
        "                metrics=['accuracy'])\n",
        "\n",
        "  model.summary()\n",
        "\n",
        "  return model\n",
        "\n"
      ],
      "execution_count": null,
      "outputs": []
    },
    {
      "cell_type": "markdown",
      "metadata": {
        "id": "ZqOLZbzJAZsL"
      },
      "source": [
        "#### TRAINING"
      ]
    },
    {
      "cell_type": "code",
      "metadata": {
        "colab": {
          "base_uri": "https://localhost:8080/"
        },
        "id": "MwVWM_9bkRWs",
        "outputId": "65f9eff2-a4f8-4702-c3ee-4cde008c11f9"
      },
      "source": [
        "model = create_model_1()"
      ],
      "execution_count": null,
      "outputs": [
        {
          "output_type": "stream",
          "text": [
            "Model: \"functional_19\"\n",
            "__________________________________________________________________________________________________\n",
            "Layer (type)                    Output Shape         Param #     Connected to                     \n",
            "==================================================================================================\n",
            "claim_input (InputLayer)        [(None, 202)]        0                                            \n",
            "__________________________________________________________________________________________________\n",
            "evidence_input (InputLayer)     [(None, 202)]        0                                            \n",
            "__________________________________________________________________________________________________\n",
            "shared_embedding (Embedding)    (None, 202, 300)     10046700    claim_input[0][0]                \n",
            "                                                                 evidence_input[0][0]             \n",
            "__________________________________________________________________________________________________\n",
            "bidirectional (Bidirectional)   (None, 128)          186880      shared_embedding[0][0]           \n",
            "__________________________________________________________________________________________________\n",
            "bidirectional_1 (Bidirectional) (None, 128)          186880      shared_embedding[1][0]           \n",
            "__________________________________________________________________________________________________\n",
            "concatenation (Concatenate)     (None, 256)          0           bidirectional[0][0]              \n",
            "                                                                 bidirectional_1[0][0]            \n",
            "__________________________________________________________________________________________________\n",
            "dense_1 (Dense)                 (None, 16)           4112        concatenation[0][0]              \n",
            "__________________________________________________________________________________________________\n",
            "act_1 (Activation)              (None, 16)           0           dense_1[0][0]                    \n",
            "__________________________________________________________________________________________________\n",
            "dense_2 (Dense)                 (None, 4)            68          act_1[0][0]                      \n",
            "__________________________________________________________________________________________________\n",
            "act_2 (Activation)              (None, 4)            0           dense_2[0][0]                    \n",
            "__________________________________________________________________________________________________\n",
            "output (Dense)                  (None, 2)            10          act_2[0][0]                      \n",
            "__________________________________________________________________________________________________\n",
            "act_output (Activation)         (None, 2)            0           output[0][0]                     \n",
            "==================================================================================================\n",
            "Total params: 10,424,650\n",
            "Trainable params: 10,424,650\n",
            "Non-trainable params: 0\n",
            "__________________________________________________________________________________________________\n"
          ],
          "name": "stdout"
        }
      ]
    },
    {
      "cell_type": "code",
      "metadata": {
        "colab": {
          "base_uri": "https://localhost:8080/"
        },
        "id": "M8qUTS6D7va1",
        "outputId": "7fba3b9a-743a-4a9b-bbaf-4a2d225ae331"
      },
      "source": [
        "from keras.layers import Input, Dense, LSTM, InputLayer, Bidirectional, TimeDistributed, Embedding, Activation, GRU, Dropout, Masking\n",
        "from keras.callbacks import EarlyStopping, ReduceLROnPlateau, ModelCheckpoint\n",
        "from keras.preprocessing.sequence import pad_sequences\n",
        "from keras.models import Sequential, Model\n",
        "from keras.optimizers import Adam\n",
        "\n",
        "import tensorflow as tf\n",
        "checkpoint_filepath = '/content/drive/MyDrive/NLP/ass4_model_1_2.h5' # remember to change it\n",
        "\n",
        "callbacks = [ EarlyStopping(patience=3, monitor=\"val_loss\"),\n",
        "              ReduceLROnPlateau(monitor=\"val_loss\", factor=0.1, patience=2),\n",
        "              ModelCheckpoint(filepath=checkpoint_filepath, save_weights_only=True, monitor='val_loss', mode='min', save_best_only=True, verbose=1)]\n",
        "\n",
        "history = model.fit(X_train, onehot_encoded, validation_data=(X_val, onehot_encoded_val), batch_size=32, epochs=100, callbacks=callbacks)"
      ],
      "execution_count": null,
      "outputs": [
        {
          "output_type": "stream",
          "text": [
            "Epoch 1/100\n",
            "3805/3805 [==============================] - ETA: 0s - loss: 0.3954 - accuracy: 0.8357\n",
            "Epoch 00001: val_loss improved from inf to 0.61527, saving model to /content/drive/MyDrive/NLP/ass4_model_1_2.h5\n",
            "3805/3805 [==============================] - 478s 126ms/step - loss: 0.3954 - accuracy: 0.8357 - val_loss: 0.6153 - val_accuracy: 0.6948\n",
            "Epoch 2/100\n",
            "3805/3805 [==============================] - ETA: 0s - loss: 0.3463 - accuracy: 0.8536\n",
            "Epoch 00002: val_loss improved from 0.61527 to 0.54624, saving model to /content/drive/MyDrive/NLP/ass4_model_1_2.h5\n",
            "3805/3805 [==============================] - 461s 121ms/step - loss: 0.3463 - accuracy: 0.8536 - val_loss: 0.5462 - val_accuracy: 0.7211\n",
            "Epoch 3/100\n",
            "3805/3805 [==============================] - ETA: 0s - loss: 0.3276 - accuracy: 0.8618\n",
            "Epoch 00003: val_loss did not improve from 0.54624\n",
            "3805/3805 [==============================] - 464s 122ms/step - loss: 0.3276 - accuracy: 0.8618 - val_loss: 0.5567 - val_accuracy: 0.7132\n",
            "Epoch 4/100\n",
            "3805/3805 [==============================] - ETA: 0s - loss: 0.3174 - accuracy: 0.8656\n",
            "Epoch 00004: val_loss did not improve from 0.54624\n",
            "3805/3805 [==============================] - 459s 121ms/step - loss: 0.3174 - accuracy: 0.8656 - val_loss: 0.6168 - val_accuracy: 0.7137\n",
            "Epoch 5/100\n",
            "3805/3805 [==============================] - ETA: 0s - loss: 0.2808 - accuracy: 0.8764\n",
            "Epoch 00005: val_loss did not improve from 0.54624\n",
            "3805/3805 [==============================] - 459s 121ms/step - loss: 0.2808 - accuracy: 0.8764 - val_loss: 0.5770 - val_accuracy: 0.7223\n"
          ],
          "name": "stdout"
        }
      ]
    },
    {
      "cell_type": "code",
      "metadata": {
        "colab": {
          "base_uri": "https://localhost:8080/"
        },
        "id": "c7Kx8RbLdWkv",
        "outputId": "e693eb05-e97f-46b4-c03c-eab645fc4f96"
      },
      "source": [
        "model2 = create_model_2()"
      ],
      "execution_count": null,
      "outputs": [
        {
          "output_type": "stream",
          "text": [
            "Model: \"functional_11\"\n",
            "__________________________________________________________________________________________________\n",
            "Layer (type)                    Output Shape         Param #     Connected to                     \n",
            "==================================================================================================\n",
            "claim_input (InputLayer)        [(None, 202)]        0                                            \n",
            "__________________________________________________________________________________________________\n",
            "evidence_input (InputLayer)     [(None, 202)]        0                                            \n",
            "__________________________________________________________________________________________________\n",
            "shared_embedding (Embedding)    (None, 202, 300)     10046700    claim_input[0][0]                \n",
            "                                                                 evidence_input[0][0]             \n",
            "__________________________________________________________________________________________________\n",
            "bidirectional_10 (Bidirectional (None, 512)          1140736     shared_embedding[0][0]           \n",
            "__________________________________________________________________________________________________\n",
            "bidirectional_11 (Bidirectional (None, 512)          1140736     shared_embedding[1][0]           \n",
            "__________________________________________________________________________________________________\n",
            "sum (Add)                       (None, 512)          0           bidirectional_10[0][0]           \n",
            "                                                                 bidirectional_11[0][0]           \n",
            "__________________________________________________________________________________________________\n",
            "dense_1 (Dense)                 (None, 32)           16416       sum[0][0]                        \n",
            "__________________________________________________________________________________________________\n",
            "act_1 (Activation)              (None, 32)           0           dense_1[0][0]                    \n",
            "__________________________________________________________________________________________________\n",
            "dense_2 (Dense)                 (None, 4)            132         act_1[0][0]                      \n",
            "__________________________________________________________________________________________________\n",
            "act_2 (Activation)              (None, 4)            0           dense_2[0][0]                    \n",
            "__________________________________________________________________________________________________\n",
            "output (Dense)                  (None, 2)            10          act_2[0][0]                      \n",
            "__________________________________________________________________________________________________\n",
            "act_output (Activation)         (None, 2)            0           output[0][0]                     \n",
            "==================================================================================================\n",
            "Total params: 12,344,730\n",
            "Trainable params: 12,344,730\n",
            "Non-trainable params: 0\n",
            "__________________________________________________________________________________________________\n"
          ],
          "name": "stdout"
        }
      ]
    },
    {
      "cell_type": "code",
      "metadata": {
        "colab": {
          "base_uri": "https://localhost:8080/"
        },
        "id": "TeJwzaT9Aoy0",
        "outputId": "53e5cfba-65d7-4b87-f389-e923412c450f"
      },
      "source": [
        "model2 = create_model_2()"
      ],
      "execution_count": null,
      "outputs": [
        {
          "output_type": "stream",
          "text": [
            "Model: \"functional_9\"\n",
            "__________________________________________________________________________________________________\n",
            "Layer (type)                    Output Shape         Param #     Connected to                     \n",
            "==================================================================================================\n",
            "claim_input (InputLayer)        [(None, 202)]        0                                            \n",
            "__________________________________________________________________________________________________\n",
            "evidence_input (InputLayer)     [(None, 202)]        0                                            \n",
            "__________________________________________________________________________________________________\n",
            "shared_embedding (Embedding)    (None, 202, 300)     10046700    claim_input[0][0]                \n",
            "                                                                 evidence_input[0][0]             \n",
            "__________________________________________________________________________________________________\n",
            "bidirectional_8 (Bidirectional) (None, 128)          186880      shared_embedding[0][0]           \n",
            "__________________________________________________________________________________________________\n",
            "bidirectional_9 (Bidirectional) (None, 128)          186880      shared_embedding[1][0]           \n",
            "__________________________________________________________________________________________________\n",
            "sum (Add)                       (None, 128)          0           bidirectional_8[0][0]            \n",
            "                                                                 bidirectional_9[0][0]            \n",
            "__________________________________________________________________________________________________\n",
            "dense_1 (Dense)                 (None, 16)           2064        sum[0][0]                        \n",
            "__________________________________________________________________________________________________\n",
            "act_1 (Activation)              (None, 16)           0           dense_1[0][0]                    \n",
            "__________________________________________________________________________________________________\n",
            "dense_2 (Dense)                 (None, 4)            68          act_1[0][0]                      \n",
            "__________________________________________________________________________________________________\n",
            "act_2 (Activation)              (None, 4)            0           dense_2[0][0]                    \n",
            "__________________________________________________________________________________________________\n",
            "output (Dense)                  (None, 2)            10          act_2[0][0]                      \n",
            "__________________________________________________________________________________________________\n",
            "act_output (Activation)         (None, 2)            0           output[0][0]                     \n",
            "==================================================================================================\n",
            "Total params: 10,422,602\n",
            "Trainable params: 10,422,602\n",
            "Non-trainable params: 0\n",
            "__________________________________________________________________________________________________\n"
          ],
          "name": "stdout"
        }
      ]
    },
    {
      "cell_type": "code",
      "metadata": {
        "colab": {
          "base_uri": "https://localhost:8080/"
        },
        "id": "0mEYaNGSAooN",
        "outputId": "46301fc5-4e54-4a5b-ac84-5fd138c47c39"
      },
      "source": [
        "checkpoint_filepath = '/content/drive/MyDrive/NLP/ass4_model_2_1.h5' # remember to change it\n",
        "\n",
        "callbacks = [ EarlyStopping(patience=3, monitor=\"val_loss\"),\n",
        "              ReduceLROnPlateau(monitor=\"val_loss\", factor=0.1, patience=2),\n",
        "              ModelCheckpoint(filepath=checkpoint_filepath, save_weights_only=True, monitor='val_loss', mode='min', save_best_only=True, verbose=1)]\n",
        "\n",
        "history = model2.fit(X_train, onehot_encoded, validation_data=(X_val, onehot_encoded_val), batch_size=32, epochs=100, callbacks=callbacks)"
      ],
      "execution_count": null,
      "outputs": [
        {
          "output_type": "stream",
          "text": [
            "Epoch 1/100\n",
            "3805/3805 [==============================] - ETA: 0s - loss: 0.3933 - accuracy: 0.8382\n",
            "Epoch 00001: val_loss improved from inf to 0.58385, saving model to /content/drive/MyDrive/NLP/ass4_model_2_1.h5\n",
            "3805/3805 [==============================] - 499s 131ms/step - loss: 0.3933 - accuracy: 0.8382 - val_loss: 0.5839 - val_accuracy: 0.7036\n",
            "Epoch 2/100\n",
            "3805/3805 [==============================] - ETA: 0s - loss: 0.3428 - accuracy: 0.8563\n",
            "Epoch 00002: val_loss improved from 0.58385 to 0.57343, saving model to /content/drive/MyDrive/NLP/ass4_model_2_1.h5\n",
            "3805/3805 [==============================] - 573s 151ms/step - loss: 0.3428 - accuracy: 0.8563 - val_loss: 0.5734 - val_accuracy: 0.7121\n",
            "Epoch 3/100\n",
            "3805/3805 [==============================] - ETA: 0s - loss: 0.3243 - accuracy: 0.8629\n",
            "Epoch 00003: val_loss improved from 0.57343 to 0.54855, saving model to /content/drive/MyDrive/NLP/ass4_model_2_1.h5\n",
            "3805/3805 [==============================] - 579s 152ms/step - loss: 0.3243 - accuracy: 0.8629 - val_loss: 0.5486 - val_accuracy: 0.7171\n",
            "Epoch 4/100\n",
            "3805/3805 [==============================] - ETA: 0s - loss: 0.3142 - accuracy: 0.8662\n",
            "Epoch 00004: val_loss did not improve from 0.54855\n",
            "3805/3805 [==============================] - 459s 121ms/step - loss: 0.3142 - accuracy: 0.8662 - val_loss: 0.5855 - val_accuracy: 0.7105\n",
            "Epoch 5/100\n",
            "3805/3805 [==============================] - ETA: 0s - loss: 0.3069 - accuracy: 0.8694\n",
            "Epoch 00005: val_loss did not improve from 0.54855\n",
            "3805/3805 [==============================] - 457s 120ms/step - loss: 0.3069 - accuracy: 0.8694 - val_loss: 0.6024 - val_accuracy: 0.7100\n",
            "Epoch 6/100\n",
            "3805/3805 [==============================] - ETA: 0s - loss: 0.2744 - accuracy: 0.8801\n",
            "Epoch 00006: val_loss did not improve from 0.54855\n",
            "3805/3805 [==============================] - 458s 120ms/step - loss: 0.2744 - accuracy: 0.8801 - val_loss: 0.5951 - val_accuracy: 0.7097\n"
          ],
          "name": "stdout"
        }
      ]
    },
    {
      "cell_type": "code",
      "metadata": {
        "colab": {
          "base_uri": "https://localhost:8080/"
        },
        "id": "f4a8t1AvS2PK",
        "outputId": "933411b9-1ca8-410f-abad-381ce7dce208"
      },
      "source": [
        "model3 = create_model_3()"
      ],
      "execution_count": null,
      "outputs": [
        {
          "output_type": "stream",
          "text": [
            "Model: \"functional_23\"\n",
            "__________________________________________________________________________________________________\n",
            "Layer (type)                    Output Shape         Param #     Connected to                     \n",
            "==================================================================================================\n",
            "claim_input (InputLayer)        [(None, 202)]        0                                            \n",
            "__________________________________________________________________________________________________\n",
            "evidence_input (InputLayer)     [(None, 202)]        0                                            \n",
            "__________________________________________________________________________________________________\n",
            "shared_embedding (Embedding)    (None, 202, 300)     10046700    claim_input[0][0]                \n",
            "                                                                 evidence_input[0][0]             \n",
            "__________________________________________________________________________________________________\n",
            "bidirectional_6 (Bidirectional) (None, 128)          186880      shared_embedding[0][0]           \n",
            "__________________________________________________________________________________________________\n",
            "bidirectional_7 (Bidirectional) (None, 128)          186880      shared_embedding[1][0]           \n",
            "__________________________________________________________________________________________________\n",
            "concatenation (Average)         (None, 128)          0           bidirectional_6[0][0]            \n",
            "                                                                 bidirectional_7[0][0]            \n",
            "__________________________________________________________________________________________________\n",
            "dense_2 (Dense)                 (None, 4)            516         concatenation[0][0]              \n",
            "__________________________________________________________________________________________________\n",
            "act_2 (Activation)              (None, 4)            0           dense_2[0][0]                    \n",
            "__________________________________________________________________________________________________\n",
            "output (Dense)                  (None, 2)            10          act_2[0][0]                      \n",
            "__________________________________________________________________________________________________\n",
            "act_output (Activation)         (None, 2)            0           output[0][0]                     \n",
            "==================================================================================================\n",
            "Total params: 10,420,986\n",
            "Trainable params: 10,420,986\n",
            "Non-trainable params: 0\n",
            "__________________________________________________________________________________________________\n"
          ],
          "name": "stdout"
        }
      ]
    },
    {
      "cell_type": "code",
      "metadata": {
        "colab": {
          "base_uri": "https://localhost:8080/"
        },
        "id": "UMl1lu-ik5C-",
        "outputId": "0ce23009-0916-45b6-f4cb-406619a57140"
      },
      "source": [
        "checkpoint_filepath = '/content/drive/MyDrive/NLP/ass4_model_3_1.h5' # remember to change it\n",
        "\n",
        "callbacks = [ EarlyStopping(patience=3, monitor=\"val_loss\"),\n",
        "              ReduceLROnPlateau(monitor=\"val_loss\", factor=0.1, patience=2),\n",
        "              ModelCheckpoint(filepath=checkpoint_filepath, save_weights_only=True, monitor='val_loss', mode='min', save_best_only=True, verbose=1)]\n",
        "\n",
        "history = model3.fit(X_train, onehot_encoded, validation_data=(X_val, onehot_encoded_val), batch_size=32, epochs=100, callbacks=callbacks)"
      ],
      "execution_count": null,
      "outputs": [
        {
          "output_type": "stream",
          "text": [
            "Epoch 1/100\n",
            "3805/3805 [==============================] - ETA: 0s - loss: 0.3782 - accuracy: 0.8418\n",
            "Epoch 00001: val_loss improved from inf to 0.55305, saving model to /content/drive/MyDrive/NLP/ass4_model_3_1.h5\n",
            "3805/3805 [==============================] - 456s 120ms/step - loss: 0.3782 - accuracy: 0.8418 - val_loss: 0.5531 - val_accuracy: 0.7280\n",
            "Epoch 2/100\n",
            "3805/3805 [==============================] - ETA: 0s - loss: 0.2906 - accuracy: 0.8771\n",
            "Epoch 00002: val_loss improved from 0.55305 to 0.54595, saving model to /content/drive/MyDrive/NLP/ass4_model_3_1.h5\n",
            "3805/3805 [==============================] - 457s 120ms/step - loss: 0.2906 - accuracy: 0.8771 - val_loss: 0.5459 - val_accuracy: 0.7502\n",
            "Epoch 3/100\n",
            "3805/3805 [==============================] - ETA: 0s - loss: 0.2315 - accuracy: 0.9007\n",
            "Epoch 00003: val_loss improved from 0.54595 to 0.53195, saving model to /content/drive/MyDrive/NLP/ass4_model_3_1.h5\n",
            "3805/3805 [==============================] - 456s 120ms/step - loss: 0.2315 - accuracy: 0.9007 - val_loss: 0.5319 - val_accuracy: 0.7537\n",
            "Epoch 4/100\n",
            "3805/3805 [==============================] - ETA: 0s - loss: 0.1811 - accuracy: 0.9223\n",
            "Epoch 00004: val_loss did not improve from 0.53195\n",
            "3805/3805 [==============================] - 453s 119ms/step - loss: 0.1811 - accuracy: 0.9223 - val_loss: 0.5924 - val_accuracy: 0.7579\n",
            "Epoch 5/100\n",
            "3805/3805 [==============================] - ETA: 0s - loss: 0.1404 - accuracy: 0.9398\n",
            "Epoch 00005: val_loss did not improve from 0.53195\n",
            "3805/3805 [==============================] - 453s 119ms/step - loss: 0.1404 - accuracy: 0.9398 - val_loss: 0.6697 - val_accuracy: 0.7503\n",
            "Epoch 6/100\n",
            "3805/3805 [==============================] - ETA: 0s - loss: 0.0846 - accuracy: 0.9658\n",
            "Epoch 00006: val_loss did not improve from 0.53195\n",
            "3805/3805 [==============================] - 458s 120ms/step - loss: 0.0846 - accuracy: 0.9658 - val_loss: 0.8638 - val_accuracy: 0.7509\n"
          ],
          "name": "stdout"
        }
      ]
    },
    {
      "cell_type": "code",
      "metadata": {
        "colab": {
          "base_uri": "https://localhost:8080/"
        },
        "id": "HYygP-KpwPuE",
        "outputId": "c1ef1aa1-b31a-4448-a96b-5e821e2e2dbf"
      },
      "source": [
        "model_4 = create_model_4()"
      ],
      "execution_count": null,
      "outputs": [
        {
          "output_type": "stream",
          "text": [
            "Model: \"functional_17\"\n",
            "__________________________________________________________________________________________________\n",
            "Layer (type)                    Output Shape         Param #     Connected to                     \n",
            "==================================================================================================\n",
            "claim_input (InputLayer)        [(None, 202)]        0                                            \n",
            "__________________________________________________________________________________________________\n",
            "evidence_input (InputLayer)     [(None, 202)]        0                                            \n",
            "__________________________________________________________________________________________________\n",
            "shared_embedding (Embedding)    (None, 202, 300)     10046700    claim_input[0][0]                \n",
            "                                                                 evidence_input[0][0]             \n",
            "__________________________________________________________________________________________________\n",
            "bidirectional_16 (Bidirectional (None, 202, 128)     186880      shared_embedding[0][0]           \n",
            "__________________________________________________________________________________________________\n",
            "bidirectional_17 (Bidirectional (None, 202, 128)     186880      shared_embedding[1][0]           \n",
            "__________________________________________________________________________________________________\n",
            "lambda_8 (Lambda)               (None, 128)          0           bidirectional_16[0][0]           \n",
            "__________________________________________________________________________________________________\n",
            "lambda_9 (Lambda)               (None, 128)          0           bidirectional_17[0][0]           \n",
            "__________________________________________________________________________________________________\n",
            "concatenation (Concatenate)     (None, 256)          0           lambda_8[0][0]                   \n",
            "                                                                 lambda_9[0][0]                   \n",
            "__________________________________________________________________________________________________\n",
            "dense_1 (Dense)                 (None, 16)           4112        concatenation[0][0]              \n",
            "__________________________________________________________________________________________________\n",
            "act_1 (Activation)              (None, 16)           0           dense_1[0][0]                    \n",
            "__________________________________________________________________________________________________\n",
            "dense_2 (Dense)                 (None, 4)            68          act_1[0][0]                      \n",
            "__________________________________________________________________________________________________\n",
            "act_2 (Activation)              (None, 4)            0           dense_2[0][0]                    \n",
            "__________________________________________________________________________________________________\n",
            "output (Dense)                  (None, 2)            10          act_2[0][0]                      \n",
            "__________________________________________________________________________________________________\n",
            "act_output (Activation)         (None, 2)            0           output[0][0]                     \n",
            "==================================================================================================\n",
            "Total params: 10,424,650\n",
            "Trainable params: 10,424,650\n",
            "Non-trainable params: 0\n",
            "__________________________________________________________________________________________________\n"
          ],
          "name": "stdout"
        }
      ]
    },
    {
      "cell_type": "code",
      "metadata": {
        "colab": {
          "base_uri": "https://localhost:8080/"
        },
        "id": "q0mGozSQwSyL",
        "outputId": "78b37f9e-b5d6-43c7-b80a-3d4a328ba49f"
      },
      "source": [
        "checkpoint_filepath = '/content/drive/MyDrive/NLP/ass4_model_4_1.h5' # remember to change it\n",
        "\n",
        "callbacks = [ EarlyStopping(patience=3, monitor=\"val_loss\"),\n",
        "              ReduceLROnPlateau(monitor=\"val_loss\", factor = 0.1, patience=2),\n",
        "              ModelCheckpoint(filepath=checkpoint_filepath, save_weights_only=True, monitor='val_loss', mode='min', save_best_only=True, verbose=1)]\n",
        "\n",
        "history = model_4.fit(X_train, onehot_encoded, validation_data=(X_val, onehot_encoded_val), batch_size=32, epochs=100, callbacks=callbacks)"
      ],
      "execution_count": null,
      "outputs": [
        {
          "output_type": "stream",
          "text": [
            "Epoch 1/100\n",
            "3805/3805 [==============================] - ETA: 0s - loss: 0.3933 - accuracy: 0.8393\n",
            "Epoch 00001: val_loss improved from inf to 0.52385, saving model to /content/drive/MyDrive/NLP/ass4_model_4_1.h5\n",
            "3805/3805 [==============================] - 463s 122ms/step - loss: 0.3933 - accuracy: 0.8393 - val_loss: 0.5239 - val_accuracy: 0.7285\n",
            "Epoch 2/100\n",
            "3805/3805 [==============================] - ETA: 0s - loss: 0.3296 - accuracy: 0.8653\n",
            "Epoch 00002: val_loss did not improve from 0.52385\n",
            "3805/3805 [==============================] - 460s 121ms/step - loss: 0.3296 - accuracy: 0.8653 - val_loss: 0.5342 - val_accuracy: 0.7318\n",
            "Epoch 3/100\n",
            "3805/3805 [==============================] - ETA: 0s - loss: 0.3078 - accuracy: 0.8731\n",
            "Epoch 00003: val_loss did not improve from 0.52385\n",
            "3805/3805 [==============================] - 457s 120ms/step - loss: 0.3078 - accuracy: 0.8731 - val_loss: 0.5753 - val_accuracy: 0.7158\n",
            "Epoch 4/100\n",
            "3805/3805 [==============================] - ETA: 0s - loss: 0.2693 - accuracy: 0.8873\n",
            "Epoch 00004: val_loss did not improve from 0.52385\n",
            "3805/3805 [==============================] - 460s 121ms/step - loss: 0.2693 - accuracy: 0.8873 - val_loss: 0.6110 - val_accuracy: 0.7221\n"
          ],
          "name": "stdout"
        }
      ]
    },
    {
      "cell_type": "code",
      "metadata": {
        "colab": {
          "base_uri": "https://localhost:8080/"
        },
        "id": "oJaGI7s0zVFI",
        "outputId": "2be4857c-43be-43c3-8021-d7157cb38e44"
      },
      "source": [
        "model_5 = create_model_5()"
      ],
      "execution_count": null,
      "outputs": [
        {
          "output_type": "stream",
          "text": [
            "Model: \"functional_19\"\n",
            "__________________________________________________________________________________________________\n",
            "Layer (type)                    Output Shape         Param #     Connected to                     \n",
            "==================================================================================================\n",
            "claim_input (InputLayer)        [(None, 202)]        0                                            \n",
            "__________________________________________________________________________________________________\n",
            "evidence_input (InputLayer)     [(None, 202)]        0                                            \n",
            "__________________________________________________________________________________________________\n",
            "shared_embedding (Embedding)    (None, 202, 300)     10046700    claim_input[0][0]                \n",
            "                                                                 evidence_input[0][0]             \n",
            "__________________________________________________________________________________________________\n",
            "bidirectional_18 (Bidirectional (None, 202, 128)     186880      shared_embedding[0][0]           \n",
            "__________________________________________________________________________________________________\n",
            "bidirectional_19 (Bidirectional (None, 202, 128)     186880      shared_embedding[1][0]           \n",
            "__________________________________________________________________________________________________\n",
            "lambda_10 (Lambda)              (None, 128)          0           bidirectional_18[0][0]           \n",
            "__________________________________________________________________________________________________\n",
            "lambda_11 (Lambda)              (None, 128)          0           bidirectional_19[0][0]           \n",
            "__________________________________________________________________________________________________\n",
            "sum (Add)                       (None, 128)          0           lambda_10[0][0]                  \n",
            "                                                                 lambda_11[0][0]                  \n",
            "__________________________________________________________________________________________________\n",
            "dense_1 (Dense)                 (None, 16)           2064        sum[0][0]                        \n",
            "__________________________________________________________________________________________________\n",
            "act_1 (Activation)              (None, 16)           0           dense_1[0][0]                    \n",
            "__________________________________________________________________________________________________\n",
            "dense_2 (Dense)                 (None, 4)            68          act_1[0][0]                      \n",
            "__________________________________________________________________________________________________\n",
            "act_2 (Activation)              (None, 4)            0           dense_2[0][0]                    \n",
            "__________________________________________________________________________________________________\n",
            "output (Dense)                  (None, 2)            10          act_2[0][0]                      \n",
            "__________________________________________________________________________________________________\n",
            "act_output (Activation)         (None, 2)            0           output[0][0]                     \n",
            "==================================================================================================\n",
            "Total params: 10,422,602\n",
            "Trainable params: 10,422,602\n",
            "Non-trainable params: 0\n",
            "__________________________________________________________________________________________________\n"
          ],
          "name": "stdout"
        }
      ]
    },
    {
      "cell_type": "code",
      "metadata": {
        "colab": {
          "base_uri": "https://localhost:8080/"
        },
        "id": "ClputoL_zWqO",
        "outputId": "07e94bed-62fb-4c2b-f84b-83273ec7cc0d"
      },
      "source": [
        "checkpoint_filepath = '/content/drive/MyDrive/NLP/ass4_model_5_2.h5' # remember to change it\n",
        "\n",
        "callbacks = [ EarlyStopping(patience=3, monitor=\"val_loss\"),\n",
        "              ReduceLROnPlateau(monitor=\"val_loss\", factor = 0.1, patience=2),\n",
        "              ModelCheckpoint(filepath=checkpoint_filepath, save_weights_only=True, monitor='val_loss', mode='min', save_best_only=True, verbose=1)]\n",
        "\n",
        "history = model_5.fit(X_train, onehot_encoded, validation_data=(X_val, onehot_encoded_val), batch_size=32, epochs=100, callbacks=callbacks)"
      ],
      "execution_count": null,
      "outputs": [
        {
          "output_type": "stream",
          "text": [
            "Epoch 1/100\n",
            "3805/3805 [==============================] - ETA: 0s - loss: 0.4134 - accuracy: 0.8272\n",
            "Epoch 00001: val_loss improved from inf to 0.54814, saving model to /content/drive/MyDrive/NLP/ass4_model_5_2.h5\n",
            "3805/3805 [==============================] - 473s 124ms/step - loss: 0.4134 - accuracy: 0.8272 - val_loss: 0.5481 - val_accuracy: 0.7270\n",
            "Epoch 2/100\n",
            "3805/3805 [==============================] - ETA: 0s - loss: 0.3058 - accuracy: 0.8732\n",
            "Epoch 00002: val_loss improved from 0.54814 to 0.53360, saving model to /content/drive/MyDrive/NLP/ass4_model_5_2.h5\n",
            "3805/3805 [==============================] - 470s 123ms/step - loss: 0.3058 - accuracy: 0.8732 - val_loss: 0.5336 - val_accuracy: 0.7415\n",
            "Epoch 3/100\n",
            "3805/3805 [==============================] - ETA: 0s - loss: 0.2537 - accuracy: 0.8962\n",
            "Epoch 00003: val_loss did not improve from 0.53360\n",
            "3805/3805 [==============================] - 468s 123ms/step - loss: 0.2537 - accuracy: 0.8962 - val_loss: 0.5762 - val_accuracy: 0.7414\n",
            "Epoch 4/100\n",
            "3805/3805 [==============================] - ETA: 0s - loss: 0.2148 - accuracy: 0.9123\n",
            "Epoch 00004: val_loss did not improve from 0.53360\n",
            "3805/3805 [==============================] - 462s 121ms/step - loss: 0.2148 - accuracy: 0.9123 - val_loss: 0.5804 - val_accuracy: 0.7410\n",
            "Epoch 5/100\n",
            "3805/3805 [==============================] - ETA: 0s - loss: 0.1578 - accuracy: 0.9373\n",
            "Epoch 00005: val_loss did not improve from 0.53360\n",
            "3805/3805 [==============================] - 453s 119ms/step - loss: 0.1578 - accuracy: 0.9373 - val_loss: 0.7068 - val_accuracy: 0.7341\n"
          ],
          "name": "stdout"
        }
      ]
    },
    {
      "cell_type": "code",
      "metadata": {
        "colab": {
          "base_uri": "https://localhost:8080/"
        },
        "id": "kxU3zihlMYRf",
        "outputId": "3e95b890-6b56-40ee-cedd-5c80da495b46"
      },
      "source": [
        "model_6 = create_model_6()"
      ],
      "execution_count": null,
      "outputs": [
        {
          "output_type": "stream",
          "text": [
            "Model: \"functional_5\"\n",
            "__________________________________________________________________________________________________\n",
            "Layer (type)                    Output Shape         Param #     Connected to                     \n",
            "==================================================================================================\n",
            "claim_input (InputLayer)        [(None, 202)]        0                                            \n",
            "__________________________________________________________________________________________________\n",
            "evidence_input (InputLayer)     [(None, 202)]        0                                            \n",
            "__________________________________________________________________________________________________\n",
            "shared_embedding (Embedding)    (None, 202, 300)     10046700    claim_input[0][0]                \n",
            "                                                                 evidence_input[0][0]             \n",
            "__________________________________________________________________________________________________\n",
            "bidirectional_4 (Bidirectional) (None, 202, 128)     186880      shared_embedding[0][0]           \n",
            "__________________________________________________________________________________________________\n",
            "bidirectional_5 (Bidirectional) (None, 202, 128)     186880      shared_embedding[1][0]           \n",
            "__________________________________________________________________________________________________\n",
            "lambda_4 (Lambda)               (None, 128)          0           bidirectional_4[0][0]            \n",
            "__________________________________________________________________________________________________\n",
            "lambda_5 (Lambda)               (None, 128)          0           bidirectional_5[0][0]            \n",
            "__________________________________________________________________________________________________\n",
            "mean (Average)                  (None, 128)          0           lambda_4[0][0]                   \n",
            "                                                                 lambda_5[0][0]                   \n",
            "__________________________________________________________________________________________________\n",
            "dense_1 (Dense)                 (None, 16)           2064        mean[0][0]                       \n",
            "__________________________________________________________________________________________________\n",
            "act_1 (Activation)              (None, 16)           0           dense_1[0][0]                    \n",
            "__________________________________________________________________________________________________\n",
            "dense_2 (Dense)                 (None, 4)            68          act_1[0][0]                      \n",
            "__________________________________________________________________________________________________\n",
            "act_2 (Activation)              (None, 4)            0           dense_2[0][0]                    \n",
            "__________________________________________________________________________________________________\n",
            "output (Dense)                  (None, 2)            10          act_2[0][0]                      \n",
            "__________________________________________________________________________________________________\n",
            "act_output (Activation)         (None, 2)            0           output[0][0]                     \n",
            "==================================================================================================\n",
            "Total params: 10,422,602\n",
            "Trainable params: 10,422,602\n",
            "Non-trainable params: 0\n",
            "__________________________________________________________________________________________________\n"
          ],
          "name": "stdout"
        }
      ]
    },
    {
      "cell_type": "code",
      "metadata": {
        "colab": {
          "base_uri": "https://localhost:8080/"
        },
        "id": "nr7mAHu-MEFZ",
        "outputId": "12988ba9-e4fa-487f-ee48-bdf20851c9f9"
      },
      "source": [
        "checkpoint_filepath = '/content/drive/MyDrive/NLP/ass4_model_6.h5' # remember to change it\n",
        "\n",
        "callbacks = [ EarlyStopping(patience=3, monitor=\"val_loss\"),\n",
        "              ReduceLROnPlateau(monitor=\"val_loss\", factor = 0.1, patience=2),\n",
        "              ModelCheckpoint(filepath=checkpoint_filepath, save_weights_only=True, monitor='val_loss', mode='min', save_best_only=True, verbose=1)]\n",
        "\n",
        "history = model_6.fit(X_train, onehot_encoded, validation_data=(X_val, onehot_encoded_val), batch_size=32, epochs=100, callbacks=callbacks)"
      ],
      "execution_count": null,
      "outputs": [
        {
          "output_type": "stream",
          "text": [
            "Epoch 1/100\n",
            "3805/3805 [==============================] - ETA: 0s - loss: 0.4223 - accuracy: 0.8231\n",
            "Epoch 00001: val_loss improved from inf to 0.56041, saving model to /content/drive/MyDrive/NLP/ass4_model_6.h5\n",
            "3805/3805 [==============================] - 469s 123ms/step - loss: 0.4223 - accuracy: 0.8231 - val_loss: 0.5604 - val_accuracy: 0.7355\n",
            "Epoch 2/100\n",
            "3805/3805 [==============================] - ETA: 0s - loss: 0.3136 - accuracy: 0.8723\n",
            "Epoch 00002: val_loss improved from 0.56041 to 0.52100, saving model to /content/drive/MyDrive/NLP/ass4_model_6.h5\n",
            "3805/3805 [==============================] - 465s 122ms/step - loss: 0.3136 - accuracy: 0.8723 - val_loss: 0.5210 - val_accuracy: 0.7486\n",
            "Epoch 3/100\n",
            "3805/3805 [==============================] - ETA: 0s - loss: 0.2624 - accuracy: 0.8946\n",
            "Epoch 00003: val_loss did not improve from 0.52100\n",
            "3805/3805 [==============================] - 460s 121ms/step - loss: 0.2624 - accuracy: 0.8946 - val_loss: 0.5949 - val_accuracy: 0.7385\n",
            "Epoch 4/100\n",
            "3805/3805 [==============================] - ETA: 0s - loss: 0.2264 - accuracy: 0.9097\n",
            "Epoch 00004: val_loss did not improve from 0.52100\n",
            "3805/3805 [==============================] - 452s 119ms/step - loss: 0.2264 - accuracy: 0.9097 - val_loss: 0.5990 - val_accuracy: 0.7380\n",
            "Epoch 5/100\n",
            "3805/3805 [==============================] - ETA: 0s - loss: 0.1732 - accuracy: 0.9346\n",
            "Epoch 00005: val_loss did not improve from 0.52100\n",
            "3805/3805 [==============================] - 453s 119ms/step - loss: 0.1732 - accuracy: 0.9346 - val_loss: 0.6965 - val_accuracy: 0.7391\n"
          ],
          "name": "stdout"
        }
      ]
    },
    {
      "cell_type": "code",
      "metadata": {
        "colab": {
          "base_uri": "https://localhost:8080/"
        },
        "id": "9swWtEIija16",
        "outputId": "d90de534-800c-43fd-fdad-a556a858b225"
      },
      "source": [
        "model_7 = create_model_7()"
      ],
      "execution_count": null,
      "outputs": [
        {
          "output_type": "stream",
          "text": [
            "Model: \"functional_13\"\n",
            "__________________________________________________________________________________________________\n",
            "Layer (type)                    Output Shape         Param #     Connected to                     \n",
            "==================================================================================================\n",
            "claim_input (InputLayer)        [(None, 202)]        0                                            \n",
            "__________________________________________________________________________________________________\n",
            "evidence_input (InputLayer)     [(None, 202)]        0                                            \n",
            "__________________________________________________________________________________________________\n",
            "shared_embedding (Embedding)    (None, 202, 300)     10046700    claim_input[0][0]                \n",
            "                                                                 evidence_input[0][0]             \n",
            "__________________________________________________________________________________________________\n",
            "flatten_claim (Flatten)         (None, 60600)        0           shared_embedding[0][0]           \n",
            "__________________________________________________________________________________________________\n",
            "flatten_evidence (Flatten)      (None, 60600)        0           shared_embedding[1][0]           \n",
            "__________________________________________________________________________________________________\n",
            "mlp_claim (Dense)               (None, 128)          7756928     flatten_claim[0][0]              \n",
            "__________________________________________________________________________________________________\n",
            "mlp_evidence (Dense)            (None, 128)          7756928     flatten_evidence[0][0]           \n",
            "__________________________________________________________________________________________________\n",
            "concatenation (Concatenate)     (None, 256)          0           mlp_claim[0][0]                  \n",
            "                                                                 mlp_evidence[0][0]               \n",
            "__________________________________________________________________________________________________\n",
            "dense_1 (Dense)                 (None, 4)            1028        concatenation[0][0]              \n",
            "__________________________________________________________________________________________________\n",
            "act_1 (Activation)              (None, 4)            0           dense_1[0][0]                    \n",
            "__________________________________________________________________________________________________\n",
            "output (Dense)                  (None, 2)            10          act_1[0][0]                      \n",
            "__________________________________________________________________________________________________\n",
            "act_output (Activation)         (None, 2)            0           output[0][0]                     \n",
            "==================================================================================================\n",
            "Total params: 25,561,594\n",
            "Trainable params: 25,561,594\n",
            "Non-trainable params: 0\n",
            "__________________________________________________________________________________________________\n"
          ],
          "name": "stdout"
        }
      ]
    },
    {
      "cell_type": "code",
      "metadata": {
        "colab": {
          "base_uri": "https://localhost:8080/"
        },
        "id": "E8nyA1JUjc88",
        "outputId": "c1a624ef-2a7b-4bed-b224-388ad1d42603"
      },
      "source": [
        "checkpoint_filepath = '/content/drive/MyDrive/NLP/ass4_model_7_1.h5' # remember to change it\n",
        "\n",
        "callbacks = [ EarlyStopping(patience=3, monitor=\"val_loss\"),\n",
        "              ReduceLROnPlateau(monitor=\"val_loss\", factor = 0.1, patience=2),\n",
        "              ModelCheckpoint(filepath=checkpoint_filepath, save_weights_only=True, monitor='val_loss', mode='min', save_best_only=True, verbose=1)]\n",
        "\n",
        "history = model_7.fit(X_train, onehot_encoded, validation_data=(X_val, onehot_encoded_val), batch_size=32, epochs=100, callbacks=callbacks)"
      ],
      "execution_count": null,
      "outputs": [
        {
          "output_type": "stream",
          "text": [
            "Epoch 1/100\n",
            "3804/3805 [============================>.] - ETA: 0s - loss: 0.5328 - accuracy: 0.7449\n",
            "Epoch 00001: val_loss improved from inf to 0.74051, saving model to /content/drive/MyDrive/NLP/ass4_model_7_1.h5\n",
            "3805/3805 [==============================] - 63s 17ms/step - loss: 0.5328 - accuracy: 0.7449 - val_loss: 0.7405 - val_accuracy: 0.5598\n",
            "Epoch 2/100\n",
            "3803/3805 [============================>.] - ETA: 0s - loss: 0.4933 - accuracy: 0.7794\n",
            "Epoch 00002: val_loss did not improve from 0.74051\n",
            "3805/3805 [==============================] - 63s 16ms/step - loss: 0.4933 - accuracy: 0.7795 - val_loss: 0.7680 - val_accuracy: 0.5774\n",
            "Epoch 3/100\n",
            "3803/3805 [============================>.] - ETA: 0s - loss: 0.4732 - accuracy: 0.7933\n",
            "Epoch 00003: val_loss improved from 0.74051 to 0.70709, saving model to /content/drive/MyDrive/NLP/ass4_model_7_1.h5\n",
            "3805/3805 [==============================] - 63s 17ms/step - loss: 0.4733 - accuracy: 0.7933 - val_loss: 0.7071 - val_accuracy: 0.6193\n",
            "Epoch 4/100\n",
            "3802/3805 [============================>.] - ETA: 0s - loss: 0.4585 - accuracy: 0.8015\n",
            "Epoch 00004: val_loss improved from 0.70709 to 0.69858, saving model to /content/drive/MyDrive/NLP/ass4_model_7_1.h5\n",
            "3805/3805 [==============================] - 60s 16ms/step - loss: 0.4584 - accuracy: 0.8015 - val_loss: 0.6986 - val_accuracy: 0.6334\n",
            "Epoch 5/100\n",
            "3804/3805 [============================>.] - ETA: 0s - loss: 0.4466 - accuracy: 0.8085\n",
            "Epoch 00005: val_loss did not improve from 0.69858\n",
            "3805/3805 [==============================] - 62s 16ms/step - loss: 0.4466 - accuracy: 0.8085 - val_loss: 0.7096 - val_accuracy: 0.6342\n",
            "Epoch 6/100\n",
            "3802/3805 [============================>.] - ETA: 0s - loss: 0.4328 - accuracy: 0.8130\n",
            "Epoch 00006: val_loss did not improve from 0.69858\n",
            "3805/3805 [==============================] - 64s 17ms/step - loss: 0.4328 - accuracy: 0.8130 - val_loss: 0.7523 - val_accuracy: 0.6328\n",
            "Epoch 7/100\n",
            "3802/3805 [============================>.] - ETA: 0s - loss: 0.4169 - accuracy: 0.8201\n",
            "Epoch 00007: val_loss improved from 0.69858 to 0.69678, saving model to /content/drive/MyDrive/NLP/ass4_model_7_1.h5\n",
            "3805/3805 [==============================] - 65s 17ms/step - loss: 0.4169 - accuracy: 0.8202 - val_loss: 0.6968 - val_accuracy: 0.6452\n",
            "Epoch 8/100\n",
            "3804/3805 [============================>.] - ETA: 0s - loss: 0.4155 - accuracy: 0.8205\n",
            "Epoch 00008: val_loss improved from 0.69678 to 0.69252, saving model to /content/drive/MyDrive/NLP/ass4_model_7_1.h5\n",
            "3805/3805 [==============================] - 65s 17ms/step - loss: 0.4155 - accuracy: 0.8205 - val_loss: 0.6925 - val_accuracy: 0.6473\n",
            "Epoch 9/100\n",
            "3802/3805 [============================>.] - ETA: 0s - loss: 0.4145 - accuracy: 0.8209\n",
            "Epoch 00009: val_loss did not improve from 0.69252\n",
            "3805/3805 [==============================] - 65s 17ms/step - loss: 0.4145 - accuracy: 0.8209 - val_loss: 0.6964 - val_accuracy: 0.6469\n",
            "Epoch 10/100\n",
            "3802/3805 [============================>.] - ETA: 0s - loss: 0.4135 - accuracy: 0.8214\n",
            "Epoch 00010: val_loss did not improve from 0.69252\n",
            "3805/3805 [==============================] - 65s 17ms/step - loss: 0.4135 - accuracy: 0.8215 - val_loss: 0.7071 - val_accuracy: 0.6449\n",
            "Epoch 11/100\n",
            "3804/3805 [============================>.] - ETA: 0s - loss: 0.4120 - accuracy: 0.8220\n",
            "Epoch 00011: val_loss did not improve from 0.69252\n",
            "3805/3805 [==============================] - 65s 17ms/step - loss: 0.4120 - accuracy: 0.8220 - val_loss: 0.6939 - val_accuracy: 0.6486\n"
          ],
          "name": "stdout"
        }
      ]
    },
    {
      "cell_type": "code",
      "metadata": {
        "id": "D8cYbMYVVAwy",
        "colab": {
          "base_uri": "https://localhost:8080/"
        },
        "outputId": "91a9d91a-1202-42d1-8c1c-d21b2b64a808"
      },
      "source": [
        "model_8 = create_model_8()"
      ],
      "execution_count": null,
      "outputs": [
        {
          "output_type": "stream",
          "text": [
            "Model: \"functional_16\"\n",
            "__________________________________________________________________________________________________\n",
            "Layer (type)                    Output Shape         Param #     Connected to                     \n",
            "==================================================================================================\n",
            "claim_input (InputLayer)        [(None, 202)]        0                                            \n",
            "__________________________________________________________________________________________________\n",
            "evidence_input (InputLayer)     [(None, 202)]        0                                            \n",
            "__________________________________________________________________________________________________\n",
            "shared_embedding (Embedding)    (None, 202, 300)     10046700    claim_input[0][0]                \n",
            "                                                                 evidence_input[0][0]             \n",
            "__________________________________________________________________________________________________\n",
            "flatten_claim (Flatten)         (None, 60600)        0           shared_embedding[0][0]           \n",
            "__________________________________________________________________________________________________\n",
            "flatten_evidence (Flatten)      (None, 60600)        0           shared_embedding[1][0]           \n",
            "__________________________________________________________________________________________________\n",
            "mlp_claim (Dense)               (None, 128)          7756928     flatten_claim[0][0]              \n",
            "__________________________________________________________________________________________________\n",
            "mlp_evidence (Dense)            (None, 128)          7756928     flatten_evidence[0][0]           \n",
            "__________________________________________________________________________________________________\n",
            "sum (Add)                       (None, 128)          0           mlp_claim[0][0]                  \n",
            "                                                                 mlp_evidence[0][0]               \n",
            "__________________________________________________________________________________________________\n",
            "dense_1 (Dense)                 (None, 4)            516         sum[0][0]                        \n",
            "__________________________________________________________________________________________________\n",
            "act_1 (Activation)              (None, 4)            0           dense_1[0][0]                    \n",
            "__________________________________________________________________________________________________\n",
            "output (Dense)                  (None, 2)            10          act_1[0][0]                      \n",
            "__________________________________________________________________________________________________\n",
            "act_output (Activation)         (None, 2)            0           output[0][0]                     \n",
            "==================================================================================================\n",
            "Total params: 25,561,082\n",
            "Trainable params: 25,561,082\n",
            "Non-trainable params: 0\n",
            "__________________________________________________________________________________________________\n"
          ],
          "name": "stdout"
        }
      ]
    },
    {
      "cell_type": "code",
      "metadata": {
        "id": "B3nkXF3bVFE8",
        "colab": {
          "base_uri": "https://localhost:8080/"
        },
        "outputId": "dce5ca42-02ff-48b9-c967-f41f296ef00d"
      },
      "source": [
        "checkpoint_filepath = '/content/drive/MyDrive/NLP/ass4_model_8.h5' # remember to change it\n",
        "\n",
        "callbacks = [ EarlyStopping(patience=3, monitor=\"val_loss\"),\n",
        "              ReduceLROnPlateau(monitor=\"val_loss\", factor = 0.1, patience=2),\n",
        "              ModelCheckpoint(filepath=checkpoint_filepath, save_weights_only=True, monitor='val_loss', mode='min', save_best_only=True, verbose=1)]\n",
        "\n",
        "history = model_8.fit(X_train, onehot_encoded, validation_data=(X_val, onehot_encoded_val), batch_size=32, epochs=100, callbacks=callbacks)"
      ],
      "execution_count": null,
      "outputs": [
        {
          "output_type": "stream",
          "text": [
            "Epoch 1/100\n",
            "3804/3805 [============================>.] - ETA: 0s - loss: 0.5297 - accuracy: 0.7470\n",
            "Epoch 00001: val_loss improved from inf to 0.76637, saving model to /content/drive/MyDrive/NLP/ass4_model_8.h5\n",
            "3805/3805 [==============================] - 57s 15ms/step - loss: 0.5297 - accuracy: 0.7470 - val_loss: 0.7664 - val_accuracy: 0.5431\n",
            "Epoch 2/100\n",
            "3802/3805 [============================>.] - ETA: 0s - loss: 0.4881 - accuracy: 0.7780\n",
            "Epoch 00002: val_loss improved from 0.76637 to 0.74054, saving model to /content/drive/MyDrive/NLP/ass4_model_8.h5\n",
            "3805/3805 [==============================] - 57s 15ms/step - loss: 0.4881 - accuracy: 0.7780 - val_loss: 0.7405 - val_accuracy: 0.5866\n",
            "Epoch 3/100\n",
            "3805/3805 [==============================] - ETA: 0s - loss: 0.4678 - accuracy: 0.7938\n",
            "Epoch 00003: val_loss did not improve from 0.74054\n",
            "3805/3805 [==============================] - 56s 15ms/step - loss: 0.4678 - accuracy: 0.7938 - val_loss: 0.7776 - val_accuracy: 0.5985\n",
            "Epoch 4/100\n",
            "3805/3805 [==============================] - ETA: 0s - loss: 0.4531 - accuracy: 0.8037\n",
            "Epoch 00004: val_loss improved from 0.74054 to 0.65961, saving model to /content/drive/MyDrive/NLP/ass4_model_8.h5\n",
            "3805/3805 [==============================] - 57s 15ms/step - loss: 0.4531 - accuracy: 0.8037 - val_loss: 0.6596 - val_accuracy: 0.6574\n",
            "Epoch 5/100\n",
            "3805/3805 [==============================] - ETA: 0s - loss: 0.4412 - accuracy: 0.8101\n",
            "Epoch 00005: val_loss did not improve from 0.65961\n",
            "3805/3805 [==============================] - 56s 15ms/step - loss: 0.4412 - accuracy: 0.8101 - val_loss: 0.7037 - val_accuracy: 0.6504\n",
            "Epoch 6/100\n",
            "3805/3805 [==============================] - ETA: 0s - loss: 0.4322 - accuracy: 0.8146\n",
            "Epoch 00006: val_loss did not improve from 0.65961\n",
            "3805/3805 [==============================] - 56s 15ms/step - loss: 0.4322 - accuracy: 0.8146 - val_loss: 0.7117 - val_accuracy: 0.6472\n",
            "Epoch 7/100\n",
            "3802/3805 [============================>.] - ETA: 0s - loss: 0.4159 - accuracy: 0.8237\n",
            "Epoch 00007: val_loss did not improve from 0.65961\n",
            "3805/3805 [==============================] - 56s 15ms/step - loss: 0.4159 - accuracy: 0.8237 - val_loss: 0.7099 - val_accuracy: 0.6523\n"
          ],
          "name": "stdout"
        }
      ]
    },
    {
      "cell_type": "code",
      "metadata": {
        "id": "nv0_muZFZs10",
        "colab": {
          "base_uri": "https://localhost:8080/"
        },
        "outputId": "dd25ae7d-4d84-4240-af5f-08179a8a4ea6"
      },
      "source": [
        "model_9 = create_model_9()"
      ],
      "execution_count": null,
      "outputs": [
        {
          "output_type": "stream",
          "text": [
            "Model: \"functional_20\"\n",
            "__________________________________________________________________________________________________\n",
            "Layer (type)                    Output Shape         Param #     Connected to                     \n",
            "==================================================================================================\n",
            "claim_input (InputLayer)        [(None, 202)]        0                                            \n",
            "__________________________________________________________________________________________________\n",
            "evidence_input (InputLayer)     [(None, 202)]        0                                            \n",
            "__________________________________________________________________________________________________\n",
            "shared_embedding (Embedding)    (None, 202, 300)     10046700    claim_input[0][0]                \n",
            "                                                                 evidence_input[0][0]             \n",
            "__________________________________________________________________________________________________\n",
            "flatten_claim (Flatten)         (None, 60600)        0           shared_embedding[0][0]           \n",
            "__________________________________________________________________________________________________\n",
            "flatten_evidence (Flatten)      (None, 60600)        0           shared_embedding[1][0]           \n",
            "__________________________________________________________________________________________________\n",
            "mlp_claim (Dense)               (None, 128)          7756928     flatten_claim[0][0]              \n",
            "__________________________________________________________________________________________________\n",
            "mlp_evidence (Dense)            (None, 128)          7756928     flatten_evidence[0][0]           \n",
            "__________________________________________________________________________________________________\n",
            "mean (Average)                  (None, 128)          0           mlp_claim[0][0]                  \n",
            "                                                                 mlp_evidence[0][0]               \n",
            "__________________________________________________________________________________________________\n",
            "dense_1 (Dense)                 (None, 4)            516         mean[0][0]                       \n",
            "__________________________________________________________________________________________________\n",
            "act_1 (Activation)              (None, 4)            0           dense_1[0][0]                    \n",
            "__________________________________________________________________________________________________\n",
            "output (Dense)                  (None, 2)            10          act_1[0][0]                      \n",
            "__________________________________________________________________________________________________\n",
            "act_output (Activation)         (None, 2)            0           output[0][0]                     \n",
            "==================================================================================================\n",
            "Total params: 25,561,082\n",
            "Trainable params: 25,561,082\n",
            "Non-trainable params: 0\n",
            "__________________________________________________________________________________________________\n"
          ],
          "name": "stdout"
        }
      ]
    },
    {
      "cell_type": "code",
      "metadata": {
        "colab": {
          "base_uri": "https://localhost:8080/"
        },
        "id": "cfTqpbZksQn-",
        "outputId": "a6b55035-c99f-4562-81b1-bca110800ebc"
      },
      "source": [
        "checkpoint_filepath = '/content/drive/MyDrive/NLP/ass4_model_9_1.h5' # remember to change it\n",
        "\n",
        "callbacks = [ EarlyStopping(patience=3, monitor=\"val_loss\"),\n",
        "              ReduceLROnPlateau(monitor=\"val_loss\", factor = 0.1, patience=2),\n",
        "              ModelCheckpoint(filepath=checkpoint_filepath, save_weights_only=True, monitor='val_loss', mode='min', save_best_only=True, verbose=1)]\n",
        "\n",
        "history = model_9.fit(X_train, onehot_encoded, validation_data=(X_val, onehot_encoded_val), batch_size=32, epochs=100, callbacks=callbacks)"
      ],
      "execution_count": null,
      "outputs": [
        {
          "output_type": "stream",
          "text": [
            "Epoch 1/100\n",
            "3802/3805 [============================>.] - ETA: 0s - loss: 0.5664 - accuracy: 0.7418\n",
            "Epoch 00001: val_loss improved from inf to 0.77627, saving model to /content/drive/MyDrive/NLP/ass4_model_9_1.h5\n",
            "3805/3805 [==============================] - 57s 15ms/step - loss: 0.5663 - accuracy: 0.7419 - val_loss: 0.7763 - val_accuracy: 0.5601\n",
            "Epoch 2/100\n",
            "3805/3805 [==============================] - ETA: 0s - loss: 0.4782 - accuracy: 0.7914\n",
            "Epoch 00002: val_loss improved from 0.77627 to 0.60706, saving model to /content/drive/MyDrive/NLP/ass4_model_9_1.h5\n",
            "3805/3805 [==============================] - 58s 15ms/step - loss: 0.4782 - accuracy: 0.7914 - val_loss: 0.6071 - val_accuracy: 0.6631\n",
            "Epoch 3/100\n",
            "3803/3805 [============================>.] - ETA: 0s - loss: 0.4458 - accuracy: 0.8092\n",
            "Epoch 00003: val_loss did not improve from 0.60706\n",
            "3805/3805 [==============================] - 57s 15ms/step - loss: 0.4458 - accuracy: 0.8092 - val_loss: 0.6891 - val_accuracy: 0.6514\n",
            "Epoch 4/100\n",
            "3803/3805 [============================>.] - ETA: 0s - loss: 0.4270 - accuracy: 0.8175\n",
            "Epoch 00004: val_loss did not improve from 0.60706\n",
            "3805/3805 [==============================] - 57s 15ms/step - loss: 0.4270 - accuracy: 0.8175 - val_loss: 0.6990 - val_accuracy: 0.6511\n",
            "Epoch 5/100\n",
            "3804/3805 [============================>.] - ETA: 0s - loss: 0.3992 - accuracy: 0.8316\n",
            "Epoch 00005: val_loss did not improve from 0.60706\n",
            "3805/3805 [==============================] - 57s 15ms/step - loss: 0.3992 - accuracy: 0.8316 - val_loss: 0.6957 - val_accuracy: 0.6569\n"
          ],
          "name": "stdout"
        }
      ]
    },
    {
      "cell_type": "code",
      "metadata": {
        "id": "RVITS34Ualr-",
        "colab": {
          "base_uri": "https://localhost:8080/"
        },
        "outputId": "3fe347b2-42fc-4048-d513-75bd06fd96ed"
      },
      "source": [
        "model_10 = create_model_10()"
      ],
      "execution_count": null,
      "outputs": [
        {
          "output_type": "stream",
          "text": [
            "Model: \"functional_26\"\n",
            "__________________________________________________________________________________________________\n",
            "Layer (type)                    Output Shape         Param #     Connected to                     \n",
            "==================================================================================================\n",
            "claim_input (InputLayer)        [(None, 202)]        0                                            \n",
            "__________________________________________________________________________________________________\n",
            "evidence_input (InputLayer)     [(None, 202)]        0                                            \n",
            "__________________________________________________________________________________________________\n",
            "shared_embedding (Embedding)    (None, 202, 300)     10046700    claim_input[0][0]                \n",
            "                                                                 evidence_input[0][0]             \n",
            "__________________________________________________________________________________________________\n",
            "lambda_2 (Lambda)               (None, 202)          0           shared_embedding[0][0]           \n",
            "__________________________________________________________________________________________________\n",
            "lambda_3 (Lambda)               (None, 202)          0           shared_embedding[1][0]           \n",
            "__________________________________________________________________________________________________\n",
            "concatenation (Concatenate)     (None, 404)          0           lambda_2[0][0]                   \n",
            "                                                                 lambda_3[0][0]                   \n",
            "__________________________________________________________________________________________________\n",
            "dense_1 (Dense)                 (None, 128)          51840       concatenation[0][0]              \n",
            "__________________________________________________________________________________________________\n",
            "act_1 (Activation)              (None, 128)          0           dense_1[0][0]                    \n",
            "__________________________________________________________________________________________________\n",
            "dense_2 (Dense)                 (None, 32)           4128        act_1[0][0]                      \n",
            "__________________________________________________________________________________________________\n",
            "act_2 (Activation)              (None, 32)           0           dense_2[0][0]                    \n",
            "__________________________________________________________________________________________________\n",
            "output (Dense)                  (None, 2)            66          act_2[0][0]                      \n",
            "__________________________________________________________________________________________________\n",
            "act_output (Activation)         (None, 2)            0           output[0][0]                     \n",
            "==================================================================================================\n",
            "Total params: 10,102,734\n",
            "Trainable params: 10,102,734\n",
            "Non-trainable params: 0\n",
            "__________________________________________________________________________________________________\n"
          ],
          "name": "stdout"
        }
      ]
    },
    {
      "cell_type": "code",
      "metadata": {
        "id": "BdElLLQvrzjV",
        "colab": {
          "base_uri": "https://localhost:8080/"
        },
        "outputId": "ba534d26-9cd1-428a-a506-b8ea02703f65"
      },
      "source": [
        "checkpoint_filepath = '/content/drive/MyDrive/NLP/ass4_model_10.h5' # remember to change it\n",
        "\n",
        "callbacks = [ EarlyStopping(patience=3, monitor=\"val_loss\"),\n",
        "              ReduceLROnPlateau(monitor=\"val_loss\", factor = 0.1, patience=2),\n",
        "              ModelCheckpoint(filepath=checkpoint_filepath, save_weights_only=True, monitor='val_loss', mode='min', save_best_only=True, verbose=1)]\n",
        "\n",
        "history = model_10.fit(X_train, onehot_encoded, validation_data=(X_val, onehot_encoded_val), batch_size=32, epochs=100, callbacks=callbacks)"
      ],
      "execution_count": null,
      "outputs": [
        {
          "output_type": "stream",
          "text": [
            "Epoch 1/100\n",
            "3805/3805 [==============================] - ETA: 0s - loss: 0.4231 - accuracy: 0.8278\n",
            "Epoch 00001: val_loss improved from inf to 0.58992, saving model to /content/drive/MyDrive/NLP/ass4_model_10.h5\n",
            "3805/3805 [==============================] - 380s 100ms/step - loss: 0.4231 - accuracy: 0.8278 - val_loss: 0.5899 - val_accuracy: 0.7010\n",
            "Epoch 2/100\n",
            "3805/3805 [==============================] - ETA: 0s - loss: 0.3676 - accuracy: 0.8505\n",
            "Epoch 00002: val_loss improved from 0.58992 to 0.55054, saving model to /content/drive/MyDrive/NLP/ass4_model_10.h5\n",
            "3805/3805 [==============================] - 367s 97ms/step - loss: 0.3676 - accuracy: 0.8505 - val_loss: 0.5505 - val_accuracy: 0.7089\n",
            "Epoch 3/100\n",
            "3805/3805 [==============================] - ETA: 0s - loss: 0.3465 - accuracy: 0.8599\n",
            "Epoch 00003: val_loss did not improve from 0.55054\n",
            "3805/3805 [==============================] - 369s 97ms/step - loss: 0.3465 - accuracy: 0.8599 - val_loss: 0.5853 - val_accuracy: 0.7171\n",
            "Epoch 4/100\n",
            "3805/3805 [==============================] - ETA: 0s - loss: 0.3312 - accuracy: 0.8666\n",
            "Epoch 00004: val_loss did not improve from 0.55054\n",
            "3805/3805 [==============================] - 375s 99ms/step - loss: 0.3312 - accuracy: 0.8666 - val_loss: 0.6598 - val_accuracy: 0.6876\n",
            "Epoch 5/100\n",
            "3805/3805 [==============================] - ETA: 0s - loss: 0.2895 - accuracy: 0.8826\n",
            "Epoch 00005: val_loss did not improve from 0.55054\n",
            "3805/3805 [==============================] - 362s 95ms/step - loss: 0.2895 - accuracy: 0.8826 - val_loss: 0.6357 - val_accuracy: 0.7151\n"
          ],
          "name": "stdout"
        }
      ]
    },
    {
      "cell_type": "code",
      "metadata": {
        "id": "xuYuwIEJsE-V",
        "colab": {
          "base_uri": "https://localhost:8080/"
        },
        "outputId": "5b86b3ff-6e56-46a3-c879-b7a827f25c65"
      },
      "source": [
        "model_11 = create_model_11()"
      ],
      "execution_count": null,
      "outputs": [
        {
          "output_type": "stream",
          "text": [
            "Model: \"functional_30\"\n",
            "__________________________________________________________________________________________________\n",
            "Layer (type)                    Output Shape         Param #     Connected to                     \n",
            "==================================================================================================\n",
            "claim_input (InputLayer)        [(None, 202)]        0                                            \n",
            "__________________________________________________________________________________________________\n",
            "evidence_input (InputLayer)     [(None, 202)]        0                                            \n",
            "__________________________________________________________________________________________________\n",
            "shared_embedding (Embedding)    (None, 202, 300)     10046700    claim_input[0][0]                \n",
            "                                                                 evidence_input[0][0]             \n",
            "__________________________________________________________________________________________________\n",
            "lambda_6 (Lambda)               (None, 202)          0           shared_embedding[0][0]           \n",
            "__________________________________________________________________________________________________\n",
            "lambda_7 (Lambda)               (None, 202)          0           shared_embedding[1][0]           \n",
            "__________________________________________________________________________________________________\n",
            "sum (Add)                       (None, 202)          0           lambda_6[0][0]                   \n",
            "                                                                 lambda_7[0][0]                   \n",
            "__________________________________________________________________________________________________\n",
            "dense_1 (Dense)                 (None, 128)          25984       sum[0][0]                        \n",
            "__________________________________________________________________________________________________\n",
            "act_1 (Activation)              (None, 128)          0           dense_1[0][0]                    \n",
            "__________________________________________________________________________________________________\n",
            "dense_2 (Dense)                 (None, 32)           4128        act_1[0][0]                      \n",
            "__________________________________________________________________________________________________\n",
            "act_2 (Activation)              (None, 32)           0           dense_2[0][0]                    \n",
            "__________________________________________________________________________________________________\n",
            "output (Dense)                  (None, 2)            66          act_2[0][0]                      \n",
            "__________________________________________________________________________________________________\n",
            "act_output (Activation)         (None, 2)            0           output[0][0]                     \n",
            "==================================================================================================\n",
            "Total params: 10,076,878\n",
            "Trainable params: 10,076,878\n",
            "Non-trainable params: 0\n",
            "__________________________________________________________________________________________________\n"
          ],
          "name": "stdout"
        }
      ]
    },
    {
      "cell_type": "code",
      "metadata": {
        "id": "WpXRmPthsE0P",
        "colab": {
          "base_uri": "https://localhost:8080/"
        },
        "outputId": "6546022b-f677-4c28-a9e9-3f1b8e563b86"
      },
      "source": [
        "checkpoint_filepath = '/content/drive/MyDrive/NLP/ass4_model_11.h5' # remember to change it\n",
        "\n",
        "callbacks = [ EarlyStopping(patience=3, monitor=\"val_loss\"),\n",
        "              ReduceLROnPlateau(monitor=\"val_loss\", factor = 0.1, patience=2),\n",
        "              ModelCheckpoint(filepath=checkpoint_filepath, save_weights_only=True, monitor='val_loss', mode='min', save_best_only=True, verbose=1)]\n",
        "\n",
        "history = model_11.fit(X_train, onehot_encoded, validation_data=(X_val, onehot_encoded_val), batch_size=32, epochs=100, callbacks=callbacks)"
      ],
      "execution_count": null,
      "outputs": [
        {
          "output_type": "stream",
          "text": [
            "Epoch 1/100\n",
            "3805/3805 [==============================] - ETA: 0s - loss: 0.4832 - accuracy: 0.7859\n",
            "Epoch 00001: val_loss improved from inf to 0.66166, saving model to /content/drive/MyDrive/NLP/ass4_model_11.h5\n",
            "3805/3805 [==============================] - 365s 96ms/step - loss: 0.4832 - accuracy: 0.7859 - val_loss: 0.6617 - val_accuracy: 0.6156\n",
            "Epoch 2/100\n",
            "3805/3805 [==============================] - ETA: 0s - loss: 0.4096 - accuracy: 0.8223\n",
            "Epoch 00002: val_loss improved from 0.66166 to 0.65188, saving model to /content/drive/MyDrive/NLP/ass4_model_11.h5\n",
            "3805/3805 [==============================] - 369s 97ms/step - loss: 0.4096 - accuracy: 0.8223 - val_loss: 0.6519 - val_accuracy: 0.6289\n",
            "Epoch 3/100\n",
            "3805/3805 [==============================] - ETA: 0s - loss: 0.3826 - accuracy: 0.8339\n",
            "Epoch 00003: val_loss did not improve from 0.65188\n",
            "3805/3805 [==============================] - 364s 96ms/step - loss: 0.3826 - accuracy: 0.8339 - val_loss: 0.6869 - val_accuracy: 0.6307\n",
            "Epoch 4/100\n",
            "3805/3805 [==============================] - ETA: 0s - loss: 0.3654 - accuracy: 0.8414\n",
            "Epoch 00004: val_loss did not improve from 0.65188\n",
            "3805/3805 [==============================] - 359s 94ms/step - loss: 0.3654 - accuracy: 0.8414 - val_loss: 0.6910 - val_accuracy: 0.6349\n",
            "Epoch 5/100\n",
            "3805/3805 [==============================] - ETA: 0s - loss: 0.3360 - accuracy: 0.8528\n",
            "Epoch 00005: val_loss did not improve from 0.65188\n",
            "3805/3805 [==============================] - 359s 94ms/step - loss: 0.3360 - accuracy: 0.8528 - val_loss: 0.7228 - val_accuracy: 0.6345\n"
          ],
          "name": "stdout"
        }
      ]
    },
    {
      "cell_type": "code",
      "metadata": {
        "id": "vzAFAH8rsR7i",
        "colab": {
          "base_uri": "https://localhost:8080/"
        },
        "outputId": "c27abf63-9323-455c-9600-ada9504d4f98"
      },
      "source": [
        "model_12 = create_model_12()"
      ],
      "execution_count": null,
      "outputs": [
        {
          "output_type": "stream",
          "text": [
            "Model: \"functional_32\"\n",
            "__________________________________________________________________________________________________\n",
            "Layer (type)                    Output Shape         Param #     Connected to                     \n",
            "==================================================================================================\n",
            "claim_input (InputLayer)        [(None, 202)]        0                                            \n",
            "__________________________________________________________________________________________________\n",
            "evidence_input (InputLayer)     [(None, 202)]        0                                            \n",
            "__________________________________________________________________________________________________\n",
            "shared_embedding (Embedding)    (None, 202, 300)     10046700    claim_input[0][0]                \n",
            "                                                                 evidence_input[0][0]             \n",
            "__________________________________________________________________________________________________\n",
            "lambda_8 (Lambda)               (None, 202)          0           shared_embedding[0][0]           \n",
            "__________________________________________________________________________________________________\n",
            "lambda_9 (Lambda)               (None, 202)          0           shared_embedding[1][0]           \n",
            "__________________________________________________________________________________________________\n",
            "concatenation (Average)         (None, 202)          0           lambda_8[0][0]                   \n",
            "                                                                 lambda_9[0][0]                   \n",
            "__________________________________________________________________________________________________\n",
            "dense_1 (Dense)                 (None, 128)          25984       concatenation[0][0]              \n",
            "__________________________________________________________________________________________________\n",
            "act_1 (Activation)              (None, 128)          0           dense_1[0][0]                    \n",
            "__________________________________________________________________________________________________\n",
            "dense_2 (Dense)                 (None, 32)           4128        act_1[0][0]                      \n",
            "__________________________________________________________________________________________________\n",
            "act_2 (Activation)              (None, 32)           0           dense_2[0][0]                    \n",
            "__________________________________________________________________________________________________\n",
            "output (Dense)                  (None, 2)            66          act_2[0][0]                      \n",
            "__________________________________________________________________________________________________\n",
            "act_output (Activation)         (None, 2)            0           output[0][0]                     \n",
            "==================================================================================================\n",
            "Total params: 10,076,878\n",
            "Trainable params: 10,076,878\n",
            "Non-trainable params: 0\n",
            "__________________________________________________________________________________________________\n"
          ],
          "name": "stdout"
        }
      ]
    },
    {
      "cell_type": "code",
      "metadata": {
        "id": "2KqYdbI2tJlr",
        "colab": {
          "base_uri": "https://localhost:8080/"
        },
        "outputId": "6e3246d5-20b6-48f3-aacb-fcb64841dc22"
      },
      "source": [
        "checkpoint_filepath = '/content/drive/MyDrive/NLP/ass4_model_12.h5' # remember to change it\n",
        "\n",
        "callbacks = [ EarlyStopping(patience=3, monitor=\"val_loss\"),\n",
        "              ReduceLROnPlateau(monitor=\"val_loss\", factor = 0.1, patience=2),\n",
        "              ModelCheckpoint(filepath=checkpoint_filepath, save_weights_only=True, monitor='val_loss', mode='min', save_best_only=True, verbose=1)]\n",
        "\n",
        "history = model_12.fit(X_train, onehot_encoded, validation_data=(X_val, onehot_encoded_val), batch_size=32, epochs=100, callbacks=callbacks)"
      ],
      "execution_count": null,
      "outputs": [
        {
          "output_type": "stream",
          "text": [
            "Epoch 1/100\n",
            "3805/3805 [==============================] - ETA: 0s - loss: 0.4807 - accuracy: 0.7877\n",
            "Epoch 00001: val_loss improved from inf to 0.67334, saving model to /content/drive/MyDrive/NLP/ass4_model_12.h5\n",
            "3805/3805 [==============================] - 363s 95ms/step - loss: 0.4807 - accuracy: 0.7877 - val_loss: 0.6733 - val_accuracy: 0.6197\n",
            "Epoch 2/100\n",
            "3805/3805 [==============================] - ETA: 0s - loss: 0.4082 - accuracy: 0.8230\n",
            "Epoch 00002: val_loss improved from 0.67334 to 0.66949, saving model to /content/drive/MyDrive/NLP/ass4_model_12.h5\n",
            "3805/3805 [==============================] - 362s 95ms/step - loss: 0.4082 - accuracy: 0.8230 - val_loss: 0.6695 - val_accuracy: 0.6355\n",
            "Epoch 3/100\n",
            "3805/3805 [==============================] - ETA: 0s - loss: 0.3812 - accuracy: 0.8349\n",
            "Epoch 00003: val_loss did not improve from 0.66949\n",
            "3805/3805 [==============================] - 363s 95ms/step - loss: 0.3812 - accuracy: 0.8349 - val_loss: 0.6699 - val_accuracy: 0.6327\n",
            "Epoch 4/100\n",
            "3805/3805 [==============================] - ETA: 0s - loss: 0.3642 - accuracy: 0.8427\n",
            "Epoch 00004: val_loss did not improve from 0.66949\n",
            "3805/3805 [==============================] - 363s 95ms/step - loss: 0.3642 - accuracy: 0.8427 - val_loss: 0.7000 - val_accuracy: 0.6342\n",
            "Epoch 5/100\n",
            "3805/3805 [==============================] - ETA: 0s - loss: 0.3357 - accuracy: 0.8539\n",
            "Epoch 00005: val_loss did not improve from 0.66949\n",
            "3805/3805 [==============================] - 362s 95ms/step - loss: 0.3357 - accuracy: 0.8539 - val_loss: 0.7203 - val_accuracy: 0.6289\n"
          ],
          "name": "stdout"
        }
      ]
    },
    {
      "cell_type": "code",
      "metadata": {
        "colab": {
          "base_uri": "https://localhost:8080/"
        },
        "id": "uFL7qFr_uINv",
        "outputId": "93da17e8-ab9a-4cd6-bea7-db881217d4f5"
      },
      "source": [
        "model_13 = create_model_13()"
      ],
      "execution_count": null,
      "outputs": [
        {
          "output_type": "stream",
          "text": [
            "Model: \"functional_27\"\n",
            "__________________________________________________________________________________________________\n",
            "Layer (type)                    Output Shape         Param #     Connected to                     \n",
            "==================================================================================================\n",
            "claim_input (InputLayer)        [(None, 202)]        0                                            \n",
            "__________________________________________________________________________________________________\n",
            "evidence_input (InputLayer)     [(None, 202)]        0                                            \n",
            "__________________________________________________________________________________________________\n",
            "shared_embedding (Embedding)    (None, 202, 300)     10046700    claim_input[0][0]                \n",
            "                                                                 evidence_input[0][0]             \n",
            "__________________________________________________________________________________________________\n",
            "bidirectional_12 (Bidirectional (None, 128)          186880      shared_embedding[0][0]           \n",
            "__________________________________________________________________________________________________\n",
            "bidirectional_13 (Bidirectional (None, 128)          186880      shared_embedding[1][0]           \n",
            "__________________________________________________________________________________________________\n",
            "dot_1 (Dot)                     (None, 1)            0           bidirectional_12[0][0]           \n",
            "                                                                 bidirectional_13[0][0]           \n",
            "__________________________________________________________________________________________________\n",
            "concatenation (Concatenate)     (None, 257)          0           bidirectional_12[0][0]           \n",
            "                                                                 bidirectional_13[0][0]           \n",
            "                                                                 dot_1[0][0]                      \n",
            "__________________________________________________________________________________________________\n",
            "dense_1 (Dense)                 (None, 16)           4128        concatenation[0][0]              \n",
            "__________________________________________________________________________________________________\n",
            "act_1 (Activation)              (None, 16)           0           dense_1[0][0]                    \n",
            "__________________________________________________________________________________________________\n",
            "dense_2 (Dense)                 (None, 4)            68          act_1[0][0]                      \n",
            "__________________________________________________________________________________________________\n",
            "act_2 (Activation)              (None, 4)            0           dense_2[0][0]                    \n",
            "__________________________________________________________________________________________________\n",
            "output (Dense)                  (None, 2)            10          act_2[0][0]                      \n",
            "__________________________________________________________________________________________________\n",
            "act_output (Activation)         (None, 2)            0           output[0][0]                     \n",
            "==================================================================================================\n",
            "Total params: 10,424,666\n",
            "Trainable params: 10,424,666\n",
            "Non-trainable params: 0\n",
            "__________________________________________________________________________________________________\n"
          ],
          "name": "stdout"
        }
      ]
    },
    {
      "cell_type": "code",
      "metadata": {
        "colab": {
          "base_uri": "https://localhost:8080/"
        },
        "id": "HVVU39Mzuaie",
        "outputId": "3dc99c98-09bd-41fa-e1b3-1913b9add926"
      },
      "source": [
        "checkpoint_filepath = '/content/drive/MyDrive/NLP/ass4_model_13.h5' # remember to change it\n",
        "\n",
        "callbacks = [ EarlyStopping(patience=3, monitor=\"val_loss\"),\n",
        "              ReduceLROnPlateau(monitor=\"val_loss\", factor = 0.1, patience=2),\n",
        "              ModelCheckpoint(filepath=checkpoint_filepath, save_weights_only=True, monitor='val_loss', mode='min', save_best_only=True, verbose=1)]\n",
        "\n",
        "history = model_13.fit(X_train, onehot_encoded, validation_data=(X_val, onehot_encoded_val), batch_size=32, epochs=100, callbacks=callbacks)"
      ],
      "execution_count": null,
      "outputs": [
        {
          "output_type": "stream",
          "text": [
            "Epoch 1/100\n",
            "3805/3805 [==============================] - ETA: 0s - loss: 0.4035 - accuracy: 0.8340\n",
            "Epoch 00001: val_loss improved from inf to 0.56479, saving model to /content/drive/MyDrive/NLP/ass4_model_13.h5\n",
            "3805/3805 [==============================] - 473s 124ms/step - loss: 0.4035 - accuracy: 0.8340 - val_loss: 0.5648 - val_accuracy: 0.7158\n",
            "Epoch 2/100\n",
            "3805/3805 [==============================] - ETA: 0s - loss: 0.3438 - accuracy: 0.8567\n",
            "Epoch 00002: val_loss did not improve from 0.56479\n",
            "3805/3805 [==============================] - 469s 123ms/step - loss: 0.3438 - accuracy: 0.8567 - val_loss: 0.6097 - val_accuracy: 0.7111\n",
            "Epoch 3/100\n",
            "3805/3805 [==============================] - ETA: 0s - loss: 0.3221 - accuracy: 0.8659\n",
            "Epoch 00003: val_loss improved from 0.56479 to 0.55751, saving model to /content/drive/MyDrive/NLP/ass4_model_13.h5\n",
            "3805/3805 [==============================] - 481s 126ms/step - loss: 0.3221 - accuracy: 0.8659 - val_loss: 0.5575 - val_accuracy: 0.7237\n",
            "Epoch 4/100\n",
            "3805/3805 [==============================] - ETA: 0s - loss: 0.3140 - accuracy: 0.8685\n",
            "Epoch 00004: val_loss did not improve from 0.55751\n",
            "3805/3805 [==============================] - 471s 124ms/step - loss: 0.3140 - accuracy: 0.8685 - val_loss: 0.5879 - val_accuracy: 0.7252\n",
            "Epoch 5/100\n",
            "3805/3805 [==============================] - ETA: 0s - loss: 0.3074 - accuracy: 0.8702\n",
            "Epoch 00005: val_loss did not improve from 0.55751\n",
            "3805/3805 [==============================] - 464s 122ms/step - loss: 0.3074 - accuracy: 0.8702 - val_loss: 0.5962 - val_accuracy: 0.7177\n",
            "Epoch 6/100\n",
            "3805/3805 [==============================] - ETA: 0s - loss: 0.2752 - accuracy: 0.8825\n",
            "Epoch 00006: val_loss did not improve from 0.55751\n",
            "3805/3805 [==============================] - 477s 125ms/step - loss: 0.2752 - accuracy: 0.8825 - val_loss: 0.6230 - val_accuracy: 0.7259\n"
          ],
          "name": "stdout"
        }
      ]
    },
    {
      "cell_type": "code",
      "metadata": {
        "id": "xFjb-9bTdlM6",
        "colab": {
          "base_uri": "https://localhost:8080/"
        },
        "outputId": "44361947-b798-4ec1-dea3-9f94eb5a6a60"
      },
      "source": [
        "model_14 = create_model_14()"
      ],
      "execution_count": null,
      "outputs": [
        {
          "output_type": "stream",
          "text": [
            "Model: \"functional_38\"\n",
            "__________________________________________________________________________________________________\n",
            "Layer (type)                    Output Shape         Param #     Connected to                     \n",
            "==================================================================================================\n",
            "claim_input (InputLayer)        [(None, 202)]        0                                            \n",
            "__________________________________________________________________________________________________\n",
            "evidence_input (InputLayer)     [(None, 202)]        0                                            \n",
            "__________________________________________________________________________________________________\n",
            "shared_embedding (Embedding)    (None, 202, 300)     10046700    claim_input[0][0]                \n",
            "                                                                 evidence_input[0][0]             \n",
            "__________________________________________________________________________________________________\n",
            "bidirectional_4 (Bidirectional) (None, 128)          186880      shared_embedding[0][0]           \n",
            "__________________________________________________________________________________________________\n",
            "bidirectional_5 (Bidirectional) (None, 128)          186880      shared_embedding[1][0]           \n",
            "__________________________________________________________________________________________________\n",
            "dot_2 (Dot)                     (None, 1)            0           bidirectional_4[0][0]            \n",
            "                                                                 bidirectional_5[0][0]            \n",
            "__________________________________________________________________________________________________\n",
            "sum (Add)                       (None, 128)          0           bidirectional_4[0][0]            \n",
            "                                                                 bidirectional_5[0][0]            \n",
            "                                                                 dot_2[0][0]                      \n",
            "__________________________________________________________________________________________________\n",
            "dense_1 (Dense)                 (None, 16)           2064        sum[0][0]                        \n",
            "__________________________________________________________________________________________________\n",
            "act_1 (Activation)              (None, 16)           0           dense_1[0][0]                    \n",
            "__________________________________________________________________________________________________\n",
            "dense_2 (Dense)                 (None, 4)            68          act_1[0][0]                      \n",
            "__________________________________________________________________________________________________\n",
            "act_2 (Activation)              (None, 4)            0           dense_2[0][0]                    \n",
            "__________________________________________________________________________________________________\n",
            "output (Dense)                  (None, 2)            10          act_2[0][0]                      \n",
            "__________________________________________________________________________________________________\n",
            "act_output (Activation)         (None, 2)            0           output[0][0]                     \n",
            "==================================================================================================\n",
            "Total params: 10,422,602\n",
            "Trainable params: 10,422,602\n",
            "Non-trainable params: 0\n",
            "__________________________________________________________________________________________________\n"
          ],
          "name": "stdout"
        }
      ]
    },
    {
      "cell_type": "code",
      "metadata": {
        "colab": {
          "base_uri": "https://localhost:8080/"
        },
        "id": "2AsV1yiN6ex-",
        "outputId": "024fb5c6-6fd2-4927-9e3d-e8cbab0e37b5"
      },
      "source": [
        "checkpoint_filepath = '/content/drive/MyDrive/NLP/ass4_model_14.h5' # remember to change it\n",
        "\n",
        "callbacks = [ EarlyStopping(patience=3, monitor=\"val_loss\"),\n",
        "              ReduceLROnPlateau(monitor=\"val_loss\", factor = 0.1, patience=2),\n",
        "              ModelCheckpoint(filepath=checkpoint_filepath, save_weights_only=True, monitor='val_loss', mode='min', save_best_only=True, verbose=1)]\n",
        "\n",
        "history = model_14.fit(X_train, onehot_encoded, validation_data=(X_val, onehot_encoded_val), batch_size=32, epochs=100, callbacks=callbacks)"
      ],
      "execution_count": null,
      "outputs": [
        {
          "output_type": "stream",
          "text": [
            "Epoch 1/100\n",
            "3805/3805 [==============================] - ETA: 0s - loss: 0.3974 - accuracy: 0.8358\n",
            "Epoch 00001: val_loss improved from inf to 0.60118, saving model to /content/drive/MyDrive/NLP/ass4_model_14.h5\n",
            "3805/3805 [==============================] - 455s 120ms/step - loss: 0.3974 - accuracy: 0.8358 - val_loss: 0.6012 - val_accuracy: 0.7151\n",
            "Epoch 2/100\n",
            "3805/3805 [==============================] - ETA: 0s - loss: 0.3457 - accuracy: 0.8558\n",
            "Epoch 00002: val_loss improved from 0.60118 to 0.54968, saving model to /content/drive/MyDrive/NLP/ass4_model_14.h5\n",
            "3805/3805 [==============================] - 454s 119ms/step - loss: 0.3457 - accuracy: 0.8558 - val_loss: 0.5497 - val_accuracy: 0.7087\n",
            "Epoch 3/100\n",
            "3805/3805 [==============================] - ETA: 0s - loss: 0.3287 - accuracy: 0.8613\n",
            "Epoch 00003: val_loss did not improve from 0.54968\n",
            "3805/3805 [==============================] - 453s 119ms/step - loss: 0.3287 - accuracy: 0.8613 - val_loss: 0.5804 - val_accuracy: 0.7047\n",
            "Epoch 4/100\n",
            "3805/3805 [==============================] - ETA: 0s - loss: 0.3185 - accuracy: 0.8651\n",
            "Epoch 00004: val_loss did not improve from 0.54968\n",
            "3805/3805 [==============================] - 446s 117ms/step - loss: 0.3185 - accuracy: 0.8651 - val_loss: 0.5786 - val_accuracy: 0.7062\n",
            "Epoch 5/100\n",
            "3805/3805 [==============================] - ETA: 0s - loss: 0.2823 - accuracy: 0.8765\n",
            "Epoch 00005: val_loss did not improve from 0.54968\n",
            "3805/3805 [==============================] - 447s 118ms/step - loss: 0.2823 - accuracy: 0.8765 - val_loss: 0.5971 - val_accuracy: 0.7098\n"
          ],
          "name": "stdout"
        }
      ]
    },
    {
      "cell_type": "code",
      "metadata": {
        "colab": {
          "base_uri": "https://localhost:8080/"
        },
        "id": "8tbsUZI8l2_U",
        "outputId": "715c6aca-0b9a-4193-bd46-7441b050f046"
      },
      "source": [
        "model_15= create_model_15()"
      ],
      "execution_count": null,
      "outputs": [
        {
          "output_type": "stream",
          "text": [
            "Model: \"functional_42\"\n",
            "__________________________________________________________________________________________________\n",
            "Layer (type)                    Output Shape         Param #     Connected to                     \n",
            "==================================================================================================\n",
            "claim_input (InputLayer)        [(None, 202)]        0                                            \n",
            "__________________________________________________________________________________________________\n",
            "evidence_input (InputLayer)     [(None, 202)]        0                                            \n",
            "__________________________________________________________________________________________________\n",
            "shared_embedding (Embedding)    (None, 202, 300)     10046700    claim_input[0][0]                \n",
            "                                                                 evidence_input[0][0]             \n",
            "__________________________________________________________________________________________________\n",
            "bidirectional_8 (Bidirectional) (None, 128)          186880      shared_embedding[0][0]           \n",
            "__________________________________________________________________________________________________\n",
            "bidirectional_9 (Bidirectional) (None, 128)          186880      shared_embedding[1][0]           \n",
            "__________________________________________________________________________________________________\n",
            "dot_4 (Dot)                     (None, 1)            0           bidirectional_8[0][0]            \n",
            "                                                                 bidirectional_9[0][0]            \n",
            "__________________________________________________________________________________________________\n",
            "sum (Average)                   (None, 128)          0           bidirectional_8[0][0]            \n",
            "                                                                 bidirectional_9[0][0]            \n",
            "                                                                 dot_4[0][0]                      \n",
            "__________________________________________________________________________________________________\n",
            "dense_1 (Dense)                 (None, 16)           2064        sum[0][0]                        \n",
            "__________________________________________________________________________________________________\n",
            "act_1 (Activation)              (None, 16)           0           dense_1[0][0]                    \n",
            "__________________________________________________________________________________________________\n",
            "dense_2 (Dense)                 (None, 4)            68          act_1[0][0]                      \n",
            "__________________________________________________________________________________________________\n",
            "act_2 (Activation)              (None, 4)            0           dense_2[0][0]                    \n",
            "__________________________________________________________________________________________________\n",
            "output (Dense)                  (None, 2)            10          act_2[0][0]                      \n",
            "__________________________________________________________________________________________________\n",
            "act_output (Activation)         (None, 2)            0           output[0][0]                     \n",
            "==================================================================================================\n",
            "Total params: 10,422,602\n",
            "Trainable params: 10,422,602\n",
            "Non-trainable params: 0\n",
            "__________________________________________________________________________________________________\n"
          ],
          "name": "stdout"
        }
      ]
    },
    {
      "cell_type": "code",
      "metadata": {
        "colab": {
          "base_uri": "https://localhost:8080/"
        },
        "id": "xCGpFO5Ol9Ca",
        "outputId": "e152cfe4-a5a7-48b0-fe70-32d00b2a6934"
      },
      "source": [
        "checkpoint_filepath = '/content/drive/MyDrive/NLP/ass4_model_15.h5' # remember to change it\n",
        "\n",
        "callbacks = [ EarlyStopping(patience=3, monitor=\"val_loss\"),\n",
        "              ReduceLROnPlateau(monitor=\"val_loss\", factor = 0.1, patience=2),\n",
        "              ModelCheckpoint(filepath=checkpoint_filepath, save_weights_only=True, monitor='val_loss', mode='min', save_best_only=True, verbose=1)]\n",
        "\n",
        "history = model_15.fit(X_train, onehot_encoded, validation_data=(X_val, onehot_encoded_val), batch_size=32, epochs=100, callbacks=callbacks)"
      ],
      "execution_count": null,
      "outputs": [
        {
          "output_type": "stream",
          "text": [
            "Epoch 1/100\n",
            "3805/3805 [==============================] - ETA: 0s - loss: 0.3917 - accuracy: 0.8390\n",
            "Epoch 00001: val_loss improved from inf to 0.49730, saving model to /content/drive/MyDrive/NLP/ass4_model_15.h5\n",
            "3805/3805 [==============================] - 458s 120ms/step - loss: 0.3917 - accuracy: 0.8390 - val_loss: 0.4973 - val_accuracy: 0.7532\n",
            "Epoch 2/100\n",
            "3805/3805 [==============================] - ETA: 0s - loss: 0.2871 - accuracy: 0.8809\n",
            "Epoch 00002: val_loss improved from 0.49730 to 0.49178, saving model to /content/drive/MyDrive/NLP/ass4_model_15.h5\n",
            "3805/3805 [==============================] - 457s 120ms/step - loss: 0.2871 - accuracy: 0.8809 - val_loss: 0.4918 - val_accuracy: 0.7639\n",
            "Epoch 3/100\n",
            "3805/3805 [==============================] - ETA: 0s - loss: 0.2148 - accuracy: 0.9110\n",
            "Epoch 00003: val_loss did not improve from 0.49178\n",
            "3805/3805 [==============================] - 456s 120ms/step - loss: 0.2148 - accuracy: 0.9110 - val_loss: 0.5759 - val_accuracy: 0.7457\n",
            "Epoch 4/100\n",
            "3805/3805 [==============================] - ETA: 0s - loss: 0.1547 - accuracy: 0.9361\n",
            "Epoch 00004: val_loss did not improve from 0.49178\n",
            "3805/3805 [==============================] - 455s 120ms/step - loss: 0.1547 - accuracy: 0.9361 - val_loss: 0.6200 - val_accuracy: 0.7618\n",
            "Epoch 5/100\n",
            "3805/3805 [==============================] - ETA: 0s - loss: 0.0832 - accuracy: 0.9668\n",
            "Epoch 00005: val_loss did not improve from 0.49178\n",
            "3805/3805 [==============================] - 454s 119ms/step - loss: 0.0832 - accuracy: 0.9668 - val_loss: 0.8378 - val_accuracy: 0.7584\n"
          ],
          "name": "stdout"
        }
      ]
    },
    {
      "cell_type": "markdown",
      "metadata": {
        "id": "dX4kc4zm-j5A"
      },
      "source": [
        "#### EVALUATION"
      ]
    },
    {
      "cell_type": "code",
      "metadata": {
        "id": "Pd7vxn_6-j5B",
        "colab": {
          "base_uri": "https://localhost:8080/"
        },
        "outputId": "dec05eef-4756-4bfc-d6b7-4068d6afaf70"
      },
      "source": [
        "#Load the models and their weights\n",
        "\n",
        "model_1= create_model_1()\n",
        "model_1.load_weights('/content/drive/MyDrive/NLP/ass4_model_1_2.h5')\n",
        "\n",
        "model_2 = create_model_2()\n",
        "model_2.load_weights('/content/drive/MyDrive/NLP/ass4_model_2_1.h5')\n",
        "\n",
        "model_3 = create_model_3()\n",
        "model_3.load_weights('/content/drive/MyDrive/NLP/ass4_model_3_1.h5')\n",
        "\n",
        "model_4= create_model_4()\n",
        "model_4.load_weights('/content/drive/MyDrive/NLP/ass4_model_4_1.h5')\n",
        "\n",
        "model_5 = create_model_5()\n",
        "model_5.load_weights('/content/drive/MyDrive/NLP/ass4_model_5_2.h5')\n",
        "\n",
        "model_6 = create_model_6()\n",
        "model_6.load_weights('/content/drive/MyDrive/NLP/ass4_model_6.h5')\n",
        "\n",
        "model_7 = create_model_7()\n",
        "model_7.load_weights('/content/drive/MyDrive/NLP/ass4_model_7_1.h5')\n",
        "\n",
        "model_8 = create_model_8()\n",
        "model_8.load_weights('/content/drive/MyDrive/NLP/ass4_model_8.h5')\n",
        "\n",
        "model_9 = create_model_9()\n",
        "model_9.load_weights('/content/drive/MyDrive/NLP/ass4_model_9_1.h5')\n",
        "\n",
        "model_10 = create_model_10()\n",
        "model_10.load_weights('/content/drive/MyDrive/NLP/ass4_model_10.h5')\n",
        "\n",
        "model_11 = create_model_11()\n",
        "model_11.load_weights('/content/drive/MyDrive/NLP/ass4_model_11.h5')\n",
        "\n",
        "model_12 = create_model_12()\n",
        "model_12.load_weights('/content/drive/MyDrive/NLP/ass4_model_12.h5')\n",
        "\n",
        "model_13 = create_model_13()\n",
        "model_13.load_weights('/content/drive/MyDrive/NLP/ass4_model_13.h5')\n",
        "\n",
        "model_14 = create_model_14()\n",
        "model_14.load_weights('/content/drive/MyDrive/NLP/ass4_model_14.h5')\n",
        "\n",
        "model_15 = create_model_15()\n",
        "model_15.load_weights('/content/drive/MyDrive/NLP/ass4_model_15.h5')"
      ],
      "execution_count": null,
      "outputs": [
        {
          "output_type": "stream",
          "text": [
            "Model: \"model\"\n",
            "__________________________________________________________________________________________________\n",
            "Layer (type)                    Output Shape         Param #     Connected to                     \n",
            "==================================================================================================\n",
            "claim_input (InputLayer)        [(None, 202)]        0                                            \n",
            "__________________________________________________________________________________________________\n",
            "evidence_input (InputLayer)     [(None, 202)]        0                                            \n",
            "__________________________________________________________________________________________________\n",
            "shared_embedding (Embedding)    (None, 202, 300)     10046700    claim_input[0][0]                \n",
            "                                                                 evidence_input[0][0]             \n",
            "__________________________________________________________________________________________________\n",
            "bidirectional (Bidirectional)   (None, 128)          186880      shared_embedding[0][0]           \n",
            "__________________________________________________________________________________________________\n",
            "bidirectional_1 (Bidirectional) (None, 128)          186880      shared_embedding[1][0]           \n",
            "__________________________________________________________________________________________________\n",
            "concatenation (Concatenate)     (None, 256)          0           bidirectional[0][0]              \n",
            "                                                                 bidirectional_1[0][0]            \n",
            "__________________________________________________________________________________________________\n",
            "dense_1 (Dense)                 (None, 16)           4112        concatenation[0][0]              \n",
            "__________________________________________________________________________________________________\n",
            "act_1 (Activation)              (None, 16)           0           dense_1[0][0]                    \n",
            "__________________________________________________________________________________________________\n",
            "dense_2 (Dense)                 (None, 4)            68          act_1[0][0]                      \n",
            "__________________________________________________________________________________________________\n",
            "act_2 (Activation)              (None, 4)            0           dense_2[0][0]                    \n",
            "__________________________________________________________________________________________________\n",
            "output (Dense)                  (None, 2)            10          act_2[0][0]                      \n",
            "__________________________________________________________________________________________________\n",
            "act_output (Activation)         (None, 2)            0           output[0][0]                     \n",
            "==================================================================================================\n",
            "Total params: 10,424,650\n",
            "Trainable params: 10,424,650\n",
            "Non-trainable params: 0\n",
            "__________________________________________________________________________________________________\n",
            "Model: \"model_1\"\n",
            "__________________________________________________________________________________________________\n",
            "Layer (type)                    Output Shape         Param #     Connected to                     \n",
            "==================================================================================================\n",
            "claim_input (InputLayer)        [(None, 202)]        0                                            \n",
            "__________________________________________________________________________________________________\n",
            "evidence_input (InputLayer)     [(None, 202)]        0                                            \n",
            "__________________________________________________________________________________________________\n",
            "shared_embedding (Embedding)    (None, 202, 300)     10046700    claim_input[0][0]                \n",
            "                                                                 evidence_input[0][0]             \n",
            "__________________________________________________________________________________________________\n",
            "bidirectional_2 (Bidirectional) (None, 128)          186880      shared_embedding[0][0]           \n",
            "__________________________________________________________________________________________________\n",
            "bidirectional_3 (Bidirectional) (None, 128)          186880      shared_embedding[1][0]           \n",
            "__________________________________________________________________________________________________\n",
            "sum (Add)                       (None, 128)          0           bidirectional_2[0][0]            \n",
            "                                                                 bidirectional_3[0][0]            \n",
            "__________________________________________________________________________________________________\n",
            "dense_1 (Dense)                 (None, 16)           2064        sum[0][0]                        \n",
            "__________________________________________________________________________________________________\n",
            "act_1 (Activation)              (None, 16)           0           dense_1[0][0]                    \n",
            "__________________________________________________________________________________________________\n",
            "dense_2 (Dense)                 (None, 4)            68          act_1[0][0]                      \n",
            "__________________________________________________________________________________________________\n",
            "act_2 (Activation)              (None, 4)            0           dense_2[0][0]                    \n",
            "__________________________________________________________________________________________________\n",
            "output (Dense)                  (None, 2)            10          act_2[0][0]                      \n",
            "__________________________________________________________________________________________________\n",
            "act_output (Activation)         (None, 2)            0           output[0][0]                     \n",
            "==================================================================================================\n",
            "Total params: 10,422,602\n",
            "Trainable params: 10,422,602\n",
            "Non-trainable params: 0\n",
            "__________________________________________________________________________________________________\n",
            "Model: \"model_2\"\n",
            "__________________________________________________________________________________________________\n",
            "Layer (type)                    Output Shape         Param #     Connected to                     \n",
            "==================================================================================================\n",
            "claim_input (InputLayer)        [(None, 202)]        0                                            \n",
            "__________________________________________________________________________________________________\n",
            "evidence_input (InputLayer)     [(None, 202)]        0                                            \n",
            "__________________________________________________________________________________________________\n",
            "shared_embedding (Embedding)    (None, 202, 300)     10046700    claim_input[0][0]                \n",
            "                                                                 evidence_input[0][0]             \n",
            "__________________________________________________________________________________________________\n",
            "bidirectional_4 (Bidirectional) (None, 128)          186880      shared_embedding[0][0]           \n",
            "__________________________________________________________________________________________________\n",
            "bidirectional_5 (Bidirectional) (None, 128)          186880      shared_embedding[1][0]           \n",
            "__________________________________________________________________________________________________\n",
            "mean (Average)                  (None, 128)          0           bidirectional_4[0][0]            \n",
            "                                                                 bidirectional_5[0][0]            \n",
            "__________________________________________________________________________________________________\n",
            "dense_1 (Dense)                 (None, 16)           2064        mean[0][0]                       \n",
            "__________________________________________________________________________________________________\n",
            "act_1 (Activation)              (None, 16)           0           dense_1[0][0]                    \n",
            "__________________________________________________________________________________________________\n",
            "dense_2 (Dense)                 (None, 4)            68          act_1[0][0]                      \n",
            "__________________________________________________________________________________________________\n",
            "act_2 (Activation)              (None, 4)            0           dense_2[0][0]                    \n",
            "__________________________________________________________________________________________________\n",
            "output (Dense)                  (None, 2)            10          act_2[0][0]                      \n",
            "__________________________________________________________________________________________________\n",
            "act_output (Activation)         (None, 2)            0           output[0][0]                     \n",
            "==================================================================================================\n",
            "Total params: 10,422,602\n",
            "Trainable params: 10,422,602\n",
            "Non-trainable params: 0\n",
            "__________________________________________________________________________________________________\n",
            "Model: \"model_3\"\n",
            "__________________________________________________________________________________________________\n",
            "Layer (type)                    Output Shape         Param #     Connected to                     \n",
            "==================================================================================================\n",
            "claim_input (InputLayer)        [(None, 202)]        0                                            \n",
            "__________________________________________________________________________________________________\n",
            "evidence_input (InputLayer)     [(None, 202)]        0                                            \n",
            "__________________________________________________________________________________________________\n",
            "shared_embedding (Embedding)    (None, 202, 300)     10046700    claim_input[0][0]                \n",
            "                                                                 evidence_input[0][0]             \n",
            "__________________________________________________________________________________________________\n",
            "bidirectional_6 (Bidirectional) (None, 202, 128)     186880      shared_embedding[0][0]           \n",
            "__________________________________________________________________________________________________\n",
            "bidirectional_7 (Bidirectional) (None, 202, 128)     186880      shared_embedding[1][0]           \n",
            "__________________________________________________________________________________________________\n",
            "lambda (Lambda)                 (None, 128)          0           bidirectional_6[0][0]            \n",
            "__________________________________________________________________________________________________\n",
            "lambda_1 (Lambda)               (None, 128)          0           bidirectional_7[0][0]            \n",
            "__________________________________________________________________________________________________\n",
            "concatenation (Concatenate)     (None, 256)          0           lambda[0][0]                     \n",
            "                                                                 lambda_1[0][0]                   \n",
            "__________________________________________________________________________________________________\n",
            "dense_1 (Dense)                 (None, 16)           4112        concatenation[0][0]              \n",
            "__________________________________________________________________________________________________\n",
            "act_1 (Activation)              (None, 16)           0           dense_1[0][0]                    \n",
            "__________________________________________________________________________________________________\n",
            "dense_2 (Dense)                 (None, 4)            68          act_1[0][0]                      \n",
            "__________________________________________________________________________________________________\n",
            "act_2 (Activation)              (None, 4)            0           dense_2[0][0]                    \n",
            "__________________________________________________________________________________________________\n",
            "output (Dense)                  (None, 2)            10          act_2[0][0]                      \n",
            "__________________________________________________________________________________________________\n",
            "act_output (Activation)         (None, 2)            0           output[0][0]                     \n",
            "==================================================================================================\n",
            "Total params: 10,424,650\n",
            "Trainable params: 10,424,650\n",
            "Non-trainable params: 0\n",
            "__________________________________________________________________________________________________\n",
            "Model: \"model_4\"\n",
            "__________________________________________________________________________________________________\n",
            "Layer (type)                    Output Shape         Param #     Connected to                     \n",
            "==================================================================================================\n",
            "claim_input (InputLayer)        [(None, 202)]        0                                            \n",
            "__________________________________________________________________________________________________\n",
            "evidence_input (InputLayer)     [(None, 202)]        0                                            \n",
            "__________________________________________________________________________________________________\n",
            "shared_embedding (Embedding)    (None, 202, 300)     10046700    claim_input[0][0]                \n",
            "                                                                 evidence_input[0][0]             \n",
            "__________________________________________________________________________________________________\n",
            "bidirectional_8 (Bidirectional) (None, 202, 128)     186880      shared_embedding[0][0]           \n",
            "__________________________________________________________________________________________________\n",
            "bidirectional_9 (Bidirectional) (None, 202, 128)     186880      shared_embedding[1][0]           \n",
            "__________________________________________________________________________________________________\n",
            "lambda_2 (Lambda)               (None, 128)          0           bidirectional_8[0][0]            \n",
            "__________________________________________________________________________________________________\n",
            "lambda_3 (Lambda)               (None, 128)          0           bidirectional_9[0][0]            \n",
            "__________________________________________________________________________________________________\n",
            "sum (Add)                       (None, 128)          0           lambda_2[0][0]                   \n",
            "                                                                 lambda_3[0][0]                   \n",
            "__________________________________________________________________________________________________\n",
            "dense_1 (Dense)                 (None, 16)           2064        sum[0][0]                        \n",
            "__________________________________________________________________________________________________\n",
            "act_1 (Activation)              (None, 16)           0           dense_1[0][0]                    \n",
            "__________________________________________________________________________________________________\n",
            "dense_2 (Dense)                 (None, 4)            68          act_1[0][0]                      \n",
            "__________________________________________________________________________________________________\n",
            "act_2 (Activation)              (None, 4)            0           dense_2[0][0]                    \n",
            "__________________________________________________________________________________________________\n",
            "output (Dense)                  (None, 2)            10          act_2[0][0]                      \n",
            "__________________________________________________________________________________________________\n",
            "act_output (Activation)         (None, 2)            0           output[0][0]                     \n",
            "==================================================================================================\n",
            "Total params: 10,422,602\n",
            "Trainable params: 10,422,602\n",
            "Non-trainable params: 0\n",
            "__________________________________________________________________________________________________\n",
            "Model: \"model_5\"\n",
            "__________________________________________________________________________________________________\n",
            "Layer (type)                    Output Shape         Param #     Connected to                     \n",
            "==================================================================================================\n",
            "claim_input (InputLayer)        [(None, 202)]        0                                            \n",
            "__________________________________________________________________________________________________\n",
            "evidence_input (InputLayer)     [(None, 202)]        0                                            \n",
            "__________________________________________________________________________________________________\n",
            "shared_embedding (Embedding)    (None, 202, 300)     10046700    claim_input[0][0]                \n",
            "                                                                 evidence_input[0][0]             \n",
            "__________________________________________________________________________________________________\n",
            "bidirectional_10 (Bidirectional (None, 202, 128)     186880      shared_embedding[0][0]           \n",
            "__________________________________________________________________________________________________\n",
            "bidirectional_11 (Bidirectional (None, 202, 128)     186880      shared_embedding[1][0]           \n",
            "__________________________________________________________________________________________________\n",
            "lambda_4 (Lambda)               (None, 128)          0           bidirectional_10[0][0]           \n",
            "__________________________________________________________________________________________________\n",
            "lambda_5 (Lambda)               (None, 128)          0           bidirectional_11[0][0]           \n",
            "__________________________________________________________________________________________________\n",
            "mean (Average)                  (None, 128)          0           lambda_4[0][0]                   \n",
            "                                                                 lambda_5[0][0]                   \n",
            "__________________________________________________________________________________________________\n",
            "dense_1 (Dense)                 (None, 16)           2064        mean[0][0]                       \n",
            "__________________________________________________________________________________________________\n",
            "act_1 (Activation)              (None, 16)           0           dense_1[0][0]                    \n",
            "__________________________________________________________________________________________________\n",
            "dense_2 (Dense)                 (None, 4)            68          act_1[0][0]                      \n",
            "__________________________________________________________________________________________________\n",
            "act_2 (Activation)              (None, 4)            0           dense_2[0][0]                    \n",
            "__________________________________________________________________________________________________\n",
            "output (Dense)                  (None, 2)            10          act_2[0][0]                      \n",
            "__________________________________________________________________________________________________\n",
            "act_output (Activation)         (None, 2)            0           output[0][0]                     \n",
            "==================================================================================================\n",
            "Total params: 10,422,602\n",
            "Trainable params: 10,422,602\n",
            "Non-trainable params: 0\n",
            "__________________________________________________________________________________________________\n",
            "Model: \"model_6\"\n",
            "__________________________________________________________________________________________________\n",
            "Layer (type)                    Output Shape         Param #     Connected to                     \n",
            "==================================================================================================\n",
            "claim_input (InputLayer)        [(None, 202)]        0                                            \n",
            "__________________________________________________________________________________________________\n",
            "evidence_input (InputLayer)     [(None, 202)]        0                                            \n",
            "__________________________________________________________________________________________________\n",
            "shared_embedding (Embedding)    (None, 202, 300)     10046700    claim_input[0][0]                \n",
            "                                                                 evidence_input[0][0]             \n",
            "__________________________________________________________________________________________________\n",
            "flatten_claim (Flatten)         (None, 60600)        0           shared_embedding[0][0]           \n",
            "__________________________________________________________________________________________________\n",
            "flatten_evidence (Flatten)      (None, 60600)        0           shared_embedding[1][0]           \n",
            "__________________________________________________________________________________________________\n",
            "mlp_claim (Dense)               (None, 128)          7756928     flatten_claim[0][0]              \n",
            "__________________________________________________________________________________________________\n",
            "mlp_evidence (Dense)            (None, 128)          7756928     flatten_evidence[0][0]           \n",
            "__________________________________________________________________________________________________\n",
            "concatenation (Concatenate)     (None, 256)          0           mlp_claim[0][0]                  \n",
            "                                                                 mlp_evidence[0][0]               \n",
            "__________________________________________________________________________________________________\n",
            "dense_1 (Dense)                 (None, 4)            1028        concatenation[0][0]              \n",
            "__________________________________________________________________________________________________\n",
            "act_1 (Activation)              (None, 4)            0           dense_1[0][0]                    \n",
            "__________________________________________________________________________________________________\n",
            "output (Dense)                  (None, 2)            10          act_1[0][0]                      \n",
            "__________________________________________________________________________________________________\n",
            "act_output (Activation)         (None, 2)            0           output[0][0]                     \n",
            "==================================================================================================\n",
            "Total params: 25,561,594\n",
            "Trainable params: 25,561,594\n",
            "Non-trainable params: 0\n",
            "__________________________________________________________________________________________________\n",
            "Model: \"model_7\"\n",
            "__________________________________________________________________________________________________\n",
            "Layer (type)                    Output Shape         Param #     Connected to                     \n",
            "==================================================================================================\n",
            "claim_input (InputLayer)        [(None, 202)]        0                                            \n",
            "__________________________________________________________________________________________________\n",
            "evidence_input (InputLayer)     [(None, 202)]        0                                            \n",
            "__________________________________________________________________________________________________\n",
            "shared_embedding (Embedding)    (None, 202, 300)     10046700    claim_input[0][0]                \n",
            "                                                                 evidence_input[0][0]             \n",
            "__________________________________________________________________________________________________\n",
            "flatten_claim (Flatten)         (None, 60600)        0           shared_embedding[0][0]           \n",
            "__________________________________________________________________________________________________\n",
            "flatten_evidence (Flatten)      (None, 60600)        0           shared_embedding[1][0]           \n",
            "__________________________________________________________________________________________________\n",
            "mlp_claim (Dense)               (None, 128)          7756928     flatten_claim[0][0]              \n",
            "__________________________________________________________________________________________________\n",
            "mlp_evidence (Dense)            (None, 128)          7756928     flatten_evidence[0][0]           \n",
            "__________________________________________________________________________________________________\n",
            "sum (Add)                       (None, 128)          0           mlp_claim[0][0]                  \n",
            "                                                                 mlp_evidence[0][0]               \n",
            "__________________________________________________________________________________________________\n",
            "dense_1 (Dense)                 (None, 4)            516         sum[0][0]                        \n",
            "__________________________________________________________________________________________________\n",
            "act_1 (Activation)              (None, 4)            0           dense_1[0][0]                    \n",
            "__________________________________________________________________________________________________\n",
            "output (Dense)                  (None, 2)            10          act_1[0][0]                      \n",
            "__________________________________________________________________________________________________\n",
            "act_output (Activation)         (None, 2)            0           output[0][0]                     \n",
            "==================================================================================================\n",
            "Total params: 25,561,082\n",
            "Trainable params: 25,561,082\n",
            "Non-trainable params: 0\n",
            "__________________________________________________________________________________________________\n",
            "Model: \"model_8\"\n",
            "__________________________________________________________________________________________________\n",
            "Layer (type)                    Output Shape         Param #     Connected to                     \n",
            "==================================================================================================\n",
            "claim_input (InputLayer)        [(None, 202)]        0                                            \n",
            "__________________________________________________________________________________________________\n",
            "evidence_input (InputLayer)     [(None, 202)]        0                                            \n",
            "__________________________________________________________________________________________________\n",
            "shared_embedding (Embedding)    (None, 202, 300)     10046700    claim_input[0][0]                \n",
            "                                                                 evidence_input[0][0]             \n",
            "__________________________________________________________________________________________________\n",
            "flatten_claim (Flatten)         (None, 60600)        0           shared_embedding[0][0]           \n",
            "__________________________________________________________________________________________________\n",
            "flatten_evidence (Flatten)      (None, 60600)        0           shared_embedding[1][0]           \n",
            "__________________________________________________________________________________________________\n",
            "mlp_claim (Dense)               (None, 128)          7756928     flatten_claim[0][0]              \n",
            "__________________________________________________________________________________________________\n",
            "mlp_evidence (Dense)            (None, 128)          7756928     flatten_evidence[0][0]           \n",
            "__________________________________________________________________________________________________\n",
            "mean (Average)                  (None, 128)          0           mlp_claim[0][0]                  \n",
            "                                                                 mlp_evidence[0][0]               \n",
            "__________________________________________________________________________________________________\n",
            "dense_1 (Dense)                 (None, 4)            516         mean[0][0]                       \n",
            "__________________________________________________________________________________________________\n",
            "act_1 (Activation)              (None, 4)            0           dense_1[0][0]                    \n",
            "__________________________________________________________________________________________________\n",
            "output (Dense)                  (None, 2)            10          act_1[0][0]                      \n",
            "__________________________________________________________________________________________________\n",
            "act_output (Activation)         (None, 2)            0           output[0][0]                     \n",
            "==================================================================================================\n",
            "Total params: 25,561,082\n",
            "Trainable params: 25,561,082\n",
            "Non-trainable params: 0\n",
            "__________________________________________________________________________________________________\n",
            "Model: \"model_9\"\n",
            "__________________________________________________________________________________________________\n",
            "Layer (type)                    Output Shape         Param #     Connected to                     \n",
            "==================================================================================================\n",
            "claim_input (InputLayer)        [(None, 202)]        0                                            \n",
            "__________________________________________________________________________________________________\n",
            "evidence_input (InputLayer)     [(None, 202)]        0                                            \n",
            "__________________________________________________________________________________________________\n",
            "shared_embedding (Embedding)    (None, 202, 300)     10046700    claim_input[0][0]                \n",
            "                                                                 evidence_input[0][0]             \n",
            "__________________________________________________________________________________________________\n",
            "lambda_6 (Lambda)               (None, 202)          0           shared_embedding[0][0]           \n",
            "__________________________________________________________________________________________________\n",
            "lambda_7 (Lambda)               (None, 202)          0           shared_embedding[1][0]           \n",
            "__________________________________________________________________________________________________\n",
            "concatenation (Concatenate)     (None, 404)          0           lambda_6[0][0]                   \n",
            "                                                                 lambda_7[0][0]                   \n",
            "__________________________________________________________________________________________________\n",
            "dense_1 (Dense)                 (None, 128)          51840       concatenation[0][0]              \n",
            "__________________________________________________________________________________________________\n",
            "act_1 (Activation)              (None, 128)          0           dense_1[0][0]                    \n",
            "__________________________________________________________________________________________________\n",
            "dense_2 (Dense)                 (None, 32)           4128        act_1[0][0]                      \n",
            "__________________________________________________________________________________________________\n",
            "act_2 (Activation)              (None, 32)           0           dense_2[0][0]                    \n",
            "__________________________________________________________________________________________________\n",
            "output (Dense)                  (None, 2)            66          act_2[0][0]                      \n",
            "__________________________________________________________________________________________________\n",
            "act_output (Activation)         (None, 2)            0           output[0][0]                     \n",
            "==================================================================================================\n",
            "Total params: 10,102,734\n",
            "Trainable params: 10,102,734\n",
            "Non-trainable params: 0\n",
            "__________________________________________________________________________________________________\n",
            "Model: \"model_10\"\n",
            "__________________________________________________________________________________________________\n",
            "Layer (type)                    Output Shape         Param #     Connected to                     \n",
            "==================================================================================================\n",
            "claim_input (InputLayer)        [(None, 202)]        0                                            \n",
            "__________________________________________________________________________________________________\n",
            "evidence_input (InputLayer)     [(None, 202)]        0                                            \n",
            "__________________________________________________________________________________________________\n",
            "shared_embedding (Embedding)    (None, 202, 300)     10046700    claim_input[0][0]                \n",
            "                                                                 evidence_input[0][0]             \n",
            "__________________________________________________________________________________________________\n",
            "lambda_8 (Lambda)               (None, 202)          0           shared_embedding[0][0]           \n",
            "__________________________________________________________________________________________________\n",
            "lambda_9 (Lambda)               (None, 202)          0           shared_embedding[1][0]           \n",
            "__________________________________________________________________________________________________\n",
            "sum (Add)                       (None, 202)          0           lambda_8[0][0]                   \n",
            "                                                                 lambda_9[0][0]                   \n",
            "__________________________________________________________________________________________________\n",
            "dense_1 (Dense)                 (None, 128)          25984       sum[0][0]                        \n",
            "__________________________________________________________________________________________________\n",
            "act_1 (Activation)              (None, 128)          0           dense_1[0][0]                    \n",
            "__________________________________________________________________________________________________\n",
            "dense_2 (Dense)                 (None, 32)           4128        act_1[0][0]                      \n",
            "__________________________________________________________________________________________________\n",
            "act_2 (Activation)              (None, 32)           0           dense_2[0][0]                    \n",
            "__________________________________________________________________________________________________\n",
            "output (Dense)                  (None, 2)            66          act_2[0][0]                      \n",
            "__________________________________________________________________________________________________\n",
            "act_output (Activation)         (None, 2)            0           output[0][0]                     \n",
            "==================================================================================================\n",
            "Total params: 10,076,878\n",
            "Trainable params: 10,076,878\n",
            "Non-trainable params: 0\n",
            "__________________________________________________________________________________________________\n",
            "Model: \"model_11\"\n",
            "__________________________________________________________________________________________________\n",
            "Layer (type)                    Output Shape         Param #     Connected to                     \n",
            "==================================================================================================\n",
            "claim_input (InputLayer)        [(None, 202)]        0                                            \n",
            "__________________________________________________________________________________________________\n",
            "evidence_input (InputLayer)     [(None, 202)]        0                                            \n",
            "__________________________________________________________________________________________________\n",
            "shared_embedding (Embedding)    (None, 202, 300)     10046700    claim_input[0][0]                \n",
            "                                                                 evidence_input[0][0]             \n",
            "__________________________________________________________________________________________________\n",
            "lambda_10 (Lambda)              (None, 202)          0           shared_embedding[0][0]           \n",
            "__________________________________________________________________________________________________\n",
            "lambda_11 (Lambda)              (None, 202)          0           shared_embedding[1][0]           \n",
            "__________________________________________________________________________________________________\n",
            "mean (Average)                  (None, 202)          0           lambda_10[0][0]                  \n",
            "                                                                 lambda_11[0][0]                  \n",
            "__________________________________________________________________________________________________\n",
            "dense_1 (Dense)                 (None, 128)          25984       mean[0][0]                       \n",
            "__________________________________________________________________________________________________\n",
            "act_1 (Activation)              (None, 128)          0           dense_1[0][0]                    \n",
            "__________________________________________________________________________________________________\n",
            "dense_2 (Dense)                 (None, 32)           4128        act_1[0][0]                      \n",
            "__________________________________________________________________________________________________\n",
            "act_2 (Activation)              (None, 32)           0           dense_2[0][0]                    \n",
            "__________________________________________________________________________________________________\n",
            "output (Dense)                  (None, 2)            66          act_2[0][0]                      \n",
            "__________________________________________________________________________________________________\n",
            "act_output (Activation)         (None, 2)            0           output[0][0]                     \n",
            "==================================================================================================\n",
            "Total params: 10,076,878\n",
            "Trainable params: 10,076,878\n",
            "Non-trainable params: 0\n",
            "__________________________________________________________________________________________________\n",
            "Model: \"model_12\"\n",
            "__________________________________________________________________________________________________\n",
            "Layer (type)                    Output Shape         Param #     Connected to                     \n",
            "==================================================================================================\n",
            "claim_input (InputLayer)        [(None, 202)]        0                                            \n",
            "__________________________________________________________________________________________________\n",
            "evidence_input (InputLayer)     [(None, 202)]        0                                            \n",
            "__________________________________________________________________________________________________\n",
            "shared_embedding (Embedding)    (None, 202, 300)     10046700    claim_input[0][0]                \n",
            "                                                                 evidence_input[0][0]             \n",
            "__________________________________________________________________________________________________\n",
            "bidirectional_12 (Bidirectional (None, 128)          186880      shared_embedding[0][0]           \n",
            "__________________________________________________________________________________________________\n",
            "bidirectional_13 (Bidirectional (None, 128)          186880      shared_embedding[1][0]           \n",
            "__________________________________________________________________________________________________\n",
            "dot (Dot)                       (None, 1)            0           bidirectional_12[0][0]           \n",
            "                                                                 bidirectional_13[0][0]           \n",
            "__________________________________________________________________________________________________\n",
            "concatenation (Concatenate)     (None, 257)          0           bidirectional_12[0][0]           \n",
            "                                                                 bidirectional_13[0][0]           \n",
            "                                                                 dot[0][0]                        \n",
            "__________________________________________________________________________________________________\n",
            "dense_1 (Dense)                 (None, 16)           4128        concatenation[0][0]              \n",
            "__________________________________________________________________________________________________\n",
            "act_1 (Activation)              (None, 16)           0           dense_1[0][0]                    \n",
            "__________________________________________________________________________________________________\n",
            "dense_2 (Dense)                 (None, 4)            68          act_1[0][0]                      \n",
            "__________________________________________________________________________________________________\n",
            "act_2 (Activation)              (None, 4)            0           dense_2[0][0]                    \n",
            "__________________________________________________________________________________________________\n",
            "output (Dense)                  (None, 2)            10          act_2[0][0]                      \n",
            "__________________________________________________________________________________________________\n",
            "act_output (Activation)         (None, 2)            0           output[0][0]                     \n",
            "==================================================================================================\n",
            "Total params: 10,424,666\n",
            "Trainable params: 10,424,666\n",
            "Non-trainable params: 0\n",
            "__________________________________________________________________________________________________\n",
            "Model: \"model_13\"\n",
            "__________________________________________________________________________________________________\n",
            "Layer (type)                    Output Shape         Param #     Connected to                     \n",
            "==================================================================================================\n",
            "claim_input (InputLayer)        [(None, 202)]        0                                            \n",
            "__________________________________________________________________________________________________\n",
            "evidence_input (InputLayer)     [(None, 202)]        0                                            \n",
            "__________________________________________________________________________________________________\n",
            "shared_embedding (Embedding)    (None, 202, 300)     10046700    claim_input[0][0]                \n",
            "                                                                 evidence_input[0][0]             \n",
            "__________________________________________________________________________________________________\n",
            "bidirectional_14 (Bidirectional (None, 128)          186880      shared_embedding[0][0]           \n",
            "__________________________________________________________________________________________________\n",
            "bidirectional_15 (Bidirectional (None, 128)          186880      shared_embedding[1][0]           \n",
            "__________________________________________________________________________________________________\n",
            "dot_1 (Dot)                     (None, 1)            0           bidirectional_14[0][0]           \n",
            "                                                                 bidirectional_15[0][0]           \n",
            "__________________________________________________________________________________________________\n",
            "sum (Add)                       (None, 128)          0           bidirectional_14[0][0]           \n",
            "                                                                 bidirectional_15[0][0]           \n",
            "                                                                 dot_1[0][0]                      \n",
            "__________________________________________________________________________________________________\n",
            "dense_1 (Dense)                 (None, 16)           2064        sum[0][0]                        \n",
            "__________________________________________________________________________________________________\n",
            "act_1 (Activation)              (None, 16)           0           dense_1[0][0]                    \n",
            "__________________________________________________________________________________________________\n",
            "dense_2 (Dense)                 (None, 4)            68          act_1[0][0]                      \n",
            "__________________________________________________________________________________________________\n",
            "act_2 (Activation)              (None, 4)            0           dense_2[0][0]                    \n",
            "__________________________________________________________________________________________________\n",
            "output (Dense)                  (None, 2)            10          act_2[0][0]                      \n",
            "__________________________________________________________________________________________________\n",
            "act_output (Activation)         (None, 2)            0           output[0][0]                     \n",
            "==================================================================================================\n",
            "Total params: 10,422,602\n",
            "Trainable params: 10,422,602\n",
            "Non-trainable params: 0\n",
            "__________________________________________________________________________________________________\n",
            "Model: \"model_14\"\n",
            "__________________________________________________________________________________________________\n",
            "Layer (type)                    Output Shape         Param #     Connected to                     \n",
            "==================================================================================================\n",
            "claim_input (InputLayer)        [(None, 202)]        0                                            \n",
            "__________________________________________________________________________________________________\n",
            "evidence_input (InputLayer)     [(None, 202)]        0                                            \n",
            "__________________________________________________________________________________________________\n",
            "shared_embedding (Embedding)    (None, 202, 300)     10046700    claim_input[0][0]                \n",
            "                                                                 evidence_input[0][0]             \n",
            "__________________________________________________________________________________________________\n",
            "bidirectional_16 (Bidirectional (None, 128)          186880      shared_embedding[0][0]           \n",
            "__________________________________________________________________________________________________\n",
            "bidirectional_17 (Bidirectional (None, 128)          186880      shared_embedding[1][0]           \n",
            "__________________________________________________________________________________________________\n",
            "dot_2 (Dot)                     (None, 1)            0           bidirectional_16[0][0]           \n",
            "                                                                 bidirectional_17[0][0]           \n",
            "__________________________________________________________________________________________________\n",
            "mean (Average)                  (None, 128)          0           bidirectional_16[0][0]           \n",
            "                                                                 bidirectional_17[0][0]           \n",
            "                                                                 dot_2[0][0]                      \n",
            "__________________________________________________________________________________________________\n",
            "dense_1 (Dense)                 (None, 16)           2064        mean[0][0]                       \n",
            "__________________________________________________________________________________________________\n",
            "act_1 (Activation)              (None, 16)           0           dense_1[0][0]                    \n",
            "__________________________________________________________________________________________________\n",
            "dense_2 (Dense)                 (None, 4)            68          act_1[0][0]                      \n",
            "__________________________________________________________________________________________________\n",
            "act_2 (Activation)              (None, 4)            0           dense_2[0][0]                    \n",
            "__________________________________________________________________________________________________\n",
            "output (Dense)                  (None, 2)            10          act_2[0][0]                      \n",
            "__________________________________________________________________________________________________\n",
            "act_output (Activation)         (None, 2)            0           output[0][0]                     \n",
            "==================================================================================================\n",
            "Total params: 10,422,602\n",
            "Trainable params: 10,422,602\n",
            "Non-trainable params: 0\n",
            "__________________________________________________________________________________________________\n"
          ],
          "name": "stdout"
        }
      ]
    },
    {
      "cell_type": "code",
      "metadata": {
        "id": "FyGm_X1b_1_u"
      },
      "source": [
        "# Replace each sentence with its pre-processed version\n",
        "df_test['claim'] = df_test['claim'].apply(lambda txt: text_prepare(txt))\n",
        "df_test['evidence'] = df_test['evidence'].apply(lambda txt: text_prepare(txt))"
      ],
      "execution_count": null,
      "outputs": []
    },
    {
      "cell_type": "code",
      "metadata": {
        "colab": {
          "base_uri": "https://localhost:8080/"
        },
        "id": "051fcryn_5iE",
        "outputId": "c6c85b26-4319-4cd1-c9e8-a785abe0a258"
      },
      "source": [
        "# Prepare vocabulary for the test set\n",
        "idx_to_word_test, word_to_idx_test= add_build_vocabulary(df_test, word_to_idx_train)\n",
        "\n",
        "# Check OOV terms for the test set\n",
        "oov_terms_test = check_OOV_terms(word_listing_train, list(word_to_idx_test.keys()))\n",
        "\n",
        "# Convert sentences into numbers\n",
        "claim_to_idx_test = convert_sentence_idx_val(df_test.claim,word_to_idx_test, oov_terms_test)\n",
        "evidence_to_idx_test = convert_sentence_idx_val(df_test.evidence,word_to_idx_test, oov_terms_test)\n",
        "sentence_to_idx_test = claim_to_idx_test + evidence_to_idx_test\n",
        "print(len(sentence_to_idx_test))"
      ],
      "execution_count": null,
      "outputs": [
        {
          "output_type": "stream",
          "text": [
            "14378\n"
          ],
          "name": "stdout"
        }
      ]
    },
    {
      "cell_type": "code",
      "metadata": {
        "id": "OjtAXAfT_8no"
      },
      "source": [
        "# Pad test sequences\n",
        "claim_test = pad_sequences(claim_to_idx_test, padding='post', maxlen=202)\n",
        "evidence_test = pad_sequences(evidence_to_idx_test, padding='post', maxlen=202)\n",
        "X_test = (claim_test, evidence_test)"
      ],
      "execution_count": null,
      "outputs": []
    },
    {
      "cell_type": "code",
      "metadata": {
        "colab": {
          "base_uri": "https://localhost:8080/"
        },
        "id": "tR8shOuV_9CQ",
        "outputId": "03803641-15a9-4883-b2de-b43b7e0341d7"
      },
      "source": [
        "#Prepare labels for test\n",
        "\n",
        "# integer encode\n",
        "integer_encoded_test = label_encoder.fit_transform(df_test.label)\n",
        "print(integer_encoded_test)\n",
        "print(len(integer_encoded_test))\n",
        "# binary encode\n",
        "onehot_encoder_test = OneHotEncoder(sparse=False)\n",
        "integer_encoded_test = integer_encoded_test.reshape(len(integer_encoded_test), 1)\n",
        "onehot_encoded_test = onehot_encoder_test.fit_transform(integer_encoded_test)\n",
        "print(onehot_encoded_test)"
      ],
      "execution_count": null,
      "outputs": [
        {
          "output_type": "stream",
          "text": [
            "[1 1 1 ... 0 1 1]\n",
            "7189\n",
            "[[0. 1.]\n",
            " [0. 1.]\n",
            " [0. 1.]\n",
            " ...\n",
            " [1. 0.]\n",
            " [0. 1.]\n",
            " [0. 1.]]\n"
          ],
          "name": "stdout"
        }
      ]
    },
    {
      "cell_type": "code",
      "metadata": {
        "id": "_Qphfx2B-j5C",
        "colab": {
          "base_uri": "https://localhost:8080/"
        },
        "outputId": "b35db081-f0db-43ef-ba22-9182e9c2c387"
      },
      "source": [
        "#Choose which model to evaluate on the test set depending on the f1-score obtained on the validation set\n",
        "## model_15 is the winner!\n",
        "\n",
        "Y_val= integer_encoded_val\n",
        "f1=[]\n",
        "\n",
        "Y_pred_class =  np.argmax(model_1.predict(X_val), axis = -1)\n",
        "f1.append(f1_score(Y_val, Y_pred_class, average='macro'))\n",
        "\n",
        "Y_pred_class =  np.argmax(model_2.predict(X_val), axis = -1)\n",
        "f1.append(f1_score(Y_val, Y_pred_class, average='macro'))\n",
        "\n",
        "Y_pred_class =  np.argmax(model_3.predict(X_val), axis = -1)\n",
        "f1.append(f1_score(Y_val, Y_pred_class, average='macro'))\n",
        "\n",
        "Y_pred_class =  np.argmax(model_4.predict(X_val), axis = -1)\n",
        "f1.append(f1_score(Y_val, Y_pred_class, average='macro'))\n",
        "\n",
        "Y_pred_class =  np.argmax(model_5.predict(X_val), axis = -1)\n",
        "f1.append(f1_score(Y_val, Y_pred_class, average='macro'))\n",
        "\n",
        "Y_pred_class =  np.argmax(model_6.predict(X_val), axis = -1)\n",
        "f1.append(f1_score(Y_val, Y_pred_class, average='macro'))\n",
        "\n",
        "Y_pred_class =  np.argmax(model_7.predict(X_val), axis = -1)\n",
        "f1.append(f1_score(Y_val, Y_pred_class, average='macro'))\n",
        "\n",
        "Y_pred_class =  np.argmax(model_8.predict(X_val), axis = -1)\n",
        "f1.append(f1_score(Y_val, Y_pred_class, average='macro'))\n",
        "\n",
        "Y_pred_class =  np.argmax(model_9.predict(X_val), axis = -1)\n",
        "f1.append(f1_score(Y_val, Y_pred_class, average='macro'))\n",
        "\n",
        "Y_pred_class =  np.argmax(model_10.predict(X_val), axis = -1)\n",
        "f1.append(f1_score(Y_val, Y_pred_class, average='macro'))\n",
        "\n",
        "Y_pred_class =  np.argmax(model_11.predict(X_val), axis = -1)\n",
        "f1.append(f1_score(Y_val, Y_pred_class, average='macro'))\n",
        "\n",
        "Y_pred_class =  np.argmax(model_12.predict(X_val), axis = -1)\n",
        "f1.append(f1_score(Y_val, Y_pred_class, average='macro'))\n",
        "\n",
        "Y_pred_class =  np.argmax(model_13.predict(X_val), axis = -1)\n",
        "f1.append(f1_score(Y_val, Y_pred_class, average='macro'))\n",
        "\n",
        "Y_pred_class =  np.argmax(model_14.predict(X_val), axis = -1)\n",
        "f1.append(f1_score(Y_val, Y_pred_class, average='macro'))\n",
        "\n",
        "Y_pred_class =  np.argmax(model_15.predict(X_val), axis = -1)\n",
        "f1.append(f1_score(Y_val, Y_pred_class, average='macro'))\n",
        "\n",
        "for ind, el in enumerate(f1):\n",
        "  print('f1-score model_' + str(ind+1) + ': ' + str(f1[ind]))\n"
      ],
      "execution_count": null,
      "outputs": [
        {
          "output_type": "stream",
          "text": [
            "f1-score model_1: 0.7095254710397767\n",
            "f1-score model_2: 0.3350965107646622\n",
            "f1-score model_3: 0.7482993140412549\n",
            "f1-score model_4: 0.7165452488946863\n",
            "f1-score model_5: 0.7336858023989667\n",
            "f1-score model_6: 0.7455616865913335\n",
            "f1-score model_7: 0.6128408475346747\n",
            "f1-score model_8: 0.6372273929644399\n",
            "f1-score model_9: 0.6519595517280735\n",
            "f1-score model_10: 0.6891339706151516\n",
            "f1-score model_11: 0.6090526661524143\n",
            "f1-score model_12: 0.6159375320650948\n",
            "f1-score model_13: 0.7161524609843938\n",
            "f1-score model_14: 0.6984896105591661\n",
            "f1-score model_15: 0.7600406921239727\n"
          ],
          "name": "stdout"
        }
      ]
    },
    {
      "cell_type": "code",
      "metadata": {
        "id": "i1RdDpo-63Tm"
      },
      "source": [
        "# Given that the model_15 is the one that reaches the highest f1-score,\n",
        "# we will evaluate only that model on the test set"
      ],
      "execution_count": null,
      "outputs": []
    },
    {
      "cell_type": "markdown",
      "metadata": {
        "id": "edcmZEer-j5B"
      },
      "source": [
        " ##### Multi-input classification evaluation"
      ]
    },
    {
      "cell_type": "code",
      "metadata": {
        "colab": {
          "base_uri": "https://localhost:8080/"
        },
        "id": "bnLEw2zvE7ii",
        "outputId": "a1c134ee-fafc-452b-aaec-9b9db3925776"
      },
      "source": [
        "# consider predicted labels and true labels for the test set\n",
        "Y_pred_test_class =  np.argmax(model_15.predict(X_test), axis = -1)\n",
        "Y_test = integer_encoded_test\n",
        "\n",
        "# Report here\n",
        "report = classification_report(Y_test.astype('int'), Y_pred_test_class.astype('int'))\n",
        "print(report)"
      ],
      "execution_count": null,
      "outputs": [
        {
          "output_type": "stream",
          "text": [
            "              precision    recall  f1-score   support\n",
            "\n",
            "           0       0.83      0.63      0.72      3583\n",
            "           1       0.70      0.87      0.78      3606\n",
            "\n",
            "    accuracy                           0.75      7189\n",
            "   macro avg       0.77      0.75      0.75      7189\n",
            "weighted avg       0.77      0.75      0.75      7189\n",
            "\n"
          ],
          "name": "stdout"
        }
      ]
    },
    {
      "cell_type": "code",
      "metadata": {
        "colab": {
          "base_uri": "https://localhost:8080/",
          "height": 327
        },
        "id": "01ijfy_EFAhL",
        "outputId": "730b63c6-6c87-42c2-c960-b4cb150e381d"
      },
      "source": [
        "\n",
        "c_m = confusion_matrix(Y_test.astype('int'), Y_pred_test_class.astype('int'))\n",
        "\n",
        "df_cm = pd.DataFrame(c_m, index = [i for i in range(2)],\n",
        "                  columns = [i for i in range(2)])\n",
        "plt.figure(figsize = (10,5))\n",
        "sn.set(font_scale=1.4) # for label size\n",
        "sn.heatmap(df_cm, annot=True, annot_kws={\"size\": 16}) # font size\n",
        "\n",
        "plt.show()"
      ],
      "execution_count": null,
      "outputs": [
        {
          "output_type": "display_data",
          "data": {
            "image/png": "[encoded data removed]",
            "text/plain": [
              "<Figure size 720x360 with 2 Axes>"
            ]
          },
          "metadata": {
            "tags": [],
            "needs_background": "light"
          }
        }
      ]
    },
    {
      "cell_type": "markdown",
      "metadata": {
        "id": "p0WbbyRz-j5C"
      },
      "source": [
        "##### Claim verification evaluation"
      ]
    },
    {
      "cell_type": "code",
      "metadata": {
        "id": "SeY3a5Zf-j5E"
      },
      "source": [
        "# Function to find the evidences associated to a claim\n",
        "def check_equal_claim(df_test):\n",
        "  claims = df_test['claim'].tolist()\n",
        "\n",
        "  same_claim = {}\n",
        "  for index, claim in enumerate(claims):\n",
        "    if same_claim.get(claim) == None:\n",
        "      same_claim[claim] = [index]\n",
        "    else:\n",
        "      same_claim[claim].append(index)\n",
        "\n",
        "  return same_claim\n",
        "\n",
        "\n",
        "# Function to handle the voting process\n",
        "def voting(Y_test, same_claim):\n",
        "  Y_for_voting = []\n",
        "  for el in same_claim:\n",
        "    list_evid = same_claim[el]\n",
        "    list_labels=[Y_test[evidence] for evidence in list_evid]\n",
        "    result_of_voting = sum(list_labels)/len(list_labels)\n",
        "    Y_for_voting.append(np.round(result_of_voting))\n",
        "\n",
        "  return Y_for_voting"
      ],
      "execution_count": null,
      "outputs": []
    },
    {
      "cell_type": "code",
      "metadata": {
        "id": "eBTDZ3oSvNhF"
      },
      "source": [
        "same_claim=check_equal_claim(df_test)"
      ],
      "execution_count": null,
      "outputs": []
    },
    {
      "cell_type": "code",
      "metadata": {
        "colab": {
          "base_uri": "https://localhost:8080/"
        },
        "id": "vBf1X8A1uv-A",
        "outputId": "d63c2cfd-05b6-44fc-bdb8-a0f5c60aeefe"
      },
      "source": [
        "# Print that is useful for debugging\n",
        "len(df_test)\n",
        "len(Y_pred_test_class)"
      ],
      "execution_count": null,
      "outputs": [
        {
          "output_type": "execute_result",
          "data": {
            "text/plain": [
              "7189"
            ]
          },
          "metadata": {
            "tags": []
          },
          "execution_count": 55
        }
      ]
    },
    {
      "cell_type": "code",
      "metadata": {
        "colab": {
          "base_uri": "https://localhost:8080/"
        },
        "id": "uVOq9JAkL6vi",
        "outputId": "132d0302-35d9-4dd3-c72e-d2d29d516e4b"
      },
      "source": [
        "#Apply voting process to both true labels (Y_test) and predicted labels (Y_pred_test_class)\n",
        "Y_test_voting = voting (Y_test,same_claim)\n",
        "Y_pred_voting = voting (Y_pred_test_class,same_claim)\n",
        "\n",
        "# Print for debugging\n",
        "print(len(Y_test))\n",
        "print(len(Y_pred_test_class))\n",
        "\n",
        "print(len(Y_test_voting))\n",
        "print(len(Y_pred_voting))"
      ],
      "execution_count": null,
      "outputs": [
        {
          "output_type": "stream",
          "text": [
            "7189\n",
            "7189\n",
            "6523\n",
            "6523\n"
          ],
          "name": "stdout"
        }
      ]
    },
    {
      "cell_type": "code",
      "metadata": {
        "colab": {
          "base_uri": "https://localhost:8080/"
        },
        "id": "kMew6YIRMeoN",
        "outputId": "bc4cccaf-c394-49a3-a185-f66858483f41"
      },
      "source": [
        "# Report here\n",
        "report = classification_report(np.array(Y_test_voting).astype('int'), np.array(Y_pred_voting).astype('int'))\n",
        "print(report)"
      ],
      "execution_count": null,
      "outputs": [
        {
          "output_type": "stream",
          "text": [
            "              precision    recall  f1-score   support\n",
            "\n",
            "           0       0.82      0.63      0.71      3251\n",
            "           1       0.70      0.87      0.78      3272\n",
            "\n",
            "    accuracy                           0.75      6523\n",
            "   macro avg       0.76      0.75      0.74      6523\n",
            "weighted avg       0.76      0.75      0.74      6523\n",
            "\n"
          ],
          "name": "stdout"
        }
      ]
    }
  ]
}